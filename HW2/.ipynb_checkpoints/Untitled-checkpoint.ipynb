{
 "cells": [
  {
   "cell_type": "code",
   "execution_count": 2,
   "id": "33cfca01-5616-438f-a37c-c4b141e610a1",
   "metadata": {},
   "outputs": [],
   "source": [
    "import numpy as np\n",
    "import scipy.stats as stats"
   ]
  },
  {
   "cell_type": "code",
   "execution_count": 41,
   "id": "13643022-937b-4780-a8b8-9cee449e200d",
   "metadata": {},
   "outputs": [
    {
     "name": "stdout",
     "output_type": "stream",
     "text": [
      "\n",
      " probs on x,y,z (z are the layers):\n",
      "[[0.1 0. ]\n",
      " [0.2 0. ]]\n",
      "[[0.  0.4]\n",
      " [0.  0.3]]\n",
      "\n",
      " P(x):\n",
      "[0.5 0.5]\n",
      "\n",
      " p(y):\n",
      "[0.3 0.7]\n",
      "\n",
      " p(z):\n",
      "[0.3 0.7]\n",
      "\n",
      " p(x, y):\n",
      "[[0.1 0.4]\n",
      " [0.2 0.3]]\n",
      "\n",
      " p(x|y):\n",
      "[[0.2 0.8]\n",
      " [0.4 0.6]]\n",
      "\n",
      " p(x, z):\n",
      "[[0.1 0.4]\n",
      " [0.2 0.3]]\n",
      "\n",
      " p(x|z):\n",
      "[[0.2 0.8]\n",
      " [0.4 0.6]]\n",
      "\n",
      " p(y|z):\n",
      "[[0.6 0. ]\n",
      " [0.  1.4]]\n"
     ]
    }
   ],
   "source": [
    "dim = 2\n",
    "D = np.zeros([dim,dim,dim])\n",
    "\n",
    "D[0,0,0] = 0.1\n",
    "D[0,1,1] = 0.4\n",
    "D[1,0,0] = 0.2\n",
    "D[1,1,1] = 0.3\n",
    "\n",
    "\n",
    "         \n",
    "print('\\n probs on x,y,z (z are the layers):')\n",
    "print(D[:,:,0])\n",
    "print(D[:,:,1])\n",
    "\n",
    "print('\\n P(x):')\n",
    "print(np.sum(D, axis=1).sum(axis=1))\n",
    "\n",
    "print('\\n p(y):')\n",
    "print(np.sum(D, axis=0).sum(axis=1))\n",
    "\n",
    "print('\\n p(z):')\n",
    "print(np.sum(D, axis=0).sum(axis=0))\n",
    "\n",
    "print('\\n p(x, y):')\n",
    "print(np.sum(D, axis=2))\n",
    "\n",
    "print('\\n p(x|y):')\n",
    "print(np.sum(D, axis=2) * 2)\n",
    "\n",
    "print('\\n p(x, z):')\n",
    "print(np.sum(D, axis=1))\n",
    "\n",
    "print('\\n p(x|z):')\n",
    "print(np.sum(D, axis=1) * 2)\n",
    "\n",
    "print('\\n p(y|z):')\n",
    "print(np.sum(D, axis=0) * 2)"
   ]
  },
  {
   "cell_type": "code",
   "execution_count": 49,
   "id": "012fc362-6c26-4955-bdcd-d3369b3fc538",
   "metadata": {},
   "outputs": [
    {
     "name": "stdout",
     "output_type": "stream",
     "text": [
      "\n",
      "Entropy of X:\n",
      "0.6931471805599453\n",
      "Entoropy of x/y:\n",
      "0.6689899237787742\n",
      "Entoropy of x/z:\n",
      "0.6689899237787742\n",
      "\n",
      "Entropy of (X/Y) / Z:\n",
      "0.6689899237787742\n"
     ]
    }
   ],
   "source": [
    "print('\\nEntropy of X:')\n",
    "print(-0.5 * np.log(0.5) -0.5 * np.log(0.5))\n",
    "\n",
    "print('Entoropy of x/y:')\n",
    "print( -0.1 * np.log(1/3) -0.2 * np.log(2/3) -0.4 * np.log(4/7) - 0.3 * np.log(3/7))\n",
    "\n",
    "print('Entoropy of x/z:')\n",
    "print( -0.1 * np.log(1/3) -0.2 * np.log(2/3) -0.4 * np.log(4/7) - 0.3 * np.log(3/7))\n",
    "\n",
    "print('\\nEntropy of (X/Y) / Z:')\n",
    "print( -0.1 * np.log(1/3) -0.2 * np.log(2/3) -0.4 * np.log(4/7) - 0.3 * np.log(3/7))\n",
    "\n",
    "\n"
   ]
  }
 ],
 "metadata": {
  "kernelspec": {
   "display_name": "Python 3 (ipykernel)",
   "language": "python",
   "name": "python3"
  },
  "language_info": {
   "codemirror_mode": {
    "name": "ipython",
    "version": 3
   },
   "file_extension": ".py",
   "mimetype": "text/x-python",
   "name": "python",
   "nbconvert_exporter": "python",
   "pygments_lexer": "ipython3",
   "version": "3.10.2"
  }
 },
 "nbformat": 4,
 "nbformat_minor": 5
}
