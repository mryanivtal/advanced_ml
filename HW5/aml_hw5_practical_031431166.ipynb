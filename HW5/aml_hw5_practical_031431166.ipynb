{
  "cells": [
    {
      "cell_type": "markdown",
      "metadata": {
        "id": "kT7go897LvWv"
      },
      "source": [
        "# Advanced ML - HW5\n",
        "\n",
        "**Submitted by:**\n",
        "\n",
        "Yaniv Tal - 031431166"
      ]
    },
    {
      "cell_type": "markdown",
      "metadata": {
        "id": "pI7biuhOnOKZ"
      },
      "source": [
        "## Flow control parameters"
      ]
    },
    {
      "cell_type": "code",
      "execution_count": 114,
      "metadata": {
        "id": "1z_22nz5EjHu"
      },
      "outputs": [],
      "source": [
        "# ENVIRONMENT = 'Local'\n",
        "ENVIRONMENT = 'Colab'"
      ]
    },
    {
      "cell_type": "markdown",
      "metadata": {
        "id": "ksKyHMFi7xnW"
      },
      "source": [
        "## General parts - imports, mounts, load data, utility functions etc."
      ]
    },
    {
      "cell_type": "markdown",
      "metadata": {
        "id": "krS6ZHn03ps8"
      },
      "source": [
        "### Imports"
      ]
    },
    {
      "cell_type": "code",
      "execution_count": 116,
      "metadata": {
        "colab": {
          "base_uri": "https://localhost:8080/",
          "height": 0
        },
        "id": "WLgLA40gEjHz",
        "outputId": "036886cf-945c-4994-950f-5d7f9f4c94b3"
      },
      "outputs": [
        {
          "output_type": "stream",
          "name": "stdout",
          "text": [
            "Reading package lists... Done\n",
            "Building dependency tree       \n",
            "Reading state information... Done\n",
            "libgraphviz-dev is already the newest version (2.40.1-2).\n",
            "The following package was automatically installed and is no longer required:\n",
            "  libnvidia-common-460\n",
            "Use 'apt autoremove' to remove it.\n",
            "0 upgraded, 0 newly installed, 0 to remove and 42 not upgraded.\n",
            "Looking in indexes: https://pypi.org/simple, https://us-python.pkg.dev/colab-wheels/public/simple/\n",
            "Requirement already satisfied: pygraphviz in /usr/local/lib/python3.7/dist-packages (1.7)\n",
            "Looking in indexes: https://pypi.org/simple, https://us-python.pkg.dev/colab-wheels/public/simple/\n",
            "Requirement already satisfied: pomegranate in /usr/local/lib/python3.7/dist-packages (0.14.8)\n",
            "Requirement already satisfied: scipy>=0.17.0 in /usr/local/lib/python3.7/dist-packages (from pomegranate) (1.4.1)\n",
            "Requirement already satisfied: joblib>=0.9.0b4 in /usr/local/lib/python3.7/dist-packages (from pomegranate) (1.1.0)\n",
            "Requirement already satisfied: numpy>=1.20.0 in /usr/local/lib/python3.7/dist-packages (from pomegranate) (1.21.6)\n",
            "Requirement already satisfied: networkx>=2.4 in /usr/local/lib/python3.7/dist-packages (from pomegranate) (2.6.3)\n",
            "Requirement already satisfied: pyyaml in /usr/local/lib/python3.7/dist-packages (from pomegranate) (3.13)\n"
          ]
        }
      ],
      "source": [
        "!apt install libgraphviz-dev\n",
        "!pip install pygraphviz\n",
        "!pip install pomegranate"
      ]
    },
    {
      "cell_type": "code",
      "execution_count": 117,
      "metadata": {
        "id": "sOUaOGFzNcPR"
      },
      "outputs": [],
      "source": [
        "from pathlib import Path\n",
        "\n",
        "import pandas as pd\n",
        "import numpy as np\n",
        "\n",
        "from tqdm.notebook import tqdm\n",
        "tqdm.pandas()\n",
        "\n",
        "import matplotlib.pyplot as plt\n",
        "import matplotlib.cm as cm\n",
        "\n",
        "import pygraphviz as pgv\n",
        "import pomegranate as pg\n",
        "from pomegranate import BayesianNetwork as bn\n",
        "\n",
        "\n",
        "if ENVIRONMENT == 'Colab':\n",
        "    from google.colab import drive"
      ]
    },
    {
      "cell_type": "markdown",
      "metadata": {
        "id": "InyKO7u8nwT7"
      },
      "source": [
        "### Mount drive, set paths"
      ]
    },
    {
      "cell_type": "code",
      "execution_count": 118,
      "metadata": {
        "colab": {
          "base_uri": "https://localhost:8080/",
          "height": 0
        },
        "id": "vAiXSAR8zy7b",
        "outputId": "d49100b8-98d1-4d6f-8424-f333bb3c64f2"
      },
      "outputs": [
        {
          "output_type": "stream",
          "name": "stdout",
          "text": [
            "Drive already mounted at /content/drive; to attempt to forcibly remount, call drive.mount(\"/content/drive\", force_remount=True).\n"
          ]
        }
      ],
      "source": [
        "if ENVIRONMENT == 'Colab':\n",
        "  drive.mount('/content/drive')\n",
        "  PROJECT_ROOT_PATH = Path('/content/drive/MyDrive/colab_data/aml_hw5')\n",
        "\n",
        "elif ENVIRONMENT == 'Local':\n",
        "  PROJECT_ROOT_PATH = Path('.')\n",
        "\n",
        "\n",
        "DATA_PATH = PROJECT_ROOT_PATH / Path('bayesian_mechanic_data_2000_results.csv')\n",
        "OUTPUT_PATH = PROJECT_ROOT_PATH / Path('outputs')\n",
        "\n",
        "if not DATA_PATH.exists():\n",
        "    raise FileNotFoundError('train data file not found!')\n",
        "\n",
        "if not OUTPUT_PATH.is_dir():\n",
        "    OUTPUT_PATH.mkdir(parents=True, exist_ok=True)\n"
      ]
    },
    {
      "cell_type": "markdown",
      "metadata": {
        "id": "NhlNzpggF_CK"
      },
      "source": [
        "## Download data, to initial dataframe"
      ]
    },
    {
      "cell_type": "code",
      "execution_count": 119,
      "metadata": {
        "colab": {
          "base_uri": "https://localhost:8080/",
          "height": 206
        },
        "id": "DZqnxF75hckV",
        "outputId": "863e5e69-d5be-40b1-baba-9db08bf7a71b"
      },
      "outputs": [
        {
          "output_type": "execute_result",
          "data": {
            "text/plain": [
              "   CHINESE  DATASCI  FAULTY  NOWATER  NOOIL  OR  WATERALERT  TEMPALERT\n",
              "0        1        1       1        1      1   1           2          1\n",
              "1        1        1       1        1      1   1           1          1\n",
              "2        1        1       1        1      2   1           1          1\n",
              "3        1        1       1        1      1   1           1          1\n",
              "4        1        1       1        1      1   1           1          1"
            ],
            "text/html": [
              "\n",
              "  <div id=\"df-5327516a-9b0f-47fa-9a85-8d646a6f7af1\">\n",
              "    <div class=\"colab-df-container\">\n",
              "      <div>\n",
              "<style scoped>\n",
              "    .dataframe tbody tr th:only-of-type {\n",
              "        vertical-align: middle;\n",
              "    }\n",
              "\n",
              "    .dataframe tbody tr th {\n",
              "        vertical-align: top;\n",
              "    }\n",
              "\n",
              "    .dataframe thead th {\n",
              "        text-align: right;\n",
              "    }\n",
              "</style>\n",
              "<table border=\"1\" class=\"dataframe\">\n",
              "  <thead>\n",
              "    <tr style=\"text-align: right;\">\n",
              "      <th></th>\n",
              "      <th>CHINESE</th>\n",
              "      <th>DATASCI</th>\n",
              "      <th>FAULTY</th>\n",
              "      <th>NOWATER</th>\n",
              "      <th>NOOIL</th>\n",
              "      <th>OR</th>\n",
              "      <th>WATERALERT</th>\n",
              "      <th>TEMPALERT</th>\n",
              "    </tr>\n",
              "  </thead>\n",
              "  <tbody>\n",
              "    <tr>\n",
              "      <th>0</th>\n",
              "      <td>1</td>\n",
              "      <td>1</td>\n",
              "      <td>1</td>\n",
              "      <td>1</td>\n",
              "      <td>1</td>\n",
              "      <td>1</td>\n",
              "      <td>2</td>\n",
              "      <td>1</td>\n",
              "    </tr>\n",
              "    <tr>\n",
              "      <th>1</th>\n",
              "      <td>1</td>\n",
              "      <td>1</td>\n",
              "      <td>1</td>\n",
              "      <td>1</td>\n",
              "      <td>1</td>\n",
              "      <td>1</td>\n",
              "      <td>1</td>\n",
              "      <td>1</td>\n",
              "    </tr>\n",
              "    <tr>\n",
              "      <th>2</th>\n",
              "      <td>1</td>\n",
              "      <td>1</td>\n",
              "      <td>1</td>\n",
              "      <td>1</td>\n",
              "      <td>2</td>\n",
              "      <td>1</td>\n",
              "      <td>1</td>\n",
              "      <td>1</td>\n",
              "    </tr>\n",
              "    <tr>\n",
              "      <th>3</th>\n",
              "      <td>1</td>\n",
              "      <td>1</td>\n",
              "      <td>1</td>\n",
              "      <td>1</td>\n",
              "      <td>1</td>\n",
              "      <td>1</td>\n",
              "      <td>1</td>\n",
              "      <td>1</td>\n",
              "    </tr>\n",
              "    <tr>\n",
              "      <th>4</th>\n",
              "      <td>1</td>\n",
              "      <td>1</td>\n",
              "      <td>1</td>\n",
              "      <td>1</td>\n",
              "      <td>1</td>\n",
              "      <td>1</td>\n",
              "      <td>1</td>\n",
              "      <td>1</td>\n",
              "    </tr>\n",
              "  </tbody>\n",
              "</table>\n",
              "</div>\n",
              "      <button class=\"colab-df-convert\" onclick=\"convertToInteractive('df-5327516a-9b0f-47fa-9a85-8d646a6f7af1')\"\n",
              "              title=\"Convert this dataframe to an interactive table.\"\n",
              "              style=\"display:none;\">\n",
              "        \n",
              "  <svg xmlns=\"http://www.w3.org/2000/svg\" height=\"24px\"viewBox=\"0 0 24 24\"\n",
              "       width=\"24px\">\n",
              "    <path d=\"M0 0h24v24H0V0z\" fill=\"none\"/>\n",
              "    <path d=\"M18.56 5.44l.94 2.06.94-2.06 2.06-.94-2.06-.94-.94-2.06-.94 2.06-2.06.94zm-11 1L8.5 8.5l.94-2.06 2.06-.94-2.06-.94L8.5 2.5l-.94 2.06-2.06.94zm10 10l.94 2.06.94-2.06 2.06-.94-2.06-.94-.94-2.06-.94 2.06-2.06.94z\"/><path d=\"M17.41 7.96l-1.37-1.37c-.4-.4-.92-.59-1.43-.59-.52 0-1.04.2-1.43.59L10.3 9.45l-7.72 7.72c-.78.78-.78 2.05 0 2.83L4 21.41c.39.39.9.59 1.41.59.51 0 1.02-.2 1.41-.59l7.78-7.78 2.81-2.81c.8-.78.8-2.07 0-2.86zM5.41 20L4 18.59l7.72-7.72 1.47 1.35L5.41 20z\"/>\n",
              "  </svg>\n",
              "      </button>\n",
              "      \n",
              "  <style>\n",
              "    .colab-df-container {\n",
              "      display:flex;\n",
              "      flex-wrap:wrap;\n",
              "      gap: 12px;\n",
              "    }\n",
              "\n",
              "    .colab-df-convert {\n",
              "      background-color: #E8F0FE;\n",
              "      border: none;\n",
              "      border-radius: 50%;\n",
              "      cursor: pointer;\n",
              "      display: none;\n",
              "      fill: #1967D2;\n",
              "      height: 32px;\n",
              "      padding: 0 0 0 0;\n",
              "      width: 32px;\n",
              "    }\n",
              "\n",
              "    .colab-df-convert:hover {\n",
              "      background-color: #E2EBFA;\n",
              "      box-shadow: 0px 1px 2px rgba(60, 64, 67, 0.3), 0px 1px 3px 1px rgba(60, 64, 67, 0.15);\n",
              "      fill: #174EA6;\n",
              "    }\n",
              "\n",
              "    [theme=dark] .colab-df-convert {\n",
              "      background-color: #3B4455;\n",
              "      fill: #D2E3FC;\n",
              "    }\n",
              "\n",
              "    [theme=dark] .colab-df-convert:hover {\n",
              "      background-color: #434B5C;\n",
              "      box-shadow: 0px 1px 3px 1px rgba(0, 0, 0, 0.15);\n",
              "      filter: drop-shadow(0px 1px 2px rgba(0, 0, 0, 0.3));\n",
              "      fill: #FFFFFF;\n",
              "    }\n",
              "  </style>\n",
              "\n",
              "      <script>\n",
              "        const buttonEl =\n",
              "          document.querySelector('#df-5327516a-9b0f-47fa-9a85-8d646a6f7af1 button.colab-df-convert');\n",
              "        buttonEl.style.display =\n",
              "          google.colab.kernel.accessAllowed ? 'block' : 'none';\n",
              "\n",
              "        async function convertToInteractive(key) {\n",
              "          const element = document.querySelector('#df-5327516a-9b0f-47fa-9a85-8d646a6f7af1');\n",
              "          const dataTable =\n",
              "            await google.colab.kernel.invokeFunction('convertToInteractive',\n",
              "                                                     [key], {});\n",
              "          if (!dataTable) return;\n",
              "\n",
              "          const docLinkHtml = 'Like what you see? Visit the ' +\n",
              "            '<a target=\"_blank\" href=https://colab.research.google.com/notebooks/data_table.ipynb>data table notebook</a>'\n",
              "            + ' to learn more about interactive tables.';\n",
              "          element.innerHTML = '';\n",
              "          dataTable['output_type'] = 'display_data';\n",
              "          await google.colab.output.renderOutput(dataTable, element);\n",
              "          const docLink = document.createElement('div');\n",
              "          docLink.innerHTML = docLinkHtml;\n",
              "          element.appendChild(docLink);\n",
              "        }\n",
              "      </script>\n",
              "    </div>\n",
              "  </div>\n",
              "  "
            ]
          },
          "metadata": {},
          "execution_count": 119
        }
      ],
      "source": [
        "data = pd.read_csv(DATA_PATH)\n",
        "# data = data.drop('OR', axis=1)\n",
        "data.head()"
      ]
    },
    {
      "cell_type": "markdown",
      "metadata": {
        "id": "p-XjKp9OEjH6"
      },
      "source": [
        "## Answers to task questions\n"
      ]
    },
    {
      "cell_type": "markdown",
      "source": [
        "### 1. Bayesian model graph based o domain knowledge"
      ],
      "metadata": {
        "id": "S8Yo8Uehfl6A"
      }
    },
    {
      "cell_type": "code",
      "source": [
        "## domain knowledge model - With OR \n",
        "\n",
        "states = data.columns.to_list()\n",
        "print(states)\n",
        "\n",
        "state_to_index = {key: ind for ind, key in enumerate(states)}\n",
        "\n",
        "structure = ((), (), (state_to_index[\"CHINESE\"],), (state_to_index[\"DATASCI\"],), (state_to_index[\"DATASCI\"],), (state_to_index[\"FAULTY\"], state_to_index[\"NOWATER\"],), (state_to_index[\"OR\"],), (state_to_index[\"OR\"], state_to_index[\"NOOIL\"],))\n",
        "\n",
        "model_domain = bn.from_structure(data, state_names=states, structure=structure)\n",
        "model_domain.bake()\n"
      ],
      "metadata": {
        "id": "hHq0Pr3zhvHQ",
        "colab": {
          "base_uri": "https://localhost:8080/",
          "height": 0
        },
        "outputId": "1782d212-3f71-49e5-e068-eb8a0320ff55"
      },
      "execution_count": 120,
      "outputs": [
        {
          "output_type": "stream",
          "name": "stdout",
          "text": [
            "['CHINESE', 'DATASCI', 'FAULTY', 'NOWATER', 'NOOIL', 'OR', 'WATERALERT', 'TEMPALERT']\n"
          ]
        }
      ]
    },
    {
      "cell_type": "code",
      "source": [
        "print(model_domain.structure)\n",
        "model_domain.plot()"
      ],
      "metadata": {
        "colab": {
          "base_uri": "https://localhost:8080/",
          "height": 266
        },
        "id": "1jbkJedSNOy9",
        "outputId": "ca1efd29-4c7b-4f46-c554-1aeb083516ee"
      },
      "execution_count": 121,
      "outputs": [
        {
          "output_type": "stream",
          "name": "stdout",
          "text": [
            "((), (), (0,), (1,), (1,), (2, 3), (5,), (5, 4))\n"
          ]
        },
        {
          "output_type": "display_data",
          "data": {
            "text/plain": [
              "<Figure size 432x288 with 1 Axes>"
            ],
            "image/png": "[encoded data removed]"
          },
          "metadata": {
            "needs_background": "light"
          }
        }
      ]
    },
    {
      "cell_type": "markdown",
      "source": [
        "### 2. Model graph based on the provided data"
      ],
      "metadata": {
        "id": "C8ECGTVyg181"
      }
    },
    {
      "cell_type": "code",
      "source": [
        "model_domain.fit(data)\n",
        "print()"
      ],
      "metadata": {
        "colab": {
          "base_uri": "https://localhost:8080/",
          "height": 0
        },
        "id": "4XIEP4ITi7lD",
        "outputId": "be61f242-6feb-4515-f797-8ddc7870c80c"
      },
      "execution_count": 122,
      "outputs": [
        {
          "output_type": "stream",
          "name": "stdout",
          "text": [
            "\n"
          ]
        }
      ]
    },
    {
      "cell_type": "markdown",
      "source": [
        "### 3. d-separation - answers\n",
        "i.   **True** - {NOOIL} is d-separated from {NOWATER} given {DATASCI}, because the evidence in {DATASCI} blocks the data path. <Br>\n",
        "ii.  **True** - {DATASCI} is d-separated from {WATERALERT} given {NOWATER}, because the evidence in {NOWATER} blocks the data path <Br>\n",
        "iii. **True** - {CHINESE} is d-separated from {NOOIL} given {DATASCI} because there is no evidence in {TEMPALERT} <Br>\n",
        "iv.  **False** {CHINESE} is **NOT** d-separated from {DATASCI, NOOIL} given {TEMPALERT,NOWATER} because the evidence in {TEMPALERT} creates data path in the v-shape above it. <Br>"
      ],
      "metadata": {
        "id": "q3IXDwCDjQXv"
      }
    },
    {
      "cell_type": "markdown",
      "source": [
        "\n",
        "\n",
        "\n"
      ],
      "metadata": {
        "id": "Bde-7bRtd_Pn"
      }
    },
    {
      "cell_type": "markdown",
      "source": [
        "### 4. Answer the following questions based on the model you have built:"
      ],
      "metadata": {
        "id": "qz4ZXinUkGou"
      }
    },
    {
      "cell_type": "code",
      "source": [
        "def round_prob_values(prob_dict):\n",
        "  return {a: round(b, 4) for a, b in zip(prob_dict.keys(), prob_dict.values())}\n",
        "\n",
        "def compute_probability(model, probability_of, given_that):\n",
        "    predictions = model.predict_proba(given_that)\n",
        "    for state, prediction in zip(model.states, predictions):\n",
        "      if state.name == probability_of:\n",
        "        print(f\"P({state.name} | {given_that}): {round_prob_values(prediction.parameters[0])}\")\n",
        "        # print(f\"P({state.name} | {given_that}): {prediction.parameters[0]}\")\n",
        "\n"
      ],
      "metadata": {
        "id": "4iAW1HSzkTy9"
      },
      "execution_count": 123,
      "outputs": []
    },
    {
      "cell_type": "code",
      "source": [
        "print('Required probabilities:\\n')\n",
        "compute_probability(model_domain, \"NOWATER\", {\"WATERALERT\":2,\"TEMPALERT\":2})\n",
        "compute_probability(model_domain, \"NOOIL\", {\"TEMPALERT\":2})\n",
        "compute_probability(model_domain, \"FAULTY\", {\"TEMPALERT\":2, \"WATERALERT\":2})\n",
        "compute_probability(model_domain, \"TEMPALERT\", {\"DATASCI\":2})\n",
        "compute_probability(model_domain, \"WATERALERT\", {\"DATASCI\":1})\n",
        "compute_probability(model_domain, \"WATERALERT\", {\"CHINESE\":2})\n",
        "compute_probability(model_domain, \"NOWATER\", {})\n",
        "compute_probability(model_domain, \"FAULTY\", {})\n",
        "compute_probability(model_domain, \"FAULTY\", {\"OR\":2})\n",
        "compute_probability(model_domain, \"FAULTY\", {\"OR\":2, \"NOWATER\":2})"
      ],
      "metadata": {
        "colab": {
          "base_uri": "https://localhost:8080/",
          "height": 0
        },
        "id": "RKz_poJIlsrN",
        "outputId": "ef24b9c9-da23-41a4-88c5-cf5cfcdc37a9"
      },
      "execution_count": 124,
      "outputs": [
        {
          "output_type": "stream",
          "name": "stdout",
          "text": [
            "Required probabilities:\n",
            "\n",
            "P(NOWATER | {'WATERALERT': 2, 'TEMPALERT': 2}): {1: 0.5966, 2: 0.4034}\n",
            "P(NOOIL | {'TEMPALERT': 2}): {1: 0.2461, 2: 0.7539}\n",
            "P(FAULTY | {'TEMPALERT': 2, 'WATERALERT': 2}): {1: 0.7429, 2: 0.2571}\n",
            "P(TEMPALERT | {'DATASCI': 2}): {1: 0.4303, 2: 0.5697}\n",
            "P(WATERALERT | {'DATASCI': 1}): {1: 0.9322, 2: 0.0678}\n",
            "P(WATERALERT | {'CHINESE': 2}): {1: 0.9068, 2: 0.0932}\n",
            "P(NOWATER | {}): {1: 0.9785, 2: 0.0215}\n",
            "P(FAULTY | {}): {1: 0.9845, 2: 0.0155}\n",
            "P(FAULTY | {'OR': 2}): {1: 0.5773, 2: 0.4227}\n",
            "P(FAULTY | {'OR': 2, 'NOWATER': 2}): {1: 0.9845, 2: 0.0155}\n"
          ]
        }
      ]
    },
    {
      "cell_type": "markdown",
      "source": [
        "### 5. Log probability and Chow-Liu algo"
      ],
      "metadata": {
        "id": "hhYaCf4Dmsw4"
      }
    },
    {
      "cell_type": "code",
      "source": [
        "domain_model_lp = model_domain.log_probability(data.to_numpy()).sum()\n",
        "print(f'Model log probability: {domain_model_lp}')\n"
      ],
      "metadata": {
        "colab": {
          "base_uri": "https://localhost:8080/",
          "height": 0
        },
        "id": "7oykcE59mzTT",
        "outputId": "e90104aa-da23-4d09-db6a-1639ce13b677"
      },
      "execution_count": 125,
      "outputs": [
        {
          "output_type": "stream",
          "name": "stdout",
          "text": [
            "Model log probability: -3661.007105635488\n"
          ]
        }
      ]
    },
    {
      "cell_type": "code",
      "source": [
        "model_chow = bn.from_samples(data, state_names=states, algorithm='chow-liu')\n",
        "model_chow.bake()\n",
        "model_chow.plot()\n",
        "chow_lp = model_chow.log_probability(data.to_numpy()).sum()\n",
        "print(f'Chow-Liu model log probability: {chow_lp}')\n"
      ],
      "metadata": {
        "colab": {
          "base_uri": "https://localhost:8080/",
          "height": 266
        },
        "id": "Ywt1oJ7fm8Mi",
        "outputId": "3c274090-23fb-4389-f285-a676cb8e8bb2"
      },
      "execution_count": 126,
      "outputs": [
        {
          "output_type": "stream",
          "name": "stdout",
          "text": [
            "Chow-Liu model log probability: -3740.6693451746005\n"
          ]
        },
        {
          "output_type": "display_data",
          "data": {
            "text/plain": [
              "<Figure size 432x288 with 1 Axes>"
            ],
            "image/png": "[encoded data removed]"
          },
          "metadata": {
            "needs_background": "light"
          }
        }
      ]
    },
    {
      "cell_type": "markdown",
      "source": [
        "#### Explanation for the model log probability difference:\n",
        "The domain knowledge model we estabilshed based on domain knowledge is much closer to the exact one (I assume the train data was actually generated based on this logic), hence giving relatively good results (Higher LP).<Br>\n",
        "The Chau-Liu model is a second order approximation for the optimal tree, hence it is less optimal and has lower LP and captures less of the tree complexity.\n",
        "This can also be seen in the Chau-Liu tree structure above, which is simpler than the domnain knowledge strcture we created.\n"
      ],
      "metadata": {
        "id": "h2zCZte-gRuu"
      }
    }
  ],
  "metadata": {
    "accelerator": "GPU",
    "colab": {
      "collapsed_sections": [],
      "name": "aml_hw5_practical.ipynb",
      "provenance": []
    },
    "kernelspec": {
      "display_name": "Python 3 (ipykernel)",
      "language": "python",
      "name": "python3"
    },
    "language_info": {
      "codemirror_mode": {
        "name": "ipython",
        "version": 3
      },
      "file_extension": ".py",
      "mimetype": "text/x-python",
      "name": "python",
      "nbconvert_exporter": "python",
      "pygments_lexer": "ipython3",
      "version": "3.9.5"
    }
  },
  "nbformat": 4,
  "nbformat_minor": 0
}