{
 "cells": [
  {
   "cell_type": "code",
   "execution_count": 1,
   "id": "09894f62-c900-48d1-ac64-3fc70b27f1dc",
   "metadata": {},
   "outputs": [],
   "source": [
    "import numpy as np\n",
    "import pandas as pd\n"
   ]
  },
  {
   "cell_type": "code",
   "execution_count": 12,
   "id": "0c7210a0-26f5-4891-8928-0a2c3699a0c6",
   "metadata": {},
   "outputs": [
    {
     "name": "stdout",
     "output_type": "stream",
     "text": [
      "[[['000' '100']\n",
      "  ['010' '110']]\n",
      "\n",
      " [['001' '101']\n",
      "  ['011' '111']]]\n",
      "\n",
      "[[[0.09375 0.025  ]\n",
      "  [0.25    0.09375]]\n",
      "\n",
      " [[0.03125 0.1    ]\n",
      "  [0.125   0.28125]]]\n",
      "(2, 2, 2)\n"
     ]
    }
   ],
   "source": [
    "# question 5\n",
    "#P shape: [c,b,a]\n",
    "p_desc = np.array([[['000', '100'], ['010', '110']], [['001', '101'], ['011', '111']]])\n",
    "p = np.array([[[3/32, 1/40], [1/4, 3/32]], [[1/32, 1/10], [1/8, 9/32]]])\n",
    "\n",
    "print(p_desc)\n",
    "print()\n",
    "print(p)\n",
    "print(p.shape)"
   ]
  },
  {
   "cell_type": "code",
   "execution_count": 53,
   "id": "63c54100-ccaf-4880-ab2c-c755161bafdc",
   "metadata": {},
   "outputs": [
    {
     "name": "stdout",
     "output_type": "stream",
     "text": [
      "Marginal for P(a):\n",
      "[0.5 0.5]\n",
      "Marginal for P(b):\n",
      "[0.25 0.75]\n",
      "Marginal for P(c):\n",
      "[0.4625 0.5375]\n",
      "\n",
      "Marginals for P(('a', 'b')):\n",
      "[[0.125 0.125]\n",
      " [0.375 0.375]]\n",
      "\n",
      "Covariance matrix for P(('a', 'b')):\n",
      "[[0. 0.]\n",
      " [0. 0.]]\n",
      "\n",
      "Marginals for P(('b', 'c')):\n",
      "[[0.34375 0.11875]\n",
      " [0.15625 0.38125]]\n",
      "\n",
      "Covariance matrix for P(('b', 'c')):\n",
      "[[ 0.0253125 -0.0253125]\n",
      " [-0.0253125  0.0253125]]\n",
      "\n",
      "Marginals for P(('c', 'a')):\n",
      "[[0.11875 0.34375]\n",
      " [0.13125 0.40625]]\n",
      "\n",
      "Covariance matrix for P(('c', 'a')):\n",
      "[[0.0253125 0.0309375]\n",
      " [0.0309375 0.0378125]]\n",
      "\n"
     ]
    }
   ],
   "source": [
    "dims=['c', 'b', 'a']\n",
    "for d1 in range(3):\n",
    "    for d2 in range(d1):\n",
    "        print(f'Marginal for P({dims[2 - d2 - d1 + 1]}):')\n",
    "        print(p.sum(axis=(d1, d2)))\n",
    "\n",
    "print()\n",
    "for d1 in range(3):\n",
    "    print(f'Marginals for P({dims[2-d1], dims[2-d1-1]}):')\n",
    "    print(p.sum(axis=d1))  \n",
    "    print()\n",
    "    print(f'Covariance matrix for P({dims[2-d1], dims[2-d1-1]}):')\n",
    "    print(np.cov(p.sum(axis=d1)))\n",
    "    print()\n",
    "    \n",
    "\n"
   ]
  }
 ],
 "metadata": {
  "kernelspec": {
   "display_name": "Python 3 (ipykernel)",
   "language": "python",
   "name": "python3"
  },
  "language_info": {
   "codemirror_mode": {
    "name": "ipython",
    "version": 3
   },
   "file_extension": ".py",
   "mimetype": "text/x-python",
   "name": "python",
   "nbconvert_exporter": "python",
   "pygments_lexer": "ipython3",
   "version": "3.9.5"
  }
 },
 "nbformat": 4,
 "nbformat_minor": 5
}
