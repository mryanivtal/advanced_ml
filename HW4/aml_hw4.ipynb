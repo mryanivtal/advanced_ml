{
  "cells": [
    {
      "cell_type": "markdown",
      "metadata": {
        "id": "kT7go897LvWv"
      },
      "source": [
        "# Advanced ML - HW4"
      ]
    },
    {
      "cell_type": "markdown",
      "metadata": {
        "id": "pI7biuhOnOKZ"
      },
      "source": [
        "## Flow control parameters"
      ]
    },
    {
      "cell_type": "code",
      "execution_count": 1,
      "metadata": {
        "id": "BO5_Ea7JnRHJ"
      },
      "outputs": [],
      "source": [
        "''' Each parameter can have the values:\n",
        "  Process - run the process logic and save to disk\n",
        "  Load - Load saved data from disk\n",
        "  Disable - Do nothing\n",
        "'''\n",
        "\n",
        "LOAD_TRAIN_DATA = 'Load'\n",
        "\n"
      ]
    },
    {
      "cell_type": "markdown",
      "metadata": {
        "id": "ksKyHMFi7xnW"
      },
      "source": [
        "## General parts - imports, mounts, load data, utility functions etc."
      ]
    },
    {
      "cell_type": "markdown",
      "metadata": {
        "id": "krS6ZHn03ps8"
      },
      "source": [
        "### Imports"
      ]
    },
    {
      "cell_type": "code",
      "execution_count": 2,
      "metadata": {
        "id": "sOUaOGFzNcPR",
        "colab": {
          "base_uri": "https://localhost:8080/"
        },
        "outputId": "edc62ee3-817b-4ba9-cc7c-f16b02748eb6"
      },
      "outputs": [
        {
          "output_type": "stream",
          "name": "stdout",
          "text": [
            "Requirement already satisfied: langdetect in /usr/local/lib/python3.7/dist-packages (1.0.9)\n",
            "Requirement already satisfied: six in /usr/local/lib/python3.7/dist-packages (from langdetect) (1.15.0)\n"
          ]
        }
      ],
      "source": [
        "!pip install langdetect\n",
        "\n",
        "from pathlib import Path\n",
        "from google.colab import drive\n",
        "\n",
        "import json\n",
        "import pandas as pd\n",
        "import numpy as np\n",
        "import string\n",
        "import datetime\n",
        "\n",
        "from tqdm.notebook import tqdm\n",
        "tqdm.pandas()\n",
        "\n",
        "import matplotlib.pyplot as plt\n",
        "import matplotlib.cm as cm\n",
        "\n",
        "from sklearn.decomposition import PCA\n",
        "from sklearn.manifold import TSNE\n",
        "\n",
        "from os import cpu_count\n",
        "import pickle\n",
        "\n",
        "from langdetect import detect\n",
        "from langdetect import DetectorFactory\n",
        "\n",
        "import re\n",
        "\n",
        "import spacy\n",
        "from nltk.stem import SnowballStemmer\n",
        "\n",
        "from sklearn.feature_extraction.text import TfidfVectorizer\n",
        "from sklearn.cluster import MiniBatchKMeans\n"
      ]
    },
    {
      "cell_type": "markdown",
      "metadata": {
        "id": "InyKO7u8nwT7"
      },
      "source": [
        "### Mount drive"
      ]
    },
    {
      "cell_type": "code",
      "execution_count": 3,
      "metadata": {
        "id": "vAiXSAR8zy7b",
        "colab": {
          "base_uri": "https://localhost:8080/"
        },
        "outputId": "04ffef1d-5627-4276-b72c-83c31b16c3df"
      },
      "outputs": [
        {
          "output_type": "stream",
          "name": "stdout",
          "text": [
            "Drive already mounted at /content/drive; to attempt to forcibly remount, call drive.mount(\"/content/drive\", force_remount=True).\n"
          ]
        }
      ],
      "source": [
        "drive.mount('/content/drive')"
      ]
    },
    {
      "cell_type": "markdown",
      "metadata": {
        "id": "NhlNzpggF_CK"
      },
      "source": [
        "### Download data, to initial dataframe"
      ]
    },
    {
      "cell_type": "code",
      "execution_count": 4,
      "metadata": {
        "id": "DZqnxF75hckV"
      },
      "outputs": [],
      "source": [
        "if LOAD_TRAIN_DATA == 'Load':\n",
        "  data_path_train = Path('/content/drive/MyDrive/colab_data/aml_hw4/train_data_for_students.tsv')\n",
        "  data_train = pd.read_csv(data_path_train, sep='\\t', lineterminator='\\n', names=('id', 'alias', 'text', 'date_time', 'label'))\n"
      ]
    },
    {
      "cell_type": "code",
      "source": [
        "data_train.head(5)"
      ],
      "metadata": {
        "colab": {
          "base_uri": "https://localhost:8080/",
          "height": 206
        },
        "id": "xXnq10N2dzvO",
        "outputId": "416cdfda-18ce-4246-8614-33cd31fd75c4"
      },
      "execution_count": 5,
      "outputs": [
        {
          "output_type": "execute_result",
          "data": {
            "text/plain": [
              "                   id            alias  \\\n",
              "0  845974102619906048  realDonaldTrump   \n",
              "1  846166053663191040  realDonaldTrump   \n",
              "2  835814988686233601  realDonaldTrump   \n",
              "3  835817351178301440  realDonaldTrump   \n",
              "4  835916511944523777  realDonaldTrump   \n",
              "\n",
              "                                                text            date_time  \\\n",
              "0  Democrats are smiling in D.C. that the Freedom...  2017-03-26 15:21:58   \n",
              "1  General Kelly is doing a great job at the bord...  2017-03-27 04:04:42   \n",
              "2  The race for DNC Chairman was, of course, tota...  2017-02-26 13:33:16   \n",
              "3  For first time the failing @nytimes will take ...  2017-02-26 13:42:39   \n",
              "4  Russia talk is FAKE NEWS put out by the Dems, ...  2017-02-26 20:16:41   \n",
              "\n",
              "     label  \n",
              "0   iphone  \n",
              "1   iphone  \n",
              "2  android  \n",
              "3  android  \n",
              "4  android  "
            ],
            "text/html": [
              "\n",
              "  <div id=\"df-a3532f77-d52c-41ed-acac-0f01971c6599\">\n",
              "    <div class=\"colab-df-container\">\n",
              "      <div>\n",
              "<style scoped>\n",
              "    .dataframe tbody tr th:only-of-type {\n",
              "        vertical-align: middle;\n",
              "    }\n",
              "\n",
              "    .dataframe tbody tr th {\n",
              "        vertical-align: top;\n",
              "    }\n",
              "\n",
              "    .dataframe thead th {\n",
              "        text-align: right;\n",
              "    }\n",
              "</style>\n",
              "<table border=\"1\" class=\"dataframe\">\n",
              "  <thead>\n",
              "    <tr style=\"text-align: right;\">\n",
              "      <th></th>\n",
              "      <th>id</th>\n",
              "      <th>alias</th>\n",
              "      <th>text</th>\n",
              "      <th>date_time</th>\n",
              "      <th>label</th>\n",
              "    </tr>\n",
              "  </thead>\n",
              "  <tbody>\n",
              "    <tr>\n",
              "      <th>0</th>\n",
              "      <td>845974102619906048</td>\n",
              "      <td>realDonaldTrump</td>\n",
              "      <td>Democrats are smiling in D.C. that the Freedom...</td>\n",
              "      <td>2017-03-26 15:21:58</td>\n",
              "      <td>iphone</td>\n",
              "    </tr>\n",
              "    <tr>\n",
              "      <th>1</th>\n",
              "      <td>846166053663191040</td>\n",
              "      <td>realDonaldTrump</td>\n",
              "      <td>General Kelly is doing a great job at the bord...</td>\n",
              "      <td>2017-03-27 04:04:42</td>\n",
              "      <td>iphone</td>\n",
              "    </tr>\n",
              "    <tr>\n",
              "      <th>2</th>\n",
              "      <td>835814988686233601</td>\n",
              "      <td>realDonaldTrump</td>\n",
              "      <td>The race for DNC Chairman was, of course, tota...</td>\n",
              "      <td>2017-02-26 13:33:16</td>\n",
              "      <td>android</td>\n",
              "    </tr>\n",
              "    <tr>\n",
              "      <th>3</th>\n",
              "      <td>835817351178301440</td>\n",
              "      <td>realDonaldTrump</td>\n",
              "      <td>For first time the failing @nytimes will take ...</td>\n",
              "      <td>2017-02-26 13:42:39</td>\n",
              "      <td>android</td>\n",
              "    </tr>\n",
              "    <tr>\n",
              "      <th>4</th>\n",
              "      <td>835916511944523777</td>\n",
              "      <td>realDonaldTrump</td>\n",
              "      <td>Russia talk is FAKE NEWS put out by the Dems, ...</td>\n",
              "      <td>2017-02-26 20:16:41</td>\n",
              "      <td>android</td>\n",
              "    </tr>\n",
              "  </tbody>\n",
              "</table>\n",
              "</div>\n",
              "      <button class=\"colab-df-convert\" onclick=\"convertToInteractive('df-a3532f77-d52c-41ed-acac-0f01971c6599')\"\n",
              "              title=\"Convert this dataframe to an interactive table.\"\n",
              "              style=\"display:none;\">\n",
              "        \n",
              "  <svg xmlns=\"http://www.w3.org/2000/svg\" height=\"24px\"viewBox=\"0 0 24 24\"\n",
              "       width=\"24px\">\n",
              "    <path d=\"M0 0h24v24H0V0z\" fill=\"none\"/>\n",
              "    <path d=\"M18.56 5.44l.94 2.06.94-2.06 2.06-.94-2.06-.94-.94-2.06-.94 2.06-2.06.94zm-11 1L8.5 8.5l.94-2.06 2.06-.94-2.06-.94L8.5 2.5l-.94 2.06-2.06.94zm10 10l.94 2.06.94-2.06 2.06-.94-2.06-.94-.94-2.06-.94 2.06-2.06.94z\"/><path d=\"M17.41 7.96l-1.37-1.37c-.4-.4-.92-.59-1.43-.59-.52 0-1.04.2-1.43.59L10.3 9.45l-7.72 7.72c-.78.78-.78 2.05 0 2.83L4 21.41c.39.39.9.59 1.41.59.51 0 1.02-.2 1.41-.59l7.78-7.78 2.81-2.81c.8-.78.8-2.07 0-2.86zM5.41 20L4 18.59l7.72-7.72 1.47 1.35L5.41 20z\"/>\n",
              "  </svg>\n",
              "      </button>\n",
              "      \n",
              "  <style>\n",
              "    .colab-df-container {\n",
              "      display:flex;\n",
              "      flex-wrap:wrap;\n",
              "      gap: 12px;\n",
              "    }\n",
              "\n",
              "    .colab-df-convert {\n",
              "      background-color: #E8F0FE;\n",
              "      border: none;\n",
              "      border-radius: 50%;\n",
              "      cursor: pointer;\n",
              "      display: none;\n",
              "      fill: #1967D2;\n",
              "      height: 32px;\n",
              "      padding: 0 0 0 0;\n",
              "      width: 32px;\n",
              "    }\n",
              "\n",
              "    .colab-df-convert:hover {\n",
              "      background-color: #E2EBFA;\n",
              "      box-shadow: 0px 1px 2px rgba(60, 64, 67, 0.3), 0px 1px 3px 1px rgba(60, 64, 67, 0.15);\n",
              "      fill: #174EA6;\n",
              "    }\n",
              "\n",
              "    [theme=dark] .colab-df-convert {\n",
              "      background-color: #3B4455;\n",
              "      fill: #D2E3FC;\n",
              "    }\n",
              "\n",
              "    [theme=dark] .colab-df-convert:hover {\n",
              "      background-color: #434B5C;\n",
              "      box-shadow: 0px 1px 3px 1px rgba(0, 0, 0, 0.15);\n",
              "      filter: drop-shadow(0px 1px 2px rgba(0, 0, 0, 0.3));\n",
              "      fill: #FFFFFF;\n",
              "    }\n",
              "  </style>\n",
              "\n",
              "      <script>\n",
              "        const buttonEl =\n",
              "          document.querySelector('#df-a3532f77-d52c-41ed-acac-0f01971c6599 button.colab-df-convert');\n",
              "        buttonEl.style.display =\n",
              "          google.colab.kernel.accessAllowed ? 'block' : 'none';\n",
              "\n",
              "        async function convertToInteractive(key) {\n",
              "          const element = document.querySelector('#df-a3532f77-d52c-41ed-acac-0f01971c6599');\n",
              "          const dataTable =\n",
              "            await google.colab.kernel.invokeFunction('convertToInteractive',\n",
              "                                                     [key], {});\n",
              "          if (!dataTable) return;\n",
              "\n",
              "          const docLinkHtml = 'Like what you see? Visit the ' +\n",
              "            '<a target=\"_blank\" href=https://colab.research.google.com/notebooks/data_table.ipynb>data table notebook</a>'\n",
              "            + ' to learn more about interactive tables.';\n",
              "          element.innerHTML = '';\n",
              "          dataTable['output_type'] = 'display_data';\n",
              "          await google.colab.output.renderOutput(dataTable, element);\n",
              "          const docLink = document.createElement('div');\n",
              "          docLink.innerHTML = docLinkHtml;\n",
              "          element.appendChild(docLink);\n",
              "        }\n",
              "      </script>\n",
              "    </div>\n",
              "  </div>\n",
              "  "
            ]
          },
          "metadata": {},
          "execution_count": 5
        }
      ]
    },
    {
      "cell_type": "markdown",
      "source": [
        "### Drop NA values"
      ],
      "metadata": {
        "id": "48JVfvIXGEZC"
      }
    },
    {
      "cell_type": "code",
      "source": [
        "print(f'shape before:{data_train.shape}')\n",
        "data_train.dropna(axis=0, inplace=True)\n",
        "print(f'shape after:{data_train.shape}')\n"
      ],
      "metadata": {
        "colab": {
          "base_uri": "https://localhost:8080/"
        },
        "id": "pujUV95wFhAc",
        "outputId": "cfa57ad2-bc4d-42b1-ec2e-eec16b2175c2"
      },
      "execution_count": 6,
      "outputs": [
        {
          "output_type": "stream",
          "name": "stdout",
          "text": [
            "shape before:(2682, 5)\n",
            "shape after:(2671, 5)\n"
          ]
        }
      ]
    },
    {
      "cell_type": "markdown",
      "source": [
        "### Utility Functions"
      ],
      "metadata": {
        "id": "L3LyOYTA2Nn7"
      }
    },
    {
      "cell_type": "markdown",
      "source": [
        "#### compare attribute distribution android / iphone\n",
        "\n"
      ],
      "metadata": {
        "id": "pl01sp9d2SyU"
      }
    },
    {
      "cell_type": "code",
      "source": [
        "def plot_bars(data: pd.DataFrame, attribute_name: str):\n",
        "  '''\n",
        "  Gets: \n",
        "  data - pandas dataframe with attribute values in index, iphone and android columns with counts\n",
        "  attribute name - string\n",
        "  '''\n",
        "\n",
        "  fig, ax = plt.subplots(1, 2, figsize=(14, 6))\n",
        "\n",
        "  x = np.arange(len(data.index))\n",
        "  width = 0.35\n",
        "\n",
        "  bars_iphone = ax[0].bar(x - width, data['iphone'], width, label='iphone tweets, log scale')\n",
        "  bars_android = ax[0].bar(x, data['android'] ,width, label='Android tweets, log scale')\n",
        "\n",
        "  ax[0].set_ylabel('tweets')\n",
        "  ax[0].set_title(f'tweets per {attribute_name} per origin')\n",
        "\n",
        "  bar_labels = list(data.index.values)\n",
        "  ax[0].set_xticks(x)\n",
        "  ax[0].set_xticklabels(bar_labels)\n",
        "\n",
        "  ax[0].set_yscale('log')\n",
        "  ax[0].legend()\n",
        "\n",
        "# percentage\n",
        "  data_percentage = pd.DataFrame()\n",
        "  data_percentage['iphone'] = data['iphone'] / (data['iphone'] + data['android'])\n",
        "  data_percentage['android'] = data['android'] / (data['iphone'] + data['android'])\n",
        "\n",
        "  bars_iphone = ax[1].bar(x, data_percentage['iphone'], label='iphone tweets, percent')\n",
        "  bars_android = ax[1].bar(x, data_percentage['android'], bottom=data_percentage['iphone'], label='Android tweets, percent')\n",
        "\n",
        "  ax[1].set_ylabel('tweets percent')\n",
        "  ax[1].set_title(f'tweets percentage per {attribute_name} per origin')\n",
        "\n",
        "  ax[1].set_xticks(x)\n",
        "  ax[1].set_xticklabels(bar_labels)\n",
        "  ax[1].legend()\n",
        "\n",
        "\n",
        "  plt.show()"
      ],
      "metadata": {
        "id": "WH44suRD2hGR"
      },
      "execution_count": 25,
      "outputs": []
    },
    {
      "cell_type": "markdown",
      "metadata": {
        "id": "p4FH5ovMV1S9"
      },
      "source": [
        "## Attribute Engineering\n",
        "* Style based attributes:\n",
        "  1. Has \"Dumb retweets\" - Boolean\n",
        "  2. number of capital letters in tweet\n",
        "  3. Contains URLs - Boolean\n",
        "  5. Language - category string\n",
        "  6. Hashtag count in text - int\n",
        "  7. Hashtags oneshot ****NOT DONE\n",
        "\n",
        "* Time based attributes:\n",
        "  1. Hour of day\n",
        "  2. Minutes of day\n",
        "  3. day of week\n",
        "  4. day of month\n",
        "  5. Month\n",
        "  6. Year\n"
      ]
    },
    {
      "cell_type": "markdown",
      "metadata": {
        "id": "Mqr4EQ0EzMoh"
      },
      "source": [
        "### Add language attribute"
      ]
    },
    {
      "cell_type": "code",
      "execution_count": 8,
      "metadata": {
        "id": "5jqjlrAQzLEt",
        "colab": {
          "base_uri": "https://localhost:8080/",
          "height": 0,
          "referenced_widgets": [
            "c581d872fc454426a4e4e70dae9220a2",
            "ee01c782bda5408e92eadf2db665220b",
            "d64261d112df43cdbf97c5ab0571a31a",
            "7c8ee13f7c0b4f10a4b18e57e99da790",
            "a8f3ac8ff1b745a1bbcdccd4b11f6840",
            "bd990937d4df4a4d9a31fff6fed9973d",
            "d5572b3f7952402e9ecaf0a3f8573063",
            "576398a2289a4d7ab808b143275efb76",
            "de9be75015984dc2987c16d7d6b2ef0c",
            "7813ca98328f46428df0a1491b737a20",
            "b37caab985c644a8b8d78afb78750cca"
          ]
        },
        "outputId": "cb21b5b2-39b7-47ca-8ed3-92db9bc76a02"
      },
      "outputs": [
        {
          "output_type": "stream",
          "name": "stdout",
          "text": [
            "Starting language detection\n"
          ]
        },
        {
          "output_type": "display_data",
          "data": {
            "text/plain": [
              "  0%|          | 0/2671 [00:00<?, ?it/s]"
            ],
            "application/vnd.jupyter.widget-view+json": {
              "version_major": 2,
              "version_minor": 0,
              "model_id": "c581d872fc454426a4e4e70dae9220a2"
            }
          },
          "metadata": {}
        },
        {
          "output_type": "execute_result",
          "data": {
            "text/plain": [
              "                   id            alias  \\\n",
              "0  845974102619906048  realDonaldTrump   \n",
              "1  846166053663191040  realDonaldTrump   \n",
              "2  835814988686233601  realDonaldTrump   \n",
              "3  835817351178301440  realDonaldTrump   \n",
              "4  835916511944523777  realDonaldTrump   \n",
              "\n",
              "                                                text            date_time  \\\n",
              "0  Democrats are smiling in D.C. that the Freedom...  2017-03-26 15:21:58   \n",
              "1  General Kelly is doing a great job at the bord...  2017-03-27 04:04:42   \n",
              "2  The race for DNC Chairman was, of course, tota...  2017-02-26 13:33:16   \n",
              "3  For first time the failing @nytimes will take ...  2017-02-26 13:42:39   \n",
              "4  Russia talk is FAKE NEWS put out by the Dems, ...  2017-02-26 20:16:41   \n",
              "\n",
              "     label lang  \n",
              "0   iphone   en  \n",
              "1   iphone   en  \n",
              "2  android   en  \n",
              "3  android   en  \n",
              "4  android   en  "
            ],
            "text/html": [
              "\n",
              "  <div id=\"df-5c35fc6d-59dd-4ee4-86f6-e52dd3940edc\">\n",
              "    <div class=\"colab-df-container\">\n",
              "      <div>\n",
              "<style scoped>\n",
              "    .dataframe tbody tr th:only-of-type {\n",
              "        vertical-align: middle;\n",
              "    }\n",
              "\n",
              "    .dataframe tbody tr th {\n",
              "        vertical-align: top;\n",
              "    }\n",
              "\n",
              "    .dataframe thead th {\n",
              "        text-align: right;\n",
              "    }\n",
              "</style>\n",
              "<table border=\"1\" class=\"dataframe\">\n",
              "  <thead>\n",
              "    <tr style=\"text-align: right;\">\n",
              "      <th></th>\n",
              "      <th>id</th>\n",
              "      <th>alias</th>\n",
              "      <th>text</th>\n",
              "      <th>date_time</th>\n",
              "      <th>label</th>\n",
              "      <th>lang</th>\n",
              "    </tr>\n",
              "  </thead>\n",
              "  <tbody>\n",
              "    <tr>\n",
              "      <th>0</th>\n",
              "      <td>845974102619906048</td>\n",
              "      <td>realDonaldTrump</td>\n",
              "      <td>Democrats are smiling in D.C. that the Freedom...</td>\n",
              "      <td>2017-03-26 15:21:58</td>\n",
              "      <td>iphone</td>\n",
              "      <td>en</td>\n",
              "    </tr>\n",
              "    <tr>\n",
              "      <th>1</th>\n",
              "      <td>846166053663191040</td>\n",
              "      <td>realDonaldTrump</td>\n",
              "      <td>General Kelly is doing a great job at the bord...</td>\n",
              "      <td>2017-03-27 04:04:42</td>\n",
              "      <td>iphone</td>\n",
              "      <td>en</td>\n",
              "    </tr>\n",
              "    <tr>\n",
              "      <th>2</th>\n",
              "      <td>835814988686233601</td>\n",
              "      <td>realDonaldTrump</td>\n",
              "      <td>The race for DNC Chairman was, of course, tota...</td>\n",
              "      <td>2017-02-26 13:33:16</td>\n",
              "      <td>android</td>\n",
              "      <td>en</td>\n",
              "    </tr>\n",
              "    <tr>\n",
              "      <th>3</th>\n",
              "      <td>835817351178301440</td>\n",
              "      <td>realDonaldTrump</td>\n",
              "      <td>For first time the failing @nytimes will take ...</td>\n",
              "      <td>2017-02-26 13:42:39</td>\n",
              "      <td>android</td>\n",
              "      <td>en</td>\n",
              "    </tr>\n",
              "    <tr>\n",
              "      <th>4</th>\n",
              "      <td>835916511944523777</td>\n",
              "      <td>realDonaldTrump</td>\n",
              "      <td>Russia talk is FAKE NEWS put out by the Dems, ...</td>\n",
              "      <td>2017-02-26 20:16:41</td>\n",
              "      <td>android</td>\n",
              "      <td>en</td>\n",
              "    </tr>\n",
              "  </tbody>\n",
              "</table>\n",
              "</div>\n",
              "      <button class=\"colab-df-convert\" onclick=\"convertToInteractive('df-5c35fc6d-59dd-4ee4-86f6-e52dd3940edc')\"\n",
              "              title=\"Convert this dataframe to an interactive table.\"\n",
              "              style=\"display:none;\">\n",
              "        \n",
              "  <svg xmlns=\"http://www.w3.org/2000/svg\" height=\"24px\"viewBox=\"0 0 24 24\"\n",
              "       width=\"24px\">\n",
              "    <path d=\"M0 0h24v24H0V0z\" fill=\"none\"/>\n",
              "    <path d=\"M18.56 5.44l.94 2.06.94-2.06 2.06-.94-2.06-.94-.94-2.06-.94 2.06-2.06.94zm-11 1L8.5 8.5l.94-2.06 2.06-.94-2.06-.94L8.5 2.5l-.94 2.06-2.06.94zm10 10l.94 2.06.94-2.06 2.06-.94-2.06-.94-.94-2.06-.94 2.06-2.06.94z\"/><path d=\"M17.41 7.96l-1.37-1.37c-.4-.4-.92-.59-1.43-.59-.52 0-1.04.2-1.43.59L10.3 9.45l-7.72 7.72c-.78.78-.78 2.05 0 2.83L4 21.41c.39.39.9.59 1.41.59.51 0 1.02-.2 1.41-.59l7.78-7.78 2.81-2.81c.8-.78.8-2.07 0-2.86zM5.41 20L4 18.59l7.72-7.72 1.47 1.35L5.41 20z\"/>\n",
              "  </svg>\n",
              "      </button>\n",
              "      \n",
              "  <style>\n",
              "    .colab-df-container {\n",
              "      display:flex;\n",
              "      flex-wrap:wrap;\n",
              "      gap: 12px;\n",
              "    }\n",
              "\n",
              "    .colab-df-convert {\n",
              "      background-color: #E8F0FE;\n",
              "      border: none;\n",
              "      border-radius: 50%;\n",
              "      cursor: pointer;\n",
              "      display: none;\n",
              "      fill: #1967D2;\n",
              "      height: 32px;\n",
              "      padding: 0 0 0 0;\n",
              "      width: 32px;\n",
              "    }\n",
              "\n",
              "    .colab-df-convert:hover {\n",
              "      background-color: #E2EBFA;\n",
              "      box-shadow: 0px 1px 2px rgba(60, 64, 67, 0.3), 0px 1px 3px 1px rgba(60, 64, 67, 0.15);\n",
              "      fill: #174EA6;\n",
              "    }\n",
              "\n",
              "    [theme=dark] .colab-df-convert {\n",
              "      background-color: #3B4455;\n",
              "      fill: #D2E3FC;\n",
              "    }\n",
              "\n",
              "    [theme=dark] .colab-df-convert:hover {\n",
              "      background-color: #434B5C;\n",
              "      box-shadow: 0px 1px 3px 1px rgba(0, 0, 0, 0.15);\n",
              "      filter: drop-shadow(0px 1px 2px rgba(0, 0, 0, 0.3));\n",
              "      fill: #FFFFFF;\n",
              "    }\n",
              "  </style>\n",
              "\n",
              "      <script>\n",
              "        const buttonEl =\n",
              "          document.querySelector('#df-5c35fc6d-59dd-4ee4-86f6-e52dd3940edc button.colab-df-convert');\n",
              "        buttonEl.style.display =\n",
              "          google.colab.kernel.accessAllowed ? 'block' : 'none';\n",
              "\n",
              "        async function convertToInteractive(key) {\n",
              "          const element = document.querySelector('#df-5c35fc6d-59dd-4ee4-86f6-e52dd3940edc');\n",
              "          const dataTable =\n",
              "            await google.colab.kernel.invokeFunction('convertToInteractive',\n",
              "                                                     [key], {});\n",
              "          if (!dataTable) return;\n",
              "\n",
              "          const docLinkHtml = 'Like what you see? Visit the ' +\n",
              "            '<a target=\"_blank\" href=https://colab.research.google.com/notebooks/data_table.ipynb>data table notebook</a>'\n",
              "            + ' to learn more about interactive tables.';\n",
              "          element.innerHTML = '';\n",
              "          dataTable['output_type'] = 'display_data';\n",
              "          await google.colab.output.renderOutput(dataTable, element);\n",
              "          const docLink = document.createElement('div');\n",
              "          docLink.innerHTML = docLinkHtml;\n",
              "          element.appendChild(docLink);\n",
              "        }\n",
              "      </script>\n",
              "    </div>\n",
              "  </div>\n",
              "  "
            ]
          },
          "metadata": {},
          "execution_count": 8
        }
      ],
      "source": [
        "# Language detection\n",
        "\n",
        "DetectorFactory.seed = 123\n",
        "\n",
        "print(\"Starting language detection\")\n",
        "\n",
        "failed = 0\n",
        "def get_language(row):\n",
        "    \"\"\"Gets the languages of each paper using fancy machine-learning\"\"\"\n",
        "    try:\n",
        "        return detect(''.join(row[:min(len(row), 50)]))\n",
        "    except:\n",
        "        global failed\n",
        "        failed += 1\n",
        "        \n",
        "        # Defaulting to English if failed to detect\n",
        "        return 'en'\n",
        "\n",
        "data_train['lang'] = data_train['text'].progress_apply(get_language)\n",
        "data_train.head()"
      ]
    },
    {
      "cell_type": "markdown",
      "source": [
        "### Add \"quote retweets\" attribute"
      ],
      "metadata": {
        "id": "PUigqKwnyLxg"
      }
    },
    {
      "cell_type": "code",
      "source": [
        "# quote retweet detection\n",
        "\n",
        "print(\"Starting retweet detection\")\n",
        "\n",
        "failed = 0\n",
        "def find_quote_tweet(string):\n",
        "    \"\"\"returns boolean - contains quote retweet True / False\"\"\"\n",
        "    search_exp = '^@.*\".*\"'\n",
        "    return not (re.search(search_exp, string) is None)\n",
        "\n",
        "# Test fnction:\n",
        "# print(find_quote_tweet('@Yaniv \"sd sdkfujhas dfjsd\"') == True, find_quote_tweet('Yaniv \"sd sdkfujhas dfjsd\"') == False)\n",
        "\n",
        "data_train['quote_retweet'] = data_train['text'].progress_apply(find_quote_tweet)\n",
        "data_train[data_train.quote_retweet == True].head()"
      ],
      "metadata": {
        "colab": {
          "base_uri": "https://localhost:8080/",
          "height": 0,
          "referenced_widgets": [
            "fb51bc36b0ff46f2a7f51122d806e522",
            "6ae269eb4391498d8e17cf01b598a88b",
            "8f659d83af674914a7111a8c98ae782f",
            "3eac13909f5c4b16920207db8f7cd6c0",
            "4e2ef560275e4f4daa9fc19f29680a54",
            "c6e4a294df464cadaa5847ecb19d9876",
            "294eacc9fc114fef80d1884592e8fbe2",
            "ea12a2fb7d0746e9b207719cc7766b60",
            "a0179c3d677d420eb309fc08aa3cd982",
            "9ab2c62a8c364d2eac85ec2c7c1b1606",
            "4d3f4feccdf641e8af61a971cbbd80e6"
          ]
        },
        "id": "fnMiRfs2yTSv",
        "outputId": "624969fe-98ab-46c7-d8bc-a5cb0894053c"
      },
      "execution_count": 9,
      "outputs": [
        {
          "output_type": "stream",
          "name": "stdout",
          "text": [
            "Starting retweet detection\n"
          ]
        },
        {
          "output_type": "display_data",
          "data": {
            "text/plain": [
              "  0%|          | 0/2671 [00:00<?, ?it/s]"
            ],
            "application/vnd.jupyter.widget-view+json": {
              "version_major": 2,
              "version_minor": 0,
              "model_id": "fb51bc36b0ff46f2a7f51122d806e522"
            }
          },
          "metadata": {}
        },
        {
          "output_type": "execute_result",
          "data": {
            "text/plain": [
              "                     id            alias  \\\n",
              "17   788342075582328832  realDonaldTrump   \n",
              "92   651360905578577920  realDonaldTrump   \n",
              "254  622951483672293376  realDonaldTrump   \n",
              "261  622953201243787264  realDonaldTrump   \n",
              "276  675633579691479040  realDonaldTrump   \n",
              "\n",
              "                                                  text            date_time  \\\n",
              "17   @THEREALMOGUL: 41% of American voters believe ...  2016-10-18 14:32:52   \n",
              "92   @WMikeWood: @cnn Trump Shuts down Cuomo. I am ...  2015-10-06 14:38:36   \n",
              "254  @97Musick: @realDonaldTrump Voters LIKE tough ...  2015-07-20 05:09:42   \n",
              "261  @vettesetter: RT @realDonaldTrump: My @USATOpi...  2015-07-20 05:16:31   \n",
              "276  @theblaze: Donald Trump unleashes verbal assau...  2015-12-12 13:09:32   \n",
              "\n",
              "       label lang  quote_retweet  \n",
              "17   android   en           True  \n",
              "92   android   en           True  \n",
              "254  android   en           True  \n",
              "261  android   no           True  \n",
              "276  android   en           True  "
            ],
            "text/html": [
              "\n",
              "  <div id=\"df-f4537c6d-170e-41c0-aa8c-7920e022ef58\">\n",
              "    <div class=\"colab-df-container\">\n",
              "      <div>\n",
              "<style scoped>\n",
              "    .dataframe tbody tr th:only-of-type {\n",
              "        vertical-align: middle;\n",
              "    }\n",
              "\n",
              "    .dataframe tbody tr th {\n",
              "        vertical-align: top;\n",
              "    }\n",
              "\n",
              "    .dataframe thead th {\n",
              "        text-align: right;\n",
              "    }\n",
              "</style>\n",
              "<table border=\"1\" class=\"dataframe\">\n",
              "  <thead>\n",
              "    <tr style=\"text-align: right;\">\n",
              "      <th></th>\n",
              "      <th>id</th>\n",
              "      <th>alias</th>\n",
              "      <th>text</th>\n",
              "      <th>date_time</th>\n",
              "      <th>label</th>\n",
              "      <th>lang</th>\n",
              "      <th>quote_retweet</th>\n",
              "    </tr>\n",
              "  </thead>\n",
              "  <tbody>\n",
              "    <tr>\n",
              "      <th>17</th>\n",
              "      <td>788342075582328832</td>\n",
              "      <td>realDonaldTrump</td>\n",
              "      <td>@THEREALMOGUL: 41% of American voters believe ...</td>\n",
              "      <td>2016-10-18 14:32:52</td>\n",
              "      <td>android</td>\n",
              "      <td>en</td>\n",
              "      <td>True</td>\n",
              "    </tr>\n",
              "    <tr>\n",
              "      <th>92</th>\n",
              "      <td>651360905578577920</td>\n",
              "      <td>realDonaldTrump</td>\n",
              "      <td>@WMikeWood: @cnn Trump Shuts down Cuomo. I am ...</td>\n",
              "      <td>2015-10-06 14:38:36</td>\n",
              "      <td>android</td>\n",
              "      <td>en</td>\n",
              "      <td>True</td>\n",
              "    </tr>\n",
              "    <tr>\n",
              "      <th>254</th>\n",
              "      <td>622951483672293376</td>\n",
              "      <td>realDonaldTrump</td>\n",
              "      <td>@97Musick: @realDonaldTrump Voters LIKE tough ...</td>\n",
              "      <td>2015-07-20 05:09:42</td>\n",
              "      <td>android</td>\n",
              "      <td>en</td>\n",
              "      <td>True</td>\n",
              "    </tr>\n",
              "    <tr>\n",
              "      <th>261</th>\n",
              "      <td>622953201243787264</td>\n",
              "      <td>realDonaldTrump</td>\n",
              "      <td>@vettesetter: RT @realDonaldTrump: My @USATOpi...</td>\n",
              "      <td>2015-07-20 05:16:31</td>\n",
              "      <td>android</td>\n",
              "      <td>no</td>\n",
              "      <td>True</td>\n",
              "    </tr>\n",
              "    <tr>\n",
              "      <th>276</th>\n",
              "      <td>675633579691479040</td>\n",
              "      <td>realDonaldTrump</td>\n",
              "      <td>@theblaze: Donald Trump unleashes verbal assau...</td>\n",
              "      <td>2015-12-12 13:09:32</td>\n",
              "      <td>android</td>\n",
              "      <td>en</td>\n",
              "      <td>True</td>\n",
              "    </tr>\n",
              "  </tbody>\n",
              "</table>\n",
              "</div>\n",
              "      <button class=\"colab-df-convert\" onclick=\"convertToInteractive('df-f4537c6d-170e-41c0-aa8c-7920e022ef58')\"\n",
              "              title=\"Convert this dataframe to an interactive table.\"\n",
              "              style=\"display:none;\">\n",
              "        \n",
              "  <svg xmlns=\"http://www.w3.org/2000/svg\" height=\"24px\"viewBox=\"0 0 24 24\"\n",
              "       width=\"24px\">\n",
              "    <path d=\"M0 0h24v24H0V0z\" fill=\"none\"/>\n",
              "    <path d=\"M18.56 5.44l.94 2.06.94-2.06 2.06-.94-2.06-.94-.94-2.06-.94 2.06-2.06.94zm-11 1L8.5 8.5l.94-2.06 2.06-.94-2.06-.94L8.5 2.5l-.94 2.06-2.06.94zm10 10l.94 2.06.94-2.06 2.06-.94-2.06-.94-.94-2.06-.94 2.06-2.06.94z\"/><path d=\"M17.41 7.96l-1.37-1.37c-.4-.4-.92-.59-1.43-.59-.52 0-1.04.2-1.43.59L10.3 9.45l-7.72 7.72c-.78.78-.78 2.05 0 2.83L4 21.41c.39.39.9.59 1.41.59.51 0 1.02-.2 1.41-.59l7.78-7.78 2.81-2.81c.8-.78.8-2.07 0-2.86zM5.41 20L4 18.59l7.72-7.72 1.47 1.35L5.41 20z\"/>\n",
              "  </svg>\n",
              "      </button>\n",
              "      \n",
              "  <style>\n",
              "    .colab-df-container {\n",
              "      display:flex;\n",
              "      flex-wrap:wrap;\n",
              "      gap: 12px;\n",
              "    }\n",
              "\n",
              "    .colab-df-convert {\n",
              "      background-color: #E8F0FE;\n",
              "      border: none;\n",
              "      border-radius: 50%;\n",
              "      cursor: pointer;\n",
              "      display: none;\n",
              "      fill: #1967D2;\n",
              "      height: 32px;\n",
              "      padding: 0 0 0 0;\n",
              "      width: 32px;\n",
              "    }\n",
              "\n",
              "    .colab-df-convert:hover {\n",
              "      background-color: #E2EBFA;\n",
              "      box-shadow: 0px 1px 2px rgba(60, 64, 67, 0.3), 0px 1px 3px 1px rgba(60, 64, 67, 0.15);\n",
              "      fill: #174EA6;\n",
              "    }\n",
              "\n",
              "    [theme=dark] .colab-df-convert {\n",
              "      background-color: #3B4455;\n",
              "      fill: #D2E3FC;\n",
              "    }\n",
              "\n",
              "    [theme=dark] .colab-df-convert:hover {\n",
              "      background-color: #434B5C;\n",
              "      box-shadow: 0px 1px 3px 1px rgba(0, 0, 0, 0.15);\n",
              "      filter: drop-shadow(0px 1px 2px rgba(0, 0, 0, 0.3));\n",
              "      fill: #FFFFFF;\n",
              "    }\n",
              "  </style>\n",
              "\n",
              "      <script>\n",
              "        const buttonEl =\n",
              "          document.querySelector('#df-f4537c6d-170e-41c0-aa8c-7920e022ef58 button.colab-df-convert');\n",
              "        buttonEl.style.display =\n",
              "          google.colab.kernel.accessAllowed ? 'block' : 'none';\n",
              "\n",
              "        async function convertToInteractive(key) {\n",
              "          const element = document.querySelector('#df-f4537c6d-170e-41c0-aa8c-7920e022ef58');\n",
              "          const dataTable =\n",
              "            await google.colab.kernel.invokeFunction('convertToInteractive',\n",
              "                                                     [key], {});\n",
              "          if (!dataTable) return;\n",
              "\n",
              "          const docLinkHtml = 'Like what you see? Visit the ' +\n",
              "            '<a target=\"_blank\" href=https://colab.research.google.com/notebooks/data_table.ipynb>data table notebook</a>'\n",
              "            + ' to learn more about interactive tables.';\n",
              "          element.innerHTML = '';\n",
              "          dataTable['output_type'] = 'display_data';\n",
              "          await google.colab.output.renderOutput(dataTable, element);\n",
              "          const docLink = document.createElement('div');\n",
              "          docLink.innerHTML = docLinkHtml;\n",
              "          element.appendChild(docLink);\n",
              "        }\n",
              "      </script>\n",
              "    </div>\n",
              "  </div>\n",
              "  "
            ]
          },
          "metadata": {},
          "execution_count": 9
        }
      ]
    },
    {
      "cell_type": "markdown",
      "source": [
        "### Add capital letter count attribute"
      ],
      "metadata": {
        "id": "DqA5w4hW67s8"
      }
    },
    {
      "cell_type": "code",
      "source": [
        "# count of capital letters\n",
        "\n",
        "print(\"Starting capiteal letter counting\")\n",
        "\n",
        "failed = 0\n",
        "def percent_caps(string):\n",
        "    \"\"\"returns int - num capital letters\"\"\"\n",
        "    p_caps = sum(1 for c in string if c.isupper()) / len(string)\n",
        "    return np.round(p_caps, 2)\n",
        "\n",
        "# Test fnction:\n",
        "print(percent_caps('AbCdEFg'))\n",
        "\n",
        "data_train['percent_caps'] = data_train['text'].progress_apply(percent_caps)\n",
        "data_train.head()\n"
      ],
      "metadata": {
        "colab": {
          "base_uri": "https://localhost:8080/",
          "height": 0,
          "referenced_widgets": [
            "10ceca5ac99d4ed98842587bd5341ccd",
            "fee0951fea4546e1923cada25e8cbffe",
            "06feb426f31b454ea1ef668a2554212b",
            "c7eaee324f29472aaa2b03fa59b19786",
            "8f35ff24b2f14be48ab30507d4ca9ec5",
            "bd72d4e1971a4661b233a6b0d15f0905",
            "b5fadd7d207d4caf970a52997685fd41",
            "66f312b77ba14543a87682bf784833cf",
            "6f551a787d924cfeb2ddec5324749c39",
            "4bda95c31628410c82c86313ba9d7bb9",
            "8a724f57d8bf46b5b9e41883c897a55e"
          ]
        },
        "id": "O6wXmhGy7BJF",
        "outputId": "c9b61553-f68f-478c-8459-ca080eec9f97"
      },
      "execution_count": 10,
      "outputs": [
        {
          "output_type": "stream",
          "name": "stdout",
          "text": [
            "Starting capiteal letter counting\n",
            "0.57\n"
          ]
        },
        {
          "output_type": "display_data",
          "data": {
            "text/plain": [
              "  0%|          | 0/2671 [00:00<?, ?it/s]"
            ],
            "application/vnd.jupyter.widget-view+json": {
              "version_major": 2,
              "version_minor": 0,
              "model_id": "10ceca5ac99d4ed98842587bd5341ccd"
            }
          },
          "metadata": {}
        },
        {
          "output_type": "execute_result",
          "data": {
            "text/plain": [
              "                   id            alias  \\\n",
              "0  845974102619906048  realDonaldTrump   \n",
              "1  846166053663191040  realDonaldTrump   \n",
              "2  835814988686233601  realDonaldTrump   \n",
              "3  835817351178301440  realDonaldTrump   \n",
              "4  835916511944523777  realDonaldTrump   \n",
              "\n",
              "                                                text            date_time  \\\n",
              "0  Democrats are smiling in D.C. that the Freedom...  2017-03-26 15:21:58   \n",
              "1  General Kelly is doing a great job at the bord...  2017-03-27 04:04:42   \n",
              "2  The race for DNC Chairman was, of course, tota...  2017-02-26 13:33:16   \n",
              "3  For first time the failing @nytimes will take ...  2017-02-26 13:42:39   \n",
              "4  Russia talk is FAKE NEWS put out by the Dems, ...  2017-02-26 20:16:41   \n",
              "\n",
              "     label lang  quote_retweet  percent_caps  \n",
              "0   iphone   en          False          0.08  \n",
              "1   iphone   en          False          0.03  \n",
              "2  android   en          False          0.07  \n",
              "3  android   en          False          0.01  \n",
              "4  android   en          False          0.07  "
            ],
            "text/html": [
              "\n",
              "  <div id=\"df-7d6c885c-d040-4b37-a02d-7a3a1aca7fbc\">\n",
              "    <div class=\"colab-df-container\">\n",
              "      <div>\n",
              "<style scoped>\n",
              "    .dataframe tbody tr th:only-of-type {\n",
              "        vertical-align: middle;\n",
              "    }\n",
              "\n",
              "    .dataframe tbody tr th {\n",
              "        vertical-align: top;\n",
              "    }\n",
              "\n",
              "    .dataframe thead th {\n",
              "        text-align: right;\n",
              "    }\n",
              "</style>\n",
              "<table border=\"1\" class=\"dataframe\">\n",
              "  <thead>\n",
              "    <tr style=\"text-align: right;\">\n",
              "      <th></th>\n",
              "      <th>id</th>\n",
              "      <th>alias</th>\n",
              "      <th>text</th>\n",
              "      <th>date_time</th>\n",
              "      <th>label</th>\n",
              "      <th>lang</th>\n",
              "      <th>quote_retweet</th>\n",
              "      <th>percent_caps</th>\n",
              "    </tr>\n",
              "  </thead>\n",
              "  <tbody>\n",
              "    <tr>\n",
              "      <th>0</th>\n",
              "      <td>845974102619906048</td>\n",
              "      <td>realDonaldTrump</td>\n",
              "      <td>Democrats are smiling in D.C. that the Freedom...</td>\n",
              "      <td>2017-03-26 15:21:58</td>\n",
              "      <td>iphone</td>\n",
              "      <td>en</td>\n",
              "      <td>False</td>\n",
              "      <td>0.08</td>\n",
              "    </tr>\n",
              "    <tr>\n",
              "      <th>1</th>\n",
              "      <td>846166053663191040</td>\n",
              "      <td>realDonaldTrump</td>\n",
              "      <td>General Kelly is doing a great job at the bord...</td>\n",
              "      <td>2017-03-27 04:04:42</td>\n",
              "      <td>iphone</td>\n",
              "      <td>en</td>\n",
              "      <td>False</td>\n",
              "      <td>0.03</td>\n",
              "    </tr>\n",
              "    <tr>\n",
              "      <th>2</th>\n",
              "      <td>835814988686233601</td>\n",
              "      <td>realDonaldTrump</td>\n",
              "      <td>The race for DNC Chairman was, of course, tota...</td>\n",
              "      <td>2017-02-26 13:33:16</td>\n",
              "      <td>android</td>\n",
              "      <td>en</td>\n",
              "      <td>False</td>\n",
              "      <td>0.07</td>\n",
              "    </tr>\n",
              "    <tr>\n",
              "      <th>3</th>\n",
              "      <td>835817351178301440</td>\n",
              "      <td>realDonaldTrump</td>\n",
              "      <td>For first time the failing @nytimes will take ...</td>\n",
              "      <td>2017-02-26 13:42:39</td>\n",
              "      <td>android</td>\n",
              "      <td>en</td>\n",
              "      <td>False</td>\n",
              "      <td>0.01</td>\n",
              "    </tr>\n",
              "    <tr>\n",
              "      <th>4</th>\n",
              "      <td>835916511944523777</td>\n",
              "      <td>realDonaldTrump</td>\n",
              "      <td>Russia talk is FAKE NEWS put out by the Dems, ...</td>\n",
              "      <td>2017-02-26 20:16:41</td>\n",
              "      <td>android</td>\n",
              "      <td>en</td>\n",
              "      <td>False</td>\n",
              "      <td>0.07</td>\n",
              "    </tr>\n",
              "  </tbody>\n",
              "</table>\n",
              "</div>\n",
              "      <button class=\"colab-df-convert\" onclick=\"convertToInteractive('df-7d6c885c-d040-4b37-a02d-7a3a1aca7fbc')\"\n",
              "              title=\"Convert this dataframe to an interactive table.\"\n",
              "              style=\"display:none;\">\n",
              "        \n",
              "  <svg xmlns=\"http://www.w3.org/2000/svg\" height=\"24px\"viewBox=\"0 0 24 24\"\n",
              "       width=\"24px\">\n",
              "    <path d=\"M0 0h24v24H0V0z\" fill=\"none\"/>\n",
              "    <path d=\"M18.56 5.44l.94 2.06.94-2.06 2.06-.94-2.06-.94-.94-2.06-.94 2.06-2.06.94zm-11 1L8.5 8.5l.94-2.06 2.06-.94-2.06-.94L8.5 2.5l-.94 2.06-2.06.94zm10 10l.94 2.06.94-2.06 2.06-.94-2.06-.94-.94-2.06-.94 2.06-2.06.94z\"/><path d=\"M17.41 7.96l-1.37-1.37c-.4-.4-.92-.59-1.43-.59-.52 0-1.04.2-1.43.59L10.3 9.45l-7.72 7.72c-.78.78-.78 2.05 0 2.83L4 21.41c.39.39.9.59 1.41.59.51 0 1.02-.2 1.41-.59l7.78-7.78 2.81-2.81c.8-.78.8-2.07 0-2.86zM5.41 20L4 18.59l7.72-7.72 1.47 1.35L5.41 20z\"/>\n",
              "  </svg>\n",
              "      </button>\n",
              "      \n",
              "  <style>\n",
              "    .colab-df-container {\n",
              "      display:flex;\n",
              "      flex-wrap:wrap;\n",
              "      gap: 12px;\n",
              "    }\n",
              "\n",
              "    .colab-df-convert {\n",
              "      background-color: #E8F0FE;\n",
              "      border: none;\n",
              "      border-radius: 50%;\n",
              "      cursor: pointer;\n",
              "      display: none;\n",
              "      fill: #1967D2;\n",
              "      height: 32px;\n",
              "      padding: 0 0 0 0;\n",
              "      width: 32px;\n",
              "    }\n",
              "\n",
              "    .colab-df-convert:hover {\n",
              "      background-color: #E2EBFA;\n",
              "      box-shadow: 0px 1px 2px rgba(60, 64, 67, 0.3), 0px 1px 3px 1px rgba(60, 64, 67, 0.15);\n",
              "      fill: #174EA6;\n",
              "    }\n",
              "\n",
              "    [theme=dark] .colab-df-convert {\n",
              "      background-color: #3B4455;\n",
              "      fill: #D2E3FC;\n",
              "    }\n",
              "\n",
              "    [theme=dark] .colab-df-convert:hover {\n",
              "      background-color: #434B5C;\n",
              "      box-shadow: 0px 1px 3px 1px rgba(0, 0, 0, 0.15);\n",
              "      filter: drop-shadow(0px 1px 2px rgba(0, 0, 0, 0.3));\n",
              "      fill: #FFFFFF;\n",
              "    }\n",
              "  </style>\n",
              "\n",
              "      <script>\n",
              "        const buttonEl =\n",
              "          document.querySelector('#df-7d6c885c-d040-4b37-a02d-7a3a1aca7fbc button.colab-df-convert');\n",
              "        buttonEl.style.display =\n",
              "          google.colab.kernel.accessAllowed ? 'block' : 'none';\n",
              "\n",
              "        async function convertToInteractive(key) {\n",
              "          const element = document.querySelector('#df-7d6c885c-d040-4b37-a02d-7a3a1aca7fbc');\n",
              "          const dataTable =\n",
              "            await google.colab.kernel.invokeFunction('convertToInteractive',\n",
              "                                                     [key], {});\n",
              "          if (!dataTable) return;\n",
              "\n",
              "          const docLinkHtml = 'Like what you see? Visit the ' +\n",
              "            '<a target=\"_blank\" href=https://colab.research.google.com/notebooks/data_table.ipynb>data table notebook</a>'\n",
              "            + ' to learn more about interactive tables.';\n",
              "          element.innerHTML = '';\n",
              "          dataTable['output_type'] = 'display_data';\n",
              "          await google.colab.output.renderOutput(dataTable, element);\n",
              "          const docLink = document.createElement('div');\n",
              "          docLink.innerHTML = docLinkHtml;\n",
              "          element.appendChild(docLink);\n",
              "        }\n",
              "      </script>\n",
              "    </div>\n",
              "  </div>\n",
              "  "
            ]
          },
          "metadata": {},
          "execution_count": 10
        }
      ]
    },
    {
      "cell_type": "markdown",
      "source": [
        "### Add contains url attribute"
      ],
      "metadata": {
        "id": "ionqPyG1Z_K4"
      }
    },
    {
      "cell_type": "code",
      "source": [
        "# url detection\n",
        "\n",
        "print(\"Starting url detection\")\n",
        "\n",
        "def contains_url(string):\n",
        "    \"\"\"returns boolean - contains url True / False\"\"\"\n",
        "    search_exp = 'http'\n",
        "    return not (re.search(search_exp, string) is None)\n",
        "\n",
        "# Test fnction:\n",
        "# print(find_quote_tweet('@Yaniv \"sd http dfjsd\"') == True, find_quote_tweet('Yaniv \"sd sdkfujhas dfjsd\"') == False)\n",
        "\n",
        "data_train['contains_url'] = data_train['text'].progress_apply(contains_url)\n",
        "data_train[data_train.contains_url == True].head()"
      ],
      "metadata": {
        "colab": {
          "base_uri": "https://localhost:8080/",
          "height": 0,
          "referenced_widgets": [
            "7be35717fd5c44d3b1d25451281847d0",
            "a58832f51698418f9bb38152b684452b",
            "727f5b9eec75425590de48524c761c33",
            "614a9a4830114480aecc5a634fd755ee",
            "8c4eb27e4ae84095b899b032d289ae72",
            "302c4dc917b3452aaece0dc1c7fe952a",
            "9361b54946204f2a9975f0a6098bcd96",
            "8602aa9ea64f4b9b8aa075d1877a61ea",
            "4ddfcdb99e3e4a0eb93343eb16ab24d4",
            "a6e6b8cbccac49d8abad024b8e1068e7",
            "4ac128f3c136460eb08685a37e755180"
          ]
        },
        "id": "1zxTtwcoaKCT",
        "outputId": "947faf41-6f92-44e4-91e9-4485c007ce76"
      },
      "execution_count": 11,
      "outputs": [
        {
          "output_type": "stream",
          "name": "stdout",
          "text": [
            "Starting url detection\n"
          ]
        },
        {
          "output_type": "display_data",
          "data": {
            "text/plain": [
              "  0%|          | 0/2671 [00:00<?, ?it/s]"
            ],
            "application/vnd.jupyter.widget-view+json": {
              "version_major": 2,
              "version_minor": 0,
              "model_id": "7be35717fd5c44d3b1d25451281847d0"
            }
          },
          "metadata": {}
        },
        {
          "output_type": "execute_result",
          "data": {
            "text/plain": [
              "                    id            alias  \\\n",
              "12  765623972234948608  realDonaldTrump   \n",
              "13  765629939811020802  realDonaldTrump   \n",
              "14  765679267086684161  realDonaldTrump   \n",
              "15  765688915932045313  realDonaldTrump   \n",
              "18  788402585816276992  realDonaldTrump   \n",
              "\n",
              "                                                 text            date_time  \\\n",
              "12  Another health insurer is pulling back due to ...  2016-08-16 21:59:14   \n",
              "13  'It's just a 2-point race, Clinton 38%, Trump ...  2016-08-16 22:22:57   \n",
              "14  This is my pledge to the American people: http...  2016-08-17 01:38:57   \n",
              "15  Just as we won the Cold War, in part, by expos...  2016-08-17 02:17:18   \n",
              "18  I will Make Our Government Honest Again -- bel...  2016-10-18 18:33:18   \n",
              "\n",
              "     label lang  quote_retweet  percent_caps  contains_url  \n",
              "12  iphone   en          False          0.04          True  \n",
              "13  iphone   en          False          0.12          True  \n",
              "14  iphone   en          False          0.06          True  \n",
              "15  iphone   en          False          0.07          True  \n",
              "18  iphone   nl          False          0.14          True  "
            ],
            "text/html": [
              "\n",
              "  <div id=\"df-09380b01-a85c-4a95-8f75-7352b00c06fc\">\n",
              "    <div class=\"colab-df-container\">\n",
              "      <div>\n",
              "<style scoped>\n",
              "    .dataframe tbody tr th:only-of-type {\n",
              "        vertical-align: middle;\n",
              "    }\n",
              "\n",
              "    .dataframe tbody tr th {\n",
              "        vertical-align: top;\n",
              "    }\n",
              "\n",
              "    .dataframe thead th {\n",
              "        text-align: right;\n",
              "    }\n",
              "</style>\n",
              "<table border=\"1\" class=\"dataframe\">\n",
              "  <thead>\n",
              "    <tr style=\"text-align: right;\">\n",
              "      <th></th>\n",
              "      <th>id</th>\n",
              "      <th>alias</th>\n",
              "      <th>text</th>\n",
              "      <th>date_time</th>\n",
              "      <th>label</th>\n",
              "      <th>lang</th>\n",
              "      <th>quote_retweet</th>\n",
              "      <th>percent_caps</th>\n",
              "      <th>contains_url</th>\n",
              "    </tr>\n",
              "  </thead>\n",
              "  <tbody>\n",
              "    <tr>\n",
              "      <th>12</th>\n",
              "      <td>765623972234948608</td>\n",
              "      <td>realDonaldTrump</td>\n",
              "      <td>Another health insurer is pulling back due to ...</td>\n",
              "      <td>2016-08-16 21:59:14</td>\n",
              "      <td>iphone</td>\n",
              "      <td>en</td>\n",
              "      <td>False</td>\n",
              "      <td>0.04</td>\n",
              "      <td>True</td>\n",
              "    </tr>\n",
              "    <tr>\n",
              "      <th>13</th>\n",
              "      <td>765629939811020802</td>\n",
              "      <td>realDonaldTrump</td>\n",
              "      <td>'It's just a 2-point race, Clinton 38%, Trump ...</td>\n",
              "      <td>2016-08-16 22:22:57</td>\n",
              "      <td>iphone</td>\n",
              "      <td>en</td>\n",
              "      <td>False</td>\n",
              "      <td>0.12</td>\n",
              "      <td>True</td>\n",
              "    </tr>\n",
              "    <tr>\n",
              "      <th>14</th>\n",
              "      <td>765679267086684161</td>\n",
              "      <td>realDonaldTrump</td>\n",
              "      <td>This is my pledge to the American people: http...</td>\n",
              "      <td>2016-08-17 01:38:57</td>\n",
              "      <td>iphone</td>\n",
              "      <td>en</td>\n",
              "      <td>False</td>\n",
              "      <td>0.06</td>\n",
              "      <td>True</td>\n",
              "    </tr>\n",
              "    <tr>\n",
              "      <th>15</th>\n",
              "      <td>765688915932045313</td>\n",
              "      <td>realDonaldTrump</td>\n",
              "      <td>Just as we won the Cold War, in part, by expos...</td>\n",
              "      <td>2016-08-17 02:17:18</td>\n",
              "      <td>iphone</td>\n",
              "      <td>en</td>\n",
              "      <td>False</td>\n",
              "      <td>0.07</td>\n",
              "      <td>True</td>\n",
              "    </tr>\n",
              "    <tr>\n",
              "      <th>18</th>\n",
              "      <td>788402585816276992</td>\n",
              "      <td>realDonaldTrump</td>\n",
              "      <td>I will Make Our Government Honest Again -- bel...</td>\n",
              "      <td>2016-10-18 18:33:18</td>\n",
              "      <td>iphone</td>\n",
              "      <td>nl</td>\n",
              "      <td>False</td>\n",
              "      <td>0.14</td>\n",
              "      <td>True</td>\n",
              "    </tr>\n",
              "  </tbody>\n",
              "</table>\n",
              "</div>\n",
              "      <button class=\"colab-df-convert\" onclick=\"convertToInteractive('df-09380b01-a85c-4a95-8f75-7352b00c06fc')\"\n",
              "              title=\"Convert this dataframe to an interactive table.\"\n",
              "              style=\"display:none;\">\n",
              "        \n",
              "  <svg xmlns=\"http://www.w3.org/2000/svg\" height=\"24px\"viewBox=\"0 0 24 24\"\n",
              "       width=\"24px\">\n",
              "    <path d=\"M0 0h24v24H0V0z\" fill=\"none\"/>\n",
              "    <path d=\"M18.56 5.44l.94 2.06.94-2.06 2.06-.94-2.06-.94-.94-2.06-.94 2.06-2.06.94zm-11 1L8.5 8.5l.94-2.06 2.06-.94-2.06-.94L8.5 2.5l-.94 2.06-2.06.94zm10 10l.94 2.06.94-2.06 2.06-.94-2.06-.94-.94-2.06-.94 2.06-2.06.94z\"/><path d=\"M17.41 7.96l-1.37-1.37c-.4-.4-.92-.59-1.43-.59-.52 0-1.04.2-1.43.59L10.3 9.45l-7.72 7.72c-.78.78-.78 2.05 0 2.83L4 21.41c.39.39.9.59 1.41.59.51 0 1.02-.2 1.41-.59l7.78-7.78 2.81-2.81c.8-.78.8-2.07 0-2.86zM5.41 20L4 18.59l7.72-7.72 1.47 1.35L5.41 20z\"/>\n",
              "  </svg>\n",
              "      </button>\n",
              "      \n",
              "  <style>\n",
              "    .colab-df-container {\n",
              "      display:flex;\n",
              "      flex-wrap:wrap;\n",
              "      gap: 12px;\n",
              "    }\n",
              "\n",
              "    .colab-df-convert {\n",
              "      background-color: #E8F0FE;\n",
              "      border: none;\n",
              "      border-radius: 50%;\n",
              "      cursor: pointer;\n",
              "      display: none;\n",
              "      fill: #1967D2;\n",
              "      height: 32px;\n",
              "      padding: 0 0 0 0;\n",
              "      width: 32px;\n",
              "    }\n",
              "\n",
              "    .colab-df-convert:hover {\n",
              "      background-color: #E2EBFA;\n",
              "      box-shadow: 0px 1px 2px rgba(60, 64, 67, 0.3), 0px 1px 3px 1px rgba(60, 64, 67, 0.15);\n",
              "      fill: #174EA6;\n",
              "    }\n",
              "\n",
              "    [theme=dark] .colab-df-convert {\n",
              "      background-color: #3B4455;\n",
              "      fill: #D2E3FC;\n",
              "    }\n",
              "\n",
              "    [theme=dark] .colab-df-convert:hover {\n",
              "      background-color: #434B5C;\n",
              "      box-shadow: 0px 1px 3px 1px rgba(0, 0, 0, 0.15);\n",
              "      filter: drop-shadow(0px 1px 2px rgba(0, 0, 0, 0.3));\n",
              "      fill: #FFFFFF;\n",
              "    }\n",
              "  </style>\n",
              "\n",
              "      <script>\n",
              "        const buttonEl =\n",
              "          document.querySelector('#df-09380b01-a85c-4a95-8f75-7352b00c06fc button.colab-df-convert');\n",
              "        buttonEl.style.display =\n",
              "          google.colab.kernel.accessAllowed ? 'block' : 'none';\n",
              "\n",
              "        async function convertToInteractive(key) {\n",
              "          const element = document.querySelector('#df-09380b01-a85c-4a95-8f75-7352b00c06fc');\n",
              "          const dataTable =\n",
              "            await google.colab.kernel.invokeFunction('convertToInteractive',\n",
              "                                                     [key], {});\n",
              "          if (!dataTable) return;\n",
              "\n",
              "          const docLinkHtml = 'Like what you see? Visit the ' +\n",
              "            '<a target=\"_blank\" href=https://colab.research.google.com/notebooks/data_table.ipynb>data table notebook</a>'\n",
              "            + ' to learn more about interactive tables.';\n",
              "          element.innerHTML = '';\n",
              "          dataTable['output_type'] = 'display_data';\n",
              "          await google.colab.output.renderOutput(dataTable, element);\n",
              "          const docLink = document.createElement('div');\n",
              "          docLink.innerHTML = docLinkHtml;\n",
              "          element.appendChild(docLink);\n",
              "        }\n",
              "      </script>\n",
              "    </div>\n",
              "  </div>\n",
              "  "
            ]
          },
          "metadata": {},
          "execution_count": 11
        }
      ]
    },
    {
      "cell_type": "markdown",
      "source": [
        "### Contains Hashtag attribute"
      ],
      "metadata": {
        "id": "YAswb9oO5kYm"
      }
    },
    {
      "cell_type": "code",
      "source": [
        "# count of capital letters\n",
        "\n",
        "print(\"Starting hashtag counting\")\n",
        "\n",
        "failed = 0\n",
        "def hashtag_count(string):\n",
        "    \"\"\"returns int - num capital letters\"\"\"\n",
        "    h_count = sum(1 for c in string if c == '#')\n",
        "    return h_count\n",
        "\n",
        "# Test fnction:\n",
        "# print(hashtag_count('AbC#dEFg') == 1, hashtag_count('A#bC ##dEFg') == 3, hashtag_count('AbCdEFg') == 0)\n",
        "\n",
        "data_train['hashtag_count'] = data_train['text'].progress_apply(hashtag_count)\n",
        "data_train.head()\n"
      ],
      "metadata": {
        "colab": {
          "base_uri": "https://localhost:8080/",
          "height": 0,
          "referenced_widgets": [
            "c9b4c8496f844fb7b7c98a87e94c9c59",
            "66ccb7326b1740d491b9a5dd50c5955b",
            "0e86fcf6b8654dccbbf7789ac3b4778b",
            "58331a0399864c0a8f9c20c0562addd0",
            "08e3c4d0a2764d71bc940e0108ed8834",
            "c58f49fdf92f4682a70aebf2804c6572",
            "62a13f89aa7d41edb52d9e570a05d3f8",
            "e6b3a8e102774d698c36ff5d65ec9ed2",
            "3aa8609b86d7465bbe4d167765e7ed1f",
            "ca51e5f2f1d749e1bfb4360ee12df896",
            "ce61548968714f18810394360f9f364a"
          ]
        },
        "id": "PvMx1bZ05ncm",
        "outputId": "07eed6e2-b751-43c3-ea9a-abbd41ee3c1c"
      },
      "execution_count": 12,
      "outputs": [
        {
          "output_type": "stream",
          "name": "stdout",
          "text": [
            "Starting hashtag counting\n"
          ]
        },
        {
          "output_type": "display_data",
          "data": {
            "text/plain": [
              "  0%|          | 0/2671 [00:00<?, ?it/s]"
            ],
            "application/vnd.jupyter.widget-view+json": {
              "version_major": 2,
              "version_minor": 0,
              "model_id": "c9b4c8496f844fb7b7c98a87e94c9c59"
            }
          },
          "metadata": {}
        },
        {
          "output_type": "execute_result",
          "data": {
            "text/plain": [
              "                   id            alias  \\\n",
              "0  845974102619906048  realDonaldTrump   \n",
              "1  846166053663191040  realDonaldTrump   \n",
              "2  835814988686233601  realDonaldTrump   \n",
              "3  835817351178301440  realDonaldTrump   \n",
              "4  835916511944523777  realDonaldTrump   \n",
              "\n",
              "                                                text            date_time  \\\n",
              "0  Democrats are smiling in D.C. that the Freedom...  2017-03-26 15:21:58   \n",
              "1  General Kelly is doing a great job at the bord...  2017-03-27 04:04:42   \n",
              "2  The race for DNC Chairman was, of course, tota...  2017-02-26 13:33:16   \n",
              "3  For first time the failing @nytimes will take ...  2017-02-26 13:42:39   \n",
              "4  Russia talk is FAKE NEWS put out by the Dems, ...  2017-02-26 20:16:41   \n",
              "\n",
              "     label lang  quote_retweet  percent_caps  contains_url  hashtag_count  \n",
              "0   iphone   en          False          0.08         False              0  \n",
              "1   iphone   en          False          0.03         False              0  \n",
              "2  android   en          False          0.07         False              0  \n",
              "3  android   en          False          0.01         False              0  \n",
              "4  android   en          False          0.07         False              0  "
            ],
            "text/html": [
              "\n",
              "  <div id=\"df-82e93052-4eca-4916-94a6-d892d6e8e607\">\n",
              "    <div class=\"colab-df-container\">\n",
              "      <div>\n",
              "<style scoped>\n",
              "    .dataframe tbody tr th:only-of-type {\n",
              "        vertical-align: middle;\n",
              "    }\n",
              "\n",
              "    .dataframe tbody tr th {\n",
              "        vertical-align: top;\n",
              "    }\n",
              "\n",
              "    .dataframe thead th {\n",
              "        text-align: right;\n",
              "    }\n",
              "</style>\n",
              "<table border=\"1\" class=\"dataframe\">\n",
              "  <thead>\n",
              "    <tr style=\"text-align: right;\">\n",
              "      <th></th>\n",
              "      <th>id</th>\n",
              "      <th>alias</th>\n",
              "      <th>text</th>\n",
              "      <th>date_time</th>\n",
              "      <th>label</th>\n",
              "      <th>lang</th>\n",
              "      <th>quote_retweet</th>\n",
              "      <th>percent_caps</th>\n",
              "      <th>contains_url</th>\n",
              "      <th>hashtag_count</th>\n",
              "    </tr>\n",
              "  </thead>\n",
              "  <tbody>\n",
              "    <tr>\n",
              "      <th>0</th>\n",
              "      <td>845974102619906048</td>\n",
              "      <td>realDonaldTrump</td>\n",
              "      <td>Democrats are smiling in D.C. that the Freedom...</td>\n",
              "      <td>2017-03-26 15:21:58</td>\n",
              "      <td>iphone</td>\n",
              "      <td>en</td>\n",
              "      <td>False</td>\n",
              "      <td>0.08</td>\n",
              "      <td>False</td>\n",
              "      <td>0</td>\n",
              "    </tr>\n",
              "    <tr>\n",
              "      <th>1</th>\n",
              "      <td>846166053663191040</td>\n",
              "      <td>realDonaldTrump</td>\n",
              "      <td>General Kelly is doing a great job at the bord...</td>\n",
              "      <td>2017-03-27 04:04:42</td>\n",
              "      <td>iphone</td>\n",
              "      <td>en</td>\n",
              "      <td>False</td>\n",
              "      <td>0.03</td>\n",
              "      <td>False</td>\n",
              "      <td>0</td>\n",
              "    </tr>\n",
              "    <tr>\n",
              "      <th>2</th>\n",
              "      <td>835814988686233601</td>\n",
              "      <td>realDonaldTrump</td>\n",
              "      <td>The race for DNC Chairman was, of course, tota...</td>\n",
              "      <td>2017-02-26 13:33:16</td>\n",
              "      <td>android</td>\n",
              "      <td>en</td>\n",
              "      <td>False</td>\n",
              "      <td>0.07</td>\n",
              "      <td>False</td>\n",
              "      <td>0</td>\n",
              "    </tr>\n",
              "    <tr>\n",
              "      <th>3</th>\n",
              "      <td>835817351178301440</td>\n",
              "      <td>realDonaldTrump</td>\n",
              "      <td>For first time the failing @nytimes will take ...</td>\n",
              "      <td>2017-02-26 13:42:39</td>\n",
              "      <td>android</td>\n",
              "      <td>en</td>\n",
              "      <td>False</td>\n",
              "      <td>0.01</td>\n",
              "      <td>False</td>\n",
              "      <td>0</td>\n",
              "    </tr>\n",
              "    <tr>\n",
              "      <th>4</th>\n",
              "      <td>835916511944523777</td>\n",
              "      <td>realDonaldTrump</td>\n",
              "      <td>Russia talk is FAKE NEWS put out by the Dems, ...</td>\n",
              "      <td>2017-02-26 20:16:41</td>\n",
              "      <td>android</td>\n",
              "      <td>en</td>\n",
              "      <td>False</td>\n",
              "      <td>0.07</td>\n",
              "      <td>False</td>\n",
              "      <td>0</td>\n",
              "    </tr>\n",
              "  </tbody>\n",
              "</table>\n",
              "</div>\n",
              "      <button class=\"colab-df-convert\" onclick=\"convertToInteractive('df-82e93052-4eca-4916-94a6-d892d6e8e607')\"\n",
              "              title=\"Convert this dataframe to an interactive table.\"\n",
              "              style=\"display:none;\">\n",
              "        \n",
              "  <svg xmlns=\"http://www.w3.org/2000/svg\" height=\"24px\"viewBox=\"0 0 24 24\"\n",
              "       width=\"24px\">\n",
              "    <path d=\"M0 0h24v24H0V0z\" fill=\"none\"/>\n",
              "    <path d=\"M18.56 5.44l.94 2.06.94-2.06 2.06-.94-2.06-.94-.94-2.06-.94 2.06-2.06.94zm-11 1L8.5 8.5l.94-2.06 2.06-.94-2.06-.94L8.5 2.5l-.94 2.06-2.06.94zm10 10l.94 2.06.94-2.06 2.06-.94-2.06-.94-.94-2.06-.94 2.06-2.06.94z\"/><path d=\"M17.41 7.96l-1.37-1.37c-.4-.4-.92-.59-1.43-.59-.52 0-1.04.2-1.43.59L10.3 9.45l-7.72 7.72c-.78.78-.78 2.05 0 2.83L4 21.41c.39.39.9.59 1.41.59.51 0 1.02-.2 1.41-.59l7.78-7.78 2.81-2.81c.8-.78.8-2.07 0-2.86zM5.41 20L4 18.59l7.72-7.72 1.47 1.35L5.41 20z\"/>\n",
              "  </svg>\n",
              "      </button>\n",
              "      \n",
              "  <style>\n",
              "    .colab-df-container {\n",
              "      display:flex;\n",
              "      flex-wrap:wrap;\n",
              "      gap: 12px;\n",
              "    }\n",
              "\n",
              "    .colab-df-convert {\n",
              "      background-color: #E8F0FE;\n",
              "      border: none;\n",
              "      border-radius: 50%;\n",
              "      cursor: pointer;\n",
              "      display: none;\n",
              "      fill: #1967D2;\n",
              "      height: 32px;\n",
              "      padding: 0 0 0 0;\n",
              "      width: 32px;\n",
              "    }\n",
              "\n",
              "    .colab-df-convert:hover {\n",
              "      background-color: #E2EBFA;\n",
              "      box-shadow: 0px 1px 2px rgba(60, 64, 67, 0.3), 0px 1px 3px 1px rgba(60, 64, 67, 0.15);\n",
              "      fill: #174EA6;\n",
              "    }\n",
              "\n",
              "    [theme=dark] .colab-df-convert {\n",
              "      background-color: #3B4455;\n",
              "      fill: #D2E3FC;\n",
              "    }\n",
              "\n",
              "    [theme=dark] .colab-df-convert:hover {\n",
              "      background-color: #434B5C;\n",
              "      box-shadow: 0px 1px 3px 1px rgba(0, 0, 0, 0.15);\n",
              "      filter: drop-shadow(0px 1px 2px rgba(0, 0, 0, 0.3));\n",
              "      fill: #FFFFFF;\n",
              "    }\n",
              "  </style>\n",
              "\n",
              "      <script>\n",
              "        const buttonEl =\n",
              "          document.querySelector('#df-82e93052-4eca-4916-94a6-d892d6e8e607 button.colab-df-convert');\n",
              "        buttonEl.style.display =\n",
              "          google.colab.kernel.accessAllowed ? 'block' : 'none';\n",
              "\n",
              "        async function convertToInteractive(key) {\n",
              "          const element = document.querySelector('#df-82e93052-4eca-4916-94a6-d892d6e8e607');\n",
              "          const dataTable =\n",
              "            await google.colab.kernel.invokeFunction('convertToInteractive',\n",
              "                                                     [key], {});\n",
              "          if (!dataTable) return;\n",
              "\n",
              "          const docLinkHtml = 'Like what you see? Visit the ' +\n",
              "            '<a target=\"_blank\" href=https://colab.research.google.com/notebooks/data_table.ipynb>data table notebook</a>'\n",
              "            + ' to learn more about interactive tables.';\n",
              "          element.innerHTML = '';\n",
              "          dataTable['output_type'] = 'display_data';\n",
              "          await google.colab.output.renderOutput(dataTable, element);\n",
              "          const docLink = document.createElement('div');\n",
              "          docLink.innerHTML = docLinkHtml;\n",
              "          element.appendChild(docLink);\n",
              "        }\n",
              "      </script>\n",
              "    </div>\n",
              "  </div>\n",
              "  "
            ]
          },
          "metadata": {},
          "execution_count": 12
        }
      ]
    },
    {
      "cell_type": "markdown",
      "source": [
        "### Time based attributes"
      ],
      "metadata": {
        "id": "KSPNvdox7yN_"
      }
    },
    {
      "cell_type": "code",
      "source": [
        "# date time attributes\n",
        "print(\"Adding datetime attributes\")\n",
        "\n",
        "def add_datetime_atts(row):\n",
        "    \"\"\"returns int - num capital letters\"\"\"\n",
        "    if row['date_time'] is not np.nan:\n",
        "        datetime_obj = datetime.datetime.strptime(row['date_time'], \"%Y-%m-%d  %H:%M:%S\")\n",
        "        row['year'] = datetime_obj.year\n",
        "        row['month'] = datetime_obj.month\n",
        "        row['day'] = datetime_obj.day\n",
        "        row['hour'] = datetime_obj.hour\n",
        "        row['minute'] = datetime_obj.minute    \n",
        "        row['weekday'] = datetime_obj.weekday()\n",
        "        return row\n",
        "\n",
        "\n",
        "data_train = data_train.progress_apply(add_datetime_atts, axis=1)\n",
        "data_train.head()"
      ],
      "metadata": {
        "colab": {
          "base_uri": "https://localhost:8080/",
          "height": 0,
          "referenced_widgets": [
            "52669f10cf3d40a1b2c9a0446e78bcf8",
            "3615796b264c4bc88e250ae18d06f2a8",
            "a5072f04d49b4ba9bf03e380870f4820",
            "2510816678e64fdeae4772e6448db9e8",
            "0c77fe950dfc45ca96687a2e0a325d23",
            "aef3e462cece4516b0b1802ae0c8e043",
            "4f36c744b1c64503b05e2728917b4e98",
            "cd38288b59e549349a2ffe89186c886a",
            "1f7b06536e064a6587e546b61530ef2d",
            "d80eaec1e4bc43c1888d581278927cdf",
            "b91c5a51c38e42d3acf3e5bd35f7fe45"
          ]
        },
        "id": "QePd3lRy74DC",
        "outputId": "cc9399ad-0b74-4b67-bb5a-2710fece1ea3"
      },
      "execution_count": 13,
      "outputs": [
        {
          "output_type": "stream",
          "name": "stdout",
          "text": [
            "Adding datetime attributes\n"
          ]
        },
        {
          "output_type": "display_data",
          "data": {
            "text/plain": [
              "  0%|          | 0/2671 [00:00<?, ?it/s]"
            ],
            "application/vnd.jupyter.widget-view+json": {
              "version_major": 2,
              "version_minor": 0,
              "model_id": "52669f10cf3d40a1b2c9a0446e78bcf8"
            }
          },
          "metadata": {}
        },
        {
          "output_type": "execute_result",
          "data": {
            "text/plain": [
              "                   id            alias  \\\n",
              "0  845974102619906048  realDonaldTrump   \n",
              "1  846166053663191040  realDonaldTrump   \n",
              "2  835814988686233601  realDonaldTrump   \n",
              "3  835817351178301440  realDonaldTrump   \n",
              "4  835916511944523777  realDonaldTrump   \n",
              "\n",
              "                                                text            date_time  \\\n",
              "0  Democrats are smiling in D.C. that the Freedom...  2017-03-26 15:21:58   \n",
              "1  General Kelly is doing a great job at the bord...  2017-03-27 04:04:42   \n",
              "2  The race for DNC Chairman was, of course, tota...  2017-02-26 13:33:16   \n",
              "3  For first time the failing @nytimes will take ...  2017-02-26 13:42:39   \n",
              "4  Russia talk is FAKE NEWS put out by the Dems, ...  2017-02-26 20:16:41   \n",
              "\n",
              "     label lang  quote_retweet  percent_caps  contains_url  hashtag_count  \\\n",
              "0   iphone   en          False          0.08         False              0   \n",
              "1   iphone   en          False          0.03         False              0   \n",
              "2  android   en          False          0.07         False              0   \n",
              "3  android   en          False          0.01         False              0   \n",
              "4  android   en          False          0.07         False              0   \n",
              "\n",
              "   year  month  day  hour  minute  weekday  \n",
              "0  2017      3   26    15      21        6  \n",
              "1  2017      3   27     4       4        0  \n",
              "2  2017      2   26    13      33        6  \n",
              "3  2017      2   26    13      42        6  \n",
              "4  2017      2   26    20      16        6  "
            ],
            "text/html": [
              "\n",
              "  <div id=\"df-7d54fc2d-2376-4239-bb66-8ae8fb14f732\">\n",
              "    <div class=\"colab-df-container\">\n",
              "      <div>\n",
              "<style scoped>\n",
              "    .dataframe tbody tr th:only-of-type {\n",
              "        vertical-align: middle;\n",
              "    }\n",
              "\n",
              "    .dataframe tbody tr th {\n",
              "        vertical-align: top;\n",
              "    }\n",
              "\n",
              "    .dataframe thead th {\n",
              "        text-align: right;\n",
              "    }\n",
              "</style>\n",
              "<table border=\"1\" class=\"dataframe\">\n",
              "  <thead>\n",
              "    <tr style=\"text-align: right;\">\n",
              "      <th></th>\n",
              "      <th>id</th>\n",
              "      <th>alias</th>\n",
              "      <th>text</th>\n",
              "      <th>date_time</th>\n",
              "      <th>label</th>\n",
              "      <th>lang</th>\n",
              "      <th>quote_retweet</th>\n",
              "      <th>percent_caps</th>\n",
              "      <th>contains_url</th>\n",
              "      <th>hashtag_count</th>\n",
              "      <th>year</th>\n",
              "      <th>month</th>\n",
              "      <th>day</th>\n",
              "      <th>hour</th>\n",
              "      <th>minute</th>\n",
              "      <th>weekday</th>\n",
              "    </tr>\n",
              "  </thead>\n",
              "  <tbody>\n",
              "    <tr>\n",
              "      <th>0</th>\n",
              "      <td>845974102619906048</td>\n",
              "      <td>realDonaldTrump</td>\n",
              "      <td>Democrats are smiling in D.C. that the Freedom...</td>\n",
              "      <td>2017-03-26 15:21:58</td>\n",
              "      <td>iphone</td>\n",
              "      <td>en</td>\n",
              "      <td>False</td>\n",
              "      <td>0.08</td>\n",
              "      <td>False</td>\n",
              "      <td>0</td>\n",
              "      <td>2017</td>\n",
              "      <td>3</td>\n",
              "      <td>26</td>\n",
              "      <td>15</td>\n",
              "      <td>21</td>\n",
              "      <td>6</td>\n",
              "    </tr>\n",
              "    <tr>\n",
              "      <th>1</th>\n",
              "      <td>846166053663191040</td>\n",
              "      <td>realDonaldTrump</td>\n",
              "      <td>General Kelly is doing a great job at the bord...</td>\n",
              "      <td>2017-03-27 04:04:42</td>\n",
              "      <td>iphone</td>\n",
              "      <td>en</td>\n",
              "      <td>False</td>\n",
              "      <td>0.03</td>\n",
              "      <td>False</td>\n",
              "      <td>0</td>\n",
              "      <td>2017</td>\n",
              "      <td>3</td>\n",
              "      <td>27</td>\n",
              "      <td>4</td>\n",
              "      <td>4</td>\n",
              "      <td>0</td>\n",
              "    </tr>\n",
              "    <tr>\n",
              "      <th>2</th>\n",
              "      <td>835814988686233601</td>\n",
              "      <td>realDonaldTrump</td>\n",
              "      <td>The race for DNC Chairman was, of course, tota...</td>\n",
              "      <td>2017-02-26 13:33:16</td>\n",
              "      <td>android</td>\n",
              "      <td>en</td>\n",
              "      <td>False</td>\n",
              "      <td>0.07</td>\n",
              "      <td>False</td>\n",
              "      <td>0</td>\n",
              "      <td>2017</td>\n",
              "      <td>2</td>\n",
              "      <td>26</td>\n",
              "      <td>13</td>\n",
              "      <td>33</td>\n",
              "      <td>6</td>\n",
              "    </tr>\n",
              "    <tr>\n",
              "      <th>3</th>\n",
              "      <td>835817351178301440</td>\n",
              "      <td>realDonaldTrump</td>\n",
              "      <td>For first time the failing @nytimes will take ...</td>\n",
              "      <td>2017-02-26 13:42:39</td>\n",
              "      <td>android</td>\n",
              "      <td>en</td>\n",
              "      <td>False</td>\n",
              "      <td>0.01</td>\n",
              "      <td>False</td>\n",
              "      <td>0</td>\n",
              "      <td>2017</td>\n",
              "      <td>2</td>\n",
              "      <td>26</td>\n",
              "      <td>13</td>\n",
              "      <td>42</td>\n",
              "      <td>6</td>\n",
              "    </tr>\n",
              "    <tr>\n",
              "      <th>4</th>\n",
              "      <td>835916511944523777</td>\n",
              "      <td>realDonaldTrump</td>\n",
              "      <td>Russia talk is FAKE NEWS put out by the Dems, ...</td>\n",
              "      <td>2017-02-26 20:16:41</td>\n",
              "      <td>android</td>\n",
              "      <td>en</td>\n",
              "      <td>False</td>\n",
              "      <td>0.07</td>\n",
              "      <td>False</td>\n",
              "      <td>0</td>\n",
              "      <td>2017</td>\n",
              "      <td>2</td>\n",
              "      <td>26</td>\n",
              "      <td>20</td>\n",
              "      <td>16</td>\n",
              "      <td>6</td>\n",
              "    </tr>\n",
              "  </tbody>\n",
              "</table>\n",
              "</div>\n",
              "      <button class=\"colab-df-convert\" onclick=\"convertToInteractive('df-7d54fc2d-2376-4239-bb66-8ae8fb14f732')\"\n",
              "              title=\"Convert this dataframe to an interactive table.\"\n",
              "              style=\"display:none;\">\n",
              "        \n",
              "  <svg xmlns=\"http://www.w3.org/2000/svg\" height=\"24px\"viewBox=\"0 0 24 24\"\n",
              "       width=\"24px\">\n",
              "    <path d=\"M0 0h24v24H0V0z\" fill=\"none\"/>\n",
              "    <path d=\"M18.56 5.44l.94 2.06.94-2.06 2.06-.94-2.06-.94-.94-2.06-.94 2.06-2.06.94zm-11 1L8.5 8.5l.94-2.06 2.06-.94-2.06-.94L8.5 2.5l-.94 2.06-2.06.94zm10 10l.94 2.06.94-2.06 2.06-.94-2.06-.94-.94-2.06-.94 2.06-2.06.94z\"/><path d=\"M17.41 7.96l-1.37-1.37c-.4-.4-.92-.59-1.43-.59-.52 0-1.04.2-1.43.59L10.3 9.45l-7.72 7.72c-.78.78-.78 2.05 0 2.83L4 21.41c.39.39.9.59 1.41.59.51 0 1.02-.2 1.41-.59l7.78-7.78 2.81-2.81c.8-.78.8-2.07 0-2.86zM5.41 20L4 18.59l7.72-7.72 1.47 1.35L5.41 20z\"/>\n",
              "  </svg>\n",
              "      </button>\n",
              "      \n",
              "  <style>\n",
              "    .colab-df-container {\n",
              "      display:flex;\n",
              "      flex-wrap:wrap;\n",
              "      gap: 12px;\n",
              "    }\n",
              "\n",
              "    .colab-df-convert {\n",
              "      background-color: #E8F0FE;\n",
              "      border: none;\n",
              "      border-radius: 50%;\n",
              "      cursor: pointer;\n",
              "      display: none;\n",
              "      fill: #1967D2;\n",
              "      height: 32px;\n",
              "      padding: 0 0 0 0;\n",
              "      width: 32px;\n",
              "    }\n",
              "\n",
              "    .colab-df-convert:hover {\n",
              "      background-color: #E2EBFA;\n",
              "      box-shadow: 0px 1px 2px rgba(60, 64, 67, 0.3), 0px 1px 3px 1px rgba(60, 64, 67, 0.15);\n",
              "      fill: #174EA6;\n",
              "    }\n",
              "\n",
              "    [theme=dark] .colab-df-convert {\n",
              "      background-color: #3B4455;\n",
              "      fill: #D2E3FC;\n",
              "    }\n",
              "\n",
              "    [theme=dark] .colab-df-convert:hover {\n",
              "      background-color: #434B5C;\n",
              "      box-shadow: 0px 1px 3px 1px rgba(0, 0, 0, 0.15);\n",
              "      filter: drop-shadow(0px 1px 2px rgba(0, 0, 0, 0.3));\n",
              "      fill: #FFFFFF;\n",
              "    }\n",
              "  </style>\n",
              "\n",
              "      <script>\n",
              "        const buttonEl =\n",
              "          document.querySelector('#df-7d54fc2d-2376-4239-bb66-8ae8fb14f732 button.colab-df-convert');\n",
              "        buttonEl.style.display =\n",
              "          google.colab.kernel.accessAllowed ? 'block' : 'none';\n",
              "\n",
              "        async function convertToInteractive(key) {\n",
              "          const element = document.querySelector('#df-7d54fc2d-2376-4239-bb66-8ae8fb14f732');\n",
              "          const dataTable =\n",
              "            await google.colab.kernel.invokeFunction('convertToInteractive',\n",
              "                                                     [key], {});\n",
              "          if (!dataTable) return;\n",
              "\n",
              "          const docLinkHtml = 'Like what you see? Visit the ' +\n",
              "            '<a target=\"_blank\" href=https://colab.research.google.com/notebooks/data_table.ipynb>data table notebook</a>'\n",
              "            + ' to learn more about interactive tables.';\n",
              "          element.innerHTML = '';\n",
              "          dataTable['output_type'] = 'display_data';\n",
              "          await google.colab.output.renderOutput(dataTable, element);\n",
              "          const docLink = document.createElement('div');\n",
              "          docLink.innerHTML = docLinkHtml;\n",
              "          element.appendChild(docLink);\n",
              "        }\n",
              "      </script>\n",
              "    </div>\n",
              "  </div>\n",
              "  "
            ]
          },
          "metadata": {},
          "execution_count": 13
        }
      ]
    },
    {
      "cell_type": "markdown",
      "source": [
        "### Fix dtypes for all attributes:"
      ],
      "metadata": {
        "id": "OcmFyLIhGe9H"
      }
    },
    {
      "cell_type": "code",
      "source": [
        "# Fix dtypes\n",
        "\n",
        "print(f'dtypes before: {data_train.dtypes}')\n",
        "data_train = data_train.astype({'text': 'string', \n",
        "                   'date_time': 'object', \n",
        "                   'label': 'category', \n",
        "                   'lang': 'category', \n",
        "                   'quote_retweet': 'bool',\n",
        "                   'percent_caps': 'float32',\n",
        "                   'contains_url': 'bool',\n",
        "                   'hashtag_count': 'int16',\n",
        "                   'year': 'int16',\n",
        "                   'month': 'int16',\n",
        "                   'day': 'int16',\n",
        "                   'hour': 'int16',\n",
        "                   'minute': 'int16',\n",
        "                   'weekday': 'category'})\n",
        "print()\n",
        "print(f'dtypes after: {data_train.dtypes}')\n",
        "\n"
      ],
      "metadata": {
        "colab": {
          "base_uri": "https://localhost:8080/"
        },
        "id": "6Lm0-y66CYnk",
        "outputId": "7d93410a-93cb-45c1-ec35-8d4cd8386cf2"
      },
      "execution_count": 14,
      "outputs": [
        {
          "output_type": "stream",
          "name": "stdout",
          "text": [
            "dtypes before: id                 int64\n",
            "alias             object\n",
            "text              object\n",
            "date_time         object\n",
            "label             object\n",
            "lang              object\n",
            "quote_retweet       bool\n",
            "percent_caps     float64\n",
            "contains_url        bool\n",
            "hashtag_count      int64\n",
            "year               int64\n",
            "month              int64\n",
            "day                int64\n",
            "hour               int64\n",
            "minute             int64\n",
            "weekday            int64\n",
            "dtype: object\n",
            "\n",
            "dtypes after: id                  int64\n",
            "alias              object\n",
            "text               string\n",
            "date_time          object\n",
            "label            category\n",
            "lang             category\n",
            "quote_retweet        bool\n",
            "percent_caps      float32\n",
            "contains_url         bool\n",
            "hashtag_count       int16\n",
            "year                int16\n",
            "month               int16\n",
            "day                 int16\n",
            "hour                int16\n",
            "minute              int16\n",
            "weekday          category\n",
            "dtype: object\n"
          ]
        }
      ]
    },
    {
      "cell_type": "markdown",
      "source": [
        "## Visualize engineered attributes:\n"
      ],
      "metadata": {
        "id": "sumIB2t6HxE1"
      }
    },
    {
      "cell_type": "code",
      "source": [
        "viz_atts = list(data_train.columns)\n",
        "del viz_atts[0:5]\n",
        "\n",
        "for attribute in viz_atts:\n",
        "  print(f'distribution of attribute {attribute}:')\n",
        "\n",
        "  tweets_per_att_iphone = data_train[data_train.label=='iphone'][attribute].value_counts()\n",
        "  tweets_per_att_android = data_train[data_train.label=='android'][attribute].value_counts()\n",
        "  tweets_per_att = pd.concat({'iphone': tweets_per_att_iphone, 'android': tweets_per_att_android}, axis = 1)\n",
        "  tweets_per_att = tweets_per_att.fillna(0)\n",
        "  plot_bars(tweets_per_att, attribute)\n",
        "  print()\n",
        "\n"
      ],
      "metadata": {
        "colab": {
          "base_uri": "https://localhost:8080/",
          "height": 1000
        },
        "id": "xJijzWq_74VA",
        "outputId": "c5f322f0-8a74-4d4b-b3a7-114e4c621f3c"
      },
      "execution_count": 26,
      "outputs": [
        {
          "output_type": "stream",
          "name": "stdout",
          "text": [
            "distribution of attribute lang:\n"
          ]
        },
        {
          "output_type": "display_data",
          "data": {
            "text/plain": [
              "<Figure size 1008x432 with 2 Axes>"
            ],
            "image/png": "[encoded data removed]"
          },
          "metadata": {
            "needs_background": "light"
          }
        },
        {
          "output_type": "stream",
          "name": "stdout",
          "text": [
            "\n",
            "distribution of attribute quote_retweet:\n"
          ]
        },
        {
          "output_type": "display_data",
          "data": {
            "text/plain": [
              "<Figure size 1008x432 with 2 Axes>"
            ],
            "image/png": "[encoded data removed]"
          },
          "metadata": {
            "needs_background": "light"
          }
        },
        {
          "output_type": "stream",
          "name": "stdout",
          "text": [
            "\n",
            "distribution of attribute percent_caps:\n"
          ]
        },
        {
          "output_type": "display_data",
          "data": {
            "text/plain": [
              "<Figure size 1008x432 with 2 Axes>"
            ],
            "image/png": "[encoded data removed]"
          },
          "metadata": {
            "needs_background": "light"
          }
        },
        {
          "output_type": "stream",
          "name": "stdout",
          "text": [
            "\n",
            "distribution of attribute contains_url:\n"
          ]
        },
        {
          "output_type": "display_data",
          "data": {
            "text/plain": [
              "<Figure size 1008x432 with 2 Axes>"
            ],
            "image/png": "[encoded data removed]"
          },
          "metadata": {
            "needs_background": "light"
          }
        },
        {
          "output_type": "stream",
          "name": "stdout",
          "text": [
            "\n",
            "distribution of attribute hashtag_count:\n"
          ]
        },
        {
          "output_type": "display_data",
          "data": {
            "text/plain": [
              "<Figure size 1008x432 with 2 Axes>"
            ],
            "image/png": "[encoded data removed]"
          },
          "metadata": {
            "needs_background": "light"
          }
        },
        {
          "output_type": "stream",
          "name": "stdout",
          "text": [
            "\n",
            "distribution of attribute year:\n"
          ]
        },
        {
          "output_type": "display_data",
          "data": {
            "text/plain": [
              "<Figure size 1008x432 with 2 Axes>"
            ],
            "image/png": "[encoded data removed]"
          },
          "metadata": {
            "needs_background": "light"
          }
        },
        {
          "output_type": "stream",
          "name": "stdout",
          "text": [
            "\n",
            "distribution of attribute month:\n"
          ]
        },
        {
          "output_type": "display_data",
          "data": {
            "text/plain": [
              "<Figure size 1008x432 with 2 Axes>"
            ],
            "image/png": "[encoded data removed]"
          },
          "metadata": {
            "needs_background": "light"
          }
        },
        {
          "output_type": "stream",
          "name": "stdout",
          "text": [
            "\n",
            "distribution of attribute day:\n"
          ]
        },
        {
          "output_type": "display_data",
          "data": {
            "text/plain": [
              "<Figure size 1008x432 with 2 Axes>"
            ],
            "image/png": "[encoded data removed]"
          },
          "metadata": {
            "needs_background": "light"
          }
        },
        {
          "output_type": "stream",
          "name": "stdout",
          "text": [
            "\n",
            "distribution of attribute hour:\n"
          ]
        },
        {
          "output_type": "display_data",
          "data": {
            "text/plain": [
              "<Figure size 1008x432 with 2 Axes>"
            ],
            "image/png": "[encoded data removed]"
          },
          "metadata": {
            "needs_background": "light"
          }
        },
        {
          "output_type": "stream",
          "name": "stdout",
          "text": [
            "\n",
            "distribution of attribute minute:\n"
          ]
        },
        {
          "output_type": "display_data",
          "data": {
            "text/plain": [
              "<Figure size 1008x432 with 2 Axes>"
            ],
            "image/png": "[encoded data removed]"
          },
          "metadata": {
            "needs_background": "light"
          }
        },
        {
          "output_type": "stream",
          "name": "stdout",
          "text": [
            "\n",
            "distribution of attribute weekday:\n"
          ]
        },
        {
          "output_type": "display_data",
          "data": {
            "text/plain": [
              "<Figure size 1008x432 with 2 Axes>"
            ],
            "image/png": "[encoded data removed]"
          },
          "metadata": {
            "needs_background": "light"
          }
        },
        {
          "output_type": "stream",
          "name": "stdout",
          "text": [
            "\n"
          ]
        }
      ]
    },
    {
      "cell_type": "markdown",
      "source": [
        "# ============================ END of this notebook, below is old stuff"
      ],
      "metadata": {
        "id": "lLIfRg4P6twn"
      }
    },
    {
      "cell_type": "markdown",
      "metadata": {
        "id": "oVO0f_4Ixi9k"
      },
      "source": [
        "### Preprocess data"
      ]
    },
    {
      "cell_type": "markdown",
      "metadata": {
        "id": "WBv2AoTlnA9V"
      },
      "source": [
        "#### Run preprocess funnel on train data"
      ]
    },
    {
      "cell_type": "code",
      "source": [
        ""
      ],
      "metadata": {
        "id": "SdZvuH61kNQt"
      },
      "execution_count": null,
      "outputs": []
    },
    {
      "cell_type": "code",
      "execution_count": null,
      "metadata": {
        "id": "y0FUQlxSPXIl"
      },
      "outputs": [],
      "source": [
        "# Reset DF index\n",
        "if PREPROCESS_TEXT == 'Process':\n",
        "  articles.index = range(len(articles.index))"
      ]
    },
    {
      "cell_type": "markdown",
      "metadata": {
        "id": "SUNQioaOyUrY"
      },
      "source": [
        "##### Compose text for preprocessing"
      ]
    },
    {
      "cell_type": "code",
      "execution_count": null,
      "metadata": {
        "id": "n1dFzFNlyUxK"
      },
      "outputs": [],
      "source": [
        "  if PREPROCESS_TEXT == 'Process':\n",
        "    preprocessed_data_col = 'data_preprocessed'\n",
        "    articles[preprocessed_data_col] = articles.title.fillna('') + ' ' + articles.abstract.fillna('') + ' ' + articles.full_text.fillna('')\n"
      ]
    },
    {
      "cell_type": "markdown",
      "metadata": {
        "id": "VlghfgQIzRh_"
      },
      "source": [
        "##### Remove special chars, concurrent spaces, stop words, change to lower case"
      ]
    },
    {
      "cell_type": "code",
      "execution_count": null,
      "metadata": {
        "id": "3_fjYgmBTCD3"
      },
      "outputs": [],
      "source": [
        "# preprocess functions - different for string / series for performance reasons\n",
        "def preprocess_text(text):\n",
        "  if type(text) == str:\n",
        "    en = spacy.load('en_core_web_sm')\n",
        "    sw_spacy = en.Defaults.stop_words\n",
        "    stemmer = SnowballStemmer('english').stem\n",
        "\n",
        "    text = text.translate(str.maketrans('', '', string.punctuation)).lower()\n",
        "    return ' '.join([stemmer(word) for word in text.split() if word not in sw_spacy])\n",
        "  \n",
        "  elif type(text) == pd.core.series.Series:\n",
        "    en = spacy.load('en_core_web_sm')\n",
        "    sw_spacy = en.Defaults.stop_words\n",
        "    stemmer = SnowballStemmer('english').stem\n",
        "\n",
        "    new_series = text.str.translate(str.maketrans('', '', string.punctuation)).str.lower()\n",
        "    new_series = new_series.progress_apply(lambda txt: ' '.join([stemmer(word) for word in txt.split() if word not in sw_spacy]))\n",
        "\n",
        "    return new_series\n",
        "  \n",
        "  else:\n",
        "    raise Exception('Invalid type of text: expected string or Series!')\n",
        "\n",
        "\n",
        "# #Test functions: \n",
        "# print(preprocess_text('What.Ever$#         ! The this is International and Drastically nice @'))\n",
        "# zz = preprocess_text(pd.Series(['What.Ever$#         ! The this is International and Drastically nice @', \n",
        "#                                   'What.EverBBB$#         ! The this is International and Drastically nice @']))\n",
        "# print(zz[0])\n",
        "# print(zz[1])"
      ]
    },
    {
      "cell_type": "code",
      "execution_count": null,
      "metadata": {
        "id": "wn-FsvDOUcMr"
      },
      "outputs": [],
      "source": [
        "if PREPROCESS_TEXT == 'Process':\n",
        "  articles[preprocessed_data_col] = preprocess_text(articles[preprocessed_data_col])"
      ]
    },
    {
      "cell_type": "markdown",
      "metadata": {
        "id": "0d11vcjKmVlB"
      },
      "source": [
        "##### Save preprocessed data to disk"
      ]
    },
    {
      "cell_type": "code",
      "execution_count": null,
      "metadata": {
        "id": "qGMoyKTrmV5F"
      },
      "outputs": [],
      "source": [
        "if PREPROCESS_TEXT == 'Process':\n",
        "  data_path = Path('/content/drive/MyDrive/colab_data/aml_hw3/data/20k_top_records_preprocessed.zip')\n",
        "  articles.to_csv(data_path, index=False, compression='zip') "
      ]
    },
    {
      "cell_type": "markdown",
      "metadata": {
        "id": "TCB-opommwNZ"
      },
      "source": [
        "#### Load preprocessed data from disk"
      ]
    },
    {
      "cell_type": "code",
      "execution_count": null,
      "metadata": {
        "id": "8j1azJ8KmwUR"
      },
      "outputs": [],
      "source": [
        "if PREPROCESS_TEXT == 'Load':\n",
        "  data_path = Path('/content/drive/MyDrive/colab_data/aml_hw3/data/20k_top_records_preprocessed.zip')\n",
        "  articles = pd.read_csv(data_path)"
      ]
    },
    {
      "cell_type": "markdown",
      "metadata": {
        "id": "q0bge82Tqq3F"
      },
      "source": [
        "#### Display preprocessed data"
      ]
    },
    {
      "cell_type": "code",
      "execution_count": null,
      "metadata": {
        "id": "2NmpRe9hqrSh"
      },
      "outputs": [],
      "source": [
        "# if PREPROCESS_TEXT != 'Disabled':\n",
        "articles.head()"
      ]
    },
    {
      "cell_type": "markdown",
      "metadata": {
        "id": "PpAl8N8U9vpR"
      },
      "source": [
        "### Training: TF/IDF K-means clustering and visualizations"
      ]
    },
    {
      "cell_type": "markdown",
      "metadata": {
        "id": "RzWtEAmvCQAO"
      },
      "source": [
        "#### Vectorize data"
      ]
    },
    {
      "cell_type": "code",
      "execution_count": null,
      "metadata": {
        "id": "tv9GJhwKi8FE"
      },
      "outputs": [],
      "source": [
        "data_path = Path('/content/drive/MyDrive/colab_data/aml_hw3/data/tfidf_model.pickle')\n",
        "\n",
        "if RUN_CLUSTERING == 'Process':\n",
        "  tfidf = TfidfVectorizer(min_df = 5, max_df = 0.95)\n",
        "  tfidf.fit(articles[preprocessed_data_col])\n",
        "\n",
        "  with open(data_path, 'wb') as handle:\n",
        "    pickle.dump(tfidf, handle)\n",
        "\n",
        "elif RUN_CLUSTERING == 'Load':\n",
        "  with open(data_path, 'rb') as handle:\n",
        "    tfidf = pickle.load(handle)\n",
        "\n",
        "\n",
        "vectorized_data = tfidf.transform(articles[preprocessed_data_col])\n",
        "print(f'Vectorized data shape: {vectorized_data.shape}')"
      ]
    },
    {
      "cell_type": "markdown",
      "metadata": {
        "id": "6ht2MmbUCTEL"
      },
      "source": [
        "#### decide on number of clusters for TF/IDF"
      ]
    },
    {
      "cell_type": "code",
      "execution_count": null,
      "metadata": {
        "id": "rglwXZu4_E3s"
      },
      "outputs": [],
      "source": [
        "if RUN_CLUSTERING == 'Process':\n",
        "  def kmeans_sse(data, max_k, step):\n",
        "    # iterate on K value for K-Means and calculate SSE\n",
        "      iters = range(2, max_k+(step-1), step)\n",
        "      sse = []\n",
        "      for k in tqdm(iters):\n",
        "          sse.append(MiniBatchKMeans(n_clusters=k, init_size=1024, batch_size=2048, random_state=20).fit(data).inertia_)\n",
        "      \n",
        "      return iters, sse\n",
        "\n",
        "\n",
        "  # Run and plot\n",
        "  x, sse = kmeans_sse(vectorized_data, 90, 3)\n",
        "  \n",
        "  data_path = Path('/content/drive/MyDrive/colab_data/aml_hw3/data/cluster_visualization_x.pickle')\n",
        "  with open(data_path, 'wb') as handle:\n",
        "    pickle.dump(x, handle)\n",
        "  \n",
        "  data_path = Path('/content/drive/MyDrive/colab_data/aml_hw3/data/cluster_visualization_sse.pickle')\n",
        "  with open(data_path, 'wb') as handle:\n",
        "    pickle.dump(sse, handle)\n",
        "\n",
        "\n",
        "elif RUN_CLUSTERING == 'Load':\n",
        "  data_path = Path('/content/drive/MyDrive/colab_data/aml_hw3/data/cluster_visualization_x.pickle')\n",
        "  with open(data_path, 'rb') as handle:\n",
        "    x = pickle.load(handle)\n",
        "  \n",
        "  data_path = Path('/content/drive/MyDrive/colab_data/aml_hw3/data/cluster_visualization_sse.pickle')\n",
        "  with open(data_path, 'rb') as handle:\n",
        "    sse = pickle.load(handle)\n",
        "\n",
        "\n",
        "f, ax = plt.subplots(1, 1)\n",
        "f.set_size_inches(10, 10)\n",
        "ax.plot(x, sse, marker='o')\n",
        "ax.set_xlabel('Cluster Centers')\n",
        "ax.set_xticks(x)\n",
        "ax.set_xticklabels(x)\n",
        "ax.set_ylabel('SSE')\n",
        "ax.set_title('SSE by Cluster Center Plot')"
      ]
    },
    {
      "cell_type": "markdown",
      "metadata": {
        "id": "FV4O8dfICyg3"
      },
      "source": [
        "#### Cluster data and plot results in 2D"
      ]
    },
    {
      "cell_type": "code",
      "execution_count": null,
      "metadata": {
        "id": "Wf6i6ztpCyo9"
      },
      "outputs": [],
      "source": [
        "data_path = Path('/content/drive/MyDrive/colab_data/aml_hw3/data/kmeans_model.pickle')\n",
        "\n",
        "if RUN_CLUSTERING == 'Process':\n",
        "  N_CLUSTERS = 16 # number of clusters selected\n",
        "  kmeans_model = MiniBatchKMeans(n_clusters=N_CLUSTERS, init_size=1024, batch_size=2048, random_state=20).fit(vectorized_data)\n",
        "\n",
        "  with open(data_path, 'wb') as handle:\n",
        "    pickle.dump(kmeans_model, handle)\n",
        "\n",
        "elif RUN_CLUSTERING == 'Load':\n",
        "  with open(data_path, 'rb') as handle:\n",
        "    kmeans_model = pickle.load(handle)\n",
        "\n",
        "\n",
        "# add clusters to dataframe\n",
        "clusters = kmeans_model.predict(vectorized_data)\n",
        "articles['cluster'] = clusters"
      ]
    },
    {
      "cell_type": "code",
      "execution_count": null,
      "metadata": {
        "id": "6TihJPQMFqXV"
      },
      "outputs": [],
      "source": [
        "def plot_tsne_pca(data, labels):\n",
        "    NUM_SAMPLES = 10000\n",
        "    max_label = max(labels)\n",
        "    samples = np.random.choice(range(data.shape[0]), size=NUM_SAMPLES, replace=False)\n",
        "    \n",
        "    pca = PCA(n_components=2).fit_transform(data[samples,:].todense())\n",
        "    tsne = TSNE().fit_transform(PCA(n_components=50).fit_transform(data[samples,:].todense()))\n",
        "    \n",
        "    idx = np.random.choice(range(pca.shape[0]), size=NUM_SAMPLES, replace=False)\n",
        "    label_subset = labels[samples]\n",
        "    label_subset = [cm.hsv(i/max_label) for i in label_subset[idx]]\n",
        "    \n",
        "    f, ax = plt.subplots(1, 2, figsize=(22, 10))\n",
        "\n",
        "    ax[0].scatter(pca[idx, 0], pca[idx, 1], c=label_subset, s=1)\n",
        "    ax[0].set_title('PCA Cluster Plot')\n",
        "    \n",
        "    ax[1].scatter(tsne[idx, 0], tsne[idx, 1], c=label_subset, s=1)\n",
        "    ax[1].set_title('TSNE Cluster Plot')\n",
        "    \n",
        "plot_tsne_pca(vectorized_data, clusters)"
      ]
    },
    {
      "cell_type": "markdown",
      "metadata": {
        "id": "KmkLhoQ1HSmc"
      },
      "source": [
        "### Inference - similar text finder"
      ]
    },
    {
      "cell_type": "markdown",
      "metadata": {
        "id": "EV193fcR-FL0"
      },
      "source": [
        "#### Inference function for similar text lookup"
      ]
    },
    {
      "cell_type": "code",
      "execution_count": null,
      "metadata": {
        "id": "PPXePZIH-FR7"
      },
      "outputs": [],
      "source": [
        "def find_similar_texts(input_text, preprocessed_corpus, num_results, tfidf_model, kmeans_model):\n",
        "  preprocessed_data_col = 'data_preprocessed'\n",
        "\n",
        "  # preprocess input text\n",
        "  input_text_prep = preprocess_text(input_text)\n",
        "\n",
        "  # wrap input text in pandas for use with similarity function\n",
        "  input_text_df = pd.DataFrame([['Input', input_text_prep]], columns=['cord_uid', preprocessed_data_col])\n",
        "\n",
        "  # vectorize input text\n",
        "  input_text_vectorized = tfidf_model.transform([input_text_prep])\n",
        "  print(f'Vectorized data shape: {input_text_vectorized.shape}')\n",
        "\n",
        "  # find cluster for input text sample\n",
        "  input_cluster = kmeans_model.predict(input_text_vectorized)[0]\n",
        "  print (f'Input cluster: {input_cluster}')\n",
        "\n",
        "  # find docs with same cluster as input\n",
        "  relevant_cluster_articles = articles[articles.cluster == input_cluster]\n",
        "\n",
        "  # find N most similar docs withion cluster\n",
        "  top_similar_docs = k_similar_documents(relevant_cluster_articles, preprocessed_data_col, input_text_df.loc[0], num_results)\n",
        "\n",
        "  results = articles[articles['cord_uid'].isin(top_similar_docs[0])].copy()\n",
        "  results['ncd_distance'] = top_similar_docs[1]\n",
        "  return results\n",
        "\n"
      ]
    },
    {
      "cell_type": "markdown",
      "metadata": {
        "id": "qtZL1Ubt94-U"
      },
      "source": [
        "#### Test"
      ]
    },
    {
      "cell_type": "code",
      "execution_count": null,
      "metadata": {
        "id": "rI0_YviG8Mb9"
      },
      "outputs": [],
      "source": [
        "# input_text = articles.full_text[35]\n",
        "tfidf_model = tfidf\n",
        "\n",
        "\n",
        "input_text = '''\n",
        "  ary to evaluate the effect of anti-epidemic bonds to stimulate market vitality and achieve the epidemic control goal as soon as possible. Nozawa and Qiu (2021) document that the \n",
        "  rising default risk of firms that face cash shortfalls due to the outbreak is a key concern among the major issues facing the economy; thus, liquidity support offered by anti-epidemic \n",
        "  bonds can mitigate risk and instill confidence in the market. Based on the above, our study focuses on a nascent rise in anti-epidemic bonds in China and examines the stock market reaction \n",
        "  of anti-epidemic bonds. First, we calculate the abnormal s the COVID-19 pandemic mainly focuses on quantitative easing monetary policy (O'Hara and Zhou, 2021; D'Amico et al., 2020; Nozawa and Qiu, 2021) . \n",
        "   This paper contributes to the nascent literature by exploiting the market-based epidemic control policy in the largest developing economy, which also suffers the outbreak first. This paper also complements international findings \n",
        "   about stock market reactions to special bonds, such as green bonds (Wang et al., 2020) , and new perspectives about bond spillover effects on the stock market (Reboredo , 2018) by dissecting stock market reactions to anti-epidemic bond \n",
        "   issuance announcements. Determined by the issuance of the first anti-epidemic corporate bond in February 2020, the antiepidemic corporate bond sample data are from February 2020 to December 2021. We collect all bond data with an anti-epidemic \n",
        "   flag and match the bond characteristics, firm information and stock trading data from the Wind database. The initial anti-epidemic bond sample comprises 800 bonds. To examine the reaction of the stock market, we focus on bonds issued by listed \n",
        "   companies in the Chinese stock market. There are 179 anti-epidemic bonds issued by 122 listed corporates among the initial sample. For these anti-epidemic bond issuers, we extract all conventional bond issuance announcements from 2018 to 2021 and then \n",
        "   delete convertible bonds, exchangeable bonds, subordinated bonds, commercial bank bonds and nt date of a bond issue (t=0) and use [-5, 5] as the event window. We calculate cumulative abnormal return\n",
        "     (CAR) using a market model (with Shanghai and Shenzhen 300 index as the market factor). The average abnormal return (AAR) and cumulative abnormal return (CAR) are calculated based on the existing literature \n",
        "     c productivity and global resource efficiency, strengthening the capacity of domestic financial institutions and promoting aspects of SDG 8. Two papers address monitoring and measurement of SDG 8, i.e. the development \n",
        "     of a proposal for new sub-goals, targets and indicators from a degrowth perspective and the development of a nowcasting approach for indicators assigned to SDG 8. Other aspects addressed in this special issue include an assessment of the \n",
        "     potential of different labor market policies for greening employment and an econometric analysis at the intersection of SDG 8 with energy efficiency (SDG 7), technological change (SDG 9) and climate change (SDG 13) that focuses on the\n",
        "      determinants and effects of the adoption of \"green energy saving and related technologies\" (GETs). In the first paper of this special issue, Kreinin and Aigner (2021) propose  The authors analyze the goal from \n",
        "      the perspective of \"strong sustainability\" (e.g. Ayres et al. 2001 ) and provide a reformulated framework including new sub-goals, targets and indicators, which they argue being better in line with the overall goals of the SDGs and the \n",
        "      Agenda 2030. In their work, they peel out and discuss aspects of SDG 8 which are currently interfering the idea of long-term social-ecological sustainability. Their approach differentiates itself more clearly from economic growth and\n",
        "       productivity per se and rather focuses on aspects of social and environmental well-being, decency of work and dependence of economic growth and unsustainable work. Evaluating the progress of the SDGs provides important information for policy\n",
        "'''\n"
      ]
    },
    {
      "cell_type": "code",
      "execution_count": null,
      "metadata": {
        "id": "v4PKR9tKLBYe"
      },
      "outputs": [],
      "source": [
        "find_similar_texts(input_text, articles, 5, tfidf_model, kmeans_model)\n"
      ]
    },
    {
      "cell_type": "markdown",
      "metadata": {
        "id": "KWnUuJsge-jx"
      },
      "source": [
        "# Experiments and snippets"
      ]
    },
    {
      "cell_type": "code",
      "execution_count": null,
      "metadata": {
        "id": "UyhDqc-nV424"
      },
      "outputs": [],
      "source": [
        "# # Calculate compressed doc length\n",
        "\n",
        "# num_articles = len(articles)\n",
        "\n",
        "# data_path = Path('/content/drive/MyDrive/colab_data/aml_hw3/data/doc_compressed_len.npy')\n",
        "# if data_path.is_file():\n",
        "#   doc_compressed_len = np.load(data_path)\n",
        "\n",
        "# else:\n",
        "#   # Compress each document by its own, store length of compression\n",
        "#   print('Calculating compressed len per document:')\n",
        "#   doc_compressed_len = np.zeros(num_articles, dtype='int16')\n",
        "  \n",
        "#   with tqdm(total = len(articles)) as progress_bar:\n",
        "#     for x, article_x in articles.iterrows():\n",
        "#       doc_compressed_len[x] = len(gzip.compress(article_x['full_text'].encode()))\n",
        "#       progress_bar.update(1)\n",
        "  \n",
        "#   data_path = Path('/content/drive/MyDrive/colab_data/aml_hw3/data/doc_compressed_len.npy')\n",
        "#   np.save(data_path, doc_compressed_len)\n",
        "\n"
      ]
    },
    {
      "cell_type": "code",
      "execution_count": null,
      "metadata": {
        "id": "81e0xUxHBj1k"
      },
      "outputs": [],
      "source": [
        "# # Calculate distance matrix\n",
        "\n",
        "# print('Calculating distance matrix:')\n",
        "# data_path = Path('/content/drive/MyDrive/colab_data/aml_hw3/data/ncd_dist_matrix.npy')\n",
        "# if data_path.is_file():\n",
        "#   ncd_dist_matrix = np.load(data_path)\n",
        "# else:\n",
        "#   ncd_dist_matrix = np.zeros([num_articles, num_articles], dtype='float64')   # needed first time only\n",
        "\n",
        "# new_data_calculated = False\n",
        "\n",
        "# with tqdm(total = len(articles)) as progress_bar:\n",
        "#   for x, article_x in articles.iterrows():   \n",
        "#     for y, article_y in articles.iterrows():     \n",
        "#       if ((x <= y) and ncd_dist_matrix[x, y] == 0):\n",
        "#         x_y_compressed = gzip.compress((article_x['full_text'] + article_y['full_text']).encode())\n",
        "      \n",
        "#         ncd_dist_matrix[x, y] = (len(x_y_compressed) - min(doc_compressed_len[x], doc_compressed_len[y])) / max(doc_compressed_len[x], doc_compressed_len[y])\n",
        "#         ncd_dist_matrix[y, x] = ncd_dist_matrix[x, y]\n",
        "#         new_data_calculated = True\n",
        "  \n",
        "#     if (new_data_calculated and (x % 10 == 0)):\n",
        "#       np.save(data_path, ncd_dist_matrix)\n",
        "\n",
        "#     progress_bar.update(1)\n"
      ]
    },
    {
      "cell_type": "code",
      "execution_count": null,
      "metadata": {
        "id": "I6gbgyBYWMGs"
      },
      "outputs": [],
      "source": [
        "##################################################################"
      ]
    },
    {
      "cell_type": "code",
      "execution_count": null,
      "metadata": {
        "id": "ZU_yOax58ugm"
      },
      "outputs": [],
      "source": [
        "# def calc_doc_distance(x, y):\n",
        "#   x_compressed = gzip.compress(x['full_text'].encode())\n",
        "#   y_compressed = gzip.compress(y['full_text'].encode())\n",
        "#   x_y_compressed = gzip.compress((x['full_text'] + y['full_text']).encode())\n",
        "  \n",
        "#   ncd = (len(x_y_compressed) - min(len(x_compressed), len(y_compressed))) / max(len(x_compressed), len(y_compressed))\n",
        "#   return ncd"
      ]
    },
    {
      "cell_type": "code",
      "execution_count": null,
      "metadata": {
        "id": "7VnM39Ga-5tk"
      },
      "outputs": [],
      "source": [
        "# calc_doc_distance(articles.loc[220], articles.loc[220])"
      ]
    }
  ],
  "metadata": {
    "colab": {
      "collapsed_sections": [
        "pI7biuhOnOKZ",
        "krS6ZHn03ps8",
        "InyKO7u8nwT7",
        "NhlNzpggF_CK",
        "48JVfvIXGEZC",
        "p4FH5ovMV1S9",
        "sumIB2t6HxE1"
      ],
      "machine_shape": "hm",
      "name": "aml_hw4.ipynb",
      "provenance": []
    },
    "kernelspec": {
      "display_name": "Python 3 (ipykernel)",
      "language": "python",
      "name": "python3"
    },
    "language_info": {
      "codemirror_mode": {
        "name": "ipython",
        "version": 3
      },
      "file_extension": ".py",
      "mimetype": "text/x-python",
      "name": "python",
      "nbconvert_exporter": "python",
      "pygments_lexer": "ipython3",
      "version": "3.10.2"
    },
    "widgets": {
      "application/vnd.jupyter.widget-state+json": {
        "c581d872fc454426a4e4e70dae9220a2": {
          "model_module": "@jupyter-widgets/controls",
          "model_name": "HBoxModel",
          "model_module_version": "1.5.0",
          "state": {
            "_dom_classes": [],
            "_model_module": "@jupyter-widgets/controls",
            "_model_module_version": "1.5.0",
            "_model_name": "HBoxModel",
            "_view_count": null,
            "_view_module": "@jupyter-widgets/controls",
            "_view_module_version": "1.5.0",
            "_view_name": "HBoxView",
            "box_style": "",
            "children": [
              "IPY_MODEL_ee01c782bda5408e92eadf2db665220b",
              "IPY_MODEL_d64261d112df43cdbf97c5ab0571a31a",
              "IPY_MODEL_7c8ee13f7c0b4f10a4b18e57e99da790"
            ],
            "layout": "IPY_MODEL_a8f3ac8ff1b745a1bbcdccd4b11f6840"
          }
        },
        "ee01c782bda5408e92eadf2db665220b": {
          "model_module": "@jupyter-widgets/controls",
          "model_name": "HTMLModel",
          "model_module_version": "1.5.0",
          "state": {
            "_dom_classes": [],
            "_model_module": "@jupyter-widgets/controls",
            "_model_module_version": "1.5.0",
            "_model_name": "HTMLModel",
            "_view_count": null,
            "_view_module": "@jupyter-widgets/controls",
            "_view_module_version": "1.5.0",
            "_view_name": "HTMLView",
            "description": "",
            "description_tooltip": null,
            "layout": "IPY_MODEL_bd990937d4df4a4d9a31fff6fed9973d",
            "placeholder": "​",
            "style": "IPY_MODEL_d5572b3f7952402e9ecaf0a3f8573063",
            "value": "100%"
          }
        },
        "d64261d112df43cdbf97c5ab0571a31a": {
          "model_module": "@jupyter-widgets/controls",
          "model_name": "FloatProgressModel",
          "model_module_version": "1.5.0",
          "state": {
            "_dom_classes": [],
            "_model_module": "@jupyter-widgets/controls",
            "_model_module_version": "1.5.0",
            "_model_name": "FloatProgressModel",
            "_view_count": null,
            "_view_module": "@jupyter-widgets/controls",
            "_view_module_version": "1.5.0",
            "_view_name": "ProgressView",
            "bar_style": "success",
            "description": "",
            "description_tooltip": null,
            "layout": "IPY_MODEL_576398a2289a4d7ab808b143275efb76",
            "max": 2671,
            "min": 0,
            "orientation": "horizontal",
            "style": "IPY_MODEL_de9be75015984dc2987c16d7d6b2ef0c",
            "value": 2671
          }
        },
        "7c8ee13f7c0b4f10a4b18e57e99da790": {
          "model_module": "@jupyter-widgets/controls",
          "model_name": "HTMLModel",
          "model_module_version": "1.5.0",
          "state": {
            "_dom_classes": [],
            "_model_module": "@jupyter-widgets/controls",
            "_model_module_version": "1.5.0",
            "_model_name": "HTMLModel",
            "_view_count": null,
            "_view_module": "@jupyter-widgets/controls",
            "_view_module_version": "1.5.0",
            "_view_name": "HTMLView",
            "description": "",
            "description_tooltip": null,
            "layout": "IPY_MODEL_7813ca98328f46428df0a1491b737a20",
            "placeholder": "​",
            "style": "IPY_MODEL_b37caab985c644a8b8d78afb78750cca",
            "value": " 2671/2671 [00:26&lt;00:00, 140.85it/s]"
          }
        },
        "a8f3ac8ff1b745a1bbcdccd4b11f6840": {
          "model_module": "@jupyter-widgets/base",
          "model_name": "LayoutModel",
          "model_module_version": "1.2.0",
          "state": {
            "_model_module": "@jupyter-widgets/base",
            "_model_module_version": "1.2.0",
            "_model_name": "LayoutModel",
            "_view_count": null,
            "_view_module": "@jupyter-widgets/base",
            "_view_module_version": "1.2.0",
            "_view_name": "LayoutView",
            "align_content": null,
            "align_items": null,
            "align_self": null,
            "border": null,
            "bottom": null,
            "display": null,
            "flex": null,
            "flex_flow": null,
            "grid_area": null,
            "grid_auto_columns": null,
            "grid_auto_flow": null,
            "grid_auto_rows": null,
            "grid_column": null,
            "grid_gap": null,
            "grid_row": null,
            "grid_template_areas": null,
            "grid_template_columns": null,
            "grid_template_rows": null,
            "height": null,
            "justify_content": null,
            "justify_items": null,
            "left": null,
            "margin": null,
            "max_height": null,
            "max_width": null,
            "min_height": null,
            "min_width": null,
            "object_fit": null,
            "object_position": null,
            "order": null,
            "overflow": null,
            "overflow_x": null,
            "overflow_y": null,
            "padding": null,
            "right": null,
            "top": null,
            "visibility": null,
            "width": null
          }
        },
        "bd990937d4df4a4d9a31fff6fed9973d": {
          "model_module": "@jupyter-widgets/base",
          "model_name": "LayoutModel",
          "model_module_version": "1.2.0",
          "state": {
            "_model_module": "@jupyter-widgets/base",
            "_model_module_version": "1.2.0",
            "_model_name": "LayoutModel",
            "_view_count": null,
            "_view_module": "@jupyter-widgets/base",
            "_view_module_version": "1.2.0",
            "_view_name": "LayoutView",
            "align_content": null,
            "align_items": null,
            "align_self": null,
            "border": null,
            "bottom": null,
            "display": null,
            "flex": null,
            "flex_flow": null,
            "grid_area": null,
            "grid_auto_columns": null,
            "grid_auto_flow": null,
            "grid_auto_rows": null,
            "grid_column": null,
            "grid_gap": null,
            "grid_row": null,
            "grid_template_areas": null,
            "grid_template_columns": null,
            "grid_template_rows": null,
            "height": null,
            "justify_content": null,
            "justify_items": null,
            "left": null,
            "margin": null,
            "max_height": null,
            "max_width": null,
            "min_height": null,
            "min_width": null,
            "object_fit": null,
            "object_position": null,
            "order": null,
            "overflow": null,
            "overflow_x": null,
            "overflow_y": null,
            "padding": null,
            "right": null,
            "top": null,
            "visibility": null,
            "width": null
          }
        },
        "d5572b3f7952402e9ecaf0a3f8573063": {
          "model_module": "@jupyter-widgets/controls",
          "model_name": "DescriptionStyleModel",
          "model_module_version": "1.5.0",
          "state": {
            "_model_module": "@jupyter-widgets/controls",
            "_model_module_version": "1.5.0",
            "_model_name": "DescriptionStyleModel",
            "_view_count": null,
            "_view_module": "@jupyter-widgets/base",
            "_view_module_version": "1.2.0",
            "_view_name": "StyleView",
            "description_width": ""
          }
        },
        "576398a2289a4d7ab808b143275efb76": {
          "model_module": "@jupyter-widgets/base",
          "model_name": "LayoutModel",
          "model_module_version": "1.2.0",
          "state": {
            "_model_module": "@jupyter-widgets/base",
            "_model_module_version": "1.2.0",
            "_model_name": "LayoutModel",
            "_view_count": null,
            "_view_module": "@jupyter-widgets/base",
            "_view_module_version": "1.2.0",
            "_view_name": "LayoutView",
            "align_content": null,
            "align_items": null,
            "align_self": null,
            "border": null,
            "bottom": null,
            "display": null,
            "flex": null,
            "flex_flow": null,
            "grid_area": null,
            "grid_auto_columns": null,
            "grid_auto_flow": null,
            "grid_auto_rows": null,
            "grid_column": null,
            "grid_gap": null,
            "grid_row": null,
            "grid_template_areas": null,
            "grid_template_columns": null,
            "grid_template_rows": null,
            "height": null,
            "justify_content": null,
            "justify_items": null,
            "left": null,
            "margin": null,
            "max_height": null,
            "max_width": null,
            "min_height": null,
            "min_width": null,
            "object_fit": null,
            "object_position": null,
            "order": null,
            "overflow": null,
            "overflow_x": null,
            "overflow_y": null,
            "padding": null,
            "right": null,
            "top": null,
            "visibility": null,
            "width": null
          }
        },
        "de9be75015984dc2987c16d7d6b2ef0c": {
          "model_module": "@jupyter-widgets/controls",
          "model_name": "ProgressStyleModel",
          "model_module_version": "1.5.0",
          "state": {
            "_model_module": "@jupyter-widgets/controls",
            "_model_module_version": "1.5.0",
            "_model_name": "ProgressStyleModel",
            "_view_count": null,
            "_view_module": "@jupyter-widgets/base",
            "_view_module_version": "1.2.0",
            "_view_name": "StyleView",
            "bar_color": null,
            "description_width": ""
          }
        },
        "7813ca98328f46428df0a1491b737a20": {
          "model_module": "@jupyter-widgets/base",
          "model_name": "LayoutModel",
          "model_module_version": "1.2.0",
          "state": {
            "_model_module": "@jupyter-widgets/base",
            "_model_module_version": "1.2.0",
            "_model_name": "LayoutModel",
            "_view_count": null,
            "_view_module": "@jupyter-widgets/base",
            "_view_module_version": "1.2.0",
            "_view_name": "LayoutView",
            "align_content": null,
            "align_items": null,
            "align_self": null,
            "border": null,
            "bottom": null,
            "display": null,
            "flex": null,
            "flex_flow": null,
            "grid_area": null,
            "grid_auto_columns": null,
            "grid_auto_flow": null,
            "grid_auto_rows": null,
            "grid_column": null,
            "grid_gap": null,
            "grid_row": null,
            "grid_template_areas": null,
            "grid_template_columns": null,
            "grid_template_rows": null,
            "height": null,
            "justify_content": null,
            "justify_items": null,
            "left": null,
            "margin": null,
            "max_height": null,
            "max_width": null,
            "min_height": null,
            "min_width": null,
            "object_fit": null,
            "object_position": null,
            "order": null,
            "overflow": null,
            "overflow_x": null,
            "overflow_y": null,
            "padding": null,
            "right": null,
            "top": null,
            "visibility": null,
            "width": null
          }
        },
        "b37caab985c644a8b8d78afb78750cca": {
          "model_module": "@jupyter-widgets/controls",
          "model_name": "DescriptionStyleModel",
          "model_module_version": "1.5.0",
          "state": {
            "_model_module": "@jupyter-widgets/controls",
            "_model_module_version": "1.5.0",
            "_model_name": "DescriptionStyleModel",
            "_view_count": null,
            "_view_module": "@jupyter-widgets/base",
            "_view_module_version": "1.2.0",
            "_view_name": "StyleView",
            "description_width": ""
          }
        },
        "fb51bc36b0ff46f2a7f51122d806e522": {
          "model_module": "@jupyter-widgets/controls",
          "model_name": "HBoxModel",
          "model_module_version": "1.5.0",
          "state": {
            "_dom_classes": [],
            "_model_module": "@jupyter-widgets/controls",
            "_model_module_version": "1.5.0",
            "_model_name": "HBoxModel",
            "_view_count": null,
            "_view_module": "@jupyter-widgets/controls",
            "_view_module_version": "1.5.0",
            "_view_name": "HBoxView",
            "box_style": "",
            "children": [
              "IPY_MODEL_6ae269eb4391498d8e17cf01b598a88b",
              "IPY_MODEL_8f659d83af674914a7111a8c98ae782f",
              "IPY_MODEL_3eac13909f5c4b16920207db8f7cd6c0"
            ],
            "layout": "IPY_MODEL_4e2ef560275e4f4daa9fc19f29680a54"
          }
        },
        "6ae269eb4391498d8e17cf01b598a88b": {
          "model_module": "@jupyter-widgets/controls",
          "model_name": "HTMLModel",
          "model_module_version": "1.5.0",
          "state": {
            "_dom_classes": [],
            "_model_module": "@jupyter-widgets/controls",
            "_model_module_version": "1.5.0",
            "_model_name": "HTMLModel",
            "_view_count": null,
            "_view_module": "@jupyter-widgets/controls",
            "_view_module_version": "1.5.0",
            "_view_name": "HTMLView",
            "description": "",
            "description_tooltip": null,
            "layout": "IPY_MODEL_c6e4a294df464cadaa5847ecb19d9876",
            "placeholder": "​",
            "style": "IPY_MODEL_294eacc9fc114fef80d1884592e8fbe2",
            "value": "100%"
          }
        },
        "8f659d83af674914a7111a8c98ae782f": {
          "model_module": "@jupyter-widgets/controls",
          "model_name": "FloatProgressModel",
          "model_module_version": "1.5.0",
          "state": {
            "_dom_classes": [],
            "_model_module": "@jupyter-widgets/controls",
            "_model_module_version": "1.5.0",
            "_model_name": "FloatProgressModel",
            "_view_count": null,
            "_view_module": "@jupyter-widgets/controls",
            "_view_module_version": "1.5.0",
            "_view_name": "ProgressView",
            "bar_style": "success",
            "description": "",
            "description_tooltip": null,
            "layout": "IPY_MODEL_ea12a2fb7d0746e9b207719cc7766b60",
            "max": 2671,
            "min": 0,
            "orientation": "horizontal",
            "style": "IPY_MODEL_a0179c3d677d420eb309fc08aa3cd982",
            "value": 2671
          }
        },
        "3eac13909f5c4b16920207db8f7cd6c0": {
          "model_module": "@jupyter-widgets/controls",
          "model_name": "HTMLModel",
          "model_module_version": "1.5.0",
          "state": {
            "_dom_classes": [],
            "_model_module": "@jupyter-widgets/controls",
            "_model_module_version": "1.5.0",
            "_model_name": "HTMLModel",
            "_view_count": null,
            "_view_module": "@jupyter-widgets/controls",
            "_view_module_version": "1.5.0",
            "_view_name": "HTMLView",
            "description": "",
            "description_tooltip": null,
            "layout": "IPY_MODEL_9ab2c62a8c364d2eac85ec2c7c1b1606",
            "placeholder": "​",
            "style": "IPY_MODEL_4d3f4feccdf641e8af61a971cbbd80e6",
            "value": " 2671/2671 [00:00&lt;00:00, 49816.07it/s]"
          }
        },
        "4e2ef560275e4f4daa9fc19f29680a54": {
          "model_module": "@jupyter-widgets/base",
          "model_name": "LayoutModel",
          "model_module_version": "1.2.0",
          "state": {
            "_model_module": "@jupyter-widgets/base",
            "_model_module_version": "1.2.0",
            "_model_name": "LayoutModel",
            "_view_count": null,
            "_view_module": "@jupyter-widgets/base",
            "_view_module_version": "1.2.0",
            "_view_name": "LayoutView",
            "align_content": null,
            "align_items": null,
            "align_self": null,
            "border": null,
            "bottom": null,
            "display": null,
            "flex": null,
            "flex_flow": null,
            "grid_area": null,
            "grid_auto_columns": null,
            "grid_auto_flow": null,
            "grid_auto_rows": null,
            "grid_column": null,
            "grid_gap": null,
            "grid_row": null,
            "grid_template_areas": null,
            "grid_template_columns": null,
            "grid_template_rows": null,
            "height": null,
            "justify_content": null,
            "justify_items": null,
            "left": null,
            "margin": null,
            "max_height": null,
            "max_width": null,
            "min_height": null,
            "min_width": null,
            "object_fit": null,
            "object_position": null,
            "order": null,
            "overflow": null,
            "overflow_x": null,
            "overflow_y": null,
            "padding": null,
            "right": null,
            "top": null,
            "visibility": null,
            "width": null
          }
        },
        "c6e4a294df464cadaa5847ecb19d9876": {
          "model_module": "@jupyter-widgets/base",
          "model_name": "LayoutModel",
          "model_module_version": "1.2.0",
          "state": {
            "_model_module": "@jupyter-widgets/base",
            "_model_module_version": "1.2.0",
            "_model_name": "LayoutModel",
            "_view_count": null,
            "_view_module": "@jupyter-widgets/base",
            "_view_module_version": "1.2.0",
            "_view_name": "LayoutView",
            "align_content": null,
            "align_items": null,
            "align_self": null,
            "border": null,
            "bottom": null,
            "display": null,
            "flex": null,
            "flex_flow": null,
            "grid_area": null,
            "grid_auto_columns": null,
            "grid_auto_flow": null,
            "grid_auto_rows": null,
            "grid_column": null,
            "grid_gap": null,
            "grid_row": null,
            "grid_template_areas": null,
            "grid_template_columns": null,
            "grid_template_rows": null,
            "height": null,
            "justify_content": null,
            "justify_items": null,
            "left": null,
            "margin": null,
            "max_height": null,
            "max_width": null,
            "min_height": null,
            "min_width": null,
            "object_fit": null,
            "object_position": null,
            "order": null,
            "overflow": null,
            "overflow_x": null,
            "overflow_y": null,
            "padding": null,
            "right": null,
            "top": null,
            "visibility": null,
            "width": null
          }
        },
        "294eacc9fc114fef80d1884592e8fbe2": {
          "model_module": "@jupyter-widgets/controls",
          "model_name": "DescriptionStyleModel",
          "model_module_version": "1.5.0",
          "state": {
            "_model_module": "@jupyter-widgets/controls",
            "_model_module_version": "1.5.0",
            "_model_name": "DescriptionStyleModel",
            "_view_count": null,
            "_view_module": "@jupyter-widgets/base",
            "_view_module_version": "1.2.0",
            "_view_name": "StyleView",
            "description_width": ""
          }
        },
        "ea12a2fb7d0746e9b207719cc7766b60": {
          "model_module": "@jupyter-widgets/base",
          "model_name": "LayoutModel",
          "model_module_version": "1.2.0",
          "state": {
            "_model_module": "@jupyter-widgets/base",
            "_model_module_version": "1.2.0",
            "_model_name": "LayoutModel",
            "_view_count": null,
            "_view_module": "@jupyter-widgets/base",
            "_view_module_version": "1.2.0",
            "_view_name": "LayoutView",
            "align_content": null,
            "align_items": null,
            "align_self": null,
            "border": null,
            "bottom": null,
            "display": null,
            "flex": null,
            "flex_flow": null,
            "grid_area": null,
            "grid_auto_columns": null,
            "grid_auto_flow": null,
            "grid_auto_rows": null,
            "grid_column": null,
            "grid_gap": null,
            "grid_row": null,
            "grid_template_areas": null,
            "grid_template_columns": null,
            "grid_template_rows": null,
            "height": null,
            "justify_content": null,
            "justify_items": null,
            "left": null,
            "margin": null,
            "max_height": null,
            "max_width": null,
            "min_height": null,
            "min_width": null,
            "object_fit": null,
            "object_position": null,
            "order": null,
            "overflow": null,
            "overflow_x": null,
            "overflow_y": null,
            "padding": null,
            "right": null,
            "top": null,
            "visibility": null,
            "width": null
          }
        },
        "a0179c3d677d420eb309fc08aa3cd982": {
          "model_module": "@jupyter-widgets/controls",
          "model_name": "ProgressStyleModel",
          "model_module_version": "1.5.0",
          "state": {
            "_model_module": "@jupyter-widgets/controls",
            "_model_module_version": "1.5.0",
            "_model_name": "ProgressStyleModel",
            "_view_count": null,
            "_view_module": "@jupyter-widgets/base",
            "_view_module_version": "1.2.0",
            "_view_name": "StyleView",
            "bar_color": null,
            "description_width": ""
          }
        },
        "9ab2c62a8c364d2eac85ec2c7c1b1606": {
          "model_module": "@jupyter-widgets/base",
          "model_name": "LayoutModel",
          "model_module_version": "1.2.0",
          "state": {
            "_model_module": "@jupyter-widgets/base",
            "_model_module_version": "1.2.0",
            "_model_name": "LayoutModel",
            "_view_count": null,
            "_view_module": "@jupyter-widgets/base",
            "_view_module_version": "1.2.0",
            "_view_name": "LayoutView",
            "align_content": null,
            "align_items": null,
            "align_self": null,
            "border": null,
            "bottom": null,
            "display": null,
            "flex": null,
            "flex_flow": null,
            "grid_area": null,
            "grid_auto_columns": null,
            "grid_auto_flow": null,
            "grid_auto_rows": null,
            "grid_column": null,
            "grid_gap": null,
            "grid_row": null,
            "grid_template_areas": null,
            "grid_template_columns": null,
            "grid_template_rows": null,
            "height": null,
            "justify_content": null,
            "justify_items": null,
            "left": null,
            "margin": null,
            "max_height": null,
            "max_width": null,
            "min_height": null,
            "min_width": null,
            "object_fit": null,
            "object_position": null,
            "order": null,
            "overflow": null,
            "overflow_x": null,
            "overflow_y": null,
            "padding": null,
            "right": null,
            "top": null,
            "visibility": null,
            "width": null
          }
        },
        "4d3f4feccdf641e8af61a971cbbd80e6": {
          "model_module": "@jupyter-widgets/controls",
          "model_name": "DescriptionStyleModel",
          "model_module_version": "1.5.0",
          "state": {
            "_model_module": "@jupyter-widgets/controls",
            "_model_module_version": "1.5.0",
            "_model_name": "DescriptionStyleModel",
            "_view_count": null,
            "_view_module": "@jupyter-widgets/base",
            "_view_module_version": "1.2.0",
            "_view_name": "StyleView",
            "description_width": ""
          }
        },
        "10ceca5ac99d4ed98842587bd5341ccd": {
          "model_module": "@jupyter-widgets/controls",
          "model_name": "HBoxModel",
          "model_module_version": "1.5.0",
          "state": {
            "_dom_classes": [],
            "_model_module": "@jupyter-widgets/controls",
            "_model_module_version": "1.5.0",
            "_model_name": "HBoxModel",
            "_view_count": null,
            "_view_module": "@jupyter-widgets/controls",
            "_view_module_version": "1.5.0",
            "_view_name": "HBoxView",
            "box_style": "",
            "children": [
              "IPY_MODEL_fee0951fea4546e1923cada25e8cbffe",
              "IPY_MODEL_06feb426f31b454ea1ef668a2554212b",
              "IPY_MODEL_c7eaee324f29472aaa2b03fa59b19786"
            ],
            "layout": "IPY_MODEL_8f35ff24b2f14be48ab30507d4ca9ec5"
          }
        },
        "fee0951fea4546e1923cada25e8cbffe": {
          "model_module": "@jupyter-widgets/controls",
          "model_name": "HTMLModel",
          "model_module_version": "1.5.0",
          "state": {
            "_dom_classes": [],
            "_model_module": "@jupyter-widgets/controls",
            "_model_module_version": "1.5.0",
            "_model_name": "HTMLModel",
            "_view_count": null,
            "_view_module": "@jupyter-widgets/controls",
            "_view_module_version": "1.5.0",
            "_view_name": "HTMLView",
            "description": "",
            "description_tooltip": null,
            "layout": "IPY_MODEL_bd72d4e1971a4661b233a6b0d15f0905",
            "placeholder": "​",
            "style": "IPY_MODEL_b5fadd7d207d4caf970a52997685fd41",
            "value": "100%"
          }
        },
        "06feb426f31b454ea1ef668a2554212b": {
          "model_module": "@jupyter-widgets/controls",
          "model_name": "FloatProgressModel",
          "model_module_version": "1.5.0",
          "state": {
            "_dom_classes": [],
            "_model_module": "@jupyter-widgets/controls",
            "_model_module_version": "1.5.0",
            "_model_name": "FloatProgressModel",
            "_view_count": null,
            "_view_module": "@jupyter-widgets/controls",
            "_view_module_version": "1.5.0",
            "_view_name": "ProgressView",
            "bar_style": "success",
            "description": "",
            "description_tooltip": null,
            "layout": "IPY_MODEL_66f312b77ba14543a87682bf784833cf",
            "max": 2671,
            "min": 0,
            "orientation": "horizontal",
            "style": "IPY_MODEL_6f551a787d924cfeb2ddec5324749c39",
            "value": 2671
          }
        },
        "c7eaee324f29472aaa2b03fa59b19786": {
          "model_module": "@jupyter-widgets/controls",
          "model_name": "HTMLModel",
          "model_module_version": "1.5.0",
          "state": {
            "_dom_classes": [],
            "_model_module": "@jupyter-widgets/controls",
            "_model_module_version": "1.5.0",
            "_model_name": "HTMLModel",
            "_view_count": null,
            "_view_module": "@jupyter-widgets/controls",
            "_view_module_version": "1.5.0",
            "_view_name": "HTMLView",
            "description": "",
            "description_tooltip": null,
            "layout": "IPY_MODEL_4bda95c31628410c82c86313ba9d7bb9",
            "placeholder": "​",
            "style": "IPY_MODEL_8a724f57d8bf46b5b9e41883c897a55e",
            "value": " 2671/2671 [00:00&lt;00:00, 25658.07it/s]"
          }
        },
        "8f35ff24b2f14be48ab30507d4ca9ec5": {
          "model_module": "@jupyter-widgets/base",
          "model_name": "LayoutModel",
          "model_module_version": "1.2.0",
          "state": {
            "_model_module": "@jupyter-widgets/base",
            "_model_module_version": "1.2.0",
            "_model_name": "LayoutModel",
            "_view_count": null,
            "_view_module": "@jupyter-widgets/base",
            "_view_module_version": "1.2.0",
            "_view_name": "LayoutView",
            "align_content": null,
            "align_items": null,
            "align_self": null,
            "border": null,
            "bottom": null,
            "display": null,
            "flex": null,
            "flex_flow": null,
            "grid_area": null,
            "grid_auto_columns": null,
            "grid_auto_flow": null,
            "grid_auto_rows": null,
            "grid_column": null,
            "grid_gap": null,
            "grid_row": null,
            "grid_template_areas": null,
            "grid_template_columns": null,
            "grid_template_rows": null,
            "height": null,
            "justify_content": null,
            "justify_items": null,
            "left": null,
            "margin": null,
            "max_height": null,
            "max_width": null,
            "min_height": null,
            "min_width": null,
            "object_fit": null,
            "object_position": null,
            "order": null,
            "overflow": null,
            "overflow_x": null,
            "overflow_y": null,
            "padding": null,
            "right": null,
            "top": null,
            "visibility": null,
            "width": null
          }
        },
        "bd72d4e1971a4661b233a6b0d15f0905": {
          "model_module": "@jupyter-widgets/base",
          "model_name": "LayoutModel",
          "model_module_version": "1.2.0",
          "state": {
            "_model_module": "@jupyter-widgets/base",
            "_model_module_version": "1.2.0",
            "_model_name": "LayoutModel",
            "_view_count": null,
            "_view_module": "@jupyter-widgets/base",
            "_view_module_version": "1.2.0",
            "_view_name": "LayoutView",
            "align_content": null,
            "align_items": null,
            "align_self": null,
            "border": null,
            "bottom": null,
            "display": null,
            "flex": null,
            "flex_flow": null,
            "grid_area": null,
            "grid_auto_columns": null,
            "grid_auto_flow": null,
            "grid_auto_rows": null,
            "grid_column": null,
            "grid_gap": null,
            "grid_row": null,
            "grid_template_areas": null,
            "grid_template_columns": null,
            "grid_template_rows": null,
            "height": null,
            "justify_content": null,
            "justify_items": null,
            "left": null,
            "margin": null,
            "max_height": null,
            "max_width": null,
            "min_height": null,
            "min_width": null,
            "object_fit": null,
            "object_position": null,
            "order": null,
            "overflow": null,
            "overflow_x": null,
            "overflow_y": null,
            "padding": null,
            "right": null,
            "top": null,
            "visibility": null,
            "width": null
          }
        },
        "b5fadd7d207d4caf970a52997685fd41": {
          "model_module": "@jupyter-widgets/controls",
          "model_name": "DescriptionStyleModel",
          "model_module_version": "1.5.0",
          "state": {
            "_model_module": "@jupyter-widgets/controls",
            "_model_module_version": "1.5.0",
            "_model_name": "DescriptionStyleModel",
            "_view_count": null,
            "_view_module": "@jupyter-widgets/base",
            "_view_module_version": "1.2.0",
            "_view_name": "StyleView",
            "description_width": ""
          }
        },
        "66f312b77ba14543a87682bf784833cf": {
          "model_module": "@jupyter-widgets/base",
          "model_name": "LayoutModel",
          "model_module_version": "1.2.0",
          "state": {
            "_model_module": "@jupyter-widgets/base",
            "_model_module_version": "1.2.0",
            "_model_name": "LayoutModel",
            "_view_count": null,
            "_view_module": "@jupyter-widgets/base",
            "_view_module_version": "1.2.0",
            "_view_name": "LayoutView",
            "align_content": null,
            "align_items": null,
            "align_self": null,
            "border": null,
            "bottom": null,
            "display": null,
            "flex": null,
            "flex_flow": null,
            "grid_area": null,
            "grid_auto_columns": null,
            "grid_auto_flow": null,
            "grid_auto_rows": null,
            "grid_column": null,
            "grid_gap": null,
            "grid_row": null,
            "grid_template_areas": null,
            "grid_template_columns": null,
            "grid_template_rows": null,
            "height": null,
            "justify_content": null,
            "justify_items": null,
            "left": null,
            "margin": null,
            "max_height": null,
            "max_width": null,
            "min_height": null,
            "min_width": null,
            "object_fit": null,
            "object_position": null,
            "order": null,
            "overflow": null,
            "overflow_x": null,
            "overflow_y": null,
            "padding": null,
            "right": null,
            "top": null,
            "visibility": null,
            "width": null
          }
        },
        "6f551a787d924cfeb2ddec5324749c39": {
          "model_module": "@jupyter-widgets/controls",
          "model_name": "ProgressStyleModel",
          "model_module_version": "1.5.0",
          "state": {
            "_model_module": "@jupyter-widgets/controls",
            "_model_module_version": "1.5.0",
            "_model_name": "ProgressStyleModel",
            "_view_count": null,
            "_view_module": "@jupyter-widgets/base",
            "_view_module_version": "1.2.0",
            "_view_name": "StyleView",
            "bar_color": null,
            "description_width": ""
          }
        },
        "4bda95c31628410c82c86313ba9d7bb9": {
          "model_module": "@jupyter-widgets/base",
          "model_name": "LayoutModel",
          "model_module_version": "1.2.0",
          "state": {
            "_model_module": "@jupyter-widgets/base",
            "_model_module_version": "1.2.0",
            "_model_name": "LayoutModel",
            "_view_count": null,
            "_view_module": "@jupyter-widgets/base",
            "_view_module_version": "1.2.0",
            "_view_name": "LayoutView",
            "align_content": null,
            "align_items": null,
            "align_self": null,
            "border": null,
            "bottom": null,
            "display": null,
            "flex": null,
            "flex_flow": null,
            "grid_area": null,
            "grid_auto_columns": null,
            "grid_auto_flow": null,
            "grid_auto_rows": null,
            "grid_column": null,
            "grid_gap": null,
            "grid_row": null,
            "grid_template_areas": null,
            "grid_template_columns": null,
            "grid_template_rows": null,
            "height": null,
            "justify_content": null,
            "justify_items": null,
            "left": null,
            "margin": null,
            "max_height": null,
            "max_width": null,
            "min_height": null,
            "min_width": null,
            "object_fit": null,
            "object_position": null,
            "order": null,
            "overflow": null,
            "overflow_x": null,
            "overflow_y": null,
            "padding": null,
            "right": null,
            "top": null,
            "visibility": null,
            "width": null
          }
        },
        "8a724f57d8bf46b5b9e41883c897a55e": {
          "model_module": "@jupyter-widgets/controls",
          "model_name": "DescriptionStyleModel",
          "model_module_version": "1.5.0",
          "state": {
            "_model_module": "@jupyter-widgets/controls",
            "_model_module_version": "1.5.0",
            "_model_name": "DescriptionStyleModel",
            "_view_count": null,
            "_view_module": "@jupyter-widgets/base",
            "_view_module_version": "1.2.0",
            "_view_name": "StyleView",
            "description_width": ""
          }
        },
        "7be35717fd5c44d3b1d25451281847d0": {
          "model_module": "@jupyter-widgets/controls",
          "model_name": "HBoxModel",
          "model_module_version": "1.5.0",
          "state": {
            "_dom_classes": [],
            "_model_module": "@jupyter-widgets/controls",
            "_model_module_version": "1.5.0",
            "_model_name": "HBoxModel",
            "_view_count": null,
            "_view_module": "@jupyter-widgets/controls",
            "_view_module_version": "1.5.0",
            "_view_name": "HBoxView",
            "box_style": "",
            "children": [
              "IPY_MODEL_a58832f51698418f9bb38152b684452b",
              "IPY_MODEL_727f5b9eec75425590de48524c761c33",
              "IPY_MODEL_614a9a4830114480aecc5a634fd755ee"
            ],
            "layout": "IPY_MODEL_8c4eb27e4ae84095b899b032d289ae72"
          }
        },
        "a58832f51698418f9bb38152b684452b": {
          "model_module": "@jupyter-widgets/controls",
          "model_name": "HTMLModel",
          "model_module_version": "1.5.0",
          "state": {
            "_dom_classes": [],
            "_model_module": "@jupyter-widgets/controls",
            "_model_module_version": "1.5.0",
            "_model_name": "HTMLModel",
            "_view_count": null,
            "_view_module": "@jupyter-widgets/controls",
            "_view_module_version": "1.5.0",
            "_view_name": "HTMLView",
            "description": "",
            "description_tooltip": null,
            "layout": "IPY_MODEL_302c4dc917b3452aaece0dc1c7fe952a",
            "placeholder": "​",
            "style": "IPY_MODEL_9361b54946204f2a9975f0a6098bcd96",
            "value": "100%"
          }
        },
        "727f5b9eec75425590de48524c761c33": {
          "model_module": "@jupyter-widgets/controls",
          "model_name": "FloatProgressModel",
          "model_module_version": "1.5.0",
          "state": {
            "_dom_classes": [],
            "_model_module": "@jupyter-widgets/controls",
            "_model_module_version": "1.5.0",
            "_model_name": "FloatProgressModel",
            "_view_count": null,
            "_view_module": "@jupyter-widgets/controls",
            "_view_module_version": "1.5.0",
            "_view_name": "ProgressView",
            "bar_style": "success",
            "description": "",
            "description_tooltip": null,
            "layout": "IPY_MODEL_8602aa9ea64f4b9b8aa075d1877a61ea",
            "max": 2671,
            "min": 0,
            "orientation": "horizontal",
            "style": "IPY_MODEL_4ddfcdb99e3e4a0eb93343eb16ab24d4",
            "value": 2671
          }
        },
        "614a9a4830114480aecc5a634fd755ee": {
          "model_module": "@jupyter-widgets/controls",
          "model_name": "HTMLModel",
          "model_module_version": "1.5.0",
          "state": {
            "_dom_classes": [],
            "_model_module": "@jupyter-widgets/controls",
            "_model_module_version": "1.5.0",
            "_model_name": "HTMLModel",
            "_view_count": null,
            "_view_module": "@jupyter-widgets/controls",
            "_view_module_version": "1.5.0",
            "_view_name": "HTMLView",
            "description": "",
            "description_tooltip": null,
            "layout": "IPY_MODEL_a6e6b8cbccac49d8abad024b8e1068e7",
            "placeholder": "​",
            "style": "IPY_MODEL_4ac128f3c136460eb08685a37e755180",
            "value": " 2671/2671 [00:00&lt;00:00, 60020.07it/s]"
          }
        },
        "8c4eb27e4ae84095b899b032d289ae72": {
          "model_module": "@jupyter-widgets/base",
          "model_name": "LayoutModel",
          "model_module_version": "1.2.0",
          "state": {
            "_model_module": "@jupyter-widgets/base",
            "_model_module_version": "1.2.0",
            "_model_name": "LayoutModel",
            "_view_count": null,
            "_view_module": "@jupyter-widgets/base",
            "_view_module_version": "1.2.0",
            "_view_name": "LayoutView",
            "align_content": null,
            "align_items": null,
            "align_self": null,
            "border": null,
            "bottom": null,
            "display": null,
            "flex": null,
            "flex_flow": null,
            "grid_area": null,
            "grid_auto_columns": null,
            "grid_auto_flow": null,
            "grid_auto_rows": null,
            "grid_column": null,
            "grid_gap": null,
            "grid_row": null,
            "grid_template_areas": null,
            "grid_template_columns": null,
            "grid_template_rows": null,
            "height": null,
            "justify_content": null,
            "justify_items": null,
            "left": null,
            "margin": null,
            "max_height": null,
            "max_width": null,
            "min_height": null,
            "min_width": null,
            "object_fit": null,
            "object_position": null,
            "order": null,
            "overflow": null,
            "overflow_x": null,
            "overflow_y": null,
            "padding": null,
            "right": null,
            "top": null,
            "visibility": null,
            "width": null
          }
        },
        "302c4dc917b3452aaece0dc1c7fe952a": {
          "model_module": "@jupyter-widgets/base",
          "model_name": "LayoutModel",
          "model_module_version": "1.2.0",
          "state": {
            "_model_module": "@jupyter-widgets/base",
            "_model_module_version": "1.2.0",
            "_model_name": "LayoutModel",
            "_view_count": null,
            "_view_module": "@jupyter-widgets/base",
            "_view_module_version": "1.2.0",
            "_view_name": "LayoutView",
            "align_content": null,
            "align_items": null,
            "align_self": null,
            "border": null,
            "bottom": null,
            "display": null,
            "flex": null,
            "flex_flow": null,
            "grid_area": null,
            "grid_auto_columns": null,
            "grid_auto_flow": null,
            "grid_auto_rows": null,
            "grid_column": null,
            "grid_gap": null,
            "grid_row": null,
            "grid_template_areas": null,
            "grid_template_columns": null,
            "grid_template_rows": null,
            "height": null,
            "justify_content": null,
            "justify_items": null,
            "left": null,
            "margin": null,
            "max_height": null,
            "max_width": null,
            "min_height": null,
            "min_width": null,
            "object_fit": null,
            "object_position": null,
            "order": null,
            "overflow": null,
            "overflow_x": null,
            "overflow_y": null,
            "padding": null,
            "right": null,
            "top": null,
            "visibility": null,
            "width": null
          }
        },
        "9361b54946204f2a9975f0a6098bcd96": {
          "model_module": "@jupyter-widgets/controls",
          "model_name": "DescriptionStyleModel",
          "model_module_version": "1.5.0",
          "state": {
            "_model_module": "@jupyter-widgets/controls",
            "_model_module_version": "1.5.0",
            "_model_name": "DescriptionStyleModel",
            "_view_count": null,
            "_view_module": "@jupyter-widgets/base",
            "_view_module_version": "1.2.0",
            "_view_name": "StyleView",
            "description_width": ""
          }
        },
        "8602aa9ea64f4b9b8aa075d1877a61ea": {
          "model_module": "@jupyter-widgets/base",
          "model_name": "LayoutModel",
          "model_module_version": "1.2.0",
          "state": {
            "_model_module": "@jupyter-widgets/base",
            "_model_module_version": "1.2.0",
            "_model_name": "LayoutModel",
            "_view_count": null,
            "_view_module": "@jupyter-widgets/base",
            "_view_module_version": "1.2.0",
            "_view_name": "LayoutView",
            "align_content": null,
            "align_items": null,
            "align_self": null,
            "border": null,
            "bottom": null,
            "display": null,
            "flex": null,
            "flex_flow": null,
            "grid_area": null,
            "grid_auto_columns": null,
            "grid_auto_flow": null,
            "grid_auto_rows": null,
            "grid_column": null,
            "grid_gap": null,
            "grid_row": null,
            "grid_template_areas": null,
            "grid_template_columns": null,
            "grid_template_rows": null,
            "height": null,
            "justify_content": null,
            "justify_items": null,
            "left": null,
            "margin": null,
            "max_height": null,
            "max_width": null,
            "min_height": null,
            "min_width": null,
            "object_fit": null,
            "object_position": null,
            "order": null,
            "overflow": null,
            "overflow_x": null,
            "overflow_y": null,
            "padding": null,
            "right": null,
            "top": null,
            "visibility": null,
            "width": null
          }
        },
        "4ddfcdb99e3e4a0eb93343eb16ab24d4": {
          "model_module": "@jupyter-widgets/controls",
          "model_name": "ProgressStyleModel",
          "model_module_version": "1.5.0",
          "state": {
            "_model_module": "@jupyter-widgets/controls",
            "_model_module_version": "1.5.0",
            "_model_name": "ProgressStyleModel",
            "_view_count": null,
            "_view_module": "@jupyter-widgets/base",
            "_view_module_version": "1.2.0",
            "_view_name": "StyleView",
            "bar_color": null,
            "description_width": ""
          }
        },
        "a6e6b8cbccac49d8abad024b8e1068e7": {
          "model_module": "@jupyter-widgets/base",
          "model_name": "LayoutModel",
          "model_module_version": "1.2.0",
          "state": {
            "_model_module": "@jupyter-widgets/base",
            "_model_module_version": "1.2.0",
            "_model_name": "LayoutModel",
            "_view_count": null,
            "_view_module": "@jupyter-widgets/base",
            "_view_module_version": "1.2.0",
            "_view_name": "LayoutView",
            "align_content": null,
            "align_items": null,
            "align_self": null,
            "border": null,
            "bottom": null,
            "display": null,
            "flex": null,
            "flex_flow": null,
            "grid_area": null,
            "grid_auto_columns": null,
            "grid_auto_flow": null,
            "grid_auto_rows": null,
            "grid_column": null,
            "grid_gap": null,
            "grid_row": null,
            "grid_template_areas": null,
            "grid_template_columns": null,
            "grid_template_rows": null,
            "height": null,
            "justify_content": null,
            "justify_items": null,
            "left": null,
            "margin": null,
            "max_height": null,
            "max_width": null,
            "min_height": null,
            "min_width": null,
            "object_fit": null,
            "object_position": null,
            "order": null,
            "overflow": null,
            "overflow_x": null,
            "overflow_y": null,
            "padding": null,
            "right": null,
            "top": null,
            "visibility": null,
            "width": null
          }
        },
        "4ac128f3c136460eb08685a37e755180": {
          "model_module": "@jupyter-widgets/controls",
          "model_name": "DescriptionStyleModel",
          "model_module_version": "1.5.0",
          "state": {
            "_model_module": "@jupyter-widgets/controls",
            "_model_module_version": "1.5.0",
            "_model_name": "DescriptionStyleModel",
            "_view_count": null,
            "_view_module": "@jupyter-widgets/base",
            "_view_module_version": "1.2.0",
            "_view_name": "StyleView",
            "description_width": ""
          }
        },
        "c9b4c8496f844fb7b7c98a87e94c9c59": {
          "model_module": "@jupyter-widgets/controls",
          "model_name": "HBoxModel",
          "model_module_version": "1.5.0",
          "state": {
            "_dom_classes": [],
            "_model_module": "@jupyter-widgets/controls",
            "_model_module_version": "1.5.0",
            "_model_name": "HBoxModel",
            "_view_count": null,
            "_view_module": "@jupyter-widgets/controls",
            "_view_module_version": "1.5.0",
            "_view_name": "HBoxView",
            "box_style": "",
            "children": [
              "IPY_MODEL_66ccb7326b1740d491b9a5dd50c5955b",
              "IPY_MODEL_0e86fcf6b8654dccbbf7789ac3b4778b",
              "IPY_MODEL_58331a0399864c0a8f9c20c0562addd0"
            ],
            "layout": "IPY_MODEL_08e3c4d0a2764d71bc940e0108ed8834"
          }
        },
        "66ccb7326b1740d491b9a5dd50c5955b": {
          "model_module": "@jupyter-widgets/controls",
          "model_name": "HTMLModel",
          "model_module_version": "1.5.0",
          "state": {
            "_dom_classes": [],
            "_model_module": "@jupyter-widgets/controls",
            "_model_module_version": "1.5.0",
            "_model_name": "HTMLModel",
            "_view_count": null,
            "_view_module": "@jupyter-widgets/controls",
            "_view_module_version": "1.5.0",
            "_view_name": "HTMLView",
            "description": "",
            "description_tooltip": null,
            "layout": "IPY_MODEL_c58f49fdf92f4682a70aebf2804c6572",
            "placeholder": "​",
            "style": "IPY_MODEL_62a13f89aa7d41edb52d9e570a05d3f8",
            "value": "100%"
          }
        },
        "0e86fcf6b8654dccbbf7789ac3b4778b": {
          "model_module": "@jupyter-widgets/controls",
          "model_name": "FloatProgressModel",
          "model_module_version": "1.5.0",
          "state": {
            "_dom_classes": [],
            "_model_module": "@jupyter-widgets/controls",
            "_model_module_version": "1.5.0",
            "_model_name": "FloatProgressModel",
            "_view_count": null,
            "_view_module": "@jupyter-widgets/controls",
            "_view_module_version": "1.5.0",
            "_view_name": "ProgressView",
            "bar_style": "success",
            "description": "",
            "description_tooltip": null,
            "layout": "IPY_MODEL_e6b3a8e102774d698c36ff5d65ec9ed2",
            "max": 2671,
            "min": 0,
            "orientation": "horizontal",
            "style": "IPY_MODEL_3aa8609b86d7465bbe4d167765e7ed1f",
            "value": 2671
          }
        },
        "58331a0399864c0a8f9c20c0562addd0": {
          "model_module": "@jupyter-widgets/controls",
          "model_name": "HTMLModel",
          "model_module_version": "1.5.0",
          "state": {
            "_dom_classes": [],
            "_model_module": "@jupyter-widgets/controls",
            "_model_module_version": "1.5.0",
            "_model_name": "HTMLModel",
            "_view_count": null,
            "_view_module": "@jupyter-widgets/controls",
            "_view_module_version": "1.5.0",
            "_view_name": "HTMLView",
            "description": "",
            "description_tooltip": null,
            "layout": "IPY_MODEL_ca51e5f2f1d749e1bfb4360ee12df896",
            "placeholder": "​",
            "style": "IPY_MODEL_ce61548968714f18810394360f9f364a",
            "value": " 2671/2671 [00:00&lt;00:00, 40781.14it/s]"
          }
        },
        "08e3c4d0a2764d71bc940e0108ed8834": {
          "model_module": "@jupyter-widgets/base",
          "model_name": "LayoutModel",
          "model_module_version": "1.2.0",
          "state": {
            "_model_module": "@jupyter-widgets/base",
            "_model_module_version": "1.2.0",
            "_model_name": "LayoutModel",
            "_view_count": null,
            "_view_module": "@jupyter-widgets/base",
            "_view_module_version": "1.2.0",
            "_view_name": "LayoutView",
            "align_content": null,
            "align_items": null,
            "align_self": null,
            "border": null,
            "bottom": null,
            "display": null,
            "flex": null,
            "flex_flow": null,
            "grid_area": null,
            "grid_auto_columns": null,
            "grid_auto_flow": null,
            "grid_auto_rows": null,
            "grid_column": null,
            "grid_gap": null,
            "grid_row": null,
            "grid_template_areas": null,
            "grid_template_columns": null,
            "grid_template_rows": null,
            "height": null,
            "justify_content": null,
            "justify_items": null,
            "left": null,
            "margin": null,
            "max_height": null,
            "max_width": null,
            "min_height": null,
            "min_width": null,
            "object_fit": null,
            "object_position": null,
            "order": null,
            "overflow": null,
            "overflow_x": null,
            "overflow_y": null,
            "padding": null,
            "right": null,
            "top": null,
            "visibility": null,
            "width": null
          }
        },
        "c58f49fdf92f4682a70aebf2804c6572": {
          "model_module": "@jupyter-widgets/base",
          "model_name": "LayoutModel",
          "model_module_version": "1.2.0",
          "state": {
            "_model_module": "@jupyter-widgets/base",
            "_model_module_version": "1.2.0",
            "_model_name": "LayoutModel",
            "_view_count": null,
            "_view_module": "@jupyter-widgets/base",
            "_view_module_version": "1.2.0",
            "_view_name": "LayoutView",
            "align_content": null,
            "align_items": null,
            "align_self": null,
            "border": null,
            "bottom": null,
            "display": null,
            "flex": null,
            "flex_flow": null,
            "grid_area": null,
            "grid_auto_columns": null,
            "grid_auto_flow": null,
            "grid_auto_rows": null,
            "grid_column": null,
            "grid_gap": null,
            "grid_row": null,
            "grid_template_areas": null,
            "grid_template_columns": null,
            "grid_template_rows": null,
            "height": null,
            "justify_content": null,
            "justify_items": null,
            "left": null,
            "margin": null,
            "max_height": null,
            "max_width": null,
            "min_height": null,
            "min_width": null,
            "object_fit": null,
            "object_position": null,
            "order": null,
            "overflow": null,
            "overflow_x": null,
            "overflow_y": null,
            "padding": null,
            "right": null,
            "top": null,
            "visibility": null,
            "width": null
          }
        },
        "62a13f89aa7d41edb52d9e570a05d3f8": {
          "model_module": "@jupyter-widgets/controls",
          "model_name": "DescriptionStyleModel",
          "model_module_version": "1.5.0",
          "state": {
            "_model_module": "@jupyter-widgets/controls",
            "_model_module_version": "1.5.0",
            "_model_name": "DescriptionStyleModel",
            "_view_count": null,
            "_view_module": "@jupyter-widgets/base",
            "_view_module_version": "1.2.0",
            "_view_name": "StyleView",
            "description_width": ""
          }
        },
        "e6b3a8e102774d698c36ff5d65ec9ed2": {
          "model_module": "@jupyter-widgets/base",
          "model_name": "LayoutModel",
          "model_module_version": "1.2.0",
          "state": {
            "_model_module": "@jupyter-widgets/base",
            "_model_module_version": "1.2.0",
            "_model_name": "LayoutModel",
            "_view_count": null,
            "_view_module": "@jupyter-widgets/base",
            "_view_module_version": "1.2.0",
            "_view_name": "LayoutView",
            "align_content": null,
            "align_items": null,
            "align_self": null,
            "border": null,
            "bottom": null,
            "display": null,
            "flex": null,
            "flex_flow": null,
            "grid_area": null,
            "grid_auto_columns": null,
            "grid_auto_flow": null,
            "grid_auto_rows": null,
            "grid_column": null,
            "grid_gap": null,
            "grid_row": null,
            "grid_template_areas": null,
            "grid_template_columns": null,
            "grid_template_rows": null,
            "height": null,
            "justify_content": null,
            "justify_items": null,
            "left": null,
            "margin": null,
            "max_height": null,
            "max_width": null,
            "min_height": null,
            "min_width": null,
            "object_fit": null,
            "object_position": null,
            "order": null,
            "overflow": null,
            "overflow_x": null,
            "overflow_y": null,
            "padding": null,
            "right": null,
            "top": null,
            "visibility": null,
            "width": null
          }
        },
        "3aa8609b86d7465bbe4d167765e7ed1f": {
          "model_module": "@jupyter-widgets/controls",
          "model_name": "ProgressStyleModel",
          "model_module_version": "1.5.0",
          "state": {
            "_model_module": "@jupyter-widgets/controls",
            "_model_module_version": "1.5.0",
            "_model_name": "ProgressStyleModel",
            "_view_count": null,
            "_view_module": "@jupyter-widgets/base",
            "_view_module_version": "1.2.0",
            "_view_name": "StyleView",
            "bar_color": null,
            "description_width": ""
          }
        },
        "ca51e5f2f1d749e1bfb4360ee12df896": {
          "model_module": "@jupyter-widgets/base",
          "model_name": "LayoutModel",
          "model_module_version": "1.2.0",
          "state": {
            "_model_module": "@jupyter-widgets/base",
            "_model_module_version": "1.2.0",
            "_model_name": "LayoutModel",
            "_view_count": null,
            "_view_module": "@jupyter-widgets/base",
            "_view_module_version": "1.2.0",
            "_view_name": "LayoutView",
            "align_content": null,
            "align_items": null,
            "align_self": null,
            "border": null,
            "bottom": null,
            "display": null,
            "flex": null,
            "flex_flow": null,
            "grid_area": null,
            "grid_auto_columns": null,
            "grid_auto_flow": null,
            "grid_auto_rows": null,
            "grid_column": null,
            "grid_gap": null,
            "grid_row": null,
            "grid_template_areas": null,
            "grid_template_columns": null,
            "grid_template_rows": null,
            "height": null,
            "justify_content": null,
            "justify_items": null,
            "left": null,
            "margin": null,
            "max_height": null,
            "max_width": null,
            "min_height": null,
            "min_width": null,
            "object_fit": null,
            "object_position": null,
            "order": null,
            "overflow": null,
            "overflow_x": null,
            "overflow_y": null,
            "padding": null,
            "right": null,
            "top": null,
            "visibility": null,
            "width": null
          }
        },
        "ce61548968714f18810394360f9f364a": {
          "model_module": "@jupyter-widgets/controls",
          "model_name": "DescriptionStyleModel",
          "model_module_version": "1.5.0",
          "state": {
            "_model_module": "@jupyter-widgets/controls",
            "_model_module_version": "1.5.0",
            "_model_name": "DescriptionStyleModel",
            "_view_count": null,
            "_view_module": "@jupyter-widgets/base",
            "_view_module_version": "1.2.0",
            "_view_name": "StyleView",
            "description_width": ""
          }
        },
        "52669f10cf3d40a1b2c9a0446e78bcf8": {
          "model_module": "@jupyter-widgets/controls",
          "model_name": "HBoxModel",
          "model_module_version": "1.5.0",
          "state": {
            "_dom_classes": [],
            "_model_module": "@jupyter-widgets/controls",
            "_model_module_version": "1.5.0",
            "_model_name": "HBoxModel",
            "_view_count": null,
            "_view_module": "@jupyter-widgets/controls",
            "_view_module_version": "1.5.0",
            "_view_name": "HBoxView",
            "box_style": "",
            "children": [
              "IPY_MODEL_3615796b264c4bc88e250ae18d06f2a8",
              "IPY_MODEL_a5072f04d49b4ba9bf03e380870f4820",
              "IPY_MODEL_2510816678e64fdeae4772e6448db9e8"
            ],
            "layout": "IPY_MODEL_0c77fe950dfc45ca96687a2e0a325d23"
          }
        },
        "3615796b264c4bc88e250ae18d06f2a8": {
          "model_module": "@jupyter-widgets/controls",
          "model_name": "HTMLModel",
          "model_module_version": "1.5.0",
          "state": {
            "_dom_classes": [],
            "_model_module": "@jupyter-widgets/controls",
            "_model_module_version": "1.5.0",
            "_model_name": "HTMLModel",
            "_view_count": null,
            "_view_module": "@jupyter-widgets/controls",
            "_view_module_version": "1.5.0",
            "_view_name": "HTMLView",
            "description": "",
            "description_tooltip": null,
            "layout": "IPY_MODEL_aef3e462cece4516b0b1802ae0c8e043",
            "placeholder": "​",
            "style": "IPY_MODEL_4f36c744b1c64503b05e2728917b4e98",
            "value": "100%"
          }
        },
        "a5072f04d49b4ba9bf03e380870f4820": {
          "model_module": "@jupyter-widgets/controls",
          "model_name": "FloatProgressModel",
          "model_module_version": "1.5.0",
          "state": {
            "_dom_classes": [],
            "_model_module": "@jupyter-widgets/controls",
            "_model_module_version": "1.5.0",
            "_model_name": "FloatProgressModel",
            "_view_count": null,
            "_view_module": "@jupyter-widgets/controls",
            "_view_module_version": "1.5.0",
            "_view_name": "ProgressView",
            "bar_style": "success",
            "description": "",
            "description_tooltip": null,
            "layout": "IPY_MODEL_cd38288b59e549349a2ffe89186c886a",
            "max": 2671,
            "min": 0,
            "orientation": "horizontal",
            "style": "IPY_MODEL_1f7b06536e064a6587e546b61530ef2d",
            "value": 2671
          }
        },
        "2510816678e64fdeae4772e6448db9e8": {
          "model_module": "@jupyter-widgets/controls",
          "model_name": "HTMLModel",
          "model_module_version": "1.5.0",
          "state": {
            "_dom_classes": [],
            "_model_module": "@jupyter-widgets/controls",
            "_model_module_version": "1.5.0",
            "_model_name": "HTMLModel",
            "_view_count": null,
            "_view_module": "@jupyter-widgets/controls",
            "_view_module_version": "1.5.0",
            "_view_name": "HTMLView",
            "description": "",
            "description_tooltip": null,
            "layout": "IPY_MODEL_d80eaec1e4bc43c1888d581278927cdf",
            "placeholder": "​",
            "style": "IPY_MODEL_b91c5a51c38e42d3acf3e5bd35f7fe45",
            "value": " 2671/2671 [00:10&lt;00:00, 286.25it/s]"
          }
        },
        "0c77fe950dfc45ca96687a2e0a325d23": {
          "model_module": "@jupyter-widgets/base",
          "model_name": "LayoutModel",
          "model_module_version": "1.2.0",
          "state": {
            "_model_module": "@jupyter-widgets/base",
            "_model_module_version": "1.2.0",
            "_model_name": "LayoutModel",
            "_view_count": null,
            "_view_module": "@jupyter-widgets/base",
            "_view_module_version": "1.2.0",
            "_view_name": "LayoutView",
            "align_content": null,
            "align_items": null,
            "align_self": null,
            "border": null,
            "bottom": null,
            "display": null,
            "flex": null,
            "flex_flow": null,
            "grid_area": null,
            "grid_auto_columns": null,
            "grid_auto_flow": null,
            "grid_auto_rows": null,
            "grid_column": null,
            "grid_gap": null,
            "grid_row": null,
            "grid_template_areas": null,
            "grid_template_columns": null,
            "grid_template_rows": null,
            "height": null,
            "justify_content": null,
            "justify_items": null,
            "left": null,
            "margin": null,
            "max_height": null,
            "max_width": null,
            "min_height": null,
            "min_width": null,
            "object_fit": null,
            "object_position": null,
            "order": null,
            "overflow": null,
            "overflow_x": null,
            "overflow_y": null,
            "padding": null,
            "right": null,
            "top": null,
            "visibility": null,
            "width": null
          }
        },
        "aef3e462cece4516b0b1802ae0c8e043": {
          "model_module": "@jupyter-widgets/base",
          "model_name": "LayoutModel",
          "model_module_version": "1.2.0",
          "state": {
            "_model_module": "@jupyter-widgets/base",
            "_model_module_version": "1.2.0",
            "_model_name": "LayoutModel",
            "_view_count": null,
            "_view_module": "@jupyter-widgets/base",
            "_view_module_version": "1.2.0",
            "_view_name": "LayoutView",
            "align_content": null,
            "align_items": null,
            "align_self": null,
            "border": null,
            "bottom": null,
            "display": null,
            "flex": null,
            "flex_flow": null,
            "grid_area": null,
            "grid_auto_columns": null,
            "grid_auto_flow": null,
            "grid_auto_rows": null,
            "grid_column": null,
            "grid_gap": null,
            "grid_row": null,
            "grid_template_areas": null,
            "grid_template_columns": null,
            "grid_template_rows": null,
            "height": null,
            "justify_content": null,
            "justify_items": null,
            "left": null,
            "margin": null,
            "max_height": null,
            "max_width": null,
            "min_height": null,
            "min_width": null,
            "object_fit": null,
            "object_position": null,
            "order": null,
            "overflow": null,
            "overflow_x": null,
            "overflow_y": null,
            "padding": null,
            "right": null,
            "top": null,
            "visibility": null,
            "width": null
          }
        },
        "4f36c744b1c64503b05e2728917b4e98": {
          "model_module": "@jupyter-widgets/controls",
          "model_name": "DescriptionStyleModel",
          "model_module_version": "1.5.0",
          "state": {
            "_model_module": "@jupyter-widgets/controls",
            "_model_module_version": "1.5.0",
            "_model_name": "DescriptionStyleModel",
            "_view_count": null,
            "_view_module": "@jupyter-widgets/base",
            "_view_module_version": "1.2.0",
            "_view_name": "StyleView",
            "description_width": ""
          }
        },
        "cd38288b59e549349a2ffe89186c886a": {
          "model_module": "@jupyter-widgets/base",
          "model_name": "LayoutModel",
          "model_module_version": "1.2.0",
          "state": {
            "_model_module": "@jupyter-widgets/base",
            "_model_module_version": "1.2.0",
            "_model_name": "LayoutModel",
            "_view_count": null,
            "_view_module": "@jupyter-widgets/base",
            "_view_module_version": "1.2.0",
            "_view_name": "LayoutView",
            "align_content": null,
            "align_items": null,
            "align_self": null,
            "border": null,
            "bottom": null,
            "display": null,
            "flex": null,
            "flex_flow": null,
            "grid_area": null,
            "grid_auto_columns": null,
            "grid_auto_flow": null,
            "grid_auto_rows": null,
            "grid_column": null,
            "grid_gap": null,
            "grid_row": null,
            "grid_template_areas": null,
            "grid_template_columns": null,
            "grid_template_rows": null,
            "height": null,
            "justify_content": null,
            "justify_items": null,
            "left": null,
            "margin": null,
            "max_height": null,
            "max_width": null,
            "min_height": null,
            "min_width": null,
            "object_fit": null,
            "object_position": null,
            "order": null,
            "overflow": null,
            "overflow_x": null,
            "overflow_y": null,
            "padding": null,
            "right": null,
            "top": null,
            "visibility": null,
            "width": null
          }
        },
        "1f7b06536e064a6587e546b61530ef2d": {
          "model_module": "@jupyter-widgets/controls",
          "model_name": "ProgressStyleModel",
          "model_module_version": "1.5.0",
          "state": {
            "_model_module": "@jupyter-widgets/controls",
            "_model_module_version": "1.5.0",
            "_model_name": "ProgressStyleModel",
            "_view_count": null,
            "_view_module": "@jupyter-widgets/base",
            "_view_module_version": "1.2.0",
            "_view_name": "StyleView",
            "bar_color": null,
            "description_width": ""
          }
        },
        "d80eaec1e4bc43c1888d581278927cdf": {
          "model_module": "@jupyter-widgets/base",
          "model_name": "LayoutModel",
          "model_module_version": "1.2.0",
          "state": {
            "_model_module": "@jupyter-widgets/base",
            "_model_module_version": "1.2.0",
            "_model_name": "LayoutModel",
            "_view_count": null,
            "_view_module": "@jupyter-widgets/base",
            "_view_module_version": "1.2.0",
            "_view_name": "LayoutView",
            "align_content": null,
            "align_items": null,
            "align_self": null,
            "border": null,
            "bottom": null,
            "display": null,
            "flex": null,
            "flex_flow": null,
            "grid_area": null,
            "grid_auto_columns": null,
            "grid_auto_flow": null,
            "grid_auto_rows": null,
            "grid_column": null,
            "grid_gap": null,
            "grid_row": null,
            "grid_template_areas": null,
            "grid_template_columns": null,
            "grid_template_rows": null,
            "height": null,
            "justify_content": null,
            "justify_items": null,
            "left": null,
            "margin": null,
            "max_height": null,
            "max_width": null,
            "min_height": null,
            "min_width": null,
            "object_fit": null,
            "object_position": null,
            "order": null,
            "overflow": null,
            "overflow_x": null,
            "overflow_y": null,
            "padding": null,
            "right": null,
            "top": null,
            "visibility": null,
            "width": null
          }
        },
        "b91c5a51c38e42d3acf3e5bd35f7fe45": {
          "model_module": "@jupyter-widgets/controls",
          "model_name": "DescriptionStyleModel",
          "model_module_version": "1.5.0",
          "state": {
            "_model_module": "@jupyter-widgets/controls",
            "_model_module_version": "1.5.0",
            "_model_name": "DescriptionStyleModel",
            "_view_count": null,
            "_view_module": "@jupyter-widgets/base",
            "_view_module_version": "1.2.0",
            "_view_name": "StyleView",
            "description_width": ""
          }
        }
      }
    }
  },
  "nbformat": 4,
  "nbformat_minor": 0
}