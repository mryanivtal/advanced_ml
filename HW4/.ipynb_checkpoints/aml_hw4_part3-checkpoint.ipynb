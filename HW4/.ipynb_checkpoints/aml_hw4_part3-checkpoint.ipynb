{
 "cells": [
  {
   "cell_type": "markdown",
   "metadata": {
    "id": "kT7go897LvWv"
   },
   "source": [
    "# Advanced ML - HW4"
   ]
  },
  {
   "cell_type": "markdown",
   "metadata": {
    "id": "pI7biuhOnOKZ"
   },
   "source": [
    "## Flow control parameters"
   ]
  },
  {
   "cell_type": "code",
   "execution_count": 2,
   "metadata": {
    "id": "1z_22nz5EjHu"
   },
   "outputs": [],
   "source": [
    "# ENVIRONMENT = 'Local'\n",
    "ENVIRONMENT = 'Colab'"
   ]
  },
  {
   "cell_type": "code",
   "execution_count": 3,
   "metadata": {
    "id": "BO5_Ea7JnRHJ"
   },
   "outputs": [],
   "source": [
    "''' Each parameter can have the values:\n",
    "  Process - run the process logic and save to disk\n",
    "  Load - Load saved data from disk\n",
    "  Disable - Do nothing\n",
    "'''\n",
    "SCALER_MODE = 'Load'\n",
    "LABEL_ENCODER_MODE = 'Load'\n",
    "TRAIN_MODEL_1 = 'Load'\n",
    "TRAIN_MODEL_2 = 'Load'\n",
    "TRAIN_MODEL_FINAL = 'Load'\n",
    "\n"
   ]
  },
  {
   "cell_type": "markdown",
   "metadata": {
    "id": "ksKyHMFi7xnW"
   },
   "source": [
    "## General parts - imports, mounts, load data, utility functions etc."
   ]
  },
  {
   "cell_type": "markdown",
   "metadata": {
    "id": "krS6ZHn03ps8"
   },
   "source": [
    "### Imports"
   ]
  },
  {
   "cell_type": "code",
   "execution_count": 4,
   "metadata": {
    "colab": {
     "base_uri": "https://localhost:8080/"
    },
    "id": "WLgLA40gEjHz",
    "outputId": "dd076711-8903-4f66-cfd8-f0615e08a962"
   },
   "outputs": [
    {
     "name": "stdout",
     "output_type": "stream",
     "text": [
      "Collecting langdetect\n",
      "  Downloading langdetect-1.0.9.tar.gz (981 kB)\n",
      "\u001b[K     |████████████████████████████████| 981 kB 9.3 MB/s eta 0:00:01\n",
      "\u001b[?25hRequirement already satisfied: six in /usr/local/lib/python3.7/dist-packages (from langdetect) (1.15.0)\n",
      "Building wheels for collected packages: langdetect\n",
      "  Building wheel for langdetect (setup.py) ... \u001b[?25l\u001b[?25hdone\n",
      "  Created wheel for langdetect: filename=langdetect-1.0.9-py3-none-any.whl size=993242 sha256=e98ed2285e94a57378cb41d59f4509196f4e488841f8bae5d0302f2f90eaacf7\n",
      "  Stored in directory: /root/.cache/pip/wheels/c5/96/8a/f90c59ed25d75e50a8c10a1b1c2d4c402e4dacfa87f3aff36a\n",
      "Successfully built langdetect\n",
      "Installing collected packages: langdetect\n",
      "Successfully installed langdetect-1.0.9\n",
      "Collecting transformers\n",
      "  Downloading transformers-4.18.0-py3-none-any.whl (4.0 MB)\n",
      "\u001b[K     |████████████████████████████████| 4.0 MB 6.3 MB/s \n",
      "\u001b[?25hRequirement already satisfied: packaging>=20.0 in /usr/local/lib/python3.7/dist-packages (from transformers) (21.3)\n",
      "Requirement already satisfied: tqdm>=4.27 in /usr/local/lib/python3.7/dist-packages (from transformers) (4.64.0)\n",
      "Collecting pyyaml>=5.1\n",
      "  Downloading PyYAML-6.0-cp37-cp37m-manylinux_2_5_x86_64.manylinux1_x86_64.manylinux_2_12_x86_64.manylinux2010_x86_64.whl (596 kB)\n",
      "\u001b[K     |████████████████████████████████| 596 kB 42.8 MB/s \n",
      "\u001b[?25hCollecting sacremoses\n",
      "  Downloading sacremoses-0.0.53.tar.gz (880 kB)\n",
      "\u001b[K     |████████████████████████████████| 880 kB 52.6 MB/s \n",
      "\u001b[?25hRequirement already satisfied: numpy>=1.17 in /usr/local/lib/python3.7/dist-packages (from transformers) (1.21.6)\n",
      "Requirement already satisfied: importlib-metadata in /usr/local/lib/python3.7/dist-packages (from transformers) (4.11.3)\n",
      "Collecting huggingface-hub<1.0,>=0.1.0\n",
      "  Downloading huggingface_hub-0.5.1-py3-none-any.whl (77 kB)\n",
      "\u001b[K     |████████████████████████████████| 77 kB 7.8 MB/s \n",
      "\u001b[?25hRequirement already satisfied: requests in /usr/local/lib/python3.7/dist-packages (from transformers) (2.23.0)\n",
      "Requirement already satisfied: regex!=2019.12.17 in /usr/local/lib/python3.7/dist-packages (from transformers) (2019.12.20)\n",
      "Requirement already satisfied: filelock in /usr/local/lib/python3.7/dist-packages (from transformers) (3.6.0)\n",
      "Collecting tokenizers!=0.11.3,<0.13,>=0.11.1\n",
      "  Downloading tokenizers-0.12.1-cp37-cp37m-manylinux_2_12_x86_64.manylinux2010_x86_64.whl (6.6 MB)\n",
      "\u001b[K     |████████████████████████████████| 6.6 MB 67.1 MB/s \n",
      "\u001b[?25hRequirement already satisfied: typing-extensions>=3.7.4.3 in /usr/local/lib/python3.7/dist-packages (from huggingface-hub<1.0,>=0.1.0->transformers) (4.2.0)\n",
      "Requirement already satisfied: pyparsing!=3.0.5,>=2.0.2 in /usr/local/lib/python3.7/dist-packages (from packaging>=20.0->transformers) (3.0.8)\n",
      "Requirement already satisfied: zipp>=0.5 in /usr/local/lib/python3.7/dist-packages (from importlib-metadata->transformers) (3.8.0)\n",
      "Requirement already satisfied: chardet<4,>=3.0.2 in /usr/local/lib/python3.7/dist-packages (from requests->transformers) (3.0.4)\n",
      "Requirement already satisfied: certifi>=2017.4.17 in /usr/local/lib/python3.7/dist-packages (from requests->transformers) (2021.10.8)\n",
      "Requirement already satisfied: urllib3!=1.25.0,!=1.25.1,<1.26,>=1.21.1 in /usr/local/lib/python3.7/dist-packages (from requests->transformers) (1.24.3)\n",
      "Requirement already satisfied: idna<3,>=2.5 in /usr/local/lib/python3.7/dist-packages (from requests->transformers) (2.10)\n",
      "Requirement already satisfied: six in /usr/local/lib/python3.7/dist-packages (from sacremoses->transformers) (1.15.0)\n",
      "Requirement already satisfied: click in /usr/local/lib/python3.7/dist-packages (from sacremoses->transformers) (7.1.2)\n",
      "Requirement already satisfied: joblib in /usr/local/lib/python3.7/dist-packages (from sacremoses->transformers) (1.1.0)\n",
      "Building wheels for collected packages: sacremoses\n",
      "  Building wheel for sacremoses (setup.py) ... \u001b[?25l\u001b[?25hdone\n",
      "  Created wheel for sacremoses: filename=sacremoses-0.0.53-py3-none-any.whl size=895260 sha256=1aa82458920ce50d396f73df27d6228ffe12dda0b20e6bdef301555c9944c8b7\n",
      "  Stored in directory: /root/.cache/pip/wheels/87/39/dd/a83eeef36d0bf98e7a4d1933a4ad2d660295a40613079bafc9\n",
      "Successfully built sacremoses\n",
      "Installing collected packages: pyyaml, tokenizers, sacremoses, huggingface-hub, transformers\n",
      "  Attempting uninstall: pyyaml\n",
      "    Found existing installation: PyYAML 3.13\n",
      "    Uninstalling PyYAML-3.13:\n",
      "      Successfully uninstalled PyYAML-3.13\n",
      "Successfully installed huggingface-hub-0.5.1 pyyaml-6.0 sacremoses-0.0.53 tokenizers-0.12.1 transformers-4.18.0\n"
     ]
    }
   ],
   "source": [
    "%pip install langdetect\n",
    "# %pip install pandas\n",
    "# %pip install numpy\n",
    "# %pip install tqdm\n",
    "# %pip install matplotlib\n",
    "# %pip install scikit-learn\n",
    "# %pip install pytorch\n",
    "%pip install transformers"
   ]
  },
  {
   "cell_type": "code",
   "execution_count": 5,
   "metadata": {
    "id": "sOUaOGFzNcPR"
   },
   "outputs": [],
   "source": [
    "from pathlib import Path\n",
    "\n",
    "import json\n",
    "import pandas as pd\n",
    "import numpy as np\n",
    "import string\n",
    "import datetime\n",
    "import re\n",
    "\n",
    "from tqdm.notebook import tqdm\n",
    "tqdm.pandas()\n",
    "\n",
    "import matplotlib.pyplot as plt\n",
    "import matplotlib.cm as cm\n",
    "\n",
    "from sklearn.decomposition import PCA\n",
    "from sklearn.manifold import TSNE\n",
    "from sklearn import preprocessing\n",
    "\n",
    "from os import cpu_count\n",
    "import pickle\n",
    "\n",
    "from langdetect import detect\n",
    "from langdetect import DetectorFactory\n",
    "\n",
    "from sklearn.feature_extraction.text import TfidfVectorizer\n",
    "from sklearn.cluster import MiniBatchKMeans\n",
    "\n",
    "import torch\n",
    "import torch.nn as nn\n",
    "from torch.utils.data import Dataset\n",
    "from torch.optim import AdamW\n",
    "from torch.utils.tensorboard import SummaryWriter\n",
    "\n",
    "import torchvision.transforms as transforms\n",
    "from transformers import DistilBertTokenizerFast\n",
    "from transformers import AutoConfig, AutoModel\n",
    "from transformers import DistilBertForSequenceClassification\n",
    "from transformers import pipeline\n",
    "from transformers import AutoTokenizer, AutoModelForSequenceClassification\n",
    "\n",
    "import spacy\n",
    "from nltk import SnowballStemmer\n",
    "\n",
    "\n",
    "if ENVIRONMENT == 'Colab':\n",
    "    from google.colab import drive"
   ]
  },
  {
   "cell_type": "markdown",
   "metadata": {
    "id": "InyKO7u8nwT7"
   },
   "source": [
    "### Mount drive, set paths"
   ]
  },
  {
   "cell_type": "code",
   "execution_count": 67,
   "metadata": {
    "colab": {
     "base_uri": "https://localhost:8080/"
    },
    "id": "vAiXSAR8zy7b",
    "outputId": "34270c9c-ac4a-4862-cfeb-fff81c9dbbcc"
   },
   "outputs": [
    {
     "name": "stdout",
     "output_type": "stream",
     "text": [
      "Drive already mounted at /content/drive; to attempt to forcibly remount, call drive.mount(\"/content/drive\", force_remount=True).\n"
     ]
    }
   ],
   "source": [
    "if ENVIRONMENT == 'Colab':\n",
    "  drive.mount('/content/drive')\n",
    "  data_path_train = Path('/content/drive/MyDrive/colab_data/aml_hw4/train_data_for_students.tsv')\n",
    "  path_output = Path('/content/drive/MyDrive/colab_data/aml_hw4/outputs')\n",
    "\n",
    "elif ENVIRONMENT == 'Local':\n",
    "  data_path_train = Path('./train_data_for_students.tsv')\n",
    "  path_output = Path('./outputs')\n",
    "\n",
    "if not data_path_train.exists():\n",
    "    raise FileNotFoundError('train data file not found!')\n",
    "\n",
    "if not path_output.is_dir():\n",
    "    path_output.mkdir(parents=True, exist_ok=True)\n"
   ]
  },
  {
   "cell_type": "markdown",
   "metadata": {
    "id": "NhlNzpggF_CK"
   },
   "source": [
    "## Download data, to initial dataframe"
   ]
  },
  {
   "cell_type": "code",
   "execution_count": 7,
   "metadata": {
    "colab": {
     "base_uri": "https://localhost:8080/"
    },
    "id": "DZqnxF75hckV",
    "outputId": "4d04a33f-f342-4a4c-84b8-e6b351d76a09"
   },
   "outputs": [
    {
     "name": "stdout",
     "output_type": "stream",
     "text": [
      "                   id            alias  \\\n",
      "0  845974102619906048  realDonaldTrump   \n",
      "1  846166053663191040  realDonaldTrump   \n",
      "2  835814988686233601  realDonaldTrump   \n",
      "3  835817351178301440  realDonaldTrump   \n",
      "4  835916511944523777  realDonaldTrump   \n",
      "\n",
      "                                                text            date_time  \\\n",
      "0  Democrats are smiling in D.C. that the Freedom...  2017-03-26 15:21:58   \n",
      "1  General Kelly is doing a great job at the bord...  2017-03-27 04:04:42   \n",
      "2  The race for DNC Chairman was, of course, tota...  2017-02-26 13:33:16   \n",
      "3  For first time the failing @nytimes will take ...  2017-02-26 13:42:39   \n",
      "4  Russia talk is FAKE NEWS put out by the Dems, ...  2017-02-26 20:16:41   \n",
      "\n",
      "     label  \n",
      "0   iphone  \n",
      "1   iphone  \n",
      "2  android  \n",
      "3  android  \n",
      "4  android  \n"
     ]
    }
   ],
   "source": [
    "data_train = pd.read_csv(data_path_train, sep='\\t', lineterminator='\\n', names=('id', 'alias', 'text', 'date_time', 'label'))\n",
    "print(data_train.head(5))"
   ]
  },
  {
   "cell_type": "markdown",
   "metadata": {
    "id": "p-XjKp9OEjH6"
   },
   "source": [
    "## Data Cleanup"
   ]
  },
  {
   "cell_type": "markdown",
   "metadata": {
    "id": "48JVfvIXGEZC"
   },
   "source": [
    "### Drop NA values"
   ]
  },
  {
   "cell_type": "code",
   "execution_count": 8,
   "metadata": {
    "colab": {
     "base_uri": "https://localhost:8080/"
    },
    "id": "pujUV95wFhAc",
    "outputId": "80cd6658-102f-4837-a775-54bcc138099c"
   },
   "outputs": [
    {
     "name": "stdout",
     "output_type": "stream",
     "text": [
      "shape before:(2682, 5)\n",
      "shape after:(2671, 5)\n"
     ]
    }
   ],
   "source": [
    "print(f'shape before:{data_train.shape}')\n",
    "data_train.dropna(axis=0, inplace=True)\n",
    "print(f'shape after:{data_train.shape}')\n"
   ]
  },
  {
   "cell_type": "markdown",
   "metadata": {
    "id": "Q4KVk_YXEjH8"
   },
   "source": [
    "### Drop irrelevant label rows"
   ]
  },
  {
   "cell_type": "code",
   "execution_count": 9,
   "metadata": {
    "id": "W7We8npdEjH9"
   },
   "outputs": [],
   "source": [
    "data_train = data_train.loc[data_train['label'].isin(['iphone', 'android'])]"
   ]
  },
  {
   "cell_type": "markdown",
   "metadata": {
    "id": "gDOlaunDEjH9"
   },
   "source": [
    "### Check data label balance"
   ]
  },
  {
   "cell_type": "code",
   "execution_count": 10,
   "metadata": {
    "colab": {
     "base_uri": "https://localhost:8080/",
     "height": 0
    },
    "id": "YE1u11L_EjH-",
    "outputId": "93cea884-c526-4c69-f571-06bc16ac0640"
   },
   "outputs": [
    {
     "data": {
      "image/png": "[encoded data removed]",
      "text/plain": [
       "<Figure size 432x432 with 1 Axes>"
      ]
     },
     "metadata": {
      "needs_background": "light"
     },
     "output_type": "display_data"
    }
   ],
   "source": [
    "def labels_balance(data: pd.DataFrame, label_name: str):\n",
    "  '''\n",
    "  Gets: \n",
    "  data - pandas dataframe with attribute values in index, iphone and android columns with counts\n",
    "  attribute name - string\n",
    "  '''\n",
    "\n",
    "  samples_per_label = pd.DataFrame(data[label_name].value_counts())\n",
    "  samples_per_label.columns=['count']\n",
    "  samples_per_label['percent'] = samples_per_label['count'].values / sum(samples_per_label['count'])\n",
    "\n",
    "  \n",
    "  fig, ax = plt.subplots(figsize=(6, 6))\n",
    "  x = np.arange(len(samples_per_label))\n",
    "  bars = ax.bar(x, samples_per_label['count'], label='Data label counts')\n",
    "  \n",
    "  ax.set_ylabel('Samples')\n",
    "  ax.set_title(f'Samples per label')\n",
    "  ax.set_xticks(x)\n",
    "  ax.set_xticklabels(samples_per_label.index)\n",
    "\n",
    "  if ENVIRONMENT == 'local':\n",
    "    ax.bar_label(bars)\n",
    "\n",
    "  ax.legend()\n",
    "  plt.setp(ax.get_xticklabels(), rotation=30, horizontalalignment='right')\n",
    "  \n",
    "  plt.show()\n",
    "\n",
    "  return(samples_per_label)\n",
    "\n",
    "samples_per_label = labels_balance(data_train, 'label')\n"
   ]
  },
  {
   "cell_type": "markdown",
   "metadata": {
    "id": "L3LyOYTA2Nn7"
   },
   "source": [
    "## Utility Functions"
   ]
  },
  {
   "cell_type": "markdown",
   "metadata": {
    "id": "pl01sp9d2SyU"
   },
   "source": [
    "### compare attribute distribution android / iphone\n",
    "\n"
   ]
  },
  {
   "cell_type": "code",
   "execution_count": 11,
   "metadata": {
    "id": "WH44suRD2hGR"
   },
   "outputs": [],
   "source": [
    "def plot_bars_per_label(data: pd.DataFrame, attribute_name: str):\n",
    "  '''\n",
    "  Gets: \n",
    "  data - pandas dataframe with attribute values in index, iphone and android columns with counts\n",
    "  attribute name - string\n",
    "  '''\n",
    "\n",
    "  fig, ax = plt.subplots(1, 2, figsize=(14, 6))\n",
    "\n",
    "  x = np.arange(len(data.index))\n",
    "  width = 0.35\n",
    "\n",
    "  bars_iphone = ax[0].bar(x - width, data['iphone'], width, label='iphone tweets, log scale')\n",
    "  bars_android = ax[0].bar(x, data['android'] ,width, label='Android tweets, log scale')\n",
    "\n",
    "  ax[0].set_ylabel('tweets')\n",
    "  ax[0].set_title(f'tweets per {attribute_name} per origin')\n",
    "\n",
    "  bar_labels = list(data.index.values)\n",
    "  ax[0].set_xticks(x)\n",
    "  ax[0].set_xticklabels(bar_labels)\n",
    "\n",
    "  ax[0].set_yscale('log')\n",
    "  ax[0].legend()\n",
    "\n",
    "# percentage\n",
    "  data_percentage = pd.DataFrame()\n",
    "  data_percentage['iphone'] = data['iphone'] / (data['iphone'] + data['android'])\n",
    "  data_percentage['android'] = data['android'] / (data['iphone'] + data['android'])\n",
    "\n",
    "  bars_iphone = ax[1].bar(x, data_percentage['iphone'], label='iphone tweets, percent')\n",
    "  bars_android = ax[1].bar(x, data_percentage['android'], bottom=data_percentage['iphone'], label='Android tweets, percent')\n",
    "\n",
    "  ax[1].set_ylabel('tweets percent')\n",
    "  ax[1].set_title(f'tweets percentage per {attribute_name} per origin')\n",
    "\n",
    "  ax[1].set_xticks(x)\n",
    "  ax[1].set_xticklabels(bar_labels)\n",
    "  ax[1].legend()\n",
    "\n",
    "\n",
    "  plt.show()"
   ]
  },
  {
   "cell_type": "markdown",
   "metadata": {
    "id": "DU7NEJyBRp-t"
   },
   "source": [
    "### Plot train progress - loss and accuracy"
   ]
  },
  {
   "cell_type": "code",
   "execution_count": 12,
   "metadata": {
    "id": "6fzJ2KxtRqHg"
   },
   "outputs": [],
   "source": [
    "def plot_train_progress(data: pd.DataFrame):\n",
    "\n",
    "  '''\n",
    "  Gets: \n",
    "  data - pandas dataframe with attribute values in index, iphone and android columns with counts\n",
    "  attribute name - string\n",
    "  '''\n",
    "\n",
    "  fig, ax = plt.subplots(figsize=(6, 6))\n",
    "  ax_accuracy = ax.twinx()\n",
    "\n",
    "\n",
    "  train_loss_line = ax.plot(data['epoch'], data['train_loss'], label='Train loss', color='b')\n",
    "  validation_loss_line = ax.plot(data['epoch'], data['validation_loss'], label='Validation loss', color='r')\n",
    "  validation_accuracy_line = ax_accuracy.plot(data['epoch'], data['validation_accuracy'], label='Validation accuracy', color='y')\n",
    "\n",
    "  ax.set_ylabel('loss')\n",
    "  ax_accuracy.set_ylabel('Accuracy')\n",
    "  ax.set_title(f'Train progress per epoch')\n",
    "\n",
    "  ax.legend()\n",
    "  ax_accuracy.legend()\n",
    "\n",
    "  plt.show()"
   ]
  },
  {
   "cell_type": "markdown",
   "metadata": {
    "id": "p4FH5ovMV1S9"
   },
   "source": [
    "## Feature Engineering\n",
    "* Style based attributes:\n",
    "  1. Has \"Dumb retweets\" - Boolean\n",
    "  2. number of capital letters in tweet\n",
    "  3. Contains URLs - Boolean\n",
    "  5. Language - category string\n",
    "  6. Hashtag count in text - int\n",
    "\n",
    "* Time based attributes:\n",
    "  1. Hour of day\n",
    "  2. Minutes of day\n",
    "  3. day of week\n",
    "  4. day of month\n",
    "  5. Month\n",
    "  6. Year\n",
    "\n"
   ]
  },
  {
   "cell_type": "code",
   "execution_count": 13,
   "metadata": {
    "id": "b_pPlp07ZV3I"
   },
   "outputs": [],
   "source": [
    "SEED = 1234\n",
    "\n",
    "# random.seed(SEED)\n",
    "np.random.seed(SEED)\n",
    "torch.manual_seed(SEED)\n",
    "torch.cuda.manual_seed(SEED)\n",
    "torch.backends.cudnn.deterministic = True"
   ]
  },
  {
   "cell_type": "markdown",
   "metadata": {
    "id": "xSyY7mBTn6ik"
   },
   "source": [
    "### Function definitions for attribute engineering"
   ]
  },
  {
   "cell_type": "markdown",
   "metadata": {
    "id": "Mqr4EQ0EzMoh"
   },
   "source": [
    "#### Add language attribute"
   ]
  },
  {
   "cell_type": "code",
   "execution_count": 14,
   "metadata": {
    "id": "5jqjlrAQzLEt"
   },
   "outputs": [],
   "source": [
    "# Language detection\n",
    "def get_string_language(string):\n",
    "    \"\"\"Gets the languages of each paper using fancy machine-learning\"\"\"\n",
    "    try:\n",
    "        return detect(''.join(string[:min(len(string), 50)]))\n",
    "    except:       \n",
    "        # Defaulting to English if failed to detect\n",
    "        return 'en'\n",
    "  \n",
    "\n",
    "def get_text_language(texts):\n",
    "  DetectorFactory.seed = 123\n",
    "  langs = pd.Series(texts).progress_apply(get_string_language)\n",
    "  return langs"
   ]
  },
  {
   "cell_type": "markdown",
   "metadata": {
    "id": "PUigqKwnyLxg"
   },
   "source": [
    "#### Add \"quote retweets\" attribute"
   ]
  },
  {
   "cell_type": "code",
   "execution_count": 15,
   "metadata": {
    "id": "fnMiRfs2yTSv"
   },
   "outputs": [],
   "source": [
    "# quote retweet detection\n",
    "def is_quote_retweet(string):\n",
    "    \"\"\"returns boolean - contains quote retweet True / False\"\"\"\n",
    "    search_exp = '^@.*\".*\"'\n",
    "    return not (re.search(search_exp, string) is None)\n",
    "\n",
    "\n",
    "def get_text_quote_retweets(texts):\n",
    "  quote_retweets = pd.Series(texts).progress_apply(is_quote_retweet)\n",
    "  return quote_retweets"
   ]
  },
  {
   "cell_type": "markdown",
   "metadata": {
    "id": "DqA5w4hW67s8"
   },
   "source": [
    "#### Add capital letter count attribute"
   ]
  },
  {
   "cell_type": "code",
   "execution_count": 16,
   "metadata": {
    "id": "O6wXmhGy7BJF"
   },
   "outputs": [],
   "source": [
    "# count of capital letters\n",
    "def string_percent_caps(string):\n",
    "    \"\"\"returns float - % capital letters\"\"\"\n",
    "    p_caps = sum(1 for c in string if c.isupper()) / len(string)\n",
    "    return np.round(p_caps, 2)\n",
    "\n",
    "\n",
    "def get_percent_caps(texts):\n",
    "  percent_caps = pd.Series(texts).progress_apply(string_percent_caps)\n",
    "  return percent_caps"
   ]
  },
  {
   "cell_type": "markdown",
   "metadata": {
    "id": "ionqPyG1Z_K4"
   },
   "source": [
    "#### Add contains url attribute"
   ]
  },
  {
   "cell_type": "code",
   "execution_count": 17,
   "metadata": {
    "id": "1zxTtwcoaKCT"
   },
   "outputs": [],
   "source": [
    "# url detection\n",
    "def string_contains_url(string):\n",
    "    \"\"\"returns boolean - contains url True / False\"\"\"\n",
    "    search_exp = 'http'\n",
    "    return not (re.search(search_exp, string) is None)\n",
    "\n",
    "def get_contains_url(texts):\n",
    "  contains_url = pd.Series(texts).progress_apply(string_contains_url)\n",
    "  return contains_url"
   ]
  },
  {
   "cell_type": "markdown",
   "metadata": {
    "id": "YAswb9oO5kYm"
   },
   "source": [
    "#### Contains Hashtag attribute"
   ]
  },
  {
   "cell_type": "code",
   "execution_count": 18,
   "metadata": {
    "id": "PvMx1bZ05ncm"
   },
   "outputs": [],
   "source": [
    "# count of capital letters\n",
    "def string_hashtag_count(string):\n",
    "    \"\"\"returns int - num capital letters\"\"\"\n",
    "    h_count = sum(1 for c in string if c == '#')\n",
    "    return h_count\n",
    "\n",
    "\n",
    "def get_hashtag_count(texts):\n",
    "  hashtag_count = pd.Series(texts).progress_apply(string_hashtag_count)\n",
    "  return hashtag_count"
   ]
  },
  {
   "cell_type": "markdown",
   "metadata": {
    "id": "KSPNvdox7yN_"
   },
   "source": [
    "#### Time based attributes"
   ]
  },
  {
   "cell_type": "code",
   "execution_count": 19,
   "metadata": {
    "id": "QePd3lRy74DC"
   },
   "outputs": [],
   "source": [
    "# date time attributes\n",
    "def add_row_datetime_atts(row, date_time_col_name):\n",
    "    \"\"\"returns int - num capital letters\"\"\"\n",
    "    if row[date_time_col_name] is not np.nan:\n",
    "        datetime_obj = datetime.datetime.strptime(row[date_time_col_name], \"%Y-%m-%d  %H:%M:%S\")\n",
    "        row['year'] = datetime_obj.year\n",
    "        row['month'] = datetime_obj.month\n",
    "        row['day'] = datetime_obj.day\n",
    "        row['hour'] = datetime_obj.hour\n",
    "        row['minute'] = datetime_obj.minute    \n",
    "        row['weekday'] = datetime_obj.weekday()\n",
    "        return row\n",
    "\n",
    "\n",
    "def add_df_datetime_atts(dataframe, date_time_col_name):\n",
    "    dataframe = dataframe.progress_apply(add_row_datetime_atts, args=[date_time_col_name], axis=1)\n",
    "    return dataframe"
   ]
  },
  {
   "cell_type": "markdown",
   "metadata": {
    "id": "DoJEvY88jvCa"
   },
   "source": [
    "#### Apply attribute enrichment to dataset"
   ]
  },
  {
   "cell_type": "code",
   "execution_count": 20,
   "metadata": {
    "id": "JuRNxY4Ij0-d"
   },
   "outputs": [],
   "source": [
    "# Add all custom attributes\n",
    "\n",
    "def add_custom_atts_to_df(dataframe):\n",
    "\n",
    "  # Language is unreliable - not added. all treated as English \n",
    "  # print(\"Adding language attribute\")\n",
    "  # dataframe['lang'] = get_text_language(dataframe['text'])\n",
    "\n",
    "  print(\"Adding quote_retweet attribute\")\n",
    "  dataframe['quote_retweet'] = get_text_quote_retweets(dataframe['text'])\n",
    "\n",
    "  print(\"Adding percent_caps attribute\")\n",
    "  dataframe['percent_caps'] = get_percent_caps(dataframe['text'])\n",
    "\n",
    "  print(\"Adding contains_url attribute\")\n",
    "  dataframe['contains_url'] = get_contains_url(dataframe['text'])\n",
    "\n",
    "  print(\"Adding hashtag_count attribute\")\n",
    "  dataframe['hashtag_count'] = get_hashtag_count(dataframe['text'])\n",
    "\n",
    "  print(\"Adding date/time attributes\")\n",
    "  dataframe = add_df_datetime_atts(dataframe, 'date_time')\n",
    "\n",
    "  return dataframe"
   ]
  },
  {
   "cell_type": "markdown",
   "metadata": {
    "id": "N9J60zutntn7"
   },
   "source": [
    "### Add attributes to train dataframe"
   ]
  },
  {
   "cell_type": "code",
   "execution_count": 21,
   "metadata": {
    "colab": {
     "base_uri": "https://localhost:8080/",
     "height": 225
    },
    "id": "xZF8o_2aoJyd",
    "outputId": "ed04858d-9ef9-4f1f-c6d8-e45751162546"
   },
   "outputs": [
    {
     "name": "stdout",
     "output_type": "stream",
     "text": [
      "Before:\n"
     ]
    },
    {
     "data": {
      "text/html": [
       "\n",
       "  <div id=\"df-a30847c3-4a51-4d47-961d-6024c5096253\">\n",
       "    <div class=\"colab-df-container\">\n",
       "      <div>\n",
       "<style scoped>\n",
       "    .dataframe tbody tr th:only-of-type {\n",
       "        vertical-align: middle;\n",
       "    }\n",
       "\n",
       "    .dataframe tbody tr th {\n",
       "        vertical-align: top;\n",
       "    }\n",
       "\n",
       "    .dataframe thead th {\n",
       "        text-align: right;\n",
       "    }\n",
       "</style>\n",
       "<table border=\"1\" class=\"dataframe\">\n",
       "  <thead>\n",
       "    <tr style=\"text-align: right;\">\n",
       "      <th></th>\n",
       "      <th>id</th>\n",
       "      <th>alias</th>\n",
       "      <th>text</th>\n",
       "      <th>date_time</th>\n",
       "      <th>label</th>\n",
       "    </tr>\n",
       "  </thead>\n",
       "  <tbody>\n",
       "    <tr>\n",
       "      <th>0</th>\n",
       "      <td>845974102619906048</td>\n",
       "      <td>realDonaldTrump</td>\n",
       "      <td>Democrats are smiling in D.C. that the Freedom...</td>\n",
       "      <td>2017-03-26 15:21:58</td>\n",
       "      <td>iphone</td>\n",
       "    </tr>\n",
       "    <tr>\n",
       "      <th>1</th>\n",
       "      <td>846166053663191040</td>\n",
       "      <td>realDonaldTrump</td>\n",
       "      <td>General Kelly is doing a great job at the bord...</td>\n",
       "      <td>2017-03-27 04:04:42</td>\n",
       "      <td>iphone</td>\n",
       "    </tr>\n",
       "    <tr>\n",
       "      <th>2</th>\n",
       "      <td>835814988686233601</td>\n",
       "      <td>realDonaldTrump</td>\n",
       "      <td>The race for DNC Chairman was, of course, tota...</td>\n",
       "      <td>2017-02-26 13:33:16</td>\n",
       "      <td>android</td>\n",
       "    </tr>\n",
       "    <tr>\n",
       "      <th>3</th>\n",
       "      <td>835817351178301440</td>\n",
       "      <td>realDonaldTrump</td>\n",
       "      <td>For first time the failing @nytimes will take ...</td>\n",
       "      <td>2017-02-26 13:42:39</td>\n",
       "      <td>android</td>\n",
       "    </tr>\n",
       "    <tr>\n",
       "      <th>4</th>\n",
       "      <td>835916511944523777</td>\n",
       "      <td>realDonaldTrump</td>\n",
       "      <td>Russia talk is FAKE NEWS put out by the Dems, ...</td>\n",
       "      <td>2017-02-26 20:16:41</td>\n",
       "      <td>android</td>\n",
       "    </tr>\n",
       "  </tbody>\n",
       "</table>\n",
       "</div>\n",
       "      <button class=\"colab-df-convert\" onclick=\"convertToInteractive('df-a30847c3-4a51-4d47-961d-6024c5096253')\"\n",
       "              title=\"Convert this dataframe to an interactive table.\"\n",
       "              style=\"display:none;\">\n",
       "        \n",
       "  <svg xmlns=\"http://www.w3.org/2000/svg\" height=\"24px\"viewBox=\"0 0 24 24\"\n",
       "       width=\"24px\">\n",
       "    <path d=\"M0 0h24v24H0V0z\" fill=\"none\"/>\n",
       "    <path d=\"M18.56 5.44l.94 2.06.94-2.06 2.06-.94-2.06-.94-.94-2.06-.94 2.06-2.06.94zm-11 1L8.5 8.5l.94-2.06 2.06-.94-2.06-.94L8.5 2.5l-.94 2.06-2.06.94zm10 10l.94 2.06.94-2.06 2.06-.94-2.06-.94-.94-2.06-.94 2.06-2.06.94z\"/><path d=\"M17.41 7.96l-1.37-1.37c-.4-.4-.92-.59-1.43-.59-.52 0-1.04.2-1.43.59L10.3 9.45l-7.72 7.72c-.78.78-.78 2.05 0 2.83L4 21.41c.39.39.9.59 1.41.59.51 0 1.02-.2 1.41-.59l7.78-7.78 2.81-2.81c.8-.78.8-2.07 0-2.86zM5.41 20L4 18.59l7.72-7.72 1.47 1.35L5.41 20z\"/>\n",
       "  </svg>\n",
       "      </button>\n",
       "      \n",
       "  <style>\n",
       "    .colab-df-container {\n",
       "      display:flex;\n",
       "      flex-wrap:wrap;\n",
       "      gap: 12px;\n",
       "    }\n",
       "\n",
       "    .colab-df-convert {\n",
       "      background-color: #E8F0FE;\n",
       "      border: none;\n",
       "      border-radius: 50%;\n",
       "      cursor: pointer;\n",
       "      display: none;\n",
       "      fill: #1967D2;\n",
       "      height: 32px;\n",
       "      padding: 0 0 0 0;\n",
       "      width: 32px;\n",
       "    }\n",
       "\n",
       "    .colab-df-convert:hover {\n",
       "      background-color: #E2EBFA;\n",
       "      box-shadow: 0px 1px 2px rgba(60, 64, 67, 0.3), 0px 1px 3px 1px rgba(60, 64, 67, 0.15);\n",
       "      fill: #174EA6;\n",
       "    }\n",
       "\n",
       "    [theme=dark] .colab-df-convert {\n",
       "      background-color: #3B4455;\n",
       "      fill: #D2E3FC;\n",
       "    }\n",
       "\n",
       "    [theme=dark] .colab-df-convert:hover {\n",
       "      background-color: #434B5C;\n",
       "      box-shadow: 0px 1px 3px 1px rgba(0, 0, 0, 0.15);\n",
       "      filter: drop-shadow(0px 1px 2px rgba(0, 0, 0, 0.3));\n",
       "      fill: #FFFFFF;\n",
       "    }\n",
       "  </style>\n",
       "\n",
       "      <script>\n",
       "        const buttonEl =\n",
       "          document.querySelector('#df-a30847c3-4a51-4d47-961d-6024c5096253 button.colab-df-convert');\n",
       "        buttonEl.style.display =\n",
       "          google.colab.kernel.accessAllowed ? 'block' : 'none';\n",
       "\n",
       "        async function convertToInteractive(key) {\n",
       "          const element = document.querySelector('#df-a30847c3-4a51-4d47-961d-6024c5096253');\n",
       "          const dataTable =\n",
       "            await google.colab.kernel.invokeFunction('convertToInteractive',\n",
       "                                                     [key], {});\n",
       "          if (!dataTable) return;\n",
       "\n",
       "          const docLinkHtml = 'Like what you see? Visit the ' +\n",
       "            '<a target=\"_blank\" href=https://colab.research.google.com/notebooks/data_table.ipynb>data table notebook</a>'\n",
       "            + ' to learn more about interactive tables.';\n",
       "          element.innerHTML = '';\n",
       "          dataTable['output_type'] = 'display_data';\n",
       "          await google.colab.output.renderOutput(dataTable, element);\n",
       "          const docLink = document.createElement('div');\n",
       "          docLink.innerHTML = docLinkHtml;\n",
       "          element.appendChild(docLink);\n",
       "        }\n",
       "      </script>\n",
       "    </div>\n",
       "  </div>\n",
       "  "
      ],
      "text/plain": [
       "                   id            alias  \\\n",
       "0  845974102619906048  realDonaldTrump   \n",
       "1  846166053663191040  realDonaldTrump   \n",
       "2  835814988686233601  realDonaldTrump   \n",
       "3  835817351178301440  realDonaldTrump   \n",
       "4  835916511944523777  realDonaldTrump   \n",
       "\n",
       "                                                text            date_time  \\\n",
       "0  Democrats are smiling in D.C. that the Freedom...  2017-03-26 15:21:58   \n",
       "1  General Kelly is doing a great job at the bord...  2017-03-27 04:04:42   \n",
       "2  The race for DNC Chairman was, of course, tota...  2017-02-26 13:33:16   \n",
       "3  For first time the failing @nytimes will take ...  2017-02-26 13:42:39   \n",
       "4  Russia talk is FAKE NEWS put out by the Dems, ...  2017-02-26 20:16:41   \n",
       "\n",
       "     label  \n",
       "0   iphone  \n",
       "1   iphone  \n",
       "2  android  \n",
       "3  android  \n",
       "4  android  "
      ]
     },
     "execution_count": 21,
     "metadata": {},
     "output_type": "execute_result"
    }
   ],
   "source": [
    "print('Before:')\n",
    "data_train.head(5)"
   ]
  },
  {
   "cell_type": "code",
   "execution_count": 22,
   "metadata": {
    "colab": {
     "base_uri": "https://localhost:8080/",
     "height": 269,
     "referenced_widgets": [
      "78ee625080494a95b206b3604c6cceb3",
      "907014a4e6b745958af0807792522e2a",
      "9522480fad4d46dc840631426f0a82e1",
      "270e7a412ccf44579139b8a9f9e28488",
      "838047f293844769986e0c7cf4ada4b6",
      "311891358f1e428f98909688486d8d40",
      "63a7e705bbf04614857a12200181d0d4",
      "c05d9167a9a444d8967219987a981362",
      "d75f134a8c1243ffb0496266c3379412",
      "39a2e718962e40dd9c6e8b9eea0adae2",
      "f0e58865da0e4810aa7892cb22c3551c",
      "8f492ea690cb4bcaa98a86abf10a1bfd",
      "63602b285d4147fc9571330756866bf3",
      "0bf6d673135d49c3a1ea0c5ddd81bdea",
      "4195771d087b4255b824cb5c16204b2d",
      "d3ea76d0b66f414eaf1e7e9aab84aaf2",
      "0c6bc7dbdb944afdba41a6cb9a5d6f18",
      "eb198eaec6e54781a0756ec1a194d470",
      "5ff4cb1fa04e4f20b06066b3e0910280",
      "a39be8ee0de34f1691b1721df038745e",
      "3dd5f9e7e65e4bb8a761c78a1b9ac671",
      "f2371fa50ae44c62adb69012b93992bf",
      "55e90add3206441b8cbe49bd1f422a8f",
      "2d828d2211b04b6cbc90cb30e7d21ba9",
      "499d59f0fe3a42e2adb422b13bcf3780",
      "bf6bd26e9bae40b78136b73939e8674b",
      "ff78b0a1f6104613935e1219f2749770",
      "323bc92c27324484bc4f3cf2692973ac",
      "6883b62b0d48420cbb491bca5d71f434",
      "f8d2ef26fdae44bd8f419201017355c0",
      "8b3f64a46166440088e26f3bef935f2b",
      "4ee3a211b30349c199edb19e6978c1b3",
      "bb7605fadeba4d908279900f6ff6baf0",
      "ba50f2e7da564af5a0896aad70d543ef",
      "550699a75efc4be48c1499da144ebf18",
      "2a239afda42041408ad30999e4510c99",
      "9ca6cd72f3e34e829eea4fd9e9201507",
      "689c8b2f93df4848bc154aca83625da5",
      "01e9c306455a4b728048b6cf9631b9c9",
      "cb76da943cca483683d7b6b7704bccc0",
      "35bd6b433c4244669c73f4b3d482a437",
      "d24c7bbf96da4e05a4e637aa479ac516",
      "164bf348eff54deb859e0641c55824c2",
      "b2d0a77eb55441a9b4c3527d0c2c71da",
      "3fb0914fe33e4e06a5b263c8d80a31f5",
      "fb5172c71d39452f8402853728c2951c",
      "d2d53dd1278240b39e3a148363297344",
      "4e9da552ae5e4e3b8906f1188049c7eb",
      "60c2f20a1f2d4a569cb6e8335a6b6aa4",
      "7c661f0a1bb44ac3b4297ffc6988557b",
      "7639ad9f846d4e4eabda3a225fbd59b8",
      "3a8774edb0584c67bccaefbeba30cc4e",
      "a9cbcf5907134b8a886c9039b86b0f62",
      "1a3c0086c5c34b6d94641dd3b73ffdeb",
      "8dd3cad4af3f4b53a9cfade822b895f1"
     ]
    },
    "id": "kK6Tp1Wuk0Nd",
    "outputId": "c412699a-4515-47eb-fb8c-1376b4b48afc"
   },
   "outputs": [
    {
     "name": "stdout",
     "output_type": "stream",
     "text": [
      "Adding quote_retweet attribute\n"
     ]
    },
    {
     "data": {
      "application/vnd.jupyter.widget-view+json": {
       "model_id": "78ee625080494a95b206b3604c6cceb3",
       "version_major": 2,
       "version_minor": 0
      },
      "text/plain": [
       "  0%|          | 0/2438 [00:00<?, ?it/s]"
      ]
     },
     "metadata": {},
     "output_type": "display_data"
    },
    {
     "name": "stdout",
     "output_type": "stream",
     "text": [
      "Adding percent_caps attribute\n"
     ]
    },
    {
     "data": {
      "application/vnd.jupyter.widget-view+json": {
       "model_id": "8f492ea690cb4bcaa98a86abf10a1bfd",
       "version_major": 2,
       "version_minor": 0
      },
      "text/plain": [
       "  0%|          | 0/2438 [00:00<?, ?it/s]"
      ]
     },
     "metadata": {},
     "output_type": "display_data"
    },
    {
     "name": "stdout",
     "output_type": "stream",
     "text": [
      "Adding contains_url attribute\n"
     ]
    },
    {
     "data": {
      "application/vnd.jupyter.widget-view+json": {
       "model_id": "55e90add3206441b8cbe49bd1f422a8f",
       "version_major": 2,
       "version_minor": 0
      },
      "text/plain": [
       "  0%|          | 0/2438 [00:00<?, ?it/s]"
      ]
     },
     "metadata": {},
     "output_type": "display_data"
    },
    {
     "name": "stdout",
     "output_type": "stream",
     "text": [
      "Adding hashtag_count attribute\n"
     ]
    },
    {
     "data": {
      "application/vnd.jupyter.widget-view+json": {
       "model_id": "ba50f2e7da564af5a0896aad70d543ef",
       "version_major": 2,
       "version_minor": 0
      },
      "text/plain": [
       "  0%|          | 0/2438 [00:00<?, ?it/s]"
      ]
     },
     "metadata": {},
     "output_type": "display_data"
    },
    {
     "name": "stdout",
     "output_type": "stream",
     "text": [
      "Adding date/time attributes\n"
     ]
    },
    {
     "data": {
      "application/vnd.jupyter.widget-view+json": {
       "model_id": "3fb0914fe33e4e06a5b263c8d80a31f5",
       "version_major": 2,
       "version_minor": 0
      },
      "text/plain": [
       "  0%|          | 0/2438 [00:00<?, ?it/s]"
      ]
     },
     "metadata": {},
     "output_type": "display_data"
    }
   ],
   "source": [
    "# Apply enrichment\n",
    "data_train = add_custom_atts_to_df(data_train)\n",
    "\n"
   ]
  },
  {
   "cell_type": "markdown",
   "metadata": {
    "id": "OcmFyLIhGe9H"
   },
   "source": [
    "#### Fix dtypes for all attributes:"
   ]
  },
  {
   "cell_type": "code",
   "execution_count": 23,
   "metadata": {
    "colab": {
     "base_uri": "https://localhost:8080/"
    },
    "id": "6Lm0-y66CYnk",
    "outputId": "4c48f78a-ae99-452b-e381-861a324ccea8"
   },
   "outputs": [
    {
     "name": "stdout",
     "output_type": "stream",
     "text": [
      "dtypes before: id                 int64\n",
      "alias             object\n",
      "text              object\n",
      "date_time         object\n",
      "label             object\n",
      "quote_retweet       bool\n",
      "percent_caps     float64\n",
      "contains_url        bool\n",
      "hashtag_count      int64\n",
      "year               int64\n",
      "month              int64\n",
      "day                int64\n",
      "hour               int64\n",
      "minute             int64\n",
      "weekday            int64\n",
      "dtype: object\n",
      "\n",
      "dtypes after: id                  int64\n",
      "alias              object\n",
      "text               string\n",
      "date_time          object\n",
      "label            category\n",
      "quote_retweet        bool\n",
      "percent_caps      float32\n",
      "contains_url         bool\n",
      "hashtag_count       int16\n",
      "year                int16\n",
      "month               int16\n",
      "day                 int16\n",
      "hour                int16\n",
      "minute              int16\n",
      "weekday          category\n",
      "dtype: object\n"
     ]
    }
   ],
   "source": [
    "# Fix dtypes\n",
    "\n",
    "print(f'dtypes before: {data_train.dtypes}')\n",
    "data_train = data_train.astype({'text': 'string', \n",
    "                   'date_time': 'object', \n",
    "                   'label': 'category', \n",
    "                  #  'lang': 'category', \n",
    "                   'quote_retweet': 'bool',\n",
    "                   'percent_caps': 'float32',\n",
    "                   'contains_url': 'bool',\n",
    "                   'hashtag_count': 'int16',\n",
    "                   'year': 'int16',\n",
    "                   'month': 'int16',\n",
    "                   'day': 'int16',\n",
    "                   'hour': 'int16',\n",
    "                   'minute': 'int16',\n",
    "                   'weekday': 'category'})\n",
    "print()\n",
    "print(f'dtypes after: {data_train.dtypes}')\n",
    "\n"
   ]
  },
  {
   "cell_type": "markdown",
   "metadata": {
    "id": "sumIB2t6HxE1"
   },
   "source": [
    "### Visualize engineered attributes\n"
   ]
  },
  {
   "cell_type": "code",
   "execution_count": 24,
   "metadata": {
    "colab": {
     "base_uri": "https://localhost:8080/",
     "height": 1000
    },
    "id": "xJijzWq_74VA",
    "outputId": "5c72b626-9646-4cbb-ffc6-d24db07f66d4"
   },
   "outputs": [
    {
     "name": "stdout",
     "output_type": "stream",
     "text": [
      "distribution of attribute quote_retweet:\n"
     ]
    },
    {
     "data": {
      "image/png": "[encoded data removed]",
      "text/plain": [
       "<Figure size 1008x432 with 2 Axes>"
      ]
     },
     "metadata": {
      "needs_background": "light"
     },
     "output_type": "display_data"
    },
    {
     "name": "stdout",
     "output_type": "stream",
     "text": [
      "\n",
      "distribution of attribute percent_caps:\n"
     ]
    },
    {
     "data": {
      "image/png": "[encoded data removed]",
      "text/plain": [
       "<Figure size 1008x432 with 2 Axes>"
      ]
     },
     "metadata": {
      "needs_background": "light"
     },
     "output_type": "display_data"
    },
    {
     "name": "stdout",
     "output_type": "stream",
     "text": [
      "\n",
      "distribution of attribute contains_url:\n"
     ]
    },
    {
     "data": {
      "image/png": "[encoded data removed]",
      "text/plain": [
       "<Figure size 1008x432 with 2 Axes>"
      ]
     },
     "metadata": {
      "needs_background": "light"
     },
     "output_type": "display_data"
    },
    {
     "name": "stdout",
     "output_type": "stream",
     "text": [
      "\n",
      "distribution of attribute hashtag_count:\n"
     ]
    },
    {
     "data": {
      "image/png": "[encoded data removed]",
      "text/plain": [
       "<Figure size 1008x432 with 2 Axes>"
      ]
     },
     "metadata": {
      "needs_background": "light"
     },
     "output_type": "display_data"
    },
    {
     "name": "stdout",
     "output_type": "stream",
     "text": [
      "\n",
      "distribution of attribute year:\n"
     ]
    },
    {
     "data": {
      "image/png": "[encoded data removed]",
      "text/plain": [
       "<Figure size 1008x432 with 2 Axes>"
      ]
     },
     "metadata": {
      "needs_background": "light"
     },
     "output_type": "display_data"
    },
    {
     "name": "stdout",
     "output_type": "stream",
     "text": [
      "\n",
      "distribution of attribute month:\n"
     ]
    },
    {
     "data": {
      "image/png": "[encoded data removed]",
      "text/plain": [
       "<Figure size 1008x432 with 2 Axes>"
      ]
     },
     "metadata": {
      "needs_background": "light"
     },
     "output_type": "display_data"
    },
    {
     "name": "stdout",
     "output_type": "stream",
     "text": [
      "\n",
      "distribution of attribute day:\n"
     ]
    },
    {
     "data": {
      "image/png": "[encoded data removed]",
      "text/plain": [
       "<Figure size 1008x432 with 2 Axes>"
      ]
     },
     "metadata": {
      "needs_background": "light"
     },
     "output_type": "display_data"
    },
    {
     "name": "stdout",
     "output_type": "stream",
     "text": [
      "\n",
      "distribution of attribute hour:\n"
     ]
    },
    {
     "data": {
      "image/png": "[encoded data removed]",
      "text/plain": [
       "<Figure size 1008x432 with 2 Axes>"
      ]
     },
     "metadata": {
      "needs_background": "light"
     },
     "output_type": "display_data"
    },
    {
     "name": "stdout",
     "output_type": "stream",
     "text": [
      "\n",
      "distribution of attribute minute:\n"
     ]
    },
    {
     "data": {
      "image/png": "[encoded data removed]",
      "text/plain": [
       "<Figure size 1008x432 with 2 Axes>"
      ]
     },
     "metadata": {
      "needs_background": "light"
     },
     "output_type": "display_data"
    },
    {
     "name": "stdout",
     "output_type": "stream",
     "text": [
      "\n",
      "distribution of attribute weekday:\n"
     ]
    },
    {
     "data": {
      "image/png": "[encoded data removed]",
      "text/plain": [
       "<Figure size 1008x432 with 2 Axes>"
      ]
     },
     "metadata": {
      "needs_background": "light"
     },
     "output_type": "display_data"
    },
    {
     "name": "stdout",
     "output_type": "stream",
     "text": [
      "\n"
     ]
    }
   ],
   "source": [
    "manual_classification_features = list(data_train.columns)\n",
    "del manual_classification_features[0:5]\n",
    "\n",
    "for attribute in manual_classification_features:\n",
    "  print(f'distribution of attribute {attribute}:')\n",
    "\n",
    "  tweets_per_att_iphone = data_train[data_train.label=='iphone'][attribute].value_counts()\n",
    "  tweets_per_att_android = data_train[data_train.label=='android'][attribute].value_counts()\n",
    "  tweets_per_att = pd.concat({'iphone': tweets_per_att_iphone, 'android': tweets_per_att_android}, axis = 1)\n",
    "  tweets_per_att = tweets_per_att.fillna(0)\n",
    "  plot_bars_per_label(tweets_per_att, attribute)\n",
    "  print()\n"
   ]
  },
  {
   "cell_type": "markdown",
   "metadata": {
    "id": "k1BkSOrpuRav"
   },
   "source": [
    "### Create label encoder"
   ]
  },
  {
   "cell_type": "code",
   "execution_count": 25,
   "metadata": {
    "colab": {
     "base_uri": "https://localhost:8080/"
    },
    "id": "50fztLIiuRkF",
    "outputId": "686a3a29-e697-4c20-b0f2-504d7c92293d"
   },
   "outputs": [
    {
     "name": "stdout",
     "output_type": "stream",
     "text": [
      "Label encoder in Train mode\n"
     ]
    }
   ],
   "source": [
    "labels = data_train.label\n",
    "\n",
    "data_path = path_output / Path('label_encoder.pickle')\n",
    "\n",
    "if LABEL_ENCODER_MODE == 'Train':\n",
    "  print('Label encoder in Train mode')\n",
    "  label_encoder = preprocessing.LabelEncoder().fit(labels)\n",
    "\n",
    "  with open(data_path, 'wb') as handle:\n",
    "    pickle.dump(label_encoder, handle)\n",
    "\n",
    "elif LABEL_ENCODER_MODE == 'Load':\n",
    "  print('Label encoder in Load mode')\n",
    "  with open(data_path, 'rb') as handle:\n",
    "    label_encoder = pickle.load(handle)\n"
   ]
  },
  {
   "cell_type": "markdown",
   "metadata": {
    "id": "PwG7-jY9TGxC"
   },
   "source": [
    "### Create feature scaler"
   ]
  },
  {
   "cell_type": "code",
   "execution_count": 26,
   "metadata": {
    "colab": {
     "base_uri": "https://localhost:8080/"
    },
    "id": "NY2l-0A5TG46",
    "outputId": "c87b5ee9-98f7-4c37-c447-8701fbe1dcd9"
   },
   "outputs": [
    {
     "name": "stdout",
     "output_type": "stream",
     "text": [
      "Scaler in Load mode\n"
     ]
    }
   ],
   "source": [
    "from sklearn.preprocessing import MinMaxScaler\n",
    "\n",
    "data_path = path_output / Path('min_max_scaler.pickle')\n",
    "\n",
    "manual_classification_features = list(data_train.columns)\n",
    "del manual_classification_features[0:5]\n",
    "data_for_classification = data_train[manual_classification_features]\n",
    "\n",
    "if SCALER_MODE == 'Train':\n",
    "  print('Scaler in Train mode')\n",
    "  scaler = MinMaxScaler().fit(data_for_classification)\n",
    "\n",
    "  with open(data_path, 'wb') as handle:\n",
    "    pickle.dump(scaler, handle)\n",
    "\n",
    "elif SCALER_MODE == 'Load':\n",
    "  print('Scaler in Load mode')\n",
    "  with open(data_path, 'rb') as handle:\n",
    "    scaler = pickle.load(handle)"
   ]
  },
  {
   "cell_type": "markdown",
   "metadata": {
    "id": "L2M6wzcWrpgB"
   },
   "source": [
    "### Create manual features dataset and label encoder for Pytorch"
   ]
  },
  {
   "cell_type": "code",
   "execution_count": 27,
   "metadata": {
    "id": "sW6g6AcHrtVx"
   },
   "outputs": [],
   "source": [
    "# Dataset and Dataloader for text features data\n",
    "\n",
    "class ManualFeaturesDataset(Dataset):\n",
    "    \"\"\"\n",
    "    Wrapper around Torch Dataset to perform text classification\n",
    "    \"\"\"\n",
    "\n",
    "    def __init__(self, manual_features_data, labels=None, label_encoder=None):\n",
    "        if labels is not None:\n",
    "          assert len(manual_features_data) == len(labels)\n",
    "        else:\n",
    "          self.labels = None\n",
    "        \n",
    "        self.manual_features_data = manual_features_data\n",
    "        \n",
    "        if labels is not None:\n",
    "          if label_encoder is not None:\n",
    "            self.label_encoder = label_encoder\n",
    "          else:\n",
    "            self.label_encoder = preprocessing.LabelEncoder().fit(labels)\n",
    "          \n",
    "          self.labels = pd.Series(self.label_encoder.transform(labels))\n",
    "\n",
    "    def __len__(self) -> int:\n",
    "        \"\"\"\n",
    "        Returns:\n",
    "            int: length of the dataset\n",
    "        \"\"\"\n",
    "        return len(self.manual_features_data)\n",
    "\n",
    "    def __getitem__(self, idx):\n",
    "        \"\"\"Gets element of the dataset\n",
    "\n",
    "        Args:\n",
    "            index (int): index of the element in the dataset\n",
    "        Returns:\n",
    "            Single element by index\n",
    "        \"\"\"\n",
    "\n",
    "        if self.labels is not None:\n",
    "          return torch.tensor(self.manual_features_data.iloc[idx, :]), torch.tensor(self.labels.iloc[idx])\n",
    "        else:\n",
    "          return torch.tensor(self.manual_features_data.iloc[idx, :])\n"
   ]
  },
  {
   "cell_type": "code",
   "execution_count": 28,
   "metadata": {
    "id": "1kLqVtHms-nC"
   },
   "outputs": [],
   "source": [
    "# Manual features dataset object creation\n",
    "# features to include\n",
    "manual_features_ds = ManualFeaturesDataset(scaler.transform(data_for_classification), labels=labels, label_encoder=label_encoder)\n",
    "\n",
    "\n",
    "# print(f'data_for_classification shape: {data_for_classification.shape}')\n",
    "# print(f'data_for_classification sample: {data_for_classification.iloc[0, :]}')\n",
    "\n",
    "# print(f'len(manual_features_ds): {len(manual_features_ds)}')\n",
    "# print(f'manual_features_ds sample: {manual_features_ds[0]}')"
   ]
  },
  {
   "cell_type": "markdown",
   "metadata": {
    "id": "X9vW6ujrKvbl"
   },
   "source": [
    "## Prepare data for language models"
   ]
  },
  {
   "cell_type": "markdown",
   "metadata": {
    "id": "detYSBCcAYhS"
   },
   "source": [
    "### Preprocess text for language model"
   ]
  },
  {
   "cell_type": "code",
   "execution_count": 29,
   "metadata": {
    "id": "36MGou5bEjIM"
   },
   "outputs": [],
   "source": [
    "# preprocess - clean tweets, replace [urls, hashtags, names], update labels to numbers\n",
    "\n",
    "def preprocess_text_for_bart(string_list):\n",
    "    preprocessed_text_list = pd.Series(string_list).copy()\n",
    "    \n",
    "    # TODO: preprocess here!\n",
    "    \n",
    "    return preprocessed_text_list\n",
    "\n",
    "\n",
    "def add_bart_preprocessed_column_to_df(dataframe):\n",
    "  dataframe.loc[:, 'text_for_lang_model'] = preprocess_text_for_bart(dataframe.loc[:, 'text'])\n",
    "  # TODO: need to add cleanup logic here!\n",
    "\n",
    "  return dataframe\n"
   ]
  },
  {
   "cell_type": "code",
   "execution_count": 30,
   "metadata": {
    "colab": {
     "base_uri": "https://localhost:8080/",
     "height": 337
    },
    "id": "MkOTkH1-YmTZ",
    "outputId": "167b6866-489f-4a3f-b3bd-6f46e52c9c4b"
   },
   "outputs": [
    {
     "data": {
      "text/html": [
       "\n",
       "  <div id=\"df-4214b26b-189f-450f-91eb-d6ca1a528ed3\">\n",
       "    <div class=\"colab-df-container\">\n",
       "      <div>\n",
       "<style scoped>\n",
       "    .dataframe tbody tr th:only-of-type {\n",
       "        vertical-align: middle;\n",
       "    }\n",
       "\n",
       "    .dataframe tbody tr th {\n",
       "        vertical-align: top;\n",
       "    }\n",
       "\n",
       "    .dataframe thead th {\n",
       "        text-align: right;\n",
       "    }\n",
       "</style>\n",
       "<table border=\"1\" class=\"dataframe\">\n",
       "  <thead>\n",
       "    <tr style=\"text-align: right;\">\n",
       "      <th></th>\n",
       "      <th>id</th>\n",
       "      <th>alias</th>\n",
       "      <th>text</th>\n",
       "      <th>date_time</th>\n",
       "      <th>label</th>\n",
       "      <th>quote_retweet</th>\n",
       "      <th>percent_caps</th>\n",
       "      <th>contains_url</th>\n",
       "      <th>hashtag_count</th>\n",
       "      <th>year</th>\n",
       "      <th>month</th>\n",
       "      <th>day</th>\n",
       "      <th>hour</th>\n",
       "      <th>minute</th>\n",
       "      <th>weekday</th>\n",
       "      <th>text_for_lang_model</th>\n",
       "    </tr>\n",
       "  </thead>\n",
       "  <tbody>\n",
       "    <tr>\n",
       "      <th>0</th>\n",
       "      <td>845974102619906048</td>\n",
       "      <td>realDonaldTrump</td>\n",
       "      <td>Democrats are smiling in D.C. that the Freedom...</td>\n",
       "      <td>2017-03-26 15:21:58</td>\n",
       "      <td>iphone</td>\n",
       "      <td>False</td>\n",
       "      <td>0.08</td>\n",
       "      <td>False</td>\n",
       "      <td>0</td>\n",
       "      <td>2017</td>\n",
       "      <td>3</td>\n",
       "      <td>26</td>\n",
       "      <td>15</td>\n",
       "      <td>21</td>\n",
       "      <td>6</td>\n",
       "      <td>Democrats are smiling in D.C. that the Freedom...</td>\n",
       "    </tr>\n",
       "    <tr>\n",
       "      <th>1</th>\n",
       "      <td>846166053663191040</td>\n",
       "      <td>realDonaldTrump</td>\n",
       "      <td>General Kelly is doing a great job at the bord...</td>\n",
       "      <td>2017-03-27 04:04:42</td>\n",
       "      <td>iphone</td>\n",
       "      <td>False</td>\n",
       "      <td>0.03</td>\n",
       "      <td>False</td>\n",
       "      <td>0</td>\n",
       "      <td>2017</td>\n",
       "      <td>3</td>\n",
       "      <td>27</td>\n",
       "      <td>4</td>\n",
       "      <td>4</td>\n",
       "      <td>0</td>\n",
       "      <td>General Kelly is doing a great job at the bord...</td>\n",
       "    </tr>\n",
       "    <tr>\n",
       "      <th>2</th>\n",
       "      <td>835814988686233601</td>\n",
       "      <td>realDonaldTrump</td>\n",
       "      <td>The race for DNC Chairman was, of course, tota...</td>\n",
       "      <td>2017-02-26 13:33:16</td>\n",
       "      <td>android</td>\n",
       "      <td>False</td>\n",
       "      <td>0.07</td>\n",
       "      <td>False</td>\n",
       "      <td>0</td>\n",
       "      <td>2017</td>\n",
       "      <td>2</td>\n",
       "      <td>26</td>\n",
       "      <td>13</td>\n",
       "      <td>33</td>\n",
       "      <td>6</td>\n",
       "      <td>The race for DNC Chairman was, of course, tota...</td>\n",
       "    </tr>\n",
       "    <tr>\n",
       "      <th>3</th>\n",
       "      <td>835817351178301440</td>\n",
       "      <td>realDonaldTrump</td>\n",
       "      <td>For first time the failing @nytimes will take ...</td>\n",
       "      <td>2017-02-26 13:42:39</td>\n",
       "      <td>android</td>\n",
       "      <td>False</td>\n",
       "      <td>0.01</td>\n",
       "      <td>False</td>\n",
       "      <td>0</td>\n",
       "      <td>2017</td>\n",
       "      <td>2</td>\n",
       "      <td>26</td>\n",
       "      <td>13</td>\n",
       "      <td>42</td>\n",
       "      <td>6</td>\n",
       "      <td>For first time the failing @nytimes will take ...</td>\n",
       "    </tr>\n",
       "    <tr>\n",
       "      <th>4</th>\n",
       "      <td>835916511944523777</td>\n",
       "      <td>realDonaldTrump</td>\n",
       "      <td>Russia talk is FAKE NEWS put out by the Dems, ...</td>\n",
       "      <td>2017-02-26 20:16:41</td>\n",
       "      <td>android</td>\n",
       "      <td>False</td>\n",
       "      <td>0.07</td>\n",
       "      <td>False</td>\n",
       "      <td>0</td>\n",
       "      <td>2017</td>\n",
       "      <td>2</td>\n",
       "      <td>26</td>\n",
       "      <td>20</td>\n",
       "      <td>16</td>\n",
       "      <td>6</td>\n",
       "      <td>Russia talk is FAKE NEWS put out by the Dems, ...</td>\n",
       "    </tr>\n",
       "  </tbody>\n",
       "</table>\n",
       "</div>\n",
       "      <button class=\"colab-df-convert\" onclick=\"convertToInteractive('df-4214b26b-189f-450f-91eb-d6ca1a528ed3')\"\n",
       "              title=\"Convert this dataframe to an interactive table.\"\n",
       "              style=\"display:none;\">\n",
       "        \n",
       "  <svg xmlns=\"http://www.w3.org/2000/svg\" height=\"24px\"viewBox=\"0 0 24 24\"\n",
       "       width=\"24px\">\n",
       "    <path d=\"M0 0h24v24H0V0z\" fill=\"none\"/>\n",
       "    <path d=\"M18.56 5.44l.94 2.06.94-2.06 2.06-.94-2.06-.94-.94-2.06-.94 2.06-2.06.94zm-11 1L8.5 8.5l.94-2.06 2.06-.94-2.06-.94L8.5 2.5l-.94 2.06-2.06.94zm10 10l.94 2.06.94-2.06 2.06-.94-2.06-.94-.94-2.06-.94 2.06-2.06.94z\"/><path d=\"M17.41 7.96l-1.37-1.37c-.4-.4-.92-.59-1.43-.59-.52 0-1.04.2-1.43.59L10.3 9.45l-7.72 7.72c-.78.78-.78 2.05 0 2.83L4 21.41c.39.39.9.59 1.41.59.51 0 1.02-.2 1.41-.59l7.78-7.78 2.81-2.81c.8-.78.8-2.07 0-2.86zM5.41 20L4 18.59l7.72-7.72 1.47 1.35L5.41 20z\"/>\n",
       "  </svg>\n",
       "      </button>\n",
       "      \n",
       "  <style>\n",
       "    .colab-df-container {\n",
       "      display:flex;\n",
       "      flex-wrap:wrap;\n",
       "      gap: 12px;\n",
       "    }\n",
       "\n",
       "    .colab-df-convert {\n",
       "      background-color: #E8F0FE;\n",
       "      border: none;\n",
       "      border-radius: 50%;\n",
       "      cursor: pointer;\n",
       "      display: none;\n",
       "      fill: #1967D2;\n",
       "      height: 32px;\n",
       "      padding: 0 0 0 0;\n",
       "      width: 32px;\n",
       "    }\n",
       "\n",
       "    .colab-df-convert:hover {\n",
       "      background-color: #E2EBFA;\n",
       "      box-shadow: 0px 1px 2px rgba(60, 64, 67, 0.3), 0px 1px 3px 1px rgba(60, 64, 67, 0.15);\n",
       "      fill: #174EA6;\n",
       "    }\n",
       "\n",
       "    [theme=dark] .colab-df-convert {\n",
       "      background-color: #3B4455;\n",
       "      fill: #D2E3FC;\n",
       "    }\n",
       "\n",
       "    [theme=dark] .colab-df-convert:hover {\n",
       "      background-color: #434B5C;\n",
       "      box-shadow: 0px 1px 3px 1px rgba(0, 0, 0, 0.15);\n",
       "      filter: drop-shadow(0px 1px 2px rgba(0, 0, 0, 0.3));\n",
       "      fill: #FFFFFF;\n",
       "    }\n",
       "  </style>\n",
       "\n",
       "      <script>\n",
       "        const buttonEl =\n",
       "          document.querySelector('#df-4214b26b-189f-450f-91eb-d6ca1a528ed3 button.colab-df-convert');\n",
       "        buttonEl.style.display =\n",
       "          google.colab.kernel.accessAllowed ? 'block' : 'none';\n",
       "\n",
       "        async function convertToInteractive(key) {\n",
       "          const element = document.querySelector('#df-4214b26b-189f-450f-91eb-d6ca1a528ed3');\n",
       "          const dataTable =\n",
       "            await google.colab.kernel.invokeFunction('convertToInteractive',\n",
       "                                                     [key], {});\n",
       "          if (!dataTable) return;\n",
       "\n",
       "          const docLinkHtml = 'Like what you see? Visit the ' +\n",
       "            '<a target=\"_blank\" href=https://colab.research.google.com/notebooks/data_table.ipynb>data table notebook</a>'\n",
       "            + ' to learn more about interactive tables.';\n",
       "          element.innerHTML = '';\n",
       "          dataTable['output_type'] = 'display_data';\n",
       "          await google.colab.output.renderOutput(dataTable, element);\n",
       "          const docLink = document.createElement('div');\n",
       "          docLink.innerHTML = docLinkHtml;\n",
       "          element.appendChild(docLink);\n",
       "        }\n",
       "      </script>\n",
       "    </div>\n",
       "  </div>\n",
       "  "
      ],
      "text/plain": [
       "                   id            alias  \\\n",
       "0  845974102619906048  realDonaldTrump   \n",
       "1  846166053663191040  realDonaldTrump   \n",
       "2  835814988686233601  realDonaldTrump   \n",
       "3  835817351178301440  realDonaldTrump   \n",
       "4  835916511944523777  realDonaldTrump   \n",
       "\n",
       "                                                text            date_time  \\\n",
       "0  Democrats are smiling in D.C. that the Freedom...  2017-03-26 15:21:58   \n",
       "1  General Kelly is doing a great job at the bord...  2017-03-27 04:04:42   \n",
       "2  The race for DNC Chairman was, of course, tota...  2017-02-26 13:33:16   \n",
       "3  For first time the failing @nytimes will take ...  2017-02-26 13:42:39   \n",
       "4  Russia talk is FAKE NEWS put out by the Dems, ...  2017-02-26 20:16:41   \n",
       "\n",
       "     label  quote_retweet  percent_caps  contains_url  hashtag_count  year  \\\n",
       "0   iphone          False          0.08         False              0  2017   \n",
       "1   iphone          False          0.03         False              0  2017   \n",
       "2  android          False          0.07         False              0  2017   \n",
       "3  android          False          0.01         False              0  2017   \n",
       "4  android          False          0.07         False              0  2017   \n",
       "\n",
       "   month  day  hour  minute weekday  \\\n",
       "0      3   26    15      21       6   \n",
       "1      3   27     4       4       0   \n",
       "2      2   26    13      33       6   \n",
       "3      2   26    13      42       6   \n",
       "4      2   26    20      16       6   \n",
       "\n",
       "                                 text_for_lang_model  \n",
       "0  Democrats are smiling in D.C. that the Freedom...  \n",
       "1  General Kelly is doing a great job at the bord...  \n",
       "2  The race for DNC Chairman was, of course, tota...  \n",
       "3  For first time the failing @nytimes will take ...  \n",
       "4  Russia talk is FAKE NEWS put out by the Dems, ...  "
      ]
     },
     "execution_count": 30,
     "metadata": {},
     "output_type": "execute_result"
    }
   ],
   "source": [
    "\n",
    "data_train = add_bart_preprocessed_column_to_df(data_train)\n",
    "\n",
    "data_train.head()"
   ]
  },
  {
   "cell_type": "markdown",
   "metadata": {
    "id": "zZLyE-xEEjIN"
   },
   "source": [
    "### Tokenization"
   ]
  },
  {
   "cell_type": "code",
   "execution_count": 31,
   "metadata": {
    "id": "5o2mPxdZCptD"
   },
   "outputs": [],
   "source": [
    "# get only relevant data as lists\n",
    "\n",
    "def get_texts_and_labels_for_lang_model(dframe, text_col_name, label_col_name):\n",
    "  return dframe[text_col_name].tolist(), dframe[label_col_name].tolist()\n",
    "\n",
    "\n",
    "train_texts, train_labels = get_texts_and_labels_for_lang_model(data_train, 'text_for_lang_model', 'label')\n"
   ]
  },
  {
   "cell_type": "code",
   "execution_count": 32,
   "metadata": {
    "colab": {
     "base_uri": "https://localhost:8080/",
     "height": 145,
     "referenced_widgets": [
      "c16830a0154e4f389f7651f7169c7a9e",
      "123e467b78184b049c96ff5a5168d699",
      "f8b2e034682e4b8985d31f2d2aec21d1",
      "960ba2a7a7f048fdae91ceabb3c0c32c",
      "ee055ce2cb5d454aa996c79f5bc603ad",
      "3e5dd22b3ab8493cbe94425c220df86b",
      "94d08d96c3fa4887aca39d566e9341fc",
      "2074fa17846e4f8c89a0cabf97200066",
      "f07512f33b114a5cb074eacdd028768e",
      "0091b109a23b4312bb51b51a381e3ed1",
      "4e33d3916d2440be82fffd5766c440b8",
      "cd618d7b69d94e80952291b8f91e06ad",
      "4d5275310e784ba388e1d3e20d4661be",
      "9585233f720240b38431ac4c5ee8bcbb",
      "1d8f7e30eb254cc2b5b4e0e836017925",
      "838560c466d3459ba2a303c2f66c17ed",
      "e0e62d05ec8442c18846fb51a4724370",
      "6f06130a18c94d2283792bf4ccd22461",
      "c7792b5af1654c42adec18acd9241cd0",
      "bbd4dbe16a5245d88280d4ef6fc9c50b",
      "f2af0845c49340d5b1c182165aaed7cc",
      "5c17738c9d944795b0b76ba2bef8ca8b",
      "5a6eabd5e58746cea822c052893cbac8",
      "03240f3fceef4cc9a5212c6b58ee47c6",
      "d893d69bfabc49caad0fd2133fca2128",
      "e43d9c58dcc64ed595cc4e42b296acc7",
      "48889607dbdf46c0853df4c6fba993c1",
      "ea6558704d6e466890db828b74722e3b",
      "7878a2079bbb48f99ce8af3a68a7592b",
      "1eef17cb58d84b74bc3a2f03724b6244",
      "50fa1aeab0c2464a8449d671df42869e",
      "8918fe791e1040d8817437215be3f34a",
      "53058151a46c4fcba17d8120836c7220",
      "5da8cce3ab3142809c67534582185b9b",
      "331176cad95442688038186b7ace9c93",
      "1af78f6103474891a42091a3141e20e6",
      "6bf928b1d3a44a7ba911fef7ef2e7152",
      "f1bed4de3163430ebdc517381280b2d0",
      "28511d5a105c451a9b0fe18c30548782",
      "c485fb18b55d41a7a5a3b5194a16f48f",
      "88c521affb4b42f9a330d65d22013038",
      "9c7c75fb4e024401aa447f4a48d97700",
      "7c22cc23925e41a09396a9dd5e821afd",
      "e4477d80519544c58414890f72bf178d"
     ]
    },
    "id": "W52Qkkt9EjIN",
    "outputId": "3afeb9ff-eff2-4b09-9514-f30d910a231f"
   },
   "outputs": [
    {
     "data": {
      "application/vnd.jupyter.widget-view+json": {
       "model_id": "c16830a0154e4f389f7651f7169c7a9e",
       "version_major": 2,
       "version_minor": 0
      },
      "text/plain": [
       "Downloading:   0%|          | 0.00/28.0 [00:00<?, ?B/s]"
      ]
     },
     "metadata": {},
     "output_type": "display_data"
    },
    {
     "data": {
      "application/vnd.jupyter.widget-view+json": {
       "model_id": "cd618d7b69d94e80952291b8f91e06ad",
       "version_major": 2,
       "version_minor": 0
      },
      "text/plain": [
       "Downloading:   0%|          | 0.00/226k [00:00<?, ?B/s]"
      ]
     },
     "metadata": {},
     "output_type": "display_data"
    },
    {
     "data": {
      "application/vnd.jupyter.widget-view+json": {
       "model_id": "5a6eabd5e58746cea822c052893cbac8",
       "version_major": 2,
       "version_minor": 0
      },
      "text/plain": [
       "Downloading:   0%|          | 0.00/455k [00:00<?, ?B/s]"
      ]
     },
     "metadata": {},
     "output_type": "display_data"
    },
    {
     "data": {
      "application/vnd.jupyter.widget-view+json": {
       "model_id": "5da8cce3ab3142809c67534582185b9b",
       "version_major": 2,
       "version_minor": 0
      },
      "text/plain": [
       "Downloading:   0%|          | 0.00/483 [00:00<?, ?B/s]"
      ]
     },
     "metadata": {},
     "output_type": "display_data"
    }
   ],
   "source": [
    "# Tokenize texts\n",
    "model_name = 'distilbert-base-uncased'\n",
    "tokenizer = DistilBertTokenizerFast.from_pretrained(model_name)\n",
    "\n",
    "train_encodings = tokenizer(train_texts, truncation=True, padding=True)\n"
   ]
  },
  {
   "cell_type": "code",
   "execution_count": 33,
   "metadata": {
    "colab": {
     "base_uri": "https://localhost:8080/"
    },
    "id": "ccJ7Gbk4EjIO",
    "outputId": "15af5573-8ae9-4e91-b57c-d34c2e6b8502"
   },
   "outputs": [
    {
     "data": {
      "text/plain": [
       "2438"
      ]
     },
     "execution_count": 33,
     "metadata": {},
     "output_type": "execute_result"
    }
   ],
   "source": [
    "len(train_encodings['input_ids'])"
   ]
  },
  {
   "cell_type": "markdown",
   "metadata": {
    "id": "c8XwRKWUXhCy"
   },
   "source": [
    "### Prepare train datasets and data loaders"
   ]
  },
  {
   "cell_type": "code",
   "execution_count": 34,
   "metadata": {
    "id": "i8a4Mv0aYrBL"
   },
   "outputs": [],
   "source": [
    "# Define datasets with texts and labels\n",
    "\n",
    "class TextClassificationDataset(Dataset):\n",
    "    \"\"\"\n",
    "    Wrapper around Torch Dataset to perform text classification\n",
    "    \"\"\"\n",
    "\n",
    "    def __init__(self, encodings, labels = None, label_encoder=None):\n",
    "        \"\"\"\n",
    "        Args:\n",
    "            texts (List[str]): a list with texts to classify or to train the\n",
    "                classifier on\n",
    "            labels List[str]: a list with classification labels (optional)\n",
    "        \"\"\"\n",
    "        \n",
    "        if labels is not None:\n",
    "          assert len(encodings['input_ids']) == len(labels)\n",
    "        else:\n",
    "          self.labels = None\n",
    "        \n",
    "        self.encodings = encodings\n",
    "        \n",
    "        if labels is not None:\n",
    "          if label_encoder is not None:\n",
    "            self.label_encoder = label_encoder\n",
    "          else:\n",
    "            self.label_encoder = preprocessing.LabelEncoder().fit(labels)\n",
    "          \n",
    "          self.labels = torch.tensor(self.label_encoder.transform(labels))\n",
    "\n",
    "    def __len__(self) -> int:\n",
    "        \"\"\"\n",
    "        Returns:\n",
    "            int: length of the dataset\n",
    "        \"\"\"\n",
    "        return len(self.encodings['input_ids'])\n",
    "\n",
    "    def __getitem__(self, idx):\n",
    "        \"\"\"Gets element of the dataset\n",
    "\n",
    "        Args:\n",
    "            index (int): index of the element in the dataset\n",
    "        Returns:\n",
    "            Single element by index\n",
    "        \"\"\"\n",
    "        # item = {key: torch.tensor(val[idx]) for key, val in self.encodings.items()}\n",
    "        item = {}\n",
    "        for key in self.encodings.keys():\n",
    "            item[key] = torch.tensor(self.encodings[key][idx])\n",
    "                \n",
    "        if self.labels is not None:\n",
    "            item['labels'] = torch.tensor(self.labels[idx])\n",
    "        \n",
    "        return item\n",
    "\n"
   ]
  },
  {
   "cell_type": "markdown",
   "metadata": {
    "id": "KYCYvIw5DCYR"
   },
   "source": [
    "## Classifier model 1 - Bert fine-tuned Transformers classifier"
   ]
  },
  {
   "cell_type": "markdown",
   "metadata": {
    "id": "5YBOV6gIYfSP"
   },
   "source": [
    "### Create dataset object"
   ]
  },
  {
   "cell_type": "code",
   "execution_count": 35,
   "metadata": {
    "id": "mmQLK915Dnyj"
   },
   "outputs": [],
   "source": [
    "# Init:\n",
    "  # preprocess for transforms - clean tweets, replace [urls, hashtags, names], tokenize text, change to tensor\n",
    "  # Define datasets and dataloaders (Train, test, validation) with X and labels, ENGLISH only\n",
    "  # Define model - Bart + classification layer\n",
    "\n",
    "#Train:\n",
    "  # Define loss function for classification\n",
    "  # define optimizer (Adam?)\n",
    "  # define function train_one_batch?\n",
    "  # Define function train_one_epoch\n",
    "  # define function train(num_epochs) with runtime reporting every batch and epoch, save model if better etc.\n"
   ]
  },
  {
   "cell_type": "code",
   "execution_count": 36,
   "metadata": {
    "id": "d5bQn5web18L"
   },
   "outputs": [],
   "source": [
    "# Create dataset object:\n",
    "TRAIN_DATASET_PORTION = 0.8\n",
    "BATCH_SIZE = 30\n",
    "\n",
    "full_dataset = TextClassificationDataset(train_encodings, labels=train_labels, label_encoder=label_encoder)\n",
    "train_dataset_size = round(TRAIN_DATASET_PORTION * len(full_dataset))\n",
    "validation_dataset_size = len(full_dataset) - train_dataset_size\n",
    "train_dataset, validation_dataset = torch.utils.data.random_split(full_dataset, [train_dataset_size, validation_dataset_size])\n",
    "\n",
    "full_dl = torch.utils.data.DataLoader(full_dataset, batch_size=BATCH_SIZE)\n",
    "train_dl = torch.utils.data.DataLoader(train_dataset, batch_size=BATCH_SIZE)\n",
    "validation_dl = torch.utils.data.DataLoader(validation_dataset, batch_size=BATCH_SIZE)\n"
   ]
  },
  {
   "cell_type": "markdown",
   "metadata": {
    "id": "l2eQQkuREjIP"
   },
   "source": [
    "### Classification Model based on distilbert"
   ]
  },
  {
   "cell_type": "code",
   "execution_count": 37,
   "metadata": {
    "id": "XBuNRbbu5Z9Q"
   },
   "outputs": [],
   "source": [
    "# 1 linear layers\n",
    "class BertForSequenceClassification(nn.Module):\n",
    "    \"\"\"\n",
    "    Simplified version of the same class by HuggingFace.\n",
    "    See transformers/modeling_distilbert.py in the transformers repository.\n",
    "    \"\"\"\n",
    "\n",
    "    def __init__(self, pretrained_model_name: str, num_classes: int = None, dropout: float = 0.3):\n",
    "        \"\"\"\n",
    "        Args:\n",
    "            pretrained_model_name (str): HuggingFace model name.\n",
    "                See transformers/modeling_auto.py\n",
    "            num_classes (int): the number of class labels\n",
    "                in the classification task\n",
    "        \"\"\"\n",
    "        super().__init__()\n",
    "\n",
    "        config = AutoConfig.from_pretrained(pretrained_model_name, num_labels=num_classes)\n",
    "\n",
    "        self.lang_model = AutoModel.from_pretrained(pretrained_model_name, config=config)\n",
    "        self.classifier = nn.Linear(config.hidden_size, num_classes)\n",
    "        self.dropout = nn.Dropout(dropout)\n",
    "\n",
    "    def forward(self, features, attention_mask=None, head_mask=None):\n",
    "        \"\"\"Compute class probabilities for the input sequence.\n",
    "        Args:\n",
    "            features (torch.Tensor): ids of each token,\n",
    "                size ([bs, seq_length]\n",
    "            attention_mask (torch.Tensor): binary tensor, used to select\n",
    "                tokens which are used to compute attention scores\n",
    "                in the self-attention heads, size [bs, seq_length]\n",
    "            head_mask (torch.Tensor): 1.0 in head_mask indicates that\n",
    "                we keep the head, size: [num_heads]\n",
    "                or [num_hidden_layers x num_heads]\n",
    "        Returns:\n",
    "            PyTorch Tensor with predicted class scores\n",
    "        \"\"\"\n",
    "        assert attention_mask is not None, \"attention mask is none\"\n",
    "\n",
    "        bert_output = self.lang_model(input_ids=features, attention_mask=attention_mask, head_mask=head_mask)\n",
    "        seq_output = bert_output[0]  # (bs, seq_len, dim)\n",
    "        pooled_output = seq_output.mean(axis=1)  # (bs, dim)\n",
    "        pooled_output = self.dropout(pooled_output)  # (bs, dim)\n",
    "        scores = self.classifier(pooled_output)  # (bs, num_classes)\n",
    "\n",
    "        return scores"
   ]
  },
  {
   "cell_type": "markdown",
   "metadata": {
    "id": "rycxWdwHEjIP"
   },
   "source": [
    "### Fine-tune Bert model for current dataset"
   ]
  },
  {
   "cell_type": "code",
   "execution_count": 38,
   "metadata": {
    "id": "EyLKQkpdMcCL"
   },
   "outputs": [],
   "source": [
    "import gc\n",
    "gc.collect()\n",
    "torch.cuda.empty_cache()"
   ]
  },
  {
   "cell_type": "code",
   "execution_count": 39,
   "metadata": {
    "id": "8wSGMxBsWC9t"
   },
   "outputs": [],
   "source": [
    "def train_epoch(model, data_loader, optimizer, loss_function):\n",
    "  model.train(True)\n",
    "  train_loss = 0.0\n",
    "  \n",
    "  for i, batch in tqdm(enumerate(data_loader)):\n",
    "      input_ids = batch['input_ids'].to(device)\n",
    "      attention_mask = batch['attention_mask'].to(device)\n",
    "      labels = batch['labels'].to(device)\n",
    "\n",
    "      optimizer.zero_grad()\n",
    "      outputs = model(input_ids, attention_mask=attention_mask)\n",
    "      loss = loss_function(outputs, labels)\n",
    "      loss.backward()\n",
    "      optimizer.step()\n",
    "      train_loss += loss.item()\n",
    "        \n",
    "  return train_loss\n"
   ]
  },
  {
   "cell_type": "code",
   "execution_count": 40,
   "metadata": {
    "id": "1Dk44C36OfbK"
   },
   "outputs": [],
   "source": [
    "def scores_to_class(scores):\n",
    "  '''\n",
    "  Gets a matrix with score per class, returns the class (argmax)\n",
    "  '''\n",
    "  \n",
    "  classes = scores.argmax(axis=1).tolist()\n",
    "  return classes\n",
    "\n",
    "\n",
    "def evaluate_results(model, test_dl):\n",
    "  epoch_loss = 0.0\n",
    "  truth = []\n",
    "  predictions = []\n",
    "  raw_scores = None\n",
    "\n",
    "  model.train(False)\n",
    "\n",
    "  # onetime=True\n",
    "\n",
    "  with torch.no_grad():\n",
    "    for i, batch in tqdm(enumerate(test_dl)):\n",
    "      input_ids = batch['input_ids'].to(device)\n",
    "      attention_mask = batch['attention_mask'].to(device)\n",
    "      labels = batch['labels'].to(device)\n",
    "\n",
    "      outputs = model(input_ids, attention_mask=attention_mask)\n",
    "      loss = loss_function(outputs, labels)\n",
    "      epoch_loss += loss.item()\n",
    "\n",
    "      truth += labels.tolist()\n",
    "      predictions += scores_to_class(outputs)\n",
    "\n",
    "  truth = np.array(truth)\n",
    "  predictions = np.array(predictions)\n",
    " \n",
    "  total_samples = len(truth)\n",
    "  count_wrong = np.abs(truth - predictions).sum()\n",
    "  count_right = total_samples - count_wrong\n",
    "  accuracy = count_right / total_samples\n",
    "\n",
    "  return epoch_loss, accuracy\n"
   ]
  },
  {
   "cell_type": "code",
   "execution_count": 41,
   "metadata": {
    "colab": {
     "base_uri": "https://localhost:8080/",
     "height": 143,
     "referenced_widgets": [
      "a97fc09fb2a9405498c8db18babdd780",
      "ef33903141dc4985b3e3ff7bbf1277b4",
      "4f2fd6239d054f27863cc32940494f21",
      "a631b7d3421240a79e33b93f93f16105",
      "a554198e9f7840d480f6b3464fcb00ee",
      "4e2005b59c7f4c2f90f925ac0a7d154a",
      "30851755452d408f9a761d945648a79f",
      "8fc01f35739944f9b52162a3c301d2a7",
      "0c087745b18d42d08f2879604e004f1c",
      "1bc589df37cf45bf9eea8cc3b3a4bd1f",
      "60275e89864a4496b3cf8138601d7f12"
     ]
    },
    "id": "a8RumCpVEjIQ",
    "outputId": "e1a94395-90e8-45a9-b3f3-568a1b27293a"
   },
   "outputs": [
    {
     "name": "stdout",
     "output_type": "stream",
     "text": [
      "Device: cuda\n"
     ]
    },
    {
     "data": {
      "application/vnd.jupyter.widget-view+json": {
       "model_id": "a97fc09fb2a9405498c8db18babdd780",
       "version_major": 2,
       "version_minor": 0
      },
      "text/plain": [
       "Downloading:   0%|          | 0.00/256M [00:00<?, ?B/s]"
      ]
     },
     "metadata": {},
     "output_type": "display_data"
    },
    {
     "name": "stderr",
     "output_type": "stream",
     "text": [
      "Some weights of the model checkpoint at distilbert-base-uncased were not used when initializing DistilBertModel: ['vocab_layer_norm.weight', 'vocab_transform.weight', 'vocab_transform.bias', 'vocab_projector.weight', 'vocab_layer_norm.bias', 'vocab_projector.bias']\n",
      "- This IS expected if you are initializing DistilBertModel from the checkpoint of a model trained on another task or with another architecture (e.g. initializing a BertForSequenceClassification model from a BertForPreTraining model).\n",
      "- This IS NOT expected if you are initializing DistilBertModel from the checkpoint of a model that you expect to be exactly identical (initializing a BertForSequenceClassification model from a BertForSequenceClassification model).\n"
     ]
    }
   ],
   "source": [
    "#Train configuration\n",
    "device = torch.device('cuda') if torch.cuda.is_available() else torch.device('cpu')\n",
    "print(f'Device: {device}')\n",
    "\n",
    "model = BertForSequenceClassification(model_name, num_classes=2)\n",
    "model.to(device)\n",
    "\n",
    "optim = AdamW(model.parameters(), lr=5e-5)\n",
    "loss_function = nn.CrossEntropyLoss()\n",
    "\n"
   ]
  },
  {
   "cell_type": "code",
   "execution_count": 42,
   "metadata": {
    "colab": {
     "base_uri": "https://localhost:8080/"
    },
    "id": "B3zD9ZgbIHOL",
    "outputId": "7e6210c0-67a9-49a3-cd0d-dd1fecc12186"
   },
   "outputs": [
    {
     "name": "stdout",
     "output_type": "stream",
     "text": [
      "Model load mode\n"
     ]
    }
   ],
   "source": [
    "PERFORMANCE_CSV_PATH = path_output / 'classifier1_train.csv' \n",
    "\n",
    "if TRAIN_MODEL_1 == 'Train':\n",
    "  NUMBER_OF_EPOCHS_TO_TRAIN = 20\n",
    "  PERFORMANCE_CSV_PATH = path_output / 'classifier1_train.csv' \n",
    "\n",
    "  results_per_epoch = pd.DataFrame(columns=['epoch', 'train_loss', 'validation_loss', 'validation_accuracy'])\n",
    "  best_validation_accuracy = 0\n",
    "\n",
    "  # test initial model performance\n",
    "  epoch = 0\n",
    "  print(f'Epoch {epoch}')\n",
    "  validation_loss, validation_accuracy = evaluate_results(model, validation_dl)\n",
    "  train_loss = 0\n",
    "  results_per_epoch = results_per_epoch.append({'epoch': epoch, 'train_loss': train_loss, 'validation_loss': validation_loss, 'validation_accuracy': validation_accuracy}, ignore_index=True)\n",
    "  print(results_per_epoch)\n",
    "  results_per_epoch.to_csv(PERFORMANCE_CSV_PATH)\n",
    "\n",
    "  # Train loop\n",
    "  for epoch in tqdm(range(NUMBER_OF_EPOCHS_TO_TRAIN)):\n",
    "    print(f'Epoch {epoch + 1}')\n",
    "    train_loss = train_epoch(model, train_dl, optim, loss_function)\n",
    "    validation_loss, validation_accuracy = evaluate_results(model, validation_dl)\n",
    "    results_per_epoch = results_per_epoch.append({'epoch': epoch + 1, 'train_loss': train_loss, 'validation_loss': validation_loss, 'validation_accuracy': validation_accuracy}, ignore_index=True)\n",
    "    print(results_per_epoch)\n",
    "    results_per_epoch.to_csv(PERFORMANCE_CSV_PATH)\n",
    "\n",
    "    # if better model:\n",
    "    if validation_accuracy > best_validation_accuracy:\n",
    "      best_validation_accuracy = validation_accuracy\n",
    "      model_path = path_output / Path(f'model_classifier1_{int(round(validation_accuracy, 3) * 1000)}.pickle')\n",
    "      torch.save(model.state_dict(), model_path)\n",
    "\n",
    "else:\n",
    "  print('Model load mode')\n",
    "  MODEL_PATH = path_output / Path('model_classifier1_922.pickle')\n",
    "  model_state_dict = torch.load(MODEL_PATH)\n",
    "  model.load_state_dict(model_state_dict)\n",
    "  results_per_epoch = pd.read_csv(PERFORMANCE_CSV_PATH)\n",
    "\n",
    "\n",
    "  "
   ]
  },
  {
   "cell_type": "markdown",
   "metadata": {
    "id": "Q9p0ijvc3VRV"
   },
   "source": [
    "### Classifier train performance"
   ]
  },
  {
   "cell_type": "code",
   "execution_count": 43,
   "metadata": {
    "colab": {
     "base_uri": "https://localhost:8080/",
     "height": 708
    },
    "id": "jC-2soJ33R4y",
    "outputId": "b2b4ebb9-c2cb-4754-8b13-8ea83a02cf05"
   },
   "outputs": [
    {
     "data": {
      "text/html": [
       "\n",
       "  <div id=\"df-118d83c5-c2b5-460a-bfe4-63414c65ce55\">\n",
       "    <div class=\"colab-df-container\">\n",
       "      <div>\n",
       "<style scoped>\n",
       "    .dataframe tbody tr th:only-of-type {\n",
       "        vertical-align: middle;\n",
       "    }\n",
       "\n",
       "    .dataframe tbody tr th {\n",
       "        vertical-align: top;\n",
       "    }\n",
       "\n",
       "    .dataframe thead th {\n",
       "        text-align: right;\n",
       "    }\n",
       "</style>\n",
       "<table border=\"1\" class=\"dataframe\">\n",
       "  <thead>\n",
       "    <tr style=\"text-align: right;\">\n",
       "      <th></th>\n",
       "      <th>Unnamed: 0</th>\n",
       "      <th>epoch</th>\n",
       "      <th>train_loss</th>\n",
       "      <th>validation_loss</th>\n",
       "      <th>validation_accuracy</th>\n",
       "    </tr>\n",
       "  </thead>\n",
       "  <tbody>\n",
       "    <tr>\n",
       "      <th>0</th>\n",
       "      <td>0</td>\n",
       "      <td>0.0</td>\n",
       "      <td>0.000000</td>\n",
       "      <td>12.330274</td>\n",
       "      <td>0.319672</td>\n",
       "    </tr>\n",
       "    <tr>\n",
       "      <th>1</th>\n",
       "      <td>1</td>\n",
       "      <td>1.0</td>\n",
       "      <td>24.799441</td>\n",
       "      <td>4.583136</td>\n",
       "      <td>0.887295</td>\n",
       "    </tr>\n",
       "    <tr>\n",
       "      <th>2</th>\n",
       "      <td>2</td>\n",
       "      <td>2.0</td>\n",
       "      <td>12.194862</td>\n",
       "      <td>3.615743</td>\n",
       "      <td>0.909836</td>\n",
       "    </tr>\n",
       "    <tr>\n",
       "      <th>3</th>\n",
       "      <td>3</td>\n",
       "      <td>3.0</td>\n",
       "      <td>5.195765</td>\n",
       "      <td>6.582214</td>\n",
       "      <td>0.909836</td>\n",
       "    </tr>\n",
       "    <tr>\n",
       "      <th>4</th>\n",
       "      <td>4</td>\n",
       "      <td>4.0</td>\n",
       "      <td>2.855049</td>\n",
       "      <td>4.509588</td>\n",
       "      <td>0.922131</td>\n",
       "    </tr>\n",
       "    <tr>\n",
       "      <th>5</th>\n",
       "      <td>5</td>\n",
       "      <td>5.0</td>\n",
       "      <td>1.936464</td>\n",
       "      <td>9.471314</td>\n",
       "      <td>0.901639</td>\n",
       "    </tr>\n",
       "    <tr>\n",
       "      <th>6</th>\n",
       "      <td>6</td>\n",
       "      <td>6.0</td>\n",
       "      <td>1.063428</td>\n",
       "      <td>9.456897</td>\n",
       "      <td>0.907787</td>\n",
       "    </tr>\n",
       "    <tr>\n",
       "      <th>7</th>\n",
       "      <td>7</td>\n",
       "      <td>7.0</td>\n",
       "      <td>1.884378</td>\n",
       "      <td>6.241019</td>\n",
       "      <td>0.907787</td>\n",
       "    </tr>\n",
       "    <tr>\n",
       "      <th>8</th>\n",
       "      <td>8</td>\n",
       "      <td>8.0</td>\n",
       "      <td>0.606758</td>\n",
       "      <td>7.385151</td>\n",
       "      <td>0.918033</td>\n",
       "    </tr>\n",
       "    <tr>\n",
       "      <th>9</th>\n",
       "      <td>9</td>\n",
       "      <td>9.0</td>\n",
       "      <td>0.241650</td>\n",
       "      <td>7.759690</td>\n",
       "      <td>0.920082</td>\n",
       "    </tr>\n",
       "    <tr>\n",
       "      <th>10</th>\n",
       "      <td>10</td>\n",
       "      <td>10.0</td>\n",
       "      <td>0.179744</td>\n",
       "      <td>6.975187</td>\n",
       "      <td>0.918033</td>\n",
       "    </tr>\n",
       "    <tr>\n",
       "      <th>11</th>\n",
       "      <td>11</td>\n",
       "      <td>11.0</td>\n",
       "      <td>0.124537</td>\n",
       "      <td>7.773878</td>\n",
       "      <td>0.922131</td>\n",
       "    </tr>\n",
       "    <tr>\n",
       "      <th>12</th>\n",
       "      <td>12</td>\n",
       "      <td>12.0</td>\n",
       "      <td>0.064239</td>\n",
       "      <td>8.105937</td>\n",
       "      <td>0.920082</td>\n",
       "    </tr>\n",
       "    <tr>\n",
       "      <th>13</th>\n",
       "      <td>13</td>\n",
       "      <td>13.0</td>\n",
       "      <td>0.053273</td>\n",
       "      <td>8.191160</td>\n",
       "      <td>0.920082</td>\n",
       "    </tr>\n",
       "    <tr>\n",
       "      <th>14</th>\n",
       "      <td>14</td>\n",
       "      <td>14.0</td>\n",
       "      <td>0.043846</td>\n",
       "      <td>8.254863</td>\n",
       "      <td>0.920082</td>\n",
       "    </tr>\n",
       "    <tr>\n",
       "      <th>15</th>\n",
       "      <td>15</td>\n",
       "      <td>15.0</td>\n",
       "      <td>0.034542</td>\n",
       "      <td>8.518488</td>\n",
       "      <td>0.920082</td>\n",
       "    </tr>\n",
       "    <tr>\n",
       "      <th>16</th>\n",
       "      <td>16</td>\n",
       "      <td>16.0</td>\n",
       "      <td>0.027649</td>\n",
       "      <td>8.500313</td>\n",
       "      <td>0.918033</td>\n",
       "    </tr>\n",
       "    <tr>\n",
       "      <th>17</th>\n",
       "      <td>17</td>\n",
       "      <td>17.0</td>\n",
       "      <td>0.022317</td>\n",
       "      <td>8.890158</td>\n",
       "      <td>0.918033</td>\n",
       "    </tr>\n",
       "    <tr>\n",
       "      <th>18</th>\n",
       "      <td>18</td>\n",
       "      <td>18.0</td>\n",
       "      <td>0.038824</td>\n",
       "      <td>8.340571</td>\n",
       "      <td>0.911885</td>\n",
       "    </tr>\n",
       "    <tr>\n",
       "      <th>19</th>\n",
       "      <td>19</td>\n",
       "      <td>19.0</td>\n",
       "      <td>0.097489</td>\n",
       "      <td>8.779632</td>\n",
       "      <td>0.922131</td>\n",
       "    </tr>\n",
       "    <tr>\n",
       "      <th>20</th>\n",
       "      <td>20</td>\n",
       "      <td>20.0</td>\n",
       "      <td>0.059379</td>\n",
       "      <td>8.607903</td>\n",
       "      <td>0.915984</td>\n",
       "    </tr>\n",
       "  </tbody>\n",
       "</table>\n",
       "</div>\n",
       "      <button class=\"colab-df-convert\" onclick=\"convertToInteractive('df-118d83c5-c2b5-460a-bfe4-63414c65ce55')\"\n",
       "              title=\"Convert this dataframe to an interactive table.\"\n",
       "              style=\"display:none;\">\n",
       "        \n",
       "  <svg xmlns=\"http://www.w3.org/2000/svg\" height=\"24px\"viewBox=\"0 0 24 24\"\n",
       "       width=\"24px\">\n",
       "    <path d=\"M0 0h24v24H0V0z\" fill=\"none\"/>\n",
       "    <path d=\"M18.56 5.44l.94 2.06.94-2.06 2.06-.94-2.06-.94-.94-2.06-.94 2.06-2.06.94zm-11 1L8.5 8.5l.94-2.06 2.06-.94-2.06-.94L8.5 2.5l-.94 2.06-2.06.94zm10 10l.94 2.06.94-2.06 2.06-.94-2.06-.94-.94-2.06-.94 2.06-2.06.94z\"/><path d=\"M17.41 7.96l-1.37-1.37c-.4-.4-.92-.59-1.43-.59-.52 0-1.04.2-1.43.59L10.3 9.45l-7.72 7.72c-.78.78-.78 2.05 0 2.83L4 21.41c.39.39.9.59 1.41.59.51 0 1.02-.2 1.41-.59l7.78-7.78 2.81-2.81c.8-.78.8-2.07 0-2.86zM5.41 20L4 18.59l7.72-7.72 1.47 1.35L5.41 20z\"/>\n",
       "  </svg>\n",
       "      </button>\n",
       "      \n",
       "  <style>\n",
       "    .colab-df-container {\n",
       "      display:flex;\n",
       "      flex-wrap:wrap;\n",
       "      gap: 12px;\n",
       "    }\n",
       "\n",
       "    .colab-df-convert {\n",
       "      background-color: #E8F0FE;\n",
       "      border: none;\n",
       "      border-radius: 50%;\n",
       "      cursor: pointer;\n",
       "      display: none;\n",
       "      fill: #1967D2;\n",
       "      height: 32px;\n",
       "      padding: 0 0 0 0;\n",
       "      width: 32px;\n",
       "    }\n",
       "\n",
       "    .colab-df-convert:hover {\n",
       "      background-color: #E2EBFA;\n",
       "      box-shadow: 0px 1px 2px rgba(60, 64, 67, 0.3), 0px 1px 3px 1px rgba(60, 64, 67, 0.15);\n",
       "      fill: #174EA6;\n",
       "    }\n",
       "\n",
       "    [theme=dark] .colab-df-convert {\n",
       "      background-color: #3B4455;\n",
       "      fill: #D2E3FC;\n",
       "    }\n",
       "\n",
       "    [theme=dark] .colab-df-convert:hover {\n",
       "      background-color: #434B5C;\n",
       "      box-shadow: 0px 1px 3px 1px rgba(0, 0, 0, 0.15);\n",
       "      filter: drop-shadow(0px 1px 2px rgba(0, 0, 0, 0.3));\n",
       "      fill: #FFFFFF;\n",
       "    }\n",
       "  </style>\n",
       "\n",
       "      <script>\n",
       "        const buttonEl =\n",
       "          document.querySelector('#df-118d83c5-c2b5-460a-bfe4-63414c65ce55 button.colab-df-convert');\n",
       "        buttonEl.style.display =\n",
       "          google.colab.kernel.accessAllowed ? 'block' : 'none';\n",
       "\n",
       "        async function convertToInteractive(key) {\n",
       "          const element = document.querySelector('#df-118d83c5-c2b5-460a-bfe4-63414c65ce55');\n",
       "          const dataTable =\n",
       "            await google.colab.kernel.invokeFunction('convertToInteractive',\n",
       "                                                     [key], {});\n",
       "          if (!dataTable) return;\n",
       "\n",
       "          const docLinkHtml = 'Like what you see? Visit the ' +\n",
       "            '<a target=\"_blank\" href=https://colab.research.google.com/notebooks/data_table.ipynb>data table notebook</a>'\n",
       "            + ' to learn more about interactive tables.';\n",
       "          element.innerHTML = '';\n",
       "          dataTable['output_type'] = 'display_data';\n",
       "          await google.colab.output.renderOutput(dataTable, element);\n",
       "          const docLink = document.createElement('div');\n",
       "          docLink.innerHTML = docLinkHtml;\n",
       "          element.appendChild(docLink);\n",
       "        }\n",
       "      </script>\n",
       "    </div>\n",
       "  </div>\n",
       "  "
      ],
      "text/plain": [
       "    Unnamed: 0  epoch  train_loss  validation_loss  validation_accuracy\n",
       "0            0    0.0    0.000000        12.330274             0.319672\n",
       "1            1    1.0   24.799441         4.583136             0.887295\n",
       "2            2    2.0   12.194862         3.615743             0.909836\n",
       "3            3    3.0    5.195765         6.582214             0.909836\n",
       "4            4    4.0    2.855049         4.509588             0.922131\n",
       "5            5    5.0    1.936464         9.471314             0.901639\n",
       "6            6    6.0    1.063428         9.456897             0.907787\n",
       "7            7    7.0    1.884378         6.241019             0.907787\n",
       "8            8    8.0    0.606758         7.385151             0.918033\n",
       "9            9    9.0    0.241650         7.759690             0.920082\n",
       "10          10   10.0    0.179744         6.975187             0.918033\n",
       "11          11   11.0    0.124537         7.773878             0.922131\n",
       "12          12   12.0    0.064239         8.105937             0.920082\n",
       "13          13   13.0    0.053273         8.191160             0.920082\n",
       "14          14   14.0    0.043846         8.254863             0.920082\n",
       "15          15   15.0    0.034542         8.518488             0.920082\n",
       "16          16   16.0    0.027649         8.500313             0.918033\n",
       "17          17   17.0    0.022317         8.890158             0.918033\n",
       "18          18   18.0    0.038824         8.340571             0.911885\n",
       "19          19   19.0    0.097489         8.779632             0.922131\n",
       "20          20   20.0    0.059379         8.607903             0.915984"
      ]
     },
     "execution_count": 43,
     "metadata": {},
     "output_type": "execute_result"
    }
   ],
   "source": [
    "results_per_epoch"
   ]
  },
  {
   "cell_type": "code",
   "execution_count": 44,
   "metadata": {
    "colab": {
     "base_uri": "https://localhost:8080/",
     "height": 390
    },
    "id": "O-20Tb7ROc7j",
    "outputId": "08ef7622-d6d9-4a01-f336-6172b949e354"
   },
   "outputs": [
    {
     "data": {
      "image/png": "[encoded data removed]",
      "text/plain": [
       "<Figure size 432x432 with 2 Axes>"
      ]
     },
     "metadata": {
      "needs_background": "light"
     },
     "output_type": "display_data"
    }
   ],
   "source": [
    "plot_train_progress(results_per_epoch)"
   ]
  },
  {
   "cell_type": "markdown",
   "metadata": {
    "id": "70HV_H0HQczu"
   },
   "source": [
    "## Classifier model 2 - MLP with Bert + manual engineered features\n"
   ]
  },
  {
   "cell_type": "code",
   "execution_count": 45,
   "metadata": {
    "id": "9u4qvQrldcd7"
   },
   "outputs": [],
   "source": [
    "import gc\n",
    "gc.collect()\n",
    "torch.cuda.empty_cache()\n",
    "torch.cuda.reset_accumulated_memory_stats()"
   ]
  },
  {
   "cell_type": "markdown",
   "metadata": {
    "id": "zFaYSjJPUlKP"
   },
   "source": [
    "### Prepare dataset"
   ]
  },
  {
   "cell_type": "markdown",
   "metadata": {
    "id": "5Mk3M1TwaBJc"
   },
   "source": [
    "#### Unified dataset - Text and attributes"
   ]
  },
  {
   "cell_type": "code",
   "execution_count": 46,
   "metadata": {
    "id": "sq58kXwA-1j7"
   },
   "outputs": [],
   "source": [
    "# Define datasets with texts and labels\n",
    "\n",
    "class TextAndAttributesClassificationDataset(Dataset):\n",
    "    \"\"\"\n",
    "    Wrapper around Torch Dataset to perform text classification\n",
    "    \"\"\"\n",
    "\n",
    "    def __init__(self, text_dataset, atts_dataset, labels = None, label_encoder=None):\n",
    "        \"\"\"\n",
    "        Args:\n",
    "            texts (List[str]): a list with texts to classify or to train the\n",
    "                classifier on\n",
    "            labels List[str]: a list with classification labels (optional)\n",
    "        \"\"\"\n",
    "        \n",
    "        assert len(text_dataset) == len(atts_dataset)\n",
    "\n",
    "        if labels is not None:\n",
    "          assert len(atts_dataset) == len(labels)\n",
    "        else:\n",
    "          self.labels = None\n",
    "        \n",
    "        self.text_dataset = text_dataset\n",
    "        self.atts_dataset = atts_dataset\n",
    "\n",
    "        if labels is not None:\n",
    "          if label_encoder is not None:\n",
    "            self.label_encoder = label_encoder\n",
    "          else:\n",
    "            self.label_encoder = preprocessing.LabelEncoder().fit(labels)\n",
    "          \n",
    "          self.labels = torch.tensor(self.label_encoder.transform(labels))\n",
    "\n",
    "    def __len__(self) -> int:\n",
    "        \"\"\"\n",
    "        Returns:\n",
    "            int: length of the dataset\n",
    "        \"\"\"\n",
    "        return len(self.atts_dataset)\n",
    "\n",
    "    def __getitem__(self, idx):\n",
    "        \"\"\"Gets element of the dataset\n",
    "\n",
    "        Args:\n",
    "            index (int): index of the element in the dataset\n",
    "        Returns:\n",
    "            Single element by index\n",
    "        \"\"\"\n",
    "                \n",
    "        if self.labels is not None:\n",
    "          return {'text_encodings': self.text_dataset[idx], 'features': self.atts_dataset[idx], 'labels': self.labels[idx]}\n",
    "        \n",
    "        else:\n",
    "          return {'text_encodings': self.text_dataset[idx], 'features': self.atts_dataset[idx]}\n",
    "\n"
   ]
  },
  {
   "cell_type": "code",
   "execution_count": 47,
   "metadata": {
    "id": "46Ap9fxYADwf"
   },
   "outputs": [],
   "source": [
    "# create datasets and data loaders for train and validation\n",
    "TRAIN_DATASET_PORTION = 0.8\n",
    "BATCH_SIZE = 20\n",
    "\n",
    "# standalone datasets - attributes and text\n",
    "manual_features_nl_ds = ManualFeaturesDataset(data_for_classification)\n",
    "text_nl_ds = TextClassificationDataset(train_encodings)\n",
    "\n",
    "# full dataset\n",
    "full_unified_ds = TextAndAttributesClassificationDataset(text_nl_ds, manual_features_nl_ds, labels=labels, label_encoder=label_encoder)\n",
    "\n",
    "# Train / valid split\n",
    "train_unified_ds_size = round(TRAIN_DATASET_PORTION * len(full_unified_ds))\n",
    "validation_unified_ds_size = len(full_unified_ds) - train_unified_ds_size\n",
    "train_unified_ds, validation_unified_ds = torch.utils.data.random_split(full_unified_ds, [train_unified_ds_size, validation_unified_ds_size])\n",
    "\n",
    "# Data loaders\n",
    "full_unified_dl = torch.utils.data.DataLoader(full_unified_ds, batch_size=BATCH_SIZE)\n",
    "train_unified_dl = torch.utils.data.DataLoader(train_unified_ds, batch_size=BATCH_SIZE)\n",
    "validation_unified_dl = torch.utils.data.DataLoader(validation_unified_ds, batch_size=BATCH_SIZE)"
   ]
  },
  {
   "cell_type": "code",
   "execution_count": 48,
   "metadata": {
    "id": "-jH8auAmf64Z"
   },
   "outputs": [],
   "source": [
    "# print(f'full_unified_ds: {len(full_unified_ds)}')\n",
    "# print(f'full_unified_ds sample: {full_unified_ds[0]}')\n",
    "\n",
    "# print(f'train_unified_ds: {len(train_unified_ds)}')\n",
    "# print(f'train_unified_ds sample: {train_unified_ds[0]}')\n",
    "\n",
    "# for i in full_unified_dl:\n",
    "#   print(i)\n",
    "#   break\n"
   ]
  },
  {
   "cell_type": "markdown",
   "metadata": {
    "id": "4SS_b_YPeboM"
   },
   "source": [
    "### Classification Model"
   ]
  },
  {
   "cell_type": "code",
   "execution_count": 49,
   "metadata": {
    "id": "GpbpbDMXasXd"
   },
   "outputs": [],
   "source": [
    "# Dropouts added between layers\n",
    "class BertAndFeaturesForSequenceClassification(nn.Module):\n",
    "    \"\"\"\n",
    "    Combines bert, additional features and classifier layers\n",
    "    \"\"\"\n",
    "\n",
    "    def __init__(self, num_manual_features:int, pretrained_model_name: str, lang_linear_layer_dim:int = 150, num_classes: int = None, dropout: float = 0.3):\n",
    "        \"\"\"\n",
    "        Args:\n",
    "            pretrained_model_name (str): HuggingFace model name.\n",
    "                See transformers/modeling_auto.py\n",
    "            num_classes (int): the number of class labels\n",
    "                in the classification task\n",
    "        \"\"\"\n",
    "        super().__init__()\n",
    "\n",
    "        config = AutoConfig.from_pretrained(pretrained_model_name, num_labels=num_classes)      \n",
    "        self.num_manual_features = num_manual_features\n",
    "        self.lang_model = AutoModel.from_pretrained(pretrained_model_name, config=config)\n",
    "        self.linear_after_lang = nn.Linear(config.hidden_size, lang_linear_layer_dim)\n",
    "        self.linear_after_features = nn.Linear(num_manual_features, num_manual_features)\n",
    "        self.linear_after_concat = nn.Linear(num_manual_features + lang_linear_layer_dim, num_manual_features + lang_linear_layer_dim)\n",
    "        self.classifier = nn.Linear(num_manual_features + lang_linear_layer_dim, num_classes)\n",
    "        self.dropout = nn.Dropout(dropout)\n",
    "        self.relu = nn.ReLU()\n",
    "\n",
    "\n",
    "    def forward(self, features, encodings, attention_mask=None, head_mask=None):\n",
    "        \"\"\"Compute class probabilities for the input sequence.\n",
    "        Args:\n",
    "            encodings (torch.Tensor): ids of each token,\n",
    "                size ([bs, seq_length]\n",
    "            attention_mask (torch.Tensor): binary tensor, used to select\n",
    "                tokens which are used to compute attention scores\n",
    "                in the self-attention heads, size [bs, seq_length]\n",
    "            head_mask (torch.Tensor): 1.0 in head_mask indicates that\n",
    "                we keep the head, size: [num_heads]\n",
    "                or [num_hidden_layers x num_heads]\n",
    "        Returns:\n",
    "            PyTorch Tensor with predicted class scores\n",
    "        \"\"\"\n",
    "        \n",
    "        assert attention_mask is not None, \"attention mask is none\"\n",
    "\n",
    "        # Language + linear branch\n",
    "        bert_output = self.lang_model(input_ids=encodings, attention_mask=attention_mask, head_mask=head_mask)\n",
    "        seq_output = bert_output[0]  # (bs, seq_len, dim)\n",
    "        pooled_output = seq_output.mean(axis=1)  # (bs, dim)\n",
    "        pooled_output = self.dropout(pooled_output)  # (bs, dim)\n",
    "\n",
    "        linear_after_lang_output = self.linear_after_lang(pooled_output) \n",
    "        linear_after_lang_output = self.dropout(linear_after_lang_output)\n",
    "\n",
    "        # attributes branch\n",
    "        linear_after_features_output = self.linear_after_features(features)\n",
    "        linear_after_features_output = self.relu(linear_after_features_output)\n",
    "        linear_after_features_output = self.dropout(linear_after_features_output)\n",
    "\n",
    "        # Unified branch\n",
    "        concat_vector = torch.cat([linear_after_lang_output, linear_after_features_output], axis=1)\n",
    "\n",
    "        linear_after_concat_output = self.linear_after_concat(concat_vector)\n",
    "        linear_after_concat_output = self.relu(linear_after_concat_output)\n",
    "        linear_after_concat_output = self.dropout(linear_after_concat_output)\n",
    "\n",
    "        \n",
    "        #classifier layer\n",
    "        scores = self.classifier(linear_after_concat_output)  # (bs, num_classes)\n",
    "\n",
    "        return scores\n",
    "  "
   ]
  },
  {
   "cell_type": "markdown",
   "metadata": {
    "id": "SJzzMHfHMw-J"
   },
   "source": [
    "### Train unified model"
   ]
  },
  {
   "cell_type": "code",
   "execution_count": 50,
   "metadata": {
    "id": "WXfSL8N0Qkgm"
   },
   "outputs": [],
   "source": [
    "def train_epoch(model, data_loader, optimizer, loss_function):\n",
    "  model.train(True)\n",
    "  train_loss = 0.0\n",
    "  \n",
    "  for i, batch in tqdm(enumerate(data_loader)):\n",
    "      features = batch['features'].to(device)\n",
    "      input_ids = batch['text_encodings']['input_ids'].to(device)\n",
    "      attention_mask = batch['text_encodings']['attention_mask'].to(device)\n",
    "      labels = batch['labels'].to(device)\n",
    "\n",
    "      optimizer.zero_grad()\n",
    "      outputs = model(features, input_ids, attention_mask=attention_mask)\n",
    "      loss = loss_function(outputs, labels)\n",
    "      loss.backward()\n",
    "      optimizer.step()\n",
    "      train_loss += loss.item()\n",
    "        \n",
    "  return train_loss\n"
   ]
  },
  {
   "cell_type": "code",
   "execution_count": 51,
   "metadata": {
    "id": "5MQzQXpPQkgr"
   },
   "outputs": [],
   "source": [
    "def scores_to_class(scores):\n",
    "  '''\n",
    "  Gets a matrix with score per class, returns the class (argmax)\n",
    "  '''\n",
    "  \n",
    "  classes = scores.argmax(axis=1).tolist()\n",
    "  return classes\n",
    "\n",
    "\n",
    "def evaluate_results(model, test_dl):\n",
    "  epoch_loss = 0.0\n",
    "  truth = []\n",
    "  predictions = []\n",
    "  raw_scores = None\n",
    "\n",
    "  model.train(False)\n",
    "\n",
    "  # onetime=True\n",
    "\n",
    "  with torch.no_grad():\n",
    "    for i, batch in tqdm(enumerate(test_dl)):\n",
    "      features = batch['features'].to(device)\n",
    "      input_ids = batch['text_encodings']['input_ids'].to(device)\n",
    "      attention_mask = batch['text_encodings']['attention_mask'].to(device)\n",
    "      labels = batch['labels'].to(device)\n",
    "\n",
    "      outputs = model(features, input_ids, attention_mask=attention_mask)\n",
    "      loss = loss_function(outputs, labels)\n",
    "      epoch_loss += loss.item()\n",
    "\n",
    "      truth += labels.tolist()\n",
    "      predictions += scores_to_class(outputs)\n",
    "\n",
    "      # if onetime:\n",
    "      #   print(f'labels: {labels}')\n",
    "      #   print(f'truth: {truth}')\n",
    "      #   print(f'outputs: {truth}')\n",
    "      #   print(f'predictions: {truth}')\n",
    "      #   onetime = False\n",
    "\n",
    "\n",
    "  truth = np.array(truth)\n",
    "  predictions = np.array(predictions)\n",
    " \n",
    "  total_samples = len(truth)\n",
    "  count_wrong = np.abs(truth - predictions).sum()\n",
    "  count_right = total_samples - count_wrong\n",
    "  accuracy = count_right / total_samples\n",
    "\n",
    "  return epoch_loss, accuracy\n"
   ]
  },
  {
   "cell_type": "code",
   "execution_count": 52,
   "metadata": {
    "colab": {
     "base_uri": "https://localhost:8080/"
    },
    "id": "2UIo36b7Mzd6",
    "outputId": "4bb53509-6fea-4aac-a709-6d7174ccad8b"
   },
   "outputs": [
    {
     "name": "stdout",
     "output_type": "stream",
     "text": [
      "Device: cuda\n"
     ]
    },
    {
     "name": "stderr",
     "output_type": "stream",
     "text": [
      "Some weights of the model checkpoint at distilbert-base-uncased were not used when initializing DistilBertModel: ['vocab_layer_norm.weight', 'vocab_transform.weight', 'vocab_transform.bias', 'vocab_projector.weight', 'vocab_layer_norm.bias', 'vocab_projector.bias']\n",
      "- This IS expected if you are initializing DistilBertModel from the checkpoint of a model trained on another task or with another architecture (e.g. initializing a BertForSequenceClassification model from a BertForPreTraining model).\n",
      "- This IS NOT expected if you are initializing DistilBertModel from the checkpoint of a model that you expect to be exactly identical (initializing a BertForSequenceClassification model from a BertForSequenceClassification model).\n"
     ]
    }
   ],
   "source": [
    "#Train configuration\n",
    "\n",
    "device = torch.device('cuda') if torch.cuda.is_available() else torch.device('cpu')\n",
    "print(f'Device: {device}')\n",
    "\n",
    "model = BertAndFeaturesForSequenceClassification(10, model_name, lang_linear_layer_dim=150, num_classes=2)\n",
    "model.to(device)\n",
    "\n",
    "optim = AdamW(model.parameters(), lr=5e-5)\n",
    "loss_function = nn.CrossEntropyLoss()\n",
    "\n"
   ]
  },
  {
   "cell_type": "code",
   "execution_count": 53,
   "metadata": {
    "id": "cJba8t6OLvCO"
   },
   "outputs": [],
   "source": [
    "PERFORMANCE_CSV_PATH = path_output / 'classifier2_train.csv' \n",
    "\n",
    "if TRAIN_MODEL_2 == 'Train':\n",
    "  NUMBER_OF_EPOCHS_TO_TRAIN = 20\n",
    "\n",
    "  results_per_epoch = pd.DataFrame(columns=['epoch', 'train_loss', 'validation_loss', 'validation_accuracy'])\n",
    "  best_validation_accuracy = 0\n",
    "\n",
    "  # test initial model performance\n",
    "  epoch = 0\n",
    "  print(f'Epoch {epoch}')\n",
    "  validation_loss, validation_accuracy = evaluate_results(model, validation_unified_dl)\n",
    "  train_loss = 0\n",
    "  results_per_epoch = results_per_epoch.append({'epoch': epoch, 'train_loss': train_loss, 'validation_loss': validation_loss, 'validation_accuracy': validation_accuracy}, ignore_index=True)\n",
    "  print(results_per_epoch)\n",
    "  results_per_epoch.to_csv(PERFORMANCE_CSV_PATH)\n",
    "\n",
    "  # Train loop\n",
    "  for epoch in tqdm(range(NUMBER_OF_EPOCHS_TO_TRAIN)):\n",
    "    print(f'Epoch {epoch+1}')\n",
    "    train_loss = train_epoch(model, train_unified_dl, optim, loss_function)\n",
    "    validation_loss, validation_accuracy = evaluate_results(model, validation_unified_dl)\n",
    "    results_per_epoch = results_per_epoch.append({'epoch': epoch+1, 'train_loss': train_loss, 'validation_loss': validation_loss, 'validation_accuracy': validation_accuracy}, ignore_index=True)\n",
    "    print(results_per_epoch)\n",
    "    results_per_epoch.to_csv(PERFORMANCE_CSV_PATH)\n",
    "\n",
    "    # if better model:\n",
    "    if validation_accuracy > best_validation_accuracy:\n",
    "      best_validation_accuracy = validation_accuracy\n",
    "      model_path = path_output / Path(f'model_classifier2_{int(round(validation_accuracy, 3) * 1000)}.pickle')\n",
    "      torch.save(model.state_dict(), model_path)\n",
    "\n",
    "else:\n",
    "  MODEL_PATH = path_output / Path('model_classifier2_941.pickle')\n",
    "  model_state_dict = torch.load(MODEL_PATH)\n",
    "  model.load_state_dict(model_state_dict)\n",
    "  results_per_epoch = pd.read_csv(PERFORMANCE_CSV_PATH)"
   ]
  },
  {
   "cell_type": "markdown",
   "metadata": {
    "id": "HiXxwW0o3qnn"
   },
   "source": [
    "### Classifier train performance"
   ]
  },
  {
   "cell_type": "code",
   "execution_count": 54,
   "metadata": {
    "colab": {
     "base_uri": "https://localhost:8080/",
     "height": 708
    },
    "id": "VI3hV3cj3qnt",
    "outputId": "5f75dbc7-043b-4d8c-9a4f-15760f9859a9"
   },
   "outputs": [
    {
     "data": {
      "text/html": [
       "\n",
       "  <div id=\"df-c3761187-698c-4d83-b917-778c92916c8b\">\n",
       "    <div class=\"colab-df-container\">\n",
       "      <div>\n",
       "<style scoped>\n",
       "    .dataframe tbody tr th:only-of-type {\n",
       "        vertical-align: middle;\n",
       "    }\n",
       "\n",
       "    .dataframe tbody tr th {\n",
       "        vertical-align: top;\n",
       "    }\n",
       "\n",
       "    .dataframe thead th {\n",
       "        text-align: right;\n",
       "    }\n",
       "</style>\n",
       "<table border=\"1\" class=\"dataframe\">\n",
       "  <thead>\n",
       "    <tr style=\"text-align: right;\">\n",
       "      <th></th>\n",
       "      <th>Unnamed: 0</th>\n",
       "      <th>epoch</th>\n",
       "      <th>train_loss</th>\n",
       "      <th>validation_loss</th>\n",
       "      <th>validation_accuracy</th>\n",
       "    </tr>\n",
       "  </thead>\n",
       "  <tbody>\n",
       "    <tr>\n",
       "      <th>0</th>\n",
       "      <td>0</td>\n",
       "      <td>0.0</td>\n",
       "      <td>0.000000</td>\n",
       "      <td>288.954240</td>\n",
       "      <td>0.686475</td>\n",
       "    </tr>\n",
       "    <tr>\n",
       "      <th>1</th>\n",
       "      <td>1</td>\n",
       "      <td>1.0</td>\n",
       "      <td>788.628972</td>\n",
       "      <td>29.943416</td>\n",
       "      <td>0.879098</td>\n",
       "    </tr>\n",
       "    <tr>\n",
       "      <th>2</th>\n",
       "      <td>2</td>\n",
       "      <td>2.0</td>\n",
       "      <td>440.409676</td>\n",
       "      <td>28.899772</td>\n",
       "      <td>0.905738</td>\n",
       "    </tr>\n",
       "    <tr>\n",
       "      <th>3</th>\n",
       "      <td>3</td>\n",
       "      <td>3.0</td>\n",
       "      <td>289.939790</td>\n",
       "      <td>43.776315</td>\n",
       "      <td>0.897541</td>\n",
       "    </tr>\n",
       "    <tr>\n",
       "      <th>4</th>\n",
       "      <td>4</td>\n",
       "      <td>4.0</td>\n",
       "      <td>201.878389</td>\n",
       "      <td>26.146926</td>\n",
       "      <td>0.872951</td>\n",
       "    </tr>\n",
       "    <tr>\n",
       "      <th>5</th>\n",
       "      <td>5</td>\n",
       "      <td>5.0</td>\n",
       "      <td>151.746915</td>\n",
       "      <td>30.934257</td>\n",
       "      <td>0.934426</td>\n",
       "    </tr>\n",
       "    <tr>\n",
       "      <th>6</th>\n",
       "      <td>6</td>\n",
       "      <td>6.0</td>\n",
       "      <td>126.809202</td>\n",
       "      <td>27.591140</td>\n",
       "      <td>0.922131</td>\n",
       "    </tr>\n",
       "    <tr>\n",
       "      <th>7</th>\n",
       "      <td>7</td>\n",
       "      <td>7.0</td>\n",
       "      <td>74.091448</td>\n",
       "      <td>35.310097</td>\n",
       "      <td>0.922131</td>\n",
       "    </tr>\n",
       "    <tr>\n",
       "      <th>8</th>\n",
       "      <td>8</td>\n",
       "      <td>8.0</td>\n",
       "      <td>60.756876</td>\n",
       "      <td>39.713520</td>\n",
       "      <td>0.903689</td>\n",
       "    </tr>\n",
       "    <tr>\n",
       "      <th>9</th>\n",
       "      <td>9</td>\n",
       "      <td>9.0</td>\n",
       "      <td>58.525434</td>\n",
       "      <td>57.076277</td>\n",
       "      <td>0.924180</td>\n",
       "    </tr>\n",
       "    <tr>\n",
       "      <th>10</th>\n",
       "      <td>10</td>\n",
       "      <td>10.0</td>\n",
       "      <td>40.620630</td>\n",
       "      <td>53.952453</td>\n",
       "      <td>0.918033</td>\n",
       "    </tr>\n",
       "    <tr>\n",
       "      <th>11</th>\n",
       "      <td>11</td>\n",
       "      <td>11.0</td>\n",
       "      <td>36.786599</td>\n",
       "      <td>45.682475</td>\n",
       "      <td>0.932377</td>\n",
       "    </tr>\n",
       "    <tr>\n",
       "      <th>12</th>\n",
       "      <td>12</td>\n",
       "      <td>12.0</td>\n",
       "      <td>43.488554</td>\n",
       "      <td>48.634012</td>\n",
       "      <td>0.932377</td>\n",
       "    </tr>\n",
       "    <tr>\n",
       "      <th>13</th>\n",
       "      <td>13</td>\n",
       "      <td>13.0</td>\n",
       "      <td>32.806340</td>\n",
       "      <td>44.237678</td>\n",
       "      <td>0.934426</td>\n",
       "    </tr>\n",
       "    <tr>\n",
       "      <th>14</th>\n",
       "      <td>14</td>\n",
       "      <td>14.0</td>\n",
       "      <td>30.804467</td>\n",
       "      <td>49.742612</td>\n",
       "      <td>0.940574</td>\n",
       "    </tr>\n",
       "    <tr>\n",
       "      <th>15</th>\n",
       "      <td>15</td>\n",
       "      <td>15.0</td>\n",
       "      <td>25.813664</td>\n",
       "      <td>63.996339</td>\n",
       "      <td>0.932377</td>\n",
       "    </tr>\n",
       "    <tr>\n",
       "      <th>16</th>\n",
       "      <td>16</td>\n",
       "      <td>16.0</td>\n",
       "      <td>24.701498</td>\n",
       "      <td>62.814026</td>\n",
       "      <td>0.911885</td>\n",
       "    </tr>\n",
       "    <tr>\n",
       "      <th>17</th>\n",
       "      <td>17</td>\n",
       "      <td>17.0</td>\n",
       "      <td>9.002538</td>\n",
       "      <td>59.220427</td>\n",
       "      <td>0.926230</td>\n",
       "    </tr>\n",
       "    <tr>\n",
       "      <th>18</th>\n",
       "      <td>18</td>\n",
       "      <td>18.0</td>\n",
       "      <td>13.739529</td>\n",
       "      <td>63.676617</td>\n",
       "      <td>0.905738</td>\n",
       "    </tr>\n",
       "    <tr>\n",
       "      <th>19</th>\n",
       "      <td>19</td>\n",
       "      <td>19.0</td>\n",
       "      <td>12.084631</td>\n",
       "      <td>73.477135</td>\n",
       "      <td>0.905738</td>\n",
       "    </tr>\n",
       "    <tr>\n",
       "      <th>20</th>\n",
       "      <td>20</td>\n",
       "      <td>20.0</td>\n",
       "      <td>4.839909</td>\n",
       "      <td>86.119912</td>\n",
       "      <td>0.895492</td>\n",
       "    </tr>\n",
       "  </tbody>\n",
       "</table>\n",
       "</div>\n",
       "      <button class=\"colab-df-convert\" onclick=\"convertToInteractive('df-c3761187-698c-4d83-b917-778c92916c8b')\"\n",
       "              title=\"Convert this dataframe to an interactive table.\"\n",
       "              style=\"display:none;\">\n",
       "        \n",
       "  <svg xmlns=\"http://www.w3.org/2000/svg\" height=\"24px\"viewBox=\"0 0 24 24\"\n",
       "       width=\"24px\">\n",
       "    <path d=\"M0 0h24v24H0V0z\" fill=\"none\"/>\n",
       "    <path d=\"M18.56 5.44l.94 2.06.94-2.06 2.06-.94-2.06-.94-.94-2.06-.94 2.06-2.06.94zm-11 1L8.5 8.5l.94-2.06 2.06-.94-2.06-.94L8.5 2.5l-.94 2.06-2.06.94zm10 10l.94 2.06.94-2.06 2.06-.94-2.06-.94-.94-2.06-.94 2.06-2.06.94z\"/><path d=\"M17.41 7.96l-1.37-1.37c-.4-.4-.92-.59-1.43-.59-.52 0-1.04.2-1.43.59L10.3 9.45l-7.72 7.72c-.78.78-.78 2.05 0 2.83L4 21.41c.39.39.9.59 1.41.59.51 0 1.02-.2 1.41-.59l7.78-7.78 2.81-2.81c.8-.78.8-2.07 0-2.86zM5.41 20L4 18.59l7.72-7.72 1.47 1.35L5.41 20z\"/>\n",
       "  </svg>\n",
       "      </button>\n",
       "      \n",
       "  <style>\n",
       "    .colab-df-container {\n",
       "      display:flex;\n",
       "      flex-wrap:wrap;\n",
       "      gap: 12px;\n",
       "    }\n",
       "\n",
       "    .colab-df-convert {\n",
       "      background-color: #E8F0FE;\n",
       "      border: none;\n",
       "      border-radius: 50%;\n",
       "      cursor: pointer;\n",
       "      display: none;\n",
       "      fill: #1967D2;\n",
       "      height: 32px;\n",
       "      padding: 0 0 0 0;\n",
       "      width: 32px;\n",
       "    }\n",
       "\n",
       "    .colab-df-convert:hover {\n",
       "      background-color: #E2EBFA;\n",
       "      box-shadow: 0px 1px 2px rgba(60, 64, 67, 0.3), 0px 1px 3px 1px rgba(60, 64, 67, 0.15);\n",
       "      fill: #174EA6;\n",
       "    }\n",
       "\n",
       "    [theme=dark] .colab-df-convert {\n",
       "      background-color: #3B4455;\n",
       "      fill: #D2E3FC;\n",
       "    }\n",
       "\n",
       "    [theme=dark] .colab-df-convert:hover {\n",
       "      background-color: #434B5C;\n",
       "      box-shadow: 0px 1px 3px 1px rgba(0, 0, 0, 0.15);\n",
       "      filter: drop-shadow(0px 1px 2px rgba(0, 0, 0, 0.3));\n",
       "      fill: #FFFFFF;\n",
       "    }\n",
       "  </style>\n",
       "\n",
       "      <script>\n",
       "        const buttonEl =\n",
       "          document.querySelector('#df-c3761187-698c-4d83-b917-778c92916c8b button.colab-df-convert');\n",
       "        buttonEl.style.display =\n",
       "          google.colab.kernel.accessAllowed ? 'block' : 'none';\n",
       "\n",
       "        async function convertToInteractive(key) {\n",
       "          const element = document.querySelector('#df-c3761187-698c-4d83-b917-778c92916c8b');\n",
       "          const dataTable =\n",
       "            await google.colab.kernel.invokeFunction('convertToInteractive',\n",
       "                                                     [key], {});\n",
       "          if (!dataTable) return;\n",
       "\n",
       "          const docLinkHtml = 'Like what you see? Visit the ' +\n",
       "            '<a target=\"_blank\" href=https://colab.research.google.com/notebooks/data_table.ipynb>data table notebook</a>'\n",
       "            + ' to learn more about interactive tables.';\n",
       "          element.innerHTML = '';\n",
       "          dataTable['output_type'] = 'display_data';\n",
       "          await google.colab.output.renderOutput(dataTable, element);\n",
       "          const docLink = document.createElement('div');\n",
       "          docLink.innerHTML = docLinkHtml;\n",
       "          element.appendChild(docLink);\n",
       "        }\n",
       "      </script>\n",
       "    </div>\n",
       "  </div>\n",
       "  "
      ],
      "text/plain": [
       "    Unnamed: 0  epoch  train_loss  validation_loss  validation_accuracy\n",
       "0            0    0.0    0.000000       288.954240             0.686475\n",
       "1            1    1.0  788.628972        29.943416             0.879098\n",
       "2            2    2.0  440.409676        28.899772             0.905738\n",
       "3            3    3.0  289.939790        43.776315             0.897541\n",
       "4            4    4.0  201.878389        26.146926             0.872951\n",
       "5            5    5.0  151.746915        30.934257             0.934426\n",
       "6            6    6.0  126.809202        27.591140             0.922131\n",
       "7            7    7.0   74.091448        35.310097             0.922131\n",
       "8            8    8.0   60.756876        39.713520             0.903689\n",
       "9            9    9.0   58.525434        57.076277             0.924180\n",
       "10          10   10.0   40.620630        53.952453             0.918033\n",
       "11          11   11.0   36.786599        45.682475             0.932377\n",
       "12          12   12.0   43.488554        48.634012             0.932377\n",
       "13          13   13.0   32.806340        44.237678             0.934426\n",
       "14          14   14.0   30.804467        49.742612             0.940574\n",
       "15          15   15.0   25.813664        63.996339             0.932377\n",
       "16          16   16.0   24.701498        62.814026             0.911885\n",
       "17          17   17.0    9.002538        59.220427             0.926230\n",
       "18          18   18.0   13.739529        63.676617             0.905738\n",
       "19          19   19.0   12.084631        73.477135             0.905738\n",
       "20          20   20.0    4.839909        86.119912             0.895492"
      ]
     },
     "execution_count": 54,
     "metadata": {},
     "output_type": "execute_result"
    }
   ],
   "source": [
    "results_per_epoch"
   ]
  },
  {
   "cell_type": "code",
   "execution_count": 55,
   "metadata": {
    "colab": {
     "base_uri": "https://localhost:8080/",
     "height": 390
    },
    "id": "0ns3y1XSSeeN",
    "outputId": "4c236440-1c9a-488f-b000-f7547c497d31"
   },
   "outputs": [
    {
     "data": {
      "image/png": "[encoded data removed]",
      "text/plain": [
       "<Figure size 432x432 with 2 Axes>"
      ]
     },
     "metadata": {
      "needs_background": "light"
     },
     "output_type": "display_data"
    }
   ],
   "source": [
    "plot_train_progress(results_per_epoch)"
   ]
  },
  {
   "cell_type": "markdown",
   "metadata": {
    "id": "vcJKJyXq2LnT"
   },
   "source": [
    "## Prepare final model for Test data"
   ]
  },
  {
   "cell_type": "markdown",
   "metadata": {
    "id": "rsFnoHWQ16vF"
   },
   "source": [
    "### Train selected model (Classifier-2) on all data, for 12 epochs and save model"
   ]
  },
  {
   "cell_type": "code",
   "execution_count": 56,
   "metadata": {
    "id": "Sl67JFjg2RuV"
   },
   "outputs": [],
   "source": [
    "gc.collect()\n",
    "torch.cuda.empty_cache()\n",
    "# torch.cuda.reset_accumulated_memory_stats()"
   ]
  },
  {
   "cell_type": "code",
   "execution_count": 57,
   "metadata": {
    "colab": {
     "base_uri": "https://localhost:8080/"
    },
    "id": "7nbkXRf62kgt",
    "outputId": "4651d4b0-715d-4054-a248-15b0c68f2b31"
   },
   "outputs": [
    {
     "name": "stdout",
     "output_type": "stream",
     "text": [
      "Device: cuda\n"
     ]
    },
    {
     "name": "stderr",
     "output_type": "stream",
     "text": [
      "Some weights of the model checkpoint at distilbert-base-uncased were not used when initializing DistilBertModel: ['vocab_layer_norm.weight', 'vocab_transform.weight', 'vocab_transform.bias', 'vocab_projector.weight', 'vocab_layer_norm.bias', 'vocab_projector.bias']\n",
      "- This IS expected if you are initializing DistilBertModel from the checkpoint of a model trained on another task or with another architecture (e.g. initializing a BertForSequenceClassification model from a BertForPreTraining model).\n",
      "- This IS NOT expected if you are initializing DistilBertModel from the checkpoint of a model that you expect to be exactly identical (initializing a BertForSequenceClassification model from a BertForSequenceClassification model).\n"
     ]
    }
   ],
   "source": [
    "#Train configuration\n",
    "\n",
    "device = torch.device('cuda') if torch.cuda.is_available() else torch.device('cpu')\n",
    "print(f'Device: {device}')\n",
    "\n",
    "model = BertAndFeaturesForSequenceClassification(10, model_name, num_classes=2)\n",
    "model.to(device)\n",
    "\n",
    "optim = AdamW(model.parameters(), lr=5e-5)\n",
    "loss_function = nn.CrossEntropyLoss()"
   ]
  },
  {
   "cell_type": "code",
   "execution_count": 58,
   "metadata": {
    "id": "Z4MEfu3b2ws3"
   },
   "outputs": [],
   "source": [
    "PERFORMANCE_CSV_PATH = path_output / 'final_model_for_test_train_stats.csv' \n",
    "\n",
    "if TRAIN_MODEL_FINAL == 'Train':\n",
    "  NUMBER_OF_EPOCHS_TO_TRAIN = 14\n",
    "\n",
    "  results_per_epoch = pd.DataFrame(columns=['epoch', 'train_loss', 'validation_loss', 'validation_accuracy'])\n",
    "  best_validation_accuracy = 0\n",
    "\n",
    "  # test initial model performance\n",
    "  epoch = 0\n",
    "  print(f'Epoch {epoch}')\n",
    "  validation_loss, validation_accuracy = evaluate_results(model, validation_unified_dl)\n",
    "  train_loss = 0\n",
    "  results_per_epoch = results_per_epoch.append({'epoch': epoch, 'train_loss': train_loss, 'validation_loss': validation_loss, 'validation_accuracy': validation_accuracy}, ignore_index=True)\n",
    "  print(results_per_epoch)\n",
    "  results_per_epoch.to_csv(PERFORMANCE_CSV_PATH)\n",
    "\n",
    "  # Train loop\n",
    "  for epoch in tqdm(range(NUMBER_OF_EPOCHS_TO_TRAIN)):\n",
    "    print(f'Epoch {epoch+1}')\n",
    "    train_loss = train_epoch(model, full_unified_dl, optim, loss_function)\n",
    "    validation_loss, validation_accuracy = evaluate_results(model, validation_unified_dl)\n",
    "    results_per_epoch = results_per_epoch.append({'epoch': epoch+1, 'train_loss': train_loss, 'validation_loss': validation_loss, 'validation_accuracy': validation_accuracy}, ignore_index=True)\n",
    "    print(results_per_epoch)\n",
    "    results_per_epoch.to_csv(PERFORMANCE_CSV_PATH)\n",
    "\n",
    "    # # if better model:\n",
    "    # if validation_accuracy > best_validation_accuracy:\n",
    "    #   best_validation_accuracy = validation_accuracy\n",
    "    #   model_path = path_output / Path('final_model_for_test.pickle')\n",
    "    #   torch.save(model.state_dict(), model_path)\n",
    "\n",
    "  model_path = path_output / Path('final_model_for_test.pickle')\n",
    "  torch.save(model.state_dict(), model_path)\n",
    "\n",
    "else:\n",
    "  # print('Loading model state from disk')\n",
    "  # MODEL_PATH = path_output / Path('final_model_for_test.pickle')\n",
    "  # model_state_dict = torch.load(MODEL_PATH)\n",
    "  # model.load_state_dict(model_state_dict)\n",
    "  results_per_epoch = pd.read_csv(PERFORMANCE_CSV_PATH)"
   ]
  },
  {
   "cell_type": "markdown",
   "metadata": {
    "id": "CKaDp9fu4Lnf"
   },
   "source": [
    "#### Classifier train performance"
   ]
  },
  {
   "cell_type": "code",
   "execution_count": 59,
   "metadata": {
    "colab": {
     "base_uri": "https://localhost:8080/",
     "height": 390
    },
    "id": "o0-F0flj4Lnl",
    "outputId": "60ccee7b-790d-4562-92f3-a2086523f852"
   },
   "outputs": [
    {
     "data": {
      "image/png": "[encoded data removed]",
      "text/plain": [
       "<Figure size 432x432 with 2 Axes>"
      ]
     },
     "metadata": {
      "needs_background": "light"
     },
     "output_type": "display_data"
    }
   ],
   "source": [
    "plot_train_progress(results_per_epoch)"
   ]
  },
  {
   "cell_type": "markdown",
   "metadata": {
    "id": "Cm2Ih4t5F-0h"
   },
   "source": [
    "## Run on test data (Last day)"
   ]
  },
  {
   "cell_type": "markdown",
   "metadata": {
    "id": "CWQmkrAwH91t"
   },
   "source": [
    "### Download test data"
   ]
  },
  {
   "cell_type": "code",
   "execution_count": null,
   "metadata": {
    "id": "-JOIR4dmH98v"
   },
   "outputs": [],
   "source": [
    "data_path_test = Path('/content/drive/MyDrive/colab_data/aml_hw4/test_gil2.tsv')\n",
    "\n",
    "data_test = pd.read_csv(data_path_test, sep='\\t', lineterminator='\\n', names=('id', 'alias', 'text', 'date_time', 'label'))\n",
    "print(data_test.head(5))"
   ]
  },
  {
   "cell_type": "markdown",
   "metadata": {
    "id": "ZjEoUgRNIByO"
   },
   "source": [
    "### Drop NAs???"
   ]
  },
  {
   "cell_type": "code",
   "execution_count": null,
   "metadata": {
    "id": "hJhFjxLFIBG_"
   },
   "outputs": [],
   "source": [
    "print(f'shape before:{data_test.shape}')\n",
    "data_test.dropna(axis=0, inplace=True)\n",
    "print(f'shape after:{data_test.shape}')"
   ]
  },
  {
   "cell_type": "markdown",
   "metadata": {
    "id": "pVOObD_wJXSZ"
   },
   "source": [
    "### Add attributes to test dataframe"
   ]
  },
  {
   "cell_type": "code",
   "execution_count": null,
   "metadata": {
    "id": "xLUYhLZjJXSe"
   },
   "outputs": [],
   "source": [
    "print('Before:')\n",
    "data_test.head(5)"
   ]
  },
  {
   "cell_type": "code",
   "execution_count": null,
   "metadata": {
    "id": "2K494DJIJXSe"
   },
   "outputs": [],
   "source": [
    "# Apply enrichment\n",
    "data_test = add_custom_atts_to_df(data_test)"
   ]
  },
  {
   "cell_type": "markdown",
   "metadata": {
    "id": "28nXca6WJXSe"
   },
   "source": [
    "#### Fix dtypes for all attributes:"
   ]
  },
  {
   "cell_type": "code",
   "execution_count": null,
   "metadata": {
    "id": "sLh-zjdMJXSe"
   },
   "outputs": [],
   "source": [
    "# Fix dtypes\n",
    "\n",
    "print(f'dtypes before: {data_test.dtypes}')\n",
    "data_test = data_test.astype({'text': 'string', \n",
    "                   'date_time': 'object', \n",
    "                  #  'lang': 'category', \n",
    "                   'quote_retweet': 'bool',\n",
    "                   'percent_caps': 'float32',\n",
    "                   'contains_url': 'bool',\n",
    "                   'hashtag_count': 'int16',\n",
    "                   'year': 'int16',\n",
    "                   'month': 'int16',\n",
    "                   'day': 'int16',\n",
    "                   'hour': 'int16',\n",
    "                   'minute': 'int16',\n",
    "                   'weekday': 'category'})\n",
    "print()\n",
    "print(f'dtypes after: {data_test.dtypes}')\n",
    "\n"
   ]
  },
  {
   "cell_type": "markdown",
   "metadata": {
    "id": "8rkdNSMeIrhJ"
   },
   "source": [
    "### Create manual feature dataset for pytorch"
   ]
  },
  {
   "cell_type": "code",
   "execution_count": null,
   "metadata": {
    "id": "z8qi0-3zKkwH"
   },
   "outputs": [],
   "source": [
    "manual_classification_features = list(data_test.columns)\n",
    "del manual_classification_features[0:4]\n",
    "data_for_classification_test = data_test[manual_classification_features]\n",
    "\n",
    "manual_features_ds_test = ManualFeaturesDataset(scaler.transform(data_for_classification_test), label_encoder=label_encoder)\n"
   ]
  },
  {
   "cell_type": "markdown",
   "metadata": {
    "id": "kovRiEnMAVRC"
   },
   "source": [
    "### Preprocess text for lang model"
   ]
  },
  {
   "cell_type": "code",
   "execution_count": null,
   "metadata": {
    "id": "wZyZBERLAJ3p"
   },
   "outputs": [],
   "source": [
    "# preprocess - clean tweets, replace [urls, hashtags, names], update labels to numbers\n",
    "\n",
    "def preprocess_text_for_bart(string_list):\n",
    "    preprocessed_text_list = pd.Series(string_list).copy()\n",
    "    \n",
    "    # TODO: preprocess here!\n",
    "    \n",
    "    return preprocessed_text_list\n",
    "\n",
    "\n",
    "def add_bart_preprocessed_column_to_df(dataframe):\n",
    "  dataframe.loc[:, 'text_for_lang_model'] = preprocess_text_for_bart(dataframe.loc[:, 'text'])\n",
    "  # TODO: need to add cleanup logic here!\n",
    "\n",
    "  return dataframe\n"
   ]
  },
  {
   "cell_type": "code",
   "execution_count": null,
   "metadata": {
    "id": "cs3EnwSLAJ3p"
   },
   "outputs": [],
   "source": [
    "data_test = add_bart_preprocessed_column_to_df(data_test)\n",
    "\n",
    "data_test.head()"
   ]
  },
  {
   "cell_type": "markdown",
   "metadata": {
    "id": "A7baHF15jwg1"
   },
   "source": [
    "### Tokenization"
   ]
  },
  {
   "cell_type": "code",
   "execution_count": null,
   "metadata": {
    "id": "z1ug7UIxIrob"
   },
   "outputs": [],
   "source": [
    "# get only relevant data as lists\n",
    "\n",
    "def get_texts_for_lang_model(dframe, text_col_name):\n",
    "  return dframe[text_col_name].tolist()\n",
    "\n",
    "\n",
    "#Get texts and labels\n",
    "test_texts = get_texts_for_lang_model(data_test, 'text_for_lang_model')\n",
    "\n",
    "# Tokenize texts\n",
    "model_name = 'distilbert-base-uncased'\n",
    "tokenizer = DistilBertTokenizerFast.from_pretrained(model_name)\n",
    "\n",
    "test_encodings = tokenizer(test_texts, truncation=True, padding=True)"
   ]
  },
  {
   "cell_type": "code",
   "execution_count": null,
   "metadata": {
    "id": "vuahhRiQkTy1"
   },
   "outputs": [],
   "source": [
    "len(test_encodings['input_ids'])"
   ]
  },
  {
   "cell_type": "markdown",
   "metadata": {
    "id": "8KEhC7LukPZl"
   },
   "source": [
    "### Prepare test dataset"
   ]
  },
  {
   "cell_type": "code",
   "execution_count": null,
   "metadata": {
    "id": "FW7Uhs2wkPg0"
   },
   "outputs": [],
   "source": [
    "# standalone datasets - attributes and text\n",
    "manual_features_nl_ds_test = ManualFeaturesDataset(data_for_classification_test)\n",
    "text_nl_ds_test = TextClassificationDataset(test_encodings)\n",
    "\n",
    "# full dataset\n",
    "full_unified_ds_test = TextAndAttributesClassificationDataset(text_nl_ds_test, manual_features_nl_ds_test, label_encoder=label_encoder)\n",
    "\n",
    "# Data loaders\n",
    "full_unified_dl_test = torch.utils.data.DataLoader(full_unified_ds_test, batch_size=BATCH_SIZE)"
   ]
  },
  {
   "cell_type": "markdown",
   "metadata": {
    "id": "-B0bzTb0nHy3"
   },
   "source": [
    "### Prepare model and load state"
   ]
  },
  {
   "cell_type": "markdown",
   "metadata": {
    "id": "Eb7KOKxSqX89"
   },
   "source": [
    "#### Load Model config"
   ]
  },
  {
   "cell_type": "code",
   "execution_count": null,
   "metadata": {
    "id": "EEMjtVxanH-M"
   },
   "outputs": [],
   "source": [
    "# configuration\n",
    "\n",
    "device = torch.device('cuda') if torch.cuda.is_available() else torch.device('cpu')\n",
    "print(f'Device: {device}')\n",
    "\n",
    "print('Loading model state from disk')\n",
    "MODEL_PATH = path_output / Path('final_model_for_test.pickle')\n",
    "model_state_dict = torch.load(MODEL_PATH)\n",
    "model.load_state_dict(model_state_dict)\n",
    "model.to(device)\n",
    "\n",
    "optim = AdamW(model.parameters(), lr=5e-5)\n",
    "loss_function = nn.CrossEntropyLoss()\n"
   ]
  },
  {
   "cell_type": "markdown",
   "metadata": {
    "id": "TOwZ54zJogyA"
   },
   "source": [
    "#### Inference function"
   ]
  },
  {
   "cell_type": "code",
   "execution_count": null,
   "metadata": {
    "id": "MpJeELZmog6F"
   },
   "outputs": [],
   "source": [
    "def scores_to_class(scores):\n",
    "  '''\n",
    "  Gets a matrix with score per class, returns the class (argmax)\n",
    "  '''\n",
    "  classes = scores.argmax(axis=1).tolist()\n",
    "  return classes\n",
    "\n",
    "\n",
    "def predict(model, test_dl):\n",
    "  predictions = []\n",
    "  model.train(False)\n",
    "\n",
    "  with torch.no_grad():\n",
    "    for i, batch in tqdm(enumerate(test_dl)):\n",
    "      features = batch['features'].to(device)\n",
    "      input_ids = batch['text_encodings']['input_ids'].to(device)\n",
    "      attention_mask = batch['text_encodings']['attention_mask'].to(device)\n",
    "\n",
    "      outputs = model(features, input_ids, attention_mask=attention_mask)\n",
    "      predictions += scores_to_class(outputs)\n",
    "\n",
    "  predictions = np.array(predictions)\n",
    "  return predictions\n"
   ]
  },
  {
   "cell_type": "markdown",
   "metadata": {
    "id": "7jZqrp_jqdk5"
   },
   "source": [
    "#### Predict"
   ]
  },
  {
   "cell_type": "code",
   "execution_count": null,
   "metadata": {
    "id": "KYBwCjg4prZy"
   },
   "outputs": [],
   "source": [
    "test_predictions = predict(model, full_unified_dl_test)\n",
    "test_predictions = label_encoder.inverse_transform(test_predictions)"
   ]
  },
  {
   "cell_type": "code",
   "execution_count": null,
   "metadata": {
    "id": "M6GqcDKPBnW7"
   },
   "outputs": [],
   "source": [
    "data_test['prediction'] = test_predictions\n",
    "data_test.to_csv(path_output / 'test_with_predictions.csv')"
   ]
  }
 ],
 "metadata": {
  "accelerator": "GPU",
  "colab": {
   "collapsed_sections": [
    "pI7biuhOnOKZ",
    "ksKyHMFi7xnW",
    "krS6ZHn03ps8",
    "NhlNzpggF_CK",
    "p-XjKp9OEjH6",
    "L3LyOYTA2Nn7",
    "pl01sp9d2SyU",
    "p4FH5ovMV1S9",
    "xSyY7mBTn6ik",
    "Mqr4EQ0EzMoh",
    "PUigqKwnyLxg",
    "DqA5w4hW67s8",
    "ionqPyG1Z_K4",
    "YAswb9oO5kYm",
    "KSPNvdox7yN_",
    "X9vW6ujrKvbl",
    "detYSBCcAYhS",
    "KYCYvIw5DCYR",
    "5YBOV6gIYfSP",
    "70HV_H0HQczu",
    "vcJKJyXq2LnT"
   ],
   "name": "aml_hw4.ipynb",
   "provenance": []
  },
  "kernelspec": {
   "display_name": "Python 3 (ipykernel)",
   "language": "python",
   "name": "python3"
  },
  "language_info": {
   "codemirror_mode": {
    "name": "ipython",
    "version": 3
   },
   "file_extension": ".py",
   "mimetype": "text/x-python",
   "name": "python",
   "nbconvert_exporter": "python",
   "pygments_lexer": "ipython3",
   "version": "3.9.5"
  },
  "widgets": {
   "application/vnd.jupyter.widget-state+json": {
    "0091b109a23b4312bb51b51a381e3ed1": {
     "model_module": "@jupyter-widgets/base",
     "model_module_version": "1.2.0",
     "model_name": "LayoutModel",
     "state": {
      "_model_module": "@jupyter-widgets/base",
      "_model_module_version": "1.2.0",
      "_model_name": "LayoutModel",
      "_view_count": null,
      "_view_module": "@jupyter-widgets/base",
      "_view_module_version": "1.2.0",
      "_view_name": "LayoutView",
      "align_content": null,
      "align_items": null,
      "align_self": null,
      "border": null,
      "bottom": null,
      "display": null,
      "flex": null,
      "flex_flow": null,
      "grid_area": null,
      "grid_auto_columns": null,
      "grid_auto_flow": null,
      "grid_auto_rows": null,
      "grid_column": null,
      "grid_gap": null,
      "grid_row": null,
      "grid_template_areas": null,
      "grid_template_columns": null,
      "grid_template_rows": null,
      "height": null,
      "justify_content": null,
      "justify_items": null,
      "left": null,
      "margin": null,
      "max_height": null,
      "max_width": null,
      "min_height": null,
      "min_width": null,
      "object_fit": null,
      "object_position": null,
      "order": null,
      "overflow": null,
      "overflow_x": null,
      "overflow_y": null,
      "padding": null,
      "right": null,
      "top": null,
      "visibility": null,
      "width": null
     }
    },
    "01e9c306455a4b728048b6cf9631b9c9": {
     "model_module": "@jupyter-widgets/base",
     "model_module_version": "1.2.0",
     "model_name": "LayoutModel",
     "state": {
      "_model_module": "@jupyter-widgets/base",
      "_model_module_version": "1.2.0",
      "_model_name": "LayoutModel",
      "_view_count": null,
      "_view_module": "@jupyter-widgets/base",
      "_view_module_version": "1.2.0",
      "_view_name": "LayoutView",
      "align_content": null,
      "align_items": null,
      "align_self": null,
      "border": null,
      "bottom": null,
      "display": null,
      "flex": null,
      "flex_flow": null,
      "grid_area": null,
      "grid_auto_columns": null,
      "grid_auto_flow": null,
      "grid_auto_rows": null,
      "grid_column": null,
      "grid_gap": null,
      "grid_row": null,
      "grid_template_areas": null,
      "grid_template_columns": null,
      "grid_template_rows": null,
      "height": null,
      "justify_content": null,
      "justify_items": null,
      "left": null,
      "margin": null,
      "max_height": null,
      "max_width": null,
      "min_height": null,
      "min_width": null,
      "object_fit": null,
      "object_position": null,
      "order": null,
      "overflow": null,
      "overflow_x": null,
      "overflow_y": null,
      "padding": null,
      "right": null,
      "top": null,
      "visibility": null,
      "width": null
     }
    },
    "03240f3fceef4cc9a5212c6b58ee47c6": {
     "model_module": "@jupyter-widgets/controls",
     "model_module_version": "1.5.0",
     "model_name": "HTMLModel",
     "state": {
      "_dom_classes": [],
      "_model_module": "@jupyter-widgets/controls",
      "_model_module_version": "1.5.0",
      "_model_name": "HTMLModel",
      "_view_count": null,
      "_view_module": "@jupyter-widgets/controls",
      "_view_module_version": "1.5.0",
      "_view_name": "HTMLView",
      "description": "",
      "description_tooltip": null,
      "layout": "IPY_MODEL_ea6558704d6e466890db828b74722e3b",
      "placeholder": "​",
      "style": "IPY_MODEL_7878a2079bbb48f99ce8af3a68a7592b",
      "value": "Downloading: 100%"
     }
    },
    "0bf6d673135d49c3a1ea0c5ddd81bdea": {
     "model_module": "@jupyter-widgets/controls",
     "model_module_version": "1.5.0",
     "model_name": "FloatProgressModel",
     "state": {
      "_dom_classes": [],
      "_model_module": "@jupyter-widgets/controls",
      "_model_module_version": "1.5.0",
      "_model_name": "FloatProgressModel",
      "_view_count": null,
      "_view_module": "@jupyter-widgets/controls",
      "_view_module_version": "1.5.0",
      "_view_name": "ProgressView",
      "bar_style": "success",
      "description": "",
      "description_tooltip": null,
      "layout": "IPY_MODEL_5ff4cb1fa04e4f20b06066b3e0910280",
      "max": 2438,
      "min": 0,
      "orientation": "horizontal",
      "style": "IPY_MODEL_a39be8ee0de34f1691b1721df038745e",
      "value": 2438
     }
    },
    "0c087745b18d42d08f2879604e004f1c": {
     "model_module": "@jupyter-widgets/controls",
     "model_module_version": "1.5.0",
     "model_name": "ProgressStyleModel",
     "state": {
      "_model_module": "@jupyter-widgets/controls",
      "_model_module_version": "1.5.0",
      "_model_name": "ProgressStyleModel",
      "_view_count": null,
      "_view_module": "@jupyter-widgets/base",
      "_view_module_version": "1.2.0",
      "_view_name": "StyleView",
      "bar_color": null,
      "description_width": ""
     }
    },
    "0c6bc7dbdb944afdba41a6cb9a5d6f18": {
     "model_module": "@jupyter-widgets/base",
     "model_module_version": "1.2.0",
     "model_name": "LayoutModel",
     "state": {
      "_model_module": "@jupyter-widgets/base",
      "_model_module_version": "1.2.0",
      "_model_name": "LayoutModel",
      "_view_count": null,
      "_view_module": "@jupyter-widgets/base",
      "_view_module_version": "1.2.0",
      "_view_name": "LayoutView",
      "align_content": null,
      "align_items": null,
      "align_self": null,
      "border": null,
      "bottom": null,
      "display": null,
      "flex": null,
      "flex_flow": null,
      "grid_area": null,
      "grid_auto_columns": null,
      "grid_auto_flow": null,
      "grid_auto_rows": null,
      "grid_column": null,
      "grid_gap": null,
      "grid_row": null,
      "grid_template_areas": null,
      "grid_template_columns": null,
      "grid_template_rows": null,
      "height": null,
      "justify_content": null,
      "justify_items": null,
      "left": null,
      "margin": null,
      "max_height": null,
      "max_width": null,
      "min_height": null,
      "min_width": null,
      "object_fit": null,
      "object_position": null,
      "order": null,
      "overflow": null,
      "overflow_x": null,
      "overflow_y": null,
      "padding": null,
      "right": null,
      "top": null,
      "visibility": null,
      "width": null
     }
    },
    "123e467b78184b049c96ff5a5168d699": {
     "model_module": "@jupyter-widgets/controls",
     "model_module_version": "1.5.0",
     "model_name": "HTMLModel",
     "state": {
      "_dom_classes": [],
      "_model_module": "@jupyter-widgets/controls",
      "_model_module_version": "1.5.0",
      "_model_name": "HTMLModel",
      "_view_count": null,
      "_view_module": "@jupyter-widgets/controls",
      "_view_module_version": "1.5.0",
      "_view_name": "HTMLView",
      "description": "",
      "description_tooltip": null,
      "layout": "IPY_MODEL_3e5dd22b3ab8493cbe94425c220df86b",
      "placeholder": "​",
      "style": "IPY_MODEL_94d08d96c3fa4887aca39d566e9341fc",
      "value": "Downloading: 100%"
     }
    },
    "164bf348eff54deb859e0641c55824c2": {
     "model_module": "@jupyter-widgets/base",
     "model_module_version": "1.2.0",
     "model_name": "LayoutModel",
     "state": {
      "_model_module": "@jupyter-widgets/base",
      "_model_module_version": "1.2.0",
      "_model_name": "LayoutModel",
      "_view_count": null,
      "_view_module": "@jupyter-widgets/base",
      "_view_module_version": "1.2.0",
      "_view_name": "LayoutView",
      "align_content": null,
      "align_items": null,
      "align_self": null,
      "border": null,
      "bottom": null,
      "display": null,
      "flex": null,
      "flex_flow": null,
      "grid_area": null,
      "grid_auto_columns": null,
      "grid_auto_flow": null,
      "grid_auto_rows": null,
      "grid_column": null,
      "grid_gap": null,
      "grid_row": null,
      "grid_template_areas": null,
      "grid_template_columns": null,
      "grid_template_rows": null,
      "height": null,
      "justify_content": null,
      "justify_items": null,
      "left": null,
      "margin": null,
      "max_height": null,
      "max_width": null,
      "min_height": null,
      "min_width": null,
      "object_fit": null,
      "object_position": null,
      "order": null,
      "overflow": null,
      "overflow_x": null,
      "overflow_y": null,
      "padding": null,
      "right": null,
      "top": null,
      "visibility": null,
      "width": null
     }
    },
    "1a3c0086c5c34b6d94641dd3b73ffdeb": {
     "model_module": "@jupyter-widgets/base",
     "model_module_version": "1.2.0",
     "model_name": "LayoutModel",
     "state": {
      "_model_module": "@jupyter-widgets/base",
      "_model_module_version": "1.2.0",
      "_model_name": "LayoutModel",
      "_view_count": null,
      "_view_module": "@jupyter-widgets/base",
      "_view_module_version": "1.2.0",
      "_view_name": "LayoutView",
      "align_content": null,
      "align_items": null,
      "align_self": null,
      "border": null,
      "bottom": null,
      "display": null,
      "flex": null,
      "flex_flow": null,
      "grid_area": null,
      "grid_auto_columns": null,
      "grid_auto_flow": null,
      "grid_auto_rows": null,
      "grid_column": null,
      "grid_gap": null,
      "grid_row": null,
      "grid_template_areas": null,
      "grid_template_columns": null,
      "grid_template_rows": null,
      "height": null,
      "justify_content": null,
      "justify_items": null,
      "left": null,
      "margin": null,
      "max_height": null,
      "max_width": null,
      "min_height": null,
      "min_width": null,
      "object_fit": null,
      "object_position": null,
      "order": null,
      "overflow": null,
      "overflow_x": null,
      "overflow_y": null,
      "padding": null,
      "right": null,
      "top": null,
      "visibility": null,
      "width": null
     }
    },
    "1af78f6103474891a42091a3141e20e6": {
     "model_module": "@jupyter-widgets/controls",
     "model_module_version": "1.5.0",
     "model_name": "FloatProgressModel",
     "state": {
      "_dom_classes": [],
      "_model_module": "@jupyter-widgets/controls",
      "_model_module_version": "1.5.0",
      "_model_name": "FloatProgressModel",
      "_view_count": null,
      "_view_module": "@jupyter-widgets/controls",
      "_view_module_version": "1.5.0",
      "_view_name": "ProgressView",
      "bar_style": "success",
      "description": "",
      "description_tooltip": null,
      "layout": "IPY_MODEL_88c521affb4b42f9a330d65d22013038",
      "max": 483,
      "min": 0,
      "orientation": "horizontal",
      "style": "IPY_MODEL_9c7c75fb4e024401aa447f4a48d97700",
      "value": 483
     }
    },
    "1bc589df37cf45bf9eea8cc3b3a4bd1f": {
     "model_module": "@jupyter-widgets/base",
     "model_module_version": "1.2.0",
     "model_name": "LayoutModel",
     "state": {
      "_model_module": "@jupyter-widgets/base",
      "_model_module_version": "1.2.0",
      "_model_name": "LayoutModel",
      "_view_count": null,
      "_view_module": "@jupyter-widgets/base",
      "_view_module_version": "1.2.0",
      "_view_name": "LayoutView",
      "align_content": null,
      "align_items": null,
      "align_self": null,
      "border": null,
      "bottom": null,
      "display": null,
      "flex": null,
      "flex_flow": null,
      "grid_area": null,
      "grid_auto_columns": null,
      "grid_auto_flow": null,
      "grid_auto_rows": null,
      "grid_column": null,
      "grid_gap": null,
      "grid_row": null,
      "grid_template_areas": null,
      "grid_template_columns": null,
      "grid_template_rows": null,
      "height": null,
      "justify_content": null,
      "justify_items": null,
      "left": null,
      "margin": null,
      "max_height": null,
      "max_width": null,
      "min_height": null,
      "min_width": null,
      "object_fit": null,
      "object_position": null,
      "order": null,
      "overflow": null,
      "overflow_x": null,
      "overflow_y": null,
      "padding": null,
      "right": null,
      "top": null,
      "visibility": null,
      "width": null
     }
    },
    "1d8f7e30eb254cc2b5b4e0e836017925": {
     "model_module": "@jupyter-widgets/controls",
     "model_module_version": "1.5.0",
     "model_name": "HTMLModel",
     "state": {
      "_dom_classes": [],
      "_model_module": "@jupyter-widgets/controls",
      "_model_module_version": "1.5.0",
      "_model_name": "HTMLModel",
      "_view_count": null,
      "_view_module": "@jupyter-widgets/controls",
      "_view_module_version": "1.5.0",
      "_view_name": "HTMLView",
      "description": "",
      "description_tooltip": null,
      "layout": "IPY_MODEL_f2af0845c49340d5b1c182165aaed7cc",
      "placeholder": "​",
      "style": "IPY_MODEL_5c17738c9d944795b0b76ba2bef8ca8b",
      "value": " 226k/226k [00:00&lt;00:00, 901kB/s]"
     }
    },
    "1eef17cb58d84b74bc3a2f03724b6244": {
     "model_module": "@jupyter-widgets/base",
     "model_module_version": "1.2.0",
     "model_name": "LayoutModel",
     "state": {
      "_model_module": "@jupyter-widgets/base",
      "_model_module_version": "1.2.0",
      "_model_name": "LayoutModel",
      "_view_count": null,
      "_view_module": "@jupyter-widgets/base",
      "_view_module_version": "1.2.0",
      "_view_name": "LayoutView",
      "align_content": null,
      "align_items": null,
      "align_self": null,
      "border": null,
      "bottom": null,
      "display": null,
      "flex": null,
      "flex_flow": null,
      "grid_area": null,
      "grid_auto_columns": null,
      "grid_auto_flow": null,
      "grid_auto_rows": null,
      "grid_column": null,
      "grid_gap": null,
      "grid_row": null,
      "grid_template_areas": null,
      "grid_template_columns": null,
      "grid_template_rows": null,
      "height": null,
      "justify_content": null,
      "justify_items": null,
      "left": null,
      "margin": null,
      "max_height": null,
      "max_width": null,
      "min_height": null,
      "min_width": null,
      "object_fit": null,
      "object_position": null,
      "order": null,
      "overflow": null,
      "overflow_x": null,
      "overflow_y": null,
      "padding": null,
      "right": null,
      "top": null,
      "visibility": null,
      "width": null
     }
    },
    "2074fa17846e4f8c89a0cabf97200066": {
     "model_module": "@jupyter-widgets/base",
     "model_module_version": "1.2.0",
     "model_name": "LayoutModel",
     "state": {
      "_model_module": "@jupyter-widgets/base",
      "_model_module_version": "1.2.0",
      "_model_name": "LayoutModel",
      "_view_count": null,
      "_view_module": "@jupyter-widgets/base",
      "_view_module_version": "1.2.0",
      "_view_name": "LayoutView",
      "align_content": null,
      "align_items": null,
      "align_self": null,
      "border": null,
      "bottom": null,
      "display": null,
      "flex": null,
      "flex_flow": null,
      "grid_area": null,
      "grid_auto_columns": null,
      "grid_auto_flow": null,
      "grid_auto_rows": null,
      "grid_column": null,
      "grid_gap": null,
      "grid_row": null,
      "grid_template_areas": null,
      "grid_template_columns": null,
      "grid_template_rows": null,
      "height": null,
      "justify_content": null,
      "justify_items": null,
      "left": null,
      "margin": null,
      "max_height": null,
      "max_width": null,
      "min_height": null,
      "min_width": null,
      "object_fit": null,
      "object_position": null,
      "order": null,
      "overflow": null,
      "overflow_x": null,
      "overflow_y": null,
      "padding": null,
      "right": null,
      "top": null,
      "visibility": null,
      "width": null
     }
    },
    "270e7a412ccf44579139b8a9f9e28488": {
     "model_module": "@jupyter-widgets/controls",
     "model_module_version": "1.5.0",
     "model_name": "HTMLModel",
     "state": {
      "_dom_classes": [],
      "_model_module": "@jupyter-widgets/controls",
      "_model_module_version": "1.5.0",
      "_model_name": "HTMLModel",
      "_view_count": null,
      "_view_module": "@jupyter-widgets/controls",
      "_view_module_version": "1.5.0",
      "_view_name": "HTMLView",
      "description": "",
      "description_tooltip": null,
      "layout": "IPY_MODEL_39a2e718962e40dd9c6e8b9eea0adae2",
      "placeholder": "​",
      "style": "IPY_MODEL_f0e58865da0e4810aa7892cb22c3551c",
      "value": " 2438/2438 [00:00&lt;00:00,  7.86it/s]"
     }
    },
    "28511d5a105c451a9b0fe18c30548782": {
     "model_module": "@jupyter-widgets/base",
     "model_module_version": "1.2.0",
     "model_name": "LayoutModel",
     "state": {
      "_model_module": "@jupyter-widgets/base",
      "_model_module_version": "1.2.0",
      "_model_name": "LayoutModel",
      "_view_count": null,
      "_view_module": "@jupyter-widgets/base",
      "_view_module_version": "1.2.0",
      "_view_name": "LayoutView",
      "align_content": null,
      "align_items": null,
      "align_self": null,
      "border": null,
      "bottom": null,
      "display": null,
      "flex": null,
      "flex_flow": null,
      "grid_area": null,
      "grid_auto_columns": null,
      "grid_auto_flow": null,
      "grid_auto_rows": null,
      "grid_column": null,
      "grid_gap": null,
      "grid_row": null,
      "grid_template_areas": null,
      "grid_template_columns": null,
      "grid_template_rows": null,
      "height": null,
      "justify_content": null,
      "justify_items": null,
      "left": null,
      "margin": null,
      "max_height": null,
      "max_width": null,
      "min_height": null,
      "min_width": null,
      "object_fit": null,
      "object_position": null,
      "order": null,
      "overflow": null,
      "overflow_x": null,
      "overflow_y": null,
      "padding": null,
      "right": null,
      "top": null,
      "visibility": null,
      "width": null
     }
    },
    "2a239afda42041408ad30999e4510c99": {
     "model_module": "@jupyter-widgets/controls",
     "model_module_version": "1.5.0",
     "model_name": "FloatProgressModel",
     "state": {
      "_dom_classes": [],
      "_model_module": "@jupyter-widgets/controls",
      "_model_module_version": "1.5.0",
      "_model_name": "FloatProgressModel",
      "_view_count": null,
      "_view_module": "@jupyter-widgets/controls",
      "_view_module_version": "1.5.0",
      "_view_name": "ProgressView",
      "bar_style": "success",
      "description": "",
      "description_tooltip": null,
      "layout": "IPY_MODEL_35bd6b433c4244669c73f4b3d482a437",
      "max": 2438,
      "min": 0,
      "orientation": "horizontal",
      "style": "IPY_MODEL_d24c7bbf96da4e05a4e637aa479ac516",
      "value": 2438
     }
    },
    "2d828d2211b04b6cbc90cb30e7d21ba9": {
     "model_module": "@jupyter-widgets/controls",
     "model_module_version": "1.5.0",
     "model_name": "HTMLModel",
     "state": {
      "_dom_classes": [],
      "_model_module": "@jupyter-widgets/controls",
      "_model_module_version": "1.5.0",
      "_model_name": "HTMLModel",
      "_view_count": null,
      "_view_module": "@jupyter-widgets/controls",
      "_view_module_version": "1.5.0",
      "_view_name": "HTMLView",
      "description": "",
      "description_tooltip": null,
      "layout": "IPY_MODEL_323bc92c27324484bc4f3cf2692973ac",
      "placeholder": "​",
      "style": "IPY_MODEL_6883b62b0d48420cbb491bca5d71f434",
      "value": "100%"
     }
    },
    "30851755452d408f9a761d945648a79f": {
     "model_module": "@jupyter-widgets/controls",
     "model_module_version": "1.5.0",
     "model_name": "DescriptionStyleModel",
     "state": {
      "_model_module": "@jupyter-widgets/controls",
      "_model_module_version": "1.5.0",
      "_model_name": "DescriptionStyleModel",
      "_view_count": null,
      "_view_module": "@jupyter-widgets/base",
      "_view_module_version": "1.2.0",
      "_view_name": "StyleView",
      "description_width": ""
     }
    },
    "311891358f1e428f98909688486d8d40": {
     "model_module": "@jupyter-widgets/base",
     "model_module_version": "1.2.0",
     "model_name": "LayoutModel",
     "state": {
      "_model_module": "@jupyter-widgets/base",
      "_model_module_version": "1.2.0",
      "_model_name": "LayoutModel",
      "_view_count": null,
      "_view_module": "@jupyter-widgets/base",
      "_view_module_version": "1.2.0",
      "_view_name": "LayoutView",
      "align_content": null,
      "align_items": null,
      "align_self": null,
      "border": null,
      "bottom": null,
      "display": null,
      "flex": null,
      "flex_flow": null,
      "grid_area": null,
      "grid_auto_columns": null,
      "grid_auto_flow": null,
      "grid_auto_rows": null,
      "grid_column": null,
      "grid_gap": null,
      "grid_row": null,
      "grid_template_areas": null,
      "grid_template_columns": null,
      "grid_template_rows": null,
      "height": null,
      "justify_content": null,
      "justify_items": null,
      "left": null,
      "margin": null,
      "max_height": null,
      "max_width": null,
      "min_height": null,
      "min_width": null,
      "object_fit": null,
      "object_position": null,
      "order": null,
      "overflow": null,
      "overflow_x": null,
      "overflow_y": null,
      "padding": null,
      "right": null,
      "top": null,
      "visibility": null,
      "width": null
     }
    },
    "323bc92c27324484bc4f3cf2692973ac": {
     "model_module": "@jupyter-widgets/base",
     "model_module_version": "1.2.0",
     "model_name": "LayoutModel",
     "state": {
      "_model_module": "@jupyter-widgets/base",
      "_model_module_version": "1.2.0",
      "_model_name": "LayoutModel",
      "_view_count": null,
      "_view_module": "@jupyter-widgets/base",
      "_view_module_version": "1.2.0",
      "_view_name": "LayoutView",
      "align_content": null,
      "align_items": null,
      "align_self": null,
      "border": null,
      "bottom": null,
      "display": null,
      "flex": null,
      "flex_flow": null,
      "grid_area": null,
      "grid_auto_columns": null,
      "grid_auto_flow": null,
      "grid_auto_rows": null,
      "grid_column": null,
      "grid_gap": null,
      "grid_row": null,
      "grid_template_areas": null,
      "grid_template_columns": null,
      "grid_template_rows": null,
      "height": null,
      "justify_content": null,
      "justify_items": null,
      "left": null,
      "margin": null,
      "max_height": null,
      "max_width": null,
      "min_height": null,
      "min_width": null,
      "object_fit": null,
      "object_position": null,
      "order": null,
      "overflow": null,
      "overflow_x": null,
      "overflow_y": null,
      "padding": null,
      "right": null,
      "top": null,
      "visibility": null,
      "width": null
     }
    },
    "331176cad95442688038186b7ace9c93": {
     "model_module": "@jupyter-widgets/controls",
     "model_module_version": "1.5.0",
     "model_name": "HTMLModel",
     "state": {
      "_dom_classes": [],
      "_model_module": "@jupyter-widgets/controls",
      "_model_module_version": "1.5.0",
      "_model_name": "HTMLModel",
      "_view_count": null,
      "_view_module": "@jupyter-widgets/controls",
      "_view_module_version": "1.5.0",
      "_view_name": "HTMLView",
      "description": "",
      "description_tooltip": null,
      "layout": "IPY_MODEL_28511d5a105c451a9b0fe18c30548782",
      "placeholder": "​",
      "style": "IPY_MODEL_c485fb18b55d41a7a5a3b5194a16f48f",
      "value": "Downloading: 100%"
     }
    },
    "35bd6b433c4244669c73f4b3d482a437": {
     "model_module": "@jupyter-widgets/base",
     "model_module_version": "1.2.0",
     "model_name": "LayoutModel",
     "state": {
      "_model_module": "@jupyter-widgets/base",
      "_model_module_version": "1.2.0",
      "_model_name": "LayoutModel",
      "_view_count": null,
      "_view_module": "@jupyter-widgets/base",
      "_view_module_version": "1.2.0",
      "_view_name": "LayoutView",
      "align_content": null,
      "align_items": null,
      "align_self": null,
      "border": null,
      "bottom": null,
      "display": null,
      "flex": null,
      "flex_flow": null,
      "grid_area": null,
      "grid_auto_columns": null,
      "grid_auto_flow": null,
      "grid_auto_rows": null,
      "grid_column": null,
      "grid_gap": null,
      "grid_row": null,
      "grid_template_areas": null,
      "grid_template_columns": null,
      "grid_template_rows": null,
      "height": null,
      "justify_content": null,
      "justify_items": null,
      "left": null,
      "margin": null,
      "max_height": null,
      "max_width": null,
      "min_height": null,
      "min_width": null,
      "object_fit": null,
      "object_position": null,
      "order": null,
      "overflow": null,
      "overflow_x": null,
      "overflow_y": null,
      "padding": null,
      "right": null,
      "top": null,
      "visibility": null,
      "width": null
     }
    },
    "39a2e718962e40dd9c6e8b9eea0adae2": {
     "model_module": "@jupyter-widgets/base",
     "model_module_version": "1.2.0",
     "model_name": "LayoutModel",
     "state": {
      "_model_module": "@jupyter-widgets/base",
      "_model_module_version": "1.2.0",
      "_model_name": "LayoutModel",
      "_view_count": null,
      "_view_module": "@jupyter-widgets/base",
      "_view_module_version": "1.2.0",
      "_view_name": "LayoutView",
      "align_content": null,
      "align_items": null,
      "align_self": null,
      "border": null,
      "bottom": null,
      "display": null,
      "flex": null,
      "flex_flow": null,
      "grid_area": null,
      "grid_auto_columns": null,
      "grid_auto_flow": null,
      "grid_auto_rows": null,
      "grid_column": null,
      "grid_gap": null,
      "grid_row": null,
      "grid_template_areas": null,
      "grid_template_columns": null,
      "grid_template_rows": null,
      "height": null,
      "justify_content": null,
      "justify_items": null,
      "left": null,
      "margin": null,
      "max_height": null,
      "max_width": null,
      "min_height": null,
      "min_width": null,
      "object_fit": null,
      "object_position": null,
      "order": null,
      "overflow": null,
      "overflow_x": null,
      "overflow_y": null,
      "padding": null,
      "right": null,
      "top": null,
      "visibility": null,
      "width": null
     }
    },
    "3a8774edb0584c67bccaefbeba30cc4e": {
     "model_module": "@jupyter-widgets/base",
     "model_module_version": "1.2.0",
     "model_name": "LayoutModel",
     "state": {
      "_model_module": "@jupyter-widgets/base",
      "_model_module_version": "1.2.0",
      "_model_name": "LayoutModel",
      "_view_count": null,
      "_view_module": "@jupyter-widgets/base",
      "_view_module_version": "1.2.0",
      "_view_name": "LayoutView",
      "align_content": null,
      "align_items": null,
      "align_self": null,
      "border": null,
      "bottom": null,
      "display": null,
      "flex": null,
      "flex_flow": null,
      "grid_area": null,
      "grid_auto_columns": null,
      "grid_auto_flow": null,
      "grid_auto_rows": null,
      "grid_column": null,
      "grid_gap": null,
      "grid_row": null,
      "grid_template_areas": null,
      "grid_template_columns": null,
      "grid_template_rows": null,
      "height": null,
      "justify_content": null,
      "justify_items": null,
      "left": null,
      "margin": null,
      "max_height": null,
      "max_width": null,
      "min_height": null,
      "min_width": null,
      "object_fit": null,
      "object_position": null,
      "order": null,
      "overflow": null,
      "overflow_x": null,
      "overflow_y": null,
      "padding": null,
      "right": null,
      "top": null,
      "visibility": null,
      "width": null
     }
    },
    "3dd5f9e7e65e4bb8a761c78a1b9ac671": {
     "model_module": "@jupyter-widgets/base",
     "model_module_version": "1.2.0",
     "model_name": "LayoutModel",
     "state": {
      "_model_module": "@jupyter-widgets/base",
      "_model_module_version": "1.2.0",
      "_model_name": "LayoutModel",
      "_view_count": null,
      "_view_module": "@jupyter-widgets/base",
      "_view_module_version": "1.2.0",
      "_view_name": "LayoutView",
      "align_content": null,
      "align_items": null,
      "align_self": null,
      "border": null,
      "bottom": null,
      "display": null,
      "flex": null,
      "flex_flow": null,
      "grid_area": null,
      "grid_auto_columns": null,
      "grid_auto_flow": null,
      "grid_auto_rows": null,
      "grid_column": null,
      "grid_gap": null,
      "grid_row": null,
      "grid_template_areas": null,
      "grid_template_columns": null,
      "grid_template_rows": null,
      "height": null,
      "justify_content": null,
      "justify_items": null,
      "left": null,
      "margin": null,
      "max_height": null,
      "max_width": null,
      "min_height": null,
      "min_width": null,
      "object_fit": null,
      "object_position": null,
      "order": null,
      "overflow": null,
      "overflow_x": null,
      "overflow_y": null,
      "padding": null,
      "right": null,
      "top": null,
      "visibility": null,
      "width": null
     }
    },
    "3e5dd22b3ab8493cbe94425c220df86b": {
     "model_module": "@jupyter-widgets/base",
     "model_module_version": "1.2.0",
     "model_name": "LayoutModel",
     "state": {
      "_model_module": "@jupyter-widgets/base",
      "_model_module_version": "1.2.0",
      "_model_name": "LayoutModel",
      "_view_count": null,
      "_view_module": "@jupyter-widgets/base",
      "_view_module_version": "1.2.0",
      "_view_name": "LayoutView",
      "align_content": null,
      "align_items": null,
      "align_self": null,
      "border": null,
      "bottom": null,
      "display": null,
      "flex": null,
      "flex_flow": null,
      "grid_area": null,
      "grid_auto_columns": null,
      "grid_auto_flow": null,
      "grid_auto_rows": null,
      "grid_column": null,
      "grid_gap": null,
      "grid_row": null,
      "grid_template_areas": null,
      "grid_template_columns": null,
      "grid_template_rows": null,
      "height": null,
      "justify_content": null,
      "justify_items": null,
      "left": null,
      "margin": null,
      "max_height": null,
      "max_width": null,
      "min_height": null,
      "min_width": null,
      "object_fit": null,
      "object_position": null,
      "order": null,
      "overflow": null,
      "overflow_x": null,
      "overflow_y": null,
      "padding": null,
      "right": null,
      "top": null,
      "visibility": null,
      "width": null
     }
    },
    "3fb0914fe33e4e06a5b263c8d80a31f5": {
     "model_module": "@jupyter-widgets/controls",
     "model_module_version": "1.5.0",
     "model_name": "HBoxModel",
     "state": {
      "_dom_classes": [],
      "_model_module": "@jupyter-widgets/controls",
      "_model_module_version": "1.5.0",
      "_model_name": "HBoxModel",
      "_view_count": null,
      "_view_module": "@jupyter-widgets/controls",
      "_view_module_version": "1.5.0",
      "_view_name": "HBoxView",
      "box_style": "",
      "children": [
       "IPY_MODEL_fb5172c71d39452f8402853728c2951c",
       "IPY_MODEL_d2d53dd1278240b39e3a148363297344",
       "IPY_MODEL_4e9da552ae5e4e3b8906f1188049c7eb"
      ],
      "layout": "IPY_MODEL_60c2f20a1f2d4a569cb6e8335a6b6aa4"
     }
    },
    "4195771d087b4255b824cb5c16204b2d": {
     "model_module": "@jupyter-widgets/controls",
     "model_module_version": "1.5.0",
     "model_name": "HTMLModel",
     "state": {
      "_dom_classes": [],
      "_model_module": "@jupyter-widgets/controls",
      "_model_module_version": "1.5.0",
      "_model_name": "HTMLModel",
      "_view_count": null,
      "_view_module": "@jupyter-widgets/controls",
      "_view_module_version": "1.5.0",
      "_view_name": "HTMLView",
      "description": "",
      "description_tooltip": null,
      "layout": "IPY_MODEL_3dd5f9e7e65e4bb8a761c78a1b9ac671",
      "placeholder": "​",
      "style": "IPY_MODEL_f2371fa50ae44c62adb69012b93992bf",
      "value": " 2438/2438 [00:00&lt;00:00, 4228.96it/s]"
     }
    },
    "48889607dbdf46c0853df4c6fba993c1": {
     "model_module": "@jupyter-widgets/base",
     "model_module_version": "1.2.0",
     "model_name": "LayoutModel",
     "state": {
      "_model_module": "@jupyter-widgets/base",
      "_model_module_version": "1.2.0",
      "_model_name": "LayoutModel",
      "_view_count": null,
      "_view_module": "@jupyter-widgets/base",
      "_view_module_version": "1.2.0",
      "_view_name": "LayoutView",
      "align_content": null,
      "align_items": null,
      "align_self": null,
      "border": null,
      "bottom": null,
      "display": null,
      "flex": null,
      "flex_flow": null,
      "grid_area": null,
      "grid_auto_columns": null,
      "grid_auto_flow": null,
      "grid_auto_rows": null,
      "grid_column": null,
      "grid_gap": null,
      "grid_row": null,
      "grid_template_areas": null,
      "grid_template_columns": null,
      "grid_template_rows": null,
      "height": null,
      "justify_content": null,
      "justify_items": null,
      "left": null,
      "margin": null,
      "max_height": null,
      "max_width": null,
      "min_height": null,
      "min_width": null,
      "object_fit": null,
      "object_position": null,
      "order": null,
      "overflow": null,
      "overflow_x": null,
      "overflow_y": null,
      "padding": null,
      "right": null,
      "top": null,
      "visibility": null,
      "width": null
     }
    },
    "499d59f0fe3a42e2adb422b13bcf3780": {
     "model_module": "@jupyter-widgets/controls",
     "model_module_version": "1.5.0",
     "model_name": "FloatProgressModel",
     "state": {
      "_dom_classes": [],
      "_model_module": "@jupyter-widgets/controls",
      "_model_module_version": "1.5.0",
      "_model_name": "FloatProgressModel",
      "_view_count": null,
      "_view_module": "@jupyter-widgets/controls",
      "_view_module_version": "1.5.0",
      "_view_name": "ProgressView",
      "bar_style": "success",
      "description": "",
      "description_tooltip": null,
      "layout": "IPY_MODEL_f8d2ef26fdae44bd8f419201017355c0",
      "max": 2438,
      "min": 0,
      "orientation": "horizontal",
      "style": "IPY_MODEL_8b3f64a46166440088e26f3bef935f2b",
      "value": 2438
     }
    },
    "4d5275310e784ba388e1d3e20d4661be": {
     "model_module": "@jupyter-widgets/controls",
     "model_module_version": "1.5.0",
     "model_name": "HTMLModel",
     "state": {
      "_dom_classes": [],
      "_model_module": "@jupyter-widgets/controls",
      "_model_module_version": "1.5.0",
      "_model_name": "HTMLModel",
      "_view_count": null,
      "_view_module": "@jupyter-widgets/controls",
      "_view_module_version": "1.5.0",
      "_view_name": "HTMLView",
      "description": "",
      "description_tooltip": null,
      "layout": "IPY_MODEL_e0e62d05ec8442c18846fb51a4724370",
      "placeholder": "​",
      "style": "IPY_MODEL_6f06130a18c94d2283792bf4ccd22461",
      "value": "Downloading: 100%"
     }
    },
    "4e2005b59c7f4c2f90f925ac0a7d154a": {
     "model_module": "@jupyter-widgets/base",
     "model_module_version": "1.2.0",
     "model_name": "LayoutModel",
     "state": {
      "_model_module": "@jupyter-widgets/base",
      "_model_module_version": "1.2.0",
      "_model_name": "LayoutModel",
      "_view_count": null,
      "_view_module": "@jupyter-widgets/base",
      "_view_module_version": "1.2.0",
      "_view_name": "LayoutView",
      "align_content": null,
      "align_items": null,
      "align_self": null,
      "border": null,
      "bottom": null,
      "display": null,
      "flex": null,
      "flex_flow": null,
      "grid_area": null,
      "grid_auto_columns": null,
      "grid_auto_flow": null,
      "grid_auto_rows": null,
      "grid_column": null,
      "grid_gap": null,
      "grid_row": null,
      "grid_template_areas": null,
      "grid_template_columns": null,
      "grid_template_rows": null,
      "height": null,
      "justify_content": null,
      "justify_items": null,
      "left": null,
      "margin": null,
      "max_height": null,
      "max_width": null,
      "min_height": null,
      "min_width": null,
      "object_fit": null,
      "object_position": null,
      "order": null,
      "overflow": null,
      "overflow_x": null,
      "overflow_y": null,
      "padding": null,
      "right": null,
      "top": null,
      "visibility": null,
      "width": null
     }
    },
    "4e33d3916d2440be82fffd5766c440b8": {
     "model_module": "@jupyter-widgets/controls",
     "model_module_version": "1.5.0",
     "model_name": "DescriptionStyleModel",
     "state": {
      "_model_module": "@jupyter-widgets/controls",
      "_model_module_version": "1.5.0",
      "_model_name": "DescriptionStyleModel",
      "_view_count": null,
      "_view_module": "@jupyter-widgets/base",
      "_view_module_version": "1.2.0",
      "_view_name": "StyleView",
      "description_width": ""
     }
    },
    "4e9da552ae5e4e3b8906f1188049c7eb": {
     "model_module": "@jupyter-widgets/controls",
     "model_module_version": "1.5.0",
     "model_name": "HTMLModel",
     "state": {
      "_dom_classes": [],
      "_model_module": "@jupyter-widgets/controls",
      "_model_module_version": "1.5.0",
      "_model_name": "HTMLModel",
      "_view_count": null,
      "_view_module": "@jupyter-widgets/controls",
      "_view_module_version": "1.5.0",
      "_view_name": "HTMLView",
      "description": "",
      "description_tooltip": null,
      "layout": "IPY_MODEL_1a3c0086c5c34b6d94641dd3b73ffdeb",
      "placeholder": "​",
      "style": "IPY_MODEL_8dd3cad4af3f4b53a9cfade822b895f1",
      "value": " 2438/2438 [00:08&lt;00:00, 323.06it/s]"
     }
    },
    "4ee3a211b30349c199edb19e6978c1b3": {
     "model_module": "@jupyter-widgets/base",
     "model_module_version": "1.2.0",
     "model_name": "LayoutModel",
     "state": {
      "_model_module": "@jupyter-widgets/base",
      "_model_module_version": "1.2.0",
      "_model_name": "LayoutModel",
      "_view_count": null,
      "_view_module": "@jupyter-widgets/base",
      "_view_module_version": "1.2.0",
      "_view_name": "LayoutView",
      "align_content": null,
      "align_items": null,
      "align_self": null,
      "border": null,
      "bottom": null,
      "display": null,
      "flex": null,
      "flex_flow": null,
      "grid_area": null,
      "grid_auto_columns": null,
      "grid_auto_flow": null,
      "grid_auto_rows": null,
      "grid_column": null,
      "grid_gap": null,
      "grid_row": null,
      "grid_template_areas": null,
      "grid_template_columns": null,
      "grid_template_rows": null,
      "height": null,
      "justify_content": null,
      "justify_items": null,
      "left": null,
      "margin": null,
      "max_height": null,
      "max_width": null,
      "min_height": null,
      "min_width": null,
      "object_fit": null,
      "object_position": null,
      "order": null,
      "overflow": null,
      "overflow_x": null,
      "overflow_y": null,
      "padding": null,
      "right": null,
      "top": null,
      "visibility": null,
      "width": null
     }
    },
    "4f2fd6239d054f27863cc32940494f21": {
     "model_module": "@jupyter-widgets/controls",
     "model_module_version": "1.5.0",
     "model_name": "FloatProgressModel",
     "state": {
      "_dom_classes": [],
      "_model_module": "@jupyter-widgets/controls",
      "_model_module_version": "1.5.0",
      "_model_name": "FloatProgressModel",
      "_view_count": null,
      "_view_module": "@jupyter-widgets/controls",
      "_view_module_version": "1.5.0",
      "_view_name": "ProgressView",
      "bar_style": "success",
      "description": "",
      "description_tooltip": null,
      "layout": "IPY_MODEL_8fc01f35739944f9b52162a3c301d2a7",
      "max": 267967963,
      "min": 0,
      "orientation": "horizontal",
      "style": "IPY_MODEL_0c087745b18d42d08f2879604e004f1c",
      "value": 267967963
     }
    },
    "50fa1aeab0c2464a8449d671df42869e": {
     "model_module": "@jupyter-widgets/controls",
     "model_module_version": "1.5.0",
     "model_name": "ProgressStyleModel",
     "state": {
      "_model_module": "@jupyter-widgets/controls",
      "_model_module_version": "1.5.0",
      "_model_name": "ProgressStyleModel",
      "_view_count": null,
      "_view_module": "@jupyter-widgets/base",
      "_view_module_version": "1.2.0",
      "_view_name": "StyleView",
      "bar_color": null,
      "description_width": ""
     }
    },
    "53058151a46c4fcba17d8120836c7220": {
     "model_module": "@jupyter-widgets/controls",
     "model_module_version": "1.5.0",
     "model_name": "DescriptionStyleModel",
     "state": {
      "_model_module": "@jupyter-widgets/controls",
      "_model_module_version": "1.5.0",
      "_model_name": "DescriptionStyleModel",
      "_view_count": null,
      "_view_module": "@jupyter-widgets/base",
      "_view_module_version": "1.2.0",
      "_view_name": "StyleView",
      "description_width": ""
     }
    },
    "550699a75efc4be48c1499da144ebf18": {
     "model_module": "@jupyter-widgets/controls",
     "model_module_version": "1.5.0",
     "model_name": "HTMLModel",
     "state": {
      "_dom_classes": [],
      "_model_module": "@jupyter-widgets/controls",
      "_model_module_version": "1.5.0",
      "_model_name": "HTMLModel",
      "_view_count": null,
      "_view_module": "@jupyter-widgets/controls",
      "_view_module_version": "1.5.0",
      "_view_name": "HTMLView",
      "description": "",
      "description_tooltip": null,
      "layout": "IPY_MODEL_01e9c306455a4b728048b6cf9631b9c9",
      "placeholder": "​",
      "style": "IPY_MODEL_cb76da943cca483683d7b6b7704bccc0",
      "value": "100%"
     }
    },
    "55e90add3206441b8cbe49bd1f422a8f": {
     "model_module": "@jupyter-widgets/controls",
     "model_module_version": "1.5.0",
     "model_name": "HBoxModel",
     "state": {
      "_dom_classes": [],
      "_model_module": "@jupyter-widgets/controls",
      "_model_module_version": "1.5.0",
      "_model_name": "HBoxModel",
      "_view_count": null,
      "_view_module": "@jupyter-widgets/controls",
      "_view_module_version": "1.5.0",
      "_view_name": "HBoxView",
      "box_style": "",
      "children": [
       "IPY_MODEL_2d828d2211b04b6cbc90cb30e7d21ba9",
       "IPY_MODEL_499d59f0fe3a42e2adb422b13bcf3780",
       "IPY_MODEL_bf6bd26e9bae40b78136b73939e8674b"
      ],
      "layout": "IPY_MODEL_ff78b0a1f6104613935e1219f2749770"
     }
    },
    "5a6eabd5e58746cea822c052893cbac8": {
     "model_module": "@jupyter-widgets/controls",
     "model_module_version": "1.5.0",
     "model_name": "HBoxModel",
     "state": {
      "_dom_classes": [],
      "_model_module": "@jupyter-widgets/controls",
      "_model_module_version": "1.5.0",
      "_model_name": "HBoxModel",
      "_view_count": null,
      "_view_module": "@jupyter-widgets/controls",
      "_view_module_version": "1.5.0",
      "_view_name": "HBoxView",
      "box_style": "",
      "children": [
       "IPY_MODEL_03240f3fceef4cc9a5212c6b58ee47c6",
       "IPY_MODEL_d893d69bfabc49caad0fd2133fca2128",
       "IPY_MODEL_e43d9c58dcc64ed595cc4e42b296acc7"
      ],
      "layout": "IPY_MODEL_48889607dbdf46c0853df4c6fba993c1"
     }
    },
    "5c17738c9d944795b0b76ba2bef8ca8b": {
     "model_module": "@jupyter-widgets/controls",
     "model_module_version": "1.5.0",
     "model_name": "DescriptionStyleModel",
     "state": {
      "_model_module": "@jupyter-widgets/controls",
      "_model_module_version": "1.5.0",
      "_model_name": "DescriptionStyleModel",
      "_view_count": null,
      "_view_module": "@jupyter-widgets/base",
      "_view_module_version": "1.2.0",
      "_view_name": "StyleView",
      "description_width": ""
     }
    },
    "5da8cce3ab3142809c67534582185b9b": {
     "model_module": "@jupyter-widgets/controls",
     "model_module_version": "1.5.0",
     "model_name": "HBoxModel",
     "state": {
      "_dom_classes": [],
      "_model_module": "@jupyter-widgets/controls",
      "_model_module_version": "1.5.0",
      "_model_name": "HBoxModel",
      "_view_count": null,
      "_view_module": "@jupyter-widgets/controls",
      "_view_module_version": "1.5.0",
      "_view_name": "HBoxView",
      "box_style": "",
      "children": [
       "IPY_MODEL_331176cad95442688038186b7ace9c93",
       "IPY_MODEL_1af78f6103474891a42091a3141e20e6",
       "IPY_MODEL_6bf928b1d3a44a7ba911fef7ef2e7152"
      ],
      "layout": "IPY_MODEL_f1bed4de3163430ebdc517381280b2d0"
     }
    },
    "5ff4cb1fa04e4f20b06066b3e0910280": {
     "model_module": "@jupyter-widgets/base",
     "model_module_version": "1.2.0",
     "model_name": "LayoutModel",
     "state": {
      "_model_module": "@jupyter-widgets/base",
      "_model_module_version": "1.2.0",
      "_model_name": "LayoutModel",
      "_view_count": null,
      "_view_module": "@jupyter-widgets/base",
      "_view_module_version": "1.2.0",
      "_view_name": "LayoutView",
      "align_content": null,
      "align_items": null,
      "align_self": null,
      "border": null,
      "bottom": null,
      "display": null,
      "flex": null,
      "flex_flow": null,
      "grid_area": null,
      "grid_auto_columns": null,
      "grid_auto_flow": null,
      "grid_auto_rows": null,
      "grid_column": null,
      "grid_gap": null,
      "grid_row": null,
      "grid_template_areas": null,
      "grid_template_columns": null,
      "grid_template_rows": null,
      "height": null,
      "justify_content": null,
      "justify_items": null,
      "left": null,
      "margin": null,
      "max_height": null,
      "max_width": null,
      "min_height": null,
      "min_width": null,
      "object_fit": null,
      "object_position": null,
      "order": null,
      "overflow": null,
      "overflow_x": null,
      "overflow_y": null,
      "padding": null,
      "right": null,
      "top": null,
      "visibility": null,
      "width": null
     }
    },
    "60275e89864a4496b3cf8138601d7f12": {
     "model_module": "@jupyter-widgets/controls",
     "model_module_version": "1.5.0",
     "model_name": "DescriptionStyleModel",
     "state": {
      "_model_module": "@jupyter-widgets/controls",
      "_model_module_version": "1.5.0",
      "_model_name": "DescriptionStyleModel",
      "_view_count": null,
      "_view_module": "@jupyter-widgets/base",
      "_view_module_version": "1.2.0",
      "_view_name": "StyleView",
      "description_width": ""
     }
    },
    "60c2f20a1f2d4a569cb6e8335a6b6aa4": {
     "model_module": "@jupyter-widgets/base",
     "model_module_version": "1.2.0",
     "model_name": "LayoutModel",
     "state": {
      "_model_module": "@jupyter-widgets/base",
      "_model_module_version": "1.2.0",
      "_model_name": "LayoutModel",
      "_view_count": null,
      "_view_module": "@jupyter-widgets/base",
      "_view_module_version": "1.2.0",
      "_view_name": "LayoutView",
      "align_content": null,
      "align_items": null,
      "align_self": null,
      "border": null,
      "bottom": null,
      "display": null,
      "flex": null,
      "flex_flow": null,
      "grid_area": null,
      "grid_auto_columns": null,
      "grid_auto_flow": null,
      "grid_auto_rows": null,
      "grid_column": null,
      "grid_gap": null,
      "grid_row": null,
      "grid_template_areas": null,
      "grid_template_columns": null,
      "grid_template_rows": null,
      "height": null,
      "justify_content": null,
      "justify_items": null,
      "left": null,
      "margin": null,
      "max_height": null,
      "max_width": null,
      "min_height": null,
      "min_width": null,
      "object_fit": null,
      "object_position": null,
      "order": null,
      "overflow": null,
      "overflow_x": null,
      "overflow_y": null,
      "padding": null,
      "right": null,
      "top": null,
      "visibility": null,
      "width": null
     }
    },
    "63602b285d4147fc9571330756866bf3": {
     "model_module": "@jupyter-widgets/controls",
     "model_module_version": "1.5.0",
     "model_name": "HTMLModel",
     "state": {
      "_dom_classes": [],
      "_model_module": "@jupyter-widgets/controls",
      "_model_module_version": "1.5.0",
      "_model_name": "HTMLModel",
      "_view_count": null,
      "_view_module": "@jupyter-widgets/controls",
      "_view_module_version": "1.5.0",
      "_view_name": "HTMLView",
      "description": "",
      "description_tooltip": null,
      "layout": "IPY_MODEL_0c6bc7dbdb944afdba41a6cb9a5d6f18",
      "placeholder": "​",
      "style": "IPY_MODEL_eb198eaec6e54781a0756ec1a194d470",
      "value": "100%"
     }
    },
    "63a7e705bbf04614857a12200181d0d4": {
     "model_module": "@jupyter-widgets/controls",
     "model_module_version": "1.5.0",
     "model_name": "DescriptionStyleModel",
     "state": {
      "_model_module": "@jupyter-widgets/controls",
      "_model_module_version": "1.5.0",
      "_model_name": "DescriptionStyleModel",
      "_view_count": null,
      "_view_module": "@jupyter-widgets/base",
      "_view_module_version": "1.2.0",
      "_view_name": "StyleView",
      "description_width": ""
     }
    },
    "6883b62b0d48420cbb491bca5d71f434": {
     "model_module": "@jupyter-widgets/controls",
     "model_module_version": "1.5.0",
     "model_name": "DescriptionStyleModel",
     "state": {
      "_model_module": "@jupyter-widgets/controls",
      "_model_module_version": "1.5.0",
      "_model_name": "DescriptionStyleModel",
      "_view_count": null,
      "_view_module": "@jupyter-widgets/base",
      "_view_module_version": "1.2.0",
      "_view_name": "StyleView",
      "description_width": ""
     }
    },
    "689c8b2f93df4848bc154aca83625da5": {
     "model_module": "@jupyter-widgets/base",
     "model_module_version": "1.2.0",
     "model_name": "LayoutModel",
     "state": {
      "_model_module": "@jupyter-widgets/base",
      "_model_module_version": "1.2.0",
      "_model_name": "LayoutModel",
      "_view_count": null,
      "_view_module": "@jupyter-widgets/base",
      "_view_module_version": "1.2.0",
      "_view_name": "LayoutView",
      "align_content": null,
      "align_items": null,
      "align_self": null,
      "border": null,
      "bottom": null,
      "display": null,
      "flex": null,
      "flex_flow": null,
      "grid_area": null,
      "grid_auto_columns": null,
      "grid_auto_flow": null,
      "grid_auto_rows": null,
      "grid_column": null,
      "grid_gap": null,
      "grid_row": null,
      "grid_template_areas": null,
      "grid_template_columns": null,
      "grid_template_rows": null,
      "height": null,
      "justify_content": null,
      "justify_items": null,
      "left": null,
      "margin": null,
      "max_height": null,
      "max_width": null,
      "min_height": null,
      "min_width": null,
      "object_fit": null,
      "object_position": null,
      "order": null,
      "overflow": null,
      "overflow_x": null,
      "overflow_y": null,
      "padding": null,
      "right": null,
      "top": null,
      "visibility": null,
      "width": null
     }
    },
    "6bf928b1d3a44a7ba911fef7ef2e7152": {
     "model_module": "@jupyter-widgets/controls",
     "model_module_version": "1.5.0",
     "model_name": "HTMLModel",
     "state": {
      "_dom_classes": [],
      "_model_module": "@jupyter-widgets/controls",
      "_model_module_version": "1.5.0",
      "_model_name": "HTMLModel",
      "_view_count": null,
      "_view_module": "@jupyter-widgets/controls",
      "_view_module_version": "1.5.0",
      "_view_name": "HTMLView",
      "description": "",
      "description_tooltip": null,
      "layout": "IPY_MODEL_7c22cc23925e41a09396a9dd5e821afd",
      "placeholder": "​",
      "style": "IPY_MODEL_e4477d80519544c58414890f72bf178d",
      "value": " 483/483 [00:00&lt;00:00, 15.6kB/s]"
     }
    },
    "6f06130a18c94d2283792bf4ccd22461": {
     "model_module": "@jupyter-widgets/controls",
     "model_module_version": "1.5.0",
     "model_name": "DescriptionStyleModel",
     "state": {
      "_model_module": "@jupyter-widgets/controls",
      "_model_module_version": "1.5.0",
      "_model_name": "DescriptionStyleModel",
      "_view_count": null,
      "_view_module": "@jupyter-widgets/base",
      "_view_module_version": "1.2.0",
      "_view_name": "StyleView",
      "description_width": ""
     }
    },
    "7639ad9f846d4e4eabda3a225fbd59b8": {
     "model_module": "@jupyter-widgets/controls",
     "model_module_version": "1.5.0",
     "model_name": "DescriptionStyleModel",
     "state": {
      "_model_module": "@jupyter-widgets/controls",
      "_model_module_version": "1.5.0",
      "_model_name": "DescriptionStyleModel",
      "_view_count": null,
      "_view_module": "@jupyter-widgets/base",
      "_view_module_version": "1.2.0",
      "_view_name": "StyleView",
      "description_width": ""
     }
    },
    "7878a2079bbb48f99ce8af3a68a7592b": {
     "model_module": "@jupyter-widgets/controls",
     "model_module_version": "1.5.0",
     "model_name": "DescriptionStyleModel",
     "state": {
      "_model_module": "@jupyter-widgets/controls",
      "_model_module_version": "1.5.0",
      "_model_name": "DescriptionStyleModel",
      "_view_count": null,
      "_view_module": "@jupyter-widgets/base",
      "_view_module_version": "1.2.0",
      "_view_name": "StyleView",
      "description_width": ""
     }
    },
    "78ee625080494a95b206b3604c6cceb3": {
     "model_module": "@jupyter-widgets/controls",
     "model_module_version": "1.5.0",
     "model_name": "HBoxModel",
     "state": {
      "_dom_classes": [],
      "_model_module": "@jupyter-widgets/controls",
      "_model_module_version": "1.5.0",
      "_model_name": "HBoxModel",
      "_view_count": null,
      "_view_module": "@jupyter-widgets/controls",
      "_view_module_version": "1.5.0",
      "_view_name": "HBoxView",
      "box_style": "",
      "children": [
       "IPY_MODEL_907014a4e6b745958af0807792522e2a",
       "IPY_MODEL_9522480fad4d46dc840631426f0a82e1",
       "IPY_MODEL_270e7a412ccf44579139b8a9f9e28488"
      ],
      "layout": "IPY_MODEL_838047f293844769986e0c7cf4ada4b6"
     }
    },
    "7c22cc23925e41a09396a9dd5e821afd": {
     "model_module": "@jupyter-widgets/base",
     "model_module_version": "1.2.0",
     "model_name": "LayoutModel",
     "state": {
      "_model_module": "@jupyter-widgets/base",
      "_model_module_version": "1.2.0",
      "_model_name": "LayoutModel",
      "_view_count": null,
      "_view_module": "@jupyter-widgets/base",
      "_view_module_version": "1.2.0",
      "_view_name": "LayoutView",
      "align_content": null,
      "align_items": null,
      "align_self": null,
      "border": null,
      "bottom": null,
      "display": null,
      "flex": null,
      "flex_flow": null,
      "grid_area": null,
      "grid_auto_columns": null,
      "grid_auto_flow": null,
      "grid_auto_rows": null,
      "grid_column": null,
      "grid_gap": null,
      "grid_row": null,
      "grid_template_areas": null,
      "grid_template_columns": null,
      "grid_template_rows": null,
      "height": null,
      "justify_content": null,
      "justify_items": null,
      "left": null,
      "margin": null,
      "max_height": null,
      "max_width": null,
      "min_height": null,
      "min_width": null,
      "object_fit": null,
      "object_position": null,
      "order": null,
      "overflow": null,
      "overflow_x": null,
      "overflow_y": null,
      "padding": null,
      "right": null,
      "top": null,
      "visibility": null,
      "width": null
     }
    },
    "7c661f0a1bb44ac3b4297ffc6988557b": {
     "model_module": "@jupyter-widgets/base",
     "model_module_version": "1.2.0",
     "model_name": "LayoutModel",
     "state": {
      "_model_module": "@jupyter-widgets/base",
      "_model_module_version": "1.2.0",
      "_model_name": "LayoutModel",
      "_view_count": null,
      "_view_module": "@jupyter-widgets/base",
      "_view_module_version": "1.2.0",
      "_view_name": "LayoutView",
      "align_content": null,
      "align_items": null,
      "align_self": null,
      "border": null,
      "bottom": null,
      "display": null,
      "flex": null,
      "flex_flow": null,
      "grid_area": null,
      "grid_auto_columns": null,
      "grid_auto_flow": null,
      "grid_auto_rows": null,
      "grid_column": null,
      "grid_gap": null,
      "grid_row": null,
      "grid_template_areas": null,
      "grid_template_columns": null,
      "grid_template_rows": null,
      "height": null,
      "justify_content": null,
      "justify_items": null,
      "left": null,
      "margin": null,
      "max_height": null,
      "max_width": null,
      "min_height": null,
      "min_width": null,
      "object_fit": null,
      "object_position": null,
      "order": null,
      "overflow": null,
      "overflow_x": null,
      "overflow_y": null,
      "padding": null,
      "right": null,
      "top": null,
      "visibility": null,
      "width": null
     }
    },
    "838047f293844769986e0c7cf4ada4b6": {
     "model_module": "@jupyter-widgets/base",
     "model_module_version": "1.2.0",
     "model_name": "LayoutModel",
     "state": {
      "_model_module": "@jupyter-widgets/base",
      "_model_module_version": "1.2.0",
      "_model_name": "LayoutModel",
      "_view_count": null,
      "_view_module": "@jupyter-widgets/base",
      "_view_module_version": "1.2.0",
      "_view_name": "LayoutView",
      "align_content": null,
      "align_items": null,
      "align_self": null,
      "border": null,
      "bottom": null,
      "display": null,
      "flex": null,
      "flex_flow": null,
      "grid_area": null,
      "grid_auto_columns": null,
      "grid_auto_flow": null,
      "grid_auto_rows": null,
      "grid_column": null,
      "grid_gap": null,
      "grid_row": null,
      "grid_template_areas": null,
      "grid_template_columns": null,
      "grid_template_rows": null,
      "height": null,
      "justify_content": null,
      "justify_items": null,
      "left": null,
      "margin": null,
      "max_height": null,
      "max_width": null,
      "min_height": null,
      "min_width": null,
      "object_fit": null,
      "object_position": null,
      "order": null,
      "overflow": null,
      "overflow_x": null,
      "overflow_y": null,
      "padding": null,
      "right": null,
      "top": null,
      "visibility": null,
      "width": null
     }
    },
    "838560c466d3459ba2a303c2f66c17ed": {
     "model_module": "@jupyter-widgets/base",
     "model_module_version": "1.2.0",
     "model_name": "LayoutModel",
     "state": {
      "_model_module": "@jupyter-widgets/base",
      "_model_module_version": "1.2.0",
      "_model_name": "LayoutModel",
      "_view_count": null,
      "_view_module": "@jupyter-widgets/base",
      "_view_module_version": "1.2.0",
      "_view_name": "LayoutView",
      "align_content": null,
      "align_items": null,
      "align_self": null,
      "border": null,
      "bottom": null,
      "display": null,
      "flex": null,
      "flex_flow": null,
      "grid_area": null,
      "grid_auto_columns": null,
      "grid_auto_flow": null,
      "grid_auto_rows": null,
      "grid_column": null,
      "grid_gap": null,
      "grid_row": null,
      "grid_template_areas": null,
      "grid_template_columns": null,
      "grid_template_rows": null,
      "height": null,
      "justify_content": null,
      "justify_items": null,
      "left": null,
      "margin": null,
      "max_height": null,
      "max_width": null,
      "min_height": null,
      "min_width": null,
      "object_fit": null,
      "object_position": null,
      "order": null,
      "overflow": null,
      "overflow_x": null,
      "overflow_y": null,
      "padding": null,
      "right": null,
      "top": null,
      "visibility": null,
      "width": null
     }
    },
    "88c521affb4b42f9a330d65d22013038": {
     "model_module": "@jupyter-widgets/base",
     "model_module_version": "1.2.0",
     "model_name": "LayoutModel",
     "state": {
      "_model_module": "@jupyter-widgets/base",
      "_model_module_version": "1.2.0",
      "_model_name": "LayoutModel",
      "_view_count": null,
      "_view_module": "@jupyter-widgets/base",
      "_view_module_version": "1.2.0",
      "_view_name": "LayoutView",
      "align_content": null,
      "align_items": null,
      "align_self": null,
      "border": null,
      "bottom": null,
      "display": null,
      "flex": null,
      "flex_flow": null,
      "grid_area": null,
      "grid_auto_columns": null,
      "grid_auto_flow": null,
      "grid_auto_rows": null,
      "grid_column": null,
      "grid_gap": null,
      "grid_row": null,
      "grid_template_areas": null,
      "grid_template_columns": null,
      "grid_template_rows": null,
      "height": null,
      "justify_content": null,
      "justify_items": null,
      "left": null,
      "margin": null,
      "max_height": null,
      "max_width": null,
      "min_height": null,
      "min_width": null,
      "object_fit": null,
      "object_position": null,
      "order": null,
      "overflow": null,
      "overflow_x": null,
      "overflow_y": null,
      "padding": null,
      "right": null,
      "top": null,
      "visibility": null,
      "width": null
     }
    },
    "8918fe791e1040d8817437215be3f34a": {
     "model_module": "@jupyter-widgets/base",
     "model_module_version": "1.2.0",
     "model_name": "LayoutModel",
     "state": {
      "_model_module": "@jupyter-widgets/base",
      "_model_module_version": "1.2.0",
      "_model_name": "LayoutModel",
      "_view_count": null,
      "_view_module": "@jupyter-widgets/base",
      "_view_module_version": "1.2.0",
      "_view_name": "LayoutView",
      "align_content": null,
      "align_items": null,
      "align_self": null,
      "border": null,
      "bottom": null,
      "display": null,
      "flex": null,
      "flex_flow": null,
      "grid_area": null,
      "grid_auto_columns": null,
      "grid_auto_flow": null,
      "grid_auto_rows": null,
      "grid_column": null,
      "grid_gap": null,
      "grid_row": null,
      "grid_template_areas": null,
      "grid_template_columns": null,
      "grid_template_rows": null,
      "height": null,
      "justify_content": null,
      "justify_items": null,
      "left": null,
      "margin": null,
      "max_height": null,
      "max_width": null,
      "min_height": null,
      "min_width": null,
      "object_fit": null,
      "object_position": null,
      "order": null,
      "overflow": null,
      "overflow_x": null,
      "overflow_y": null,
      "padding": null,
      "right": null,
      "top": null,
      "visibility": null,
      "width": null
     }
    },
    "8b3f64a46166440088e26f3bef935f2b": {
     "model_module": "@jupyter-widgets/controls",
     "model_module_version": "1.5.0",
     "model_name": "ProgressStyleModel",
     "state": {
      "_model_module": "@jupyter-widgets/controls",
      "_model_module_version": "1.5.0",
      "_model_name": "ProgressStyleModel",
      "_view_count": null,
      "_view_module": "@jupyter-widgets/base",
      "_view_module_version": "1.2.0",
      "_view_name": "StyleView",
      "bar_color": null,
      "description_width": ""
     }
    },
    "8dd3cad4af3f4b53a9cfade822b895f1": {
     "model_module": "@jupyter-widgets/controls",
     "model_module_version": "1.5.0",
     "model_name": "DescriptionStyleModel",
     "state": {
      "_model_module": "@jupyter-widgets/controls",
      "_model_module_version": "1.5.0",
      "_model_name": "DescriptionStyleModel",
      "_view_count": null,
      "_view_module": "@jupyter-widgets/base",
      "_view_module_version": "1.2.0",
      "_view_name": "StyleView",
      "description_width": ""
     }
    },
    "8f492ea690cb4bcaa98a86abf10a1bfd": {
     "model_module": "@jupyter-widgets/controls",
     "model_module_version": "1.5.0",
     "model_name": "HBoxModel",
     "state": {
      "_dom_classes": [],
      "_model_module": "@jupyter-widgets/controls",
      "_model_module_version": "1.5.0",
      "_model_name": "HBoxModel",
      "_view_count": null,
      "_view_module": "@jupyter-widgets/controls",
      "_view_module_version": "1.5.0",
      "_view_name": "HBoxView",
      "box_style": "",
      "children": [
       "IPY_MODEL_63602b285d4147fc9571330756866bf3",
       "IPY_MODEL_0bf6d673135d49c3a1ea0c5ddd81bdea",
       "IPY_MODEL_4195771d087b4255b824cb5c16204b2d"
      ],
      "layout": "IPY_MODEL_d3ea76d0b66f414eaf1e7e9aab84aaf2"
     }
    },
    "8fc01f35739944f9b52162a3c301d2a7": {
     "model_module": "@jupyter-widgets/base",
     "model_module_version": "1.2.0",
     "model_name": "LayoutModel",
     "state": {
      "_model_module": "@jupyter-widgets/base",
      "_model_module_version": "1.2.0",
      "_model_name": "LayoutModel",
      "_view_count": null,
      "_view_module": "@jupyter-widgets/base",
      "_view_module_version": "1.2.0",
      "_view_name": "LayoutView",
      "align_content": null,
      "align_items": null,
      "align_self": null,
      "border": null,
      "bottom": null,
      "display": null,
      "flex": null,
      "flex_flow": null,
      "grid_area": null,
      "grid_auto_columns": null,
      "grid_auto_flow": null,
      "grid_auto_rows": null,
      "grid_column": null,
      "grid_gap": null,
      "grid_row": null,
      "grid_template_areas": null,
      "grid_template_columns": null,
      "grid_template_rows": null,
      "height": null,
      "justify_content": null,
      "justify_items": null,
      "left": null,
      "margin": null,
      "max_height": null,
      "max_width": null,
      "min_height": null,
      "min_width": null,
      "object_fit": null,
      "object_position": null,
      "order": null,
      "overflow": null,
      "overflow_x": null,
      "overflow_y": null,
      "padding": null,
      "right": null,
      "top": null,
      "visibility": null,
      "width": null
     }
    },
    "907014a4e6b745958af0807792522e2a": {
     "model_module": "@jupyter-widgets/controls",
     "model_module_version": "1.5.0",
     "model_name": "HTMLModel",
     "state": {
      "_dom_classes": [],
      "_model_module": "@jupyter-widgets/controls",
      "_model_module_version": "1.5.0",
      "_model_name": "HTMLModel",
      "_view_count": null,
      "_view_module": "@jupyter-widgets/controls",
      "_view_module_version": "1.5.0",
      "_view_name": "HTMLView",
      "description": "",
      "description_tooltip": null,
      "layout": "IPY_MODEL_311891358f1e428f98909688486d8d40",
      "placeholder": "​",
      "style": "IPY_MODEL_63a7e705bbf04614857a12200181d0d4",
      "value": "100%"
     }
    },
    "94d08d96c3fa4887aca39d566e9341fc": {
     "model_module": "@jupyter-widgets/controls",
     "model_module_version": "1.5.0",
     "model_name": "DescriptionStyleModel",
     "state": {
      "_model_module": "@jupyter-widgets/controls",
      "_model_module_version": "1.5.0",
      "_model_name": "DescriptionStyleModel",
      "_view_count": null,
      "_view_module": "@jupyter-widgets/base",
      "_view_module_version": "1.2.0",
      "_view_name": "StyleView",
      "description_width": ""
     }
    },
    "9522480fad4d46dc840631426f0a82e1": {
     "model_module": "@jupyter-widgets/controls",
     "model_module_version": "1.5.0",
     "model_name": "FloatProgressModel",
     "state": {
      "_dom_classes": [],
      "_model_module": "@jupyter-widgets/controls",
      "_model_module_version": "1.5.0",
      "_model_name": "FloatProgressModel",
      "_view_count": null,
      "_view_module": "@jupyter-widgets/controls",
      "_view_module_version": "1.5.0",
      "_view_name": "ProgressView",
      "bar_style": "success",
      "description": "",
      "description_tooltip": null,
      "layout": "IPY_MODEL_c05d9167a9a444d8967219987a981362",
      "max": 2438,
      "min": 0,
      "orientation": "horizontal",
      "style": "IPY_MODEL_d75f134a8c1243ffb0496266c3379412",
      "value": 2438
     }
    },
    "9585233f720240b38431ac4c5ee8bcbb": {
     "model_module": "@jupyter-widgets/controls",
     "model_module_version": "1.5.0",
     "model_name": "FloatProgressModel",
     "state": {
      "_dom_classes": [],
      "_model_module": "@jupyter-widgets/controls",
      "_model_module_version": "1.5.0",
      "_model_name": "FloatProgressModel",
      "_view_count": null,
      "_view_module": "@jupyter-widgets/controls",
      "_view_module_version": "1.5.0",
      "_view_name": "ProgressView",
      "bar_style": "success",
      "description": "",
      "description_tooltip": null,
      "layout": "IPY_MODEL_c7792b5af1654c42adec18acd9241cd0",
      "max": 231508,
      "min": 0,
      "orientation": "horizontal",
      "style": "IPY_MODEL_bbd4dbe16a5245d88280d4ef6fc9c50b",
      "value": 231508
     }
    },
    "960ba2a7a7f048fdae91ceabb3c0c32c": {
     "model_module": "@jupyter-widgets/controls",
     "model_module_version": "1.5.0",
     "model_name": "HTMLModel",
     "state": {
      "_dom_classes": [],
      "_model_module": "@jupyter-widgets/controls",
      "_model_module_version": "1.5.0",
      "_model_name": "HTMLModel",
      "_view_count": null,
      "_view_module": "@jupyter-widgets/controls",
      "_view_module_version": "1.5.0",
      "_view_name": "HTMLView",
      "description": "",
      "description_tooltip": null,
      "layout": "IPY_MODEL_0091b109a23b4312bb51b51a381e3ed1",
      "placeholder": "​",
      "style": "IPY_MODEL_4e33d3916d2440be82fffd5766c440b8",
      "value": " 28.0/28.0 [00:00&lt;00:00, 843B/s]"
     }
    },
    "9c7c75fb4e024401aa447f4a48d97700": {
     "model_module": "@jupyter-widgets/controls",
     "model_module_version": "1.5.0",
     "model_name": "ProgressStyleModel",
     "state": {
      "_model_module": "@jupyter-widgets/controls",
      "_model_module_version": "1.5.0",
      "_model_name": "ProgressStyleModel",
      "_view_count": null,
      "_view_module": "@jupyter-widgets/base",
      "_view_module_version": "1.2.0",
      "_view_name": "StyleView",
      "bar_color": null,
      "description_width": ""
     }
    },
    "9ca6cd72f3e34e829eea4fd9e9201507": {
     "model_module": "@jupyter-widgets/controls",
     "model_module_version": "1.5.0",
     "model_name": "HTMLModel",
     "state": {
      "_dom_classes": [],
      "_model_module": "@jupyter-widgets/controls",
      "_model_module_version": "1.5.0",
      "_model_name": "HTMLModel",
      "_view_count": null,
      "_view_module": "@jupyter-widgets/controls",
      "_view_module_version": "1.5.0",
      "_view_name": "HTMLView",
      "description": "",
      "description_tooltip": null,
      "layout": "IPY_MODEL_164bf348eff54deb859e0641c55824c2",
      "placeholder": "​",
      "style": "IPY_MODEL_b2d0a77eb55441a9b4c3527d0c2c71da",
      "value": " 2438/2438 [00:00&lt;00:00,  7.93it/s]"
     }
    },
    "a39be8ee0de34f1691b1721df038745e": {
     "model_module": "@jupyter-widgets/controls",
     "model_module_version": "1.5.0",
     "model_name": "ProgressStyleModel",
     "state": {
      "_model_module": "@jupyter-widgets/controls",
      "_model_module_version": "1.5.0",
      "_model_name": "ProgressStyleModel",
      "_view_count": null,
      "_view_module": "@jupyter-widgets/base",
      "_view_module_version": "1.2.0",
      "_view_name": "StyleView",
      "bar_color": null,
      "description_width": ""
     }
    },
    "a554198e9f7840d480f6b3464fcb00ee": {
     "model_module": "@jupyter-widgets/base",
     "model_module_version": "1.2.0",
     "model_name": "LayoutModel",
     "state": {
      "_model_module": "@jupyter-widgets/base",
      "_model_module_version": "1.2.0",
      "_model_name": "LayoutModel",
      "_view_count": null,
      "_view_module": "@jupyter-widgets/base",
      "_view_module_version": "1.2.0",
      "_view_name": "LayoutView",
      "align_content": null,
      "align_items": null,
      "align_self": null,
      "border": null,
      "bottom": null,
      "display": null,
      "flex": null,
      "flex_flow": null,
      "grid_area": null,
      "grid_auto_columns": null,
      "grid_auto_flow": null,
      "grid_auto_rows": null,
      "grid_column": null,
      "grid_gap": null,
      "grid_row": null,
      "grid_template_areas": null,
      "grid_template_columns": null,
      "grid_template_rows": null,
      "height": null,
      "justify_content": null,
      "justify_items": null,
      "left": null,
      "margin": null,
      "max_height": null,
      "max_width": null,
      "min_height": null,
      "min_width": null,
      "object_fit": null,
      "object_position": null,
      "order": null,
      "overflow": null,
      "overflow_x": null,
      "overflow_y": null,
      "padding": null,
      "right": null,
      "top": null,
      "visibility": null,
      "width": null
     }
    },
    "a631b7d3421240a79e33b93f93f16105": {
     "model_module": "@jupyter-widgets/controls",
     "model_module_version": "1.5.0",
     "model_name": "HTMLModel",
     "state": {
      "_dom_classes": [],
      "_model_module": "@jupyter-widgets/controls",
      "_model_module_version": "1.5.0",
      "_model_name": "HTMLModel",
      "_view_count": null,
      "_view_module": "@jupyter-widgets/controls",
      "_view_module_version": "1.5.0",
      "_view_name": "HTMLView",
      "description": "",
      "description_tooltip": null,
      "layout": "IPY_MODEL_1bc589df37cf45bf9eea8cc3b3a4bd1f",
      "placeholder": "​",
      "style": "IPY_MODEL_60275e89864a4496b3cf8138601d7f12",
      "value": " 256M/256M [00:04&lt;00:00, 59.0MB/s]"
     }
    },
    "a97fc09fb2a9405498c8db18babdd780": {
     "model_module": "@jupyter-widgets/controls",
     "model_module_version": "1.5.0",
     "model_name": "HBoxModel",
     "state": {
      "_dom_classes": [],
      "_model_module": "@jupyter-widgets/controls",
      "_model_module_version": "1.5.0",
      "_model_name": "HBoxModel",
      "_view_count": null,
      "_view_module": "@jupyter-widgets/controls",
      "_view_module_version": "1.5.0",
      "_view_name": "HBoxView",
      "box_style": "",
      "children": [
       "IPY_MODEL_ef33903141dc4985b3e3ff7bbf1277b4",
       "IPY_MODEL_4f2fd6239d054f27863cc32940494f21",
       "IPY_MODEL_a631b7d3421240a79e33b93f93f16105"
      ],
      "layout": "IPY_MODEL_a554198e9f7840d480f6b3464fcb00ee"
     }
    },
    "a9cbcf5907134b8a886c9039b86b0f62": {
     "model_module": "@jupyter-widgets/controls",
     "model_module_version": "1.5.0",
     "model_name": "ProgressStyleModel",
     "state": {
      "_model_module": "@jupyter-widgets/controls",
      "_model_module_version": "1.5.0",
      "_model_name": "ProgressStyleModel",
      "_view_count": null,
      "_view_module": "@jupyter-widgets/base",
      "_view_module_version": "1.2.0",
      "_view_name": "StyleView",
      "bar_color": null,
      "description_width": ""
     }
    },
    "b2d0a77eb55441a9b4c3527d0c2c71da": {
     "model_module": "@jupyter-widgets/controls",
     "model_module_version": "1.5.0",
     "model_name": "DescriptionStyleModel",
     "state": {
      "_model_module": "@jupyter-widgets/controls",
      "_model_module_version": "1.5.0",
      "_model_name": "DescriptionStyleModel",
      "_view_count": null,
      "_view_module": "@jupyter-widgets/base",
      "_view_module_version": "1.2.0",
      "_view_name": "StyleView",
      "description_width": ""
     }
    },
    "ba50f2e7da564af5a0896aad70d543ef": {
     "model_module": "@jupyter-widgets/controls",
     "model_module_version": "1.5.0",
     "model_name": "HBoxModel",
     "state": {
      "_dom_classes": [],
      "_model_module": "@jupyter-widgets/controls",
      "_model_module_version": "1.5.0",
      "_model_name": "HBoxModel",
      "_view_count": null,
      "_view_module": "@jupyter-widgets/controls",
      "_view_module_version": "1.5.0",
      "_view_name": "HBoxView",
      "box_style": "",
      "children": [
       "IPY_MODEL_550699a75efc4be48c1499da144ebf18",
       "IPY_MODEL_2a239afda42041408ad30999e4510c99",
       "IPY_MODEL_9ca6cd72f3e34e829eea4fd9e9201507"
      ],
      "layout": "IPY_MODEL_689c8b2f93df4848bc154aca83625da5"
     }
    },
    "bb7605fadeba4d908279900f6ff6baf0": {
     "model_module": "@jupyter-widgets/controls",
     "model_module_version": "1.5.0",
     "model_name": "DescriptionStyleModel",
     "state": {
      "_model_module": "@jupyter-widgets/controls",
      "_model_module_version": "1.5.0",
      "_model_name": "DescriptionStyleModel",
      "_view_count": null,
      "_view_module": "@jupyter-widgets/base",
      "_view_module_version": "1.2.0",
      "_view_name": "StyleView",
      "description_width": ""
     }
    },
    "bbd4dbe16a5245d88280d4ef6fc9c50b": {
     "model_module": "@jupyter-widgets/controls",
     "model_module_version": "1.5.0",
     "model_name": "ProgressStyleModel",
     "state": {
      "_model_module": "@jupyter-widgets/controls",
      "_model_module_version": "1.5.0",
      "_model_name": "ProgressStyleModel",
      "_view_count": null,
      "_view_module": "@jupyter-widgets/base",
      "_view_module_version": "1.2.0",
      "_view_name": "StyleView",
      "bar_color": null,
      "description_width": ""
     }
    },
    "bf6bd26e9bae40b78136b73939e8674b": {
     "model_module": "@jupyter-widgets/controls",
     "model_module_version": "1.5.0",
     "model_name": "HTMLModel",
     "state": {
      "_dom_classes": [],
      "_model_module": "@jupyter-widgets/controls",
      "_model_module_version": "1.5.0",
      "_model_name": "HTMLModel",
      "_view_count": null,
      "_view_module": "@jupyter-widgets/controls",
      "_view_module_version": "1.5.0",
      "_view_name": "HTMLView",
      "description": "",
      "description_tooltip": null,
      "layout": "IPY_MODEL_4ee3a211b30349c199edb19e6978c1b3",
      "placeholder": "​",
      "style": "IPY_MODEL_bb7605fadeba4d908279900f6ff6baf0",
      "value": " 2438/2438 [00:00&lt;00:00, 25743.72it/s]"
     }
    },
    "c05d9167a9a444d8967219987a981362": {
     "model_module": "@jupyter-widgets/base",
     "model_module_version": "1.2.0",
     "model_name": "LayoutModel",
     "state": {
      "_model_module": "@jupyter-widgets/base",
      "_model_module_version": "1.2.0",
      "_model_name": "LayoutModel",
      "_view_count": null,
      "_view_module": "@jupyter-widgets/base",
      "_view_module_version": "1.2.0",
      "_view_name": "LayoutView",
      "align_content": null,
      "align_items": null,
      "align_self": null,
      "border": null,
      "bottom": null,
      "display": null,
      "flex": null,
      "flex_flow": null,
      "grid_area": null,
      "grid_auto_columns": null,
      "grid_auto_flow": null,
      "grid_auto_rows": null,
      "grid_column": null,
      "grid_gap": null,
      "grid_row": null,
      "grid_template_areas": null,
      "grid_template_columns": null,
      "grid_template_rows": null,
      "height": null,
      "justify_content": null,
      "justify_items": null,
      "left": null,
      "margin": null,
      "max_height": null,
      "max_width": null,
      "min_height": null,
      "min_width": null,
      "object_fit": null,
      "object_position": null,
      "order": null,
      "overflow": null,
      "overflow_x": null,
      "overflow_y": null,
      "padding": null,
      "right": null,
      "top": null,
      "visibility": null,
      "width": null
     }
    },
    "c16830a0154e4f389f7651f7169c7a9e": {
     "model_module": "@jupyter-widgets/controls",
     "model_module_version": "1.5.0",
     "model_name": "HBoxModel",
     "state": {
      "_dom_classes": [],
      "_model_module": "@jupyter-widgets/controls",
      "_model_module_version": "1.5.0",
      "_model_name": "HBoxModel",
      "_view_count": null,
      "_view_module": "@jupyter-widgets/controls",
      "_view_module_version": "1.5.0",
      "_view_name": "HBoxView",
      "box_style": "",
      "children": [
       "IPY_MODEL_123e467b78184b049c96ff5a5168d699",
       "IPY_MODEL_f8b2e034682e4b8985d31f2d2aec21d1",
       "IPY_MODEL_960ba2a7a7f048fdae91ceabb3c0c32c"
      ],
      "layout": "IPY_MODEL_ee055ce2cb5d454aa996c79f5bc603ad"
     }
    },
    "c485fb18b55d41a7a5a3b5194a16f48f": {
     "model_module": "@jupyter-widgets/controls",
     "model_module_version": "1.5.0",
     "model_name": "DescriptionStyleModel",
     "state": {
      "_model_module": "@jupyter-widgets/controls",
      "_model_module_version": "1.5.0",
      "_model_name": "DescriptionStyleModel",
      "_view_count": null,
      "_view_module": "@jupyter-widgets/base",
      "_view_module_version": "1.2.0",
      "_view_name": "StyleView",
      "description_width": ""
     }
    },
    "c7792b5af1654c42adec18acd9241cd0": {
     "model_module": "@jupyter-widgets/base",
     "model_module_version": "1.2.0",
     "model_name": "LayoutModel",
     "state": {
      "_model_module": "@jupyter-widgets/base",
      "_model_module_version": "1.2.0",
      "_model_name": "LayoutModel",
      "_view_count": null,
      "_view_module": "@jupyter-widgets/base",
      "_view_module_version": "1.2.0",
      "_view_name": "LayoutView",
      "align_content": null,
      "align_items": null,
      "align_self": null,
      "border": null,
      "bottom": null,
      "display": null,
      "flex": null,
      "flex_flow": null,
      "grid_area": null,
      "grid_auto_columns": null,
      "grid_auto_flow": null,
      "grid_auto_rows": null,
      "grid_column": null,
      "grid_gap": null,
      "grid_row": null,
      "grid_template_areas": null,
      "grid_template_columns": null,
      "grid_template_rows": null,
      "height": null,
      "justify_content": null,
      "justify_items": null,
      "left": null,
      "margin": null,
      "max_height": null,
      "max_width": null,
      "min_height": null,
      "min_width": null,
      "object_fit": null,
      "object_position": null,
      "order": null,
      "overflow": null,
      "overflow_x": null,
      "overflow_y": null,
      "padding": null,
      "right": null,
      "top": null,
      "visibility": null,
      "width": null
     }
    },
    "cb76da943cca483683d7b6b7704bccc0": {
     "model_module": "@jupyter-widgets/controls",
     "model_module_version": "1.5.0",
     "model_name": "DescriptionStyleModel",
     "state": {
      "_model_module": "@jupyter-widgets/controls",
      "_model_module_version": "1.5.0",
      "_model_name": "DescriptionStyleModel",
      "_view_count": null,
      "_view_module": "@jupyter-widgets/base",
      "_view_module_version": "1.2.0",
      "_view_name": "StyleView",
      "description_width": ""
     }
    },
    "cd618d7b69d94e80952291b8f91e06ad": {
     "model_module": "@jupyter-widgets/controls",
     "model_module_version": "1.5.0",
     "model_name": "HBoxModel",
     "state": {
      "_dom_classes": [],
      "_model_module": "@jupyter-widgets/controls",
      "_model_module_version": "1.5.0",
      "_model_name": "HBoxModel",
      "_view_count": null,
      "_view_module": "@jupyter-widgets/controls",
      "_view_module_version": "1.5.0",
      "_view_name": "HBoxView",
      "box_style": "",
      "children": [
       "IPY_MODEL_4d5275310e784ba388e1d3e20d4661be",
       "IPY_MODEL_9585233f720240b38431ac4c5ee8bcbb",
       "IPY_MODEL_1d8f7e30eb254cc2b5b4e0e836017925"
      ],
      "layout": "IPY_MODEL_838560c466d3459ba2a303c2f66c17ed"
     }
    },
    "d24c7bbf96da4e05a4e637aa479ac516": {
     "model_module": "@jupyter-widgets/controls",
     "model_module_version": "1.5.0",
     "model_name": "ProgressStyleModel",
     "state": {
      "_model_module": "@jupyter-widgets/controls",
      "_model_module_version": "1.5.0",
      "_model_name": "ProgressStyleModel",
      "_view_count": null,
      "_view_module": "@jupyter-widgets/base",
      "_view_module_version": "1.2.0",
      "_view_name": "StyleView",
      "bar_color": null,
      "description_width": ""
     }
    },
    "d2d53dd1278240b39e3a148363297344": {
     "model_module": "@jupyter-widgets/controls",
     "model_module_version": "1.5.0",
     "model_name": "FloatProgressModel",
     "state": {
      "_dom_classes": [],
      "_model_module": "@jupyter-widgets/controls",
      "_model_module_version": "1.5.0",
      "_model_name": "FloatProgressModel",
      "_view_count": null,
      "_view_module": "@jupyter-widgets/controls",
      "_view_module_version": "1.5.0",
      "_view_name": "ProgressView",
      "bar_style": "success",
      "description": "",
      "description_tooltip": null,
      "layout": "IPY_MODEL_3a8774edb0584c67bccaefbeba30cc4e",
      "max": 2438,
      "min": 0,
      "orientation": "horizontal",
      "style": "IPY_MODEL_a9cbcf5907134b8a886c9039b86b0f62",
      "value": 2438
     }
    },
    "d3ea76d0b66f414eaf1e7e9aab84aaf2": {
     "model_module": "@jupyter-widgets/base",
     "model_module_version": "1.2.0",
     "model_name": "LayoutModel",
     "state": {
      "_model_module": "@jupyter-widgets/base",
      "_model_module_version": "1.2.0",
      "_model_name": "LayoutModel",
      "_view_count": null,
      "_view_module": "@jupyter-widgets/base",
      "_view_module_version": "1.2.0",
      "_view_name": "LayoutView",
      "align_content": null,
      "align_items": null,
      "align_self": null,
      "border": null,
      "bottom": null,
      "display": null,
      "flex": null,
      "flex_flow": null,
      "grid_area": null,
      "grid_auto_columns": null,
      "grid_auto_flow": null,
      "grid_auto_rows": null,
      "grid_column": null,
      "grid_gap": null,
      "grid_row": null,
      "grid_template_areas": null,
      "grid_template_columns": null,
      "grid_template_rows": null,
      "height": null,
      "justify_content": null,
      "justify_items": null,
      "left": null,
      "margin": null,
      "max_height": null,
      "max_width": null,
      "min_height": null,
      "min_width": null,
      "object_fit": null,
      "object_position": null,
      "order": null,
      "overflow": null,
      "overflow_x": null,
      "overflow_y": null,
      "padding": null,
      "right": null,
      "top": null,
      "visibility": null,
      "width": null
     }
    },
    "d75f134a8c1243ffb0496266c3379412": {
     "model_module": "@jupyter-widgets/controls",
     "model_module_version": "1.5.0",
     "model_name": "ProgressStyleModel",
     "state": {
      "_model_module": "@jupyter-widgets/controls",
      "_model_module_version": "1.5.0",
      "_model_name": "ProgressStyleModel",
      "_view_count": null,
      "_view_module": "@jupyter-widgets/base",
      "_view_module_version": "1.2.0",
      "_view_name": "StyleView",
      "bar_color": null,
      "description_width": ""
     }
    },
    "d893d69bfabc49caad0fd2133fca2128": {
     "model_module": "@jupyter-widgets/controls",
     "model_module_version": "1.5.0",
     "model_name": "FloatProgressModel",
     "state": {
      "_dom_classes": [],
      "_model_module": "@jupyter-widgets/controls",
      "_model_module_version": "1.5.0",
      "_model_name": "FloatProgressModel",
      "_view_count": null,
      "_view_module": "@jupyter-widgets/controls",
      "_view_module_version": "1.5.0",
      "_view_name": "ProgressView",
      "bar_style": "success",
      "description": "",
      "description_tooltip": null,
      "layout": "IPY_MODEL_1eef17cb58d84b74bc3a2f03724b6244",
      "max": 466062,
      "min": 0,
      "orientation": "horizontal",
      "style": "IPY_MODEL_50fa1aeab0c2464a8449d671df42869e",
      "value": 466062
     }
    },
    "e0e62d05ec8442c18846fb51a4724370": {
     "model_module": "@jupyter-widgets/base",
     "model_module_version": "1.2.0",
     "model_name": "LayoutModel",
     "state": {
      "_model_module": "@jupyter-widgets/base",
      "_model_module_version": "1.2.0",
      "_model_name": "LayoutModel",
      "_view_count": null,
      "_view_module": "@jupyter-widgets/base",
      "_view_module_version": "1.2.0",
      "_view_name": "LayoutView",
      "align_content": null,
      "align_items": null,
      "align_self": null,
      "border": null,
      "bottom": null,
      "display": null,
      "flex": null,
      "flex_flow": null,
      "grid_area": null,
      "grid_auto_columns": null,
      "grid_auto_flow": null,
      "grid_auto_rows": null,
      "grid_column": null,
      "grid_gap": null,
      "grid_row": null,
      "grid_template_areas": null,
      "grid_template_columns": null,
      "grid_template_rows": null,
      "height": null,
      "justify_content": null,
      "justify_items": null,
      "left": null,
      "margin": null,
      "max_height": null,
      "max_width": null,
      "min_height": null,
      "min_width": null,
      "object_fit": null,
      "object_position": null,
      "order": null,
      "overflow": null,
      "overflow_x": null,
      "overflow_y": null,
      "padding": null,
      "right": null,
      "top": null,
      "visibility": null,
      "width": null
     }
    },
    "e43d9c58dcc64ed595cc4e42b296acc7": {
     "model_module": "@jupyter-widgets/controls",
     "model_module_version": "1.5.0",
     "model_name": "HTMLModel",
     "state": {
      "_dom_classes": [],
      "_model_module": "@jupyter-widgets/controls",
      "_model_module_version": "1.5.0",
      "_model_name": "HTMLModel",
      "_view_count": null,
      "_view_module": "@jupyter-widgets/controls",
      "_view_module_version": "1.5.0",
      "_view_name": "HTMLView",
      "description": "",
      "description_tooltip": null,
      "layout": "IPY_MODEL_8918fe791e1040d8817437215be3f34a",
      "placeholder": "​",
      "style": "IPY_MODEL_53058151a46c4fcba17d8120836c7220",
      "value": " 455k/455k [00:00&lt;00:00, 906kB/s]"
     }
    },
    "e4477d80519544c58414890f72bf178d": {
     "model_module": "@jupyter-widgets/controls",
     "model_module_version": "1.5.0",
     "model_name": "DescriptionStyleModel",
     "state": {
      "_model_module": "@jupyter-widgets/controls",
      "_model_module_version": "1.5.0",
      "_model_name": "DescriptionStyleModel",
      "_view_count": null,
      "_view_module": "@jupyter-widgets/base",
      "_view_module_version": "1.2.0",
      "_view_name": "StyleView",
      "description_width": ""
     }
    },
    "ea6558704d6e466890db828b74722e3b": {
     "model_module": "@jupyter-widgets/base",
     "model_module_version": "1.2.0",
     "model_name": "LayoutModel",
     "state": {
      "_model_module": "@jupyter-widgets/base",
      "_model_module_version": "1.2.0",
      "_model_name": "LayoutModel",
      "_view_count": null,
      "_view_module": "@jupyter-widgets/base",
      "_view_module_version": "1.2.0",
      "_view_name": "LayoutView",
      "align_content": null,
      "align_items": null,
      "align_self": null,
      "border": null,
      "bottom": null,
      "display": null,
      "flex": null,
      "flex_flow": null,
      "grid_area": null,
      "grid_auto_columns": null,
      "grid_auto_flow": null,
      "grid_auto_rows": null,
      "grid_column": null,
      "grid_gap": null,
      "grid_row": null,
      "grid_template_areas": null,
      "grid_template_columns": null,
      "grid_template_rows": null,
      "height": null,
      "justify_content": null,
      "justify_items": null,
      "left": null,
      "margin": null,
      "max_height": null,
      "max_width": null,
      "min_height": null,
      "min_width": null,
      "object_fit": null,
      "object_position": null,
      "order": null,
      "overflow": null,
      "overflow_x": null,
      "overflow_y": null,
      "padding": null,
      "right": null,
      "top": null,
      "visibility": null,
      "width": null
     }
    },
    "eb198eaec6e54781a0756ec1a194d470": {
     "model_module": "@jupyter-widgets/controls",
     "model_module_version": "1.5.0",
     "model_name": "DescriptionStyleModel",
     "state": {
      "_model_module": "@jupyter-widgets/controls",
      "_model_module_version": "1.5.0",
      "_model_name": "DescriptionStyleModel",
      "_view_count": null,
      "_view_module": "@jupyter-widgets/base",
      "_view_module_version": "1.2.0",
      "_view_name": "StyleView",
      "description_width": ""
     }
    },
    "ee055ce2cb5d454aa996c79f5bc603ad": {
     "model_module": "@jupyter-widgets/base",
     "model_module_version": "1.2.0",
     "model_name": "LayoutModel",
     "state": {
      "_model_module": "@jupyter-widgets/base",
      "_model_module_version": "1.2.0",
      "_model_name": "LayoutModel",
      "_view_count": null,
      "_view_module": "@jupyter-widgets/base",
      "_view_module_version": "1.2.0",
      "_view_name": "LayoutView",
      "align_content": null,
      "align_items": null,
      "align_self": null,
      "border": null,
      "bottom": null,
      "display": null,
      "flex": null,
      "flex_flow": null,
      "grid_area": null,
      "grid_auto_columns": null,
      "grid_auto_flow": null,
      "grid_auto_rows": null,
      "grid_column": null,
      "grid_gap": null,
      "grid_row": null,
      "grid_template_areas": null,
      "grid_template_columns": null,
      "grid_template_rows": null,
      "height": null,
      "justify_content": null,
      "justify_items": null,
      "left": null,
      "margin": null,
      "max_height": null,
      "max_width": null,
      "min_height": null,
      "min_width": null,
      "object_fit": null,
      "object_position": null,
      "order": null,
      "overflow": null,
      "overflow_x": null,
      "overflow_y": null,
      "padding": null,
      "right": null,
      "top": null,
      "visibility": null,
      "width": null
     }
    },
    "ef33903141dc4985b3e3ff7bbf1277b4": {
     "model_module": "@jupyter-widgets/controls",
     "model_module_version": "1.5.0",
     "model_name": "HTMLModel",
     "state": {
      "_dom_classes": [],
      "_model_module": "@jupyter-widgets/controls",
      "_model_module_version": "1.5.0",
      "_model_name": "HTMLModel",
      "_view_count": null,
      "_view_module": "@jupyter-widgets/controls",
      "_view_module_version": "1.5.0",
      "_view_name": "HTMLView",
      "description": "",
      "description_tooltip": null,
      "layout": "IPY_MODEL_4e2005b59c7f4c2f90f925ac0a7d154a",
      "placeholder": "​",
      "style": "IPY_MODEL_30851755452d408f9a761d945648a79f",
      "value": "Downloading: 100%"
     }
    },
    "f07512f33b114a5cb074eacdd028768e": {
     "model_module": "@jupyter-widgets/controls",
     "model_module_version": "1.5.0",
     "model_name": "ProgressStyleModel",
     "state": {
      "_model_module": "@jupyter-widgets/controls",
      "_model_module_version": "1.5.0",
      "_model_name": "ProgressStyleModel",
      "_view_count": null,
      "_view_module": "@jupyter-widgets/base",
      "_view_module_version": "1.2.0",
      "_view_name": "StyleView",
      "bar_color": null,
      "description_width": ""
     }
    },
    "f0e58865da0e4810aa7892cb22c3551c": {
     "model_module": "@jupyter-widgets/controls",
     "model_module_version": "1.5.0",
     "model_name": "DescriptionStyleModel",
     "state": {
      "_model_module": "@jupyter-widgets/controls",
      "_model_module_version": "1.5.0",
      "_model_name": "DescriptionStyleModel",
      "_view_count": null,
      "_view_module": "@jupyter-widgets/base",
      "_view_module_version": "1.2.0",
      "_view_name": "StyleView",
      "description_width": ""
     }
    },
    "f1bed4de3163430ebdc517381280b2d0": {
     "model_module": "@jupyter-widgets/base",
     "model_module_version": "1.2.0",
     "model_name": "LayoutModel",
     "state": {
      "_model_module": "@jupyter-widgets/base",
      "_model_module_version": "1.2.0",
      "_model_name": "LayoutModel",
      "_view_count": null,
      "_view_module": "@jupyter-widgets/base",
      "_view_module_version": "1.2.0",
      "_view_name": "LayoutView",
      "align_content": null,
      "align_items": null,
      "align_self": null,
      "border": null,
      "bottom": null,
      "display": null,
      "flex": null,
      "flex_flow": null,
      "grid_area": null,
      "grid_auto_columns": null,
      "grid_auto_flow": null,
      "grid_auto_rows": null,
      "grid_column": null,
      "grid_gap": null,
      "grid_row": null,
      "grid_template_areas": null,
      "grid_template_columns": null,
      "grid_template_rows": null,
      "height": null,
      "justify_content": null,
      "justify_items": null,
      "left": null,
      "margin": null,
      "max_height": null,
      "max_width": null,
      "min_height": null,
      "min_width": null,
      "object_fit": null,
      "object_position": null,
      "order": null,
      "overflow": null,
      "overflow_x": null,
      "overflow_y": null,
      "padding": null,
      "right": null,
      "top": null,
      "visibility": null,
      "width": null
     }
    },
    "f2371fa50ae44c62adb69012b93992bf": {
     "model_module": "@jupyter-widgets/controls",
     "model_module_version": "1.5.0",
     "model_name": "DescriptionStyleModel",
     "state": {
      "_model_module": "@jupyter-widgets/controls",
      "_model_module_version": "1.5.0",
      "_model_name": "DescriptionStyleModel",
      "_view_count": null,
      "_view_module": "@jupyter-widgets/base",
      "_view_module_version": "1.2.0",
      "_view_name": "StyleView",
      "description_width": ""
     }
    },
    "f2af0845c49340d5b1c182165aaed7cc": {
     "model_module": "@jupyter-widgets/base",
     "model_module_version": "1.2.0",
     "model_name": "LayoutModel",
     "state": {
      "_model_module": "@jupyter-widgets/base",
      "_model_module_version": "1.2.0",
      "_model_name": "LayoutModel",
      "_view_count": null,
      "_view_module": "@jupyter-widgets/base",
      "_view_module_version": "1.2.0",
      "_view_name": "LayoutView",
      "align_content": null,
      "align_items": null,
      "align_self": null,
      "border": null,
      "bottom": null,
      "display": null,
      "flex": null,
      "flex_flow": null,
      "grid_area": null,
      "grid_auto_columns": null,
      "grid_auto_flow": null,
      "grid_auto_rows": null,
      "grid_column": null,
      "grid_gap": null,
      "grid_row": null,
      "grid_template_areas": null,
      "grid_template_columns": null,
      "grid_template_rows": null,
      "height": null,
      "justify_content": null,
      "justify_items": null,
      "left": null,
      "margin": null,
      "max_height": null,
      "max_width": null,
      "min_height": null,
      "min_width": null,
      "object_fit": null,
      "object_position": null,
      "order": null,
      "overflow": null,
      "overflow_x": null,
      "overflow_y": null,
      "padding": null,
      "right": null,
      "top": null,
      "visibility": null,
      "width": null
     }
    },
    "f8b2e034682e4b8985d31f2d2aec21d1": {
     "model_module": "@jupyter-widgets/controls",
     "model_module_version": "1.5.0",
     "model_name": "FloatProgressModel",
     "state": {
      "_dom_classes": [],
      "_model_module": "@jupyter-widgets/controls",
      "_model_module_version": "1.5.0",
      "_model_name": "FloatProgressModel",
      "_view_count": null,
      "_view_module": "@jupyter-widgets/controls",
      "_view_module_version": "1.5.0",
      "_view_name": "ProgressView",
      "bar_style": "success",
      "description": "",
      "description_tooltip": null,
      "layout": "IPY_MODEL_2074fa17846e4f8c89a0cabf97200066",
      "max": 28,
      "min": 0,
      "orientation": "horizontal",
      "style": "IPY_MODEL_f07512f33b114a5cb074eacdd028768e",
      "value": 28
     }
    },
    "f8d2ef26fdae44bd8f419201017355c0": {
     "model_module": "@jupyter-widgets/base",
     "model_module_version": "1.2.0",
     "model_name": "LayoutModel",
     "state": {
      "_model_module": "@jupyter-widgets/base",
      "_model_module_version": "1.2.0",
      "_model_name": "LayoutModel",
      "_view_count": null,
      "_view_module": "@jupyter-widgets/base",
      "_view_module_version": "1.2.0",
      "_view_name": "LayoutView",
      "align_content": null,
      "align_items": null,
      "align_self": null,
      "border": null,
      "bottom": null,
      "display": null,
      "flex": null,
      "flex_flow": null,
      "grid_area": null,
      "grid_auto_columns": null,
      "grid_auto_flow": null,
      "grid_auto_rows": null,
      "grid_column": null,
      "grid_gap": null,
      "grid_row": null,
      "grid_template_areas": null,
      "grid_template_columns": null,
      "grid_template_rows": null,
      "height": null,
      "justify_content": null,
      "justify_items": null,
      "left": null,
      "margin": null,
      "max_height": null,
      "max_width": null,
      "min_height": null,
      "min_width": null,
      "object_fit": null,
      "object_position": null,
      "order": null,
      "overflow": null,
      "overflow_x": null,
      "overflow_y": null,
      "padding": null,
      "right": null,
      "top": null,
      "visibility": null,
      "width": null
     }
    },
    "fb5172c71d39452f8402853728c2951c": {
     "model_module": "@jupyter-widgets/controls",
     "model_module_version": "1.5.0",
     "model_name": "HTMLModel",
     "state": {
      "_dom_classes": [],
      "_model_module": "@jupyter-widgets/controls",
      "_model_module_version": "1.5.0",
      "_model_name": "HTMLModel",
      "_view_count": null,
      "_view_module": "@jupyter-widgets/controls",
      "_view_module_version": "1.5.0",
      "_view_name": "HTMLView",
      "description": "",
      "description_tooltip": null,
      "layout": "IPY_MODEL_7c661f0a1bb44ac3b4297ffc6988557b",
      "placeholder": "​",
      "style": "IPY_MODEL_7639ad9f846d4e4eabda3a225fbd59b8",
      "value": "100%"
     }
    },
    "ff78b0a1f6104613935e1219f2749770": {
     "model_module": "@jupyter-widgets/base",
     "model_module_version": "1.2.0",
     "model_name": "LayoutModel",
     "state": {
      "_model_module": "@jupyter-widgets/base",
      "_model_module_version": "1.2.0",
      "_model_name": "LayoutModel",
      "_view_count": null,
      "_view_module": "@jupyter-widgets/base",
      "_view_module_version": "1.2.0",
      "_view_name": "LayoutView",
      "align_content": null,
      "align_items": null,
      "align_self": null,
      "border": null,
      "bottom": null,
      "display": null,
      "flex": null,
      "flex_flow": null,
      "grid_area": null,
      "grid_auto_columns": null,
      "grid_auto_flow": null,
      "grid_auto_rows": null,
      "grid_column": null,
      "grid_gap": null,
      "grid_row": null,
      "grid_template_areas": null,
      "grid_template_columns": null,
      "grid_template_rows": null,
      "height": null,
      "justify_content": null,
      "justify_items": null,
      "left": null,
      "margin": null,
      "max_height": null,
      "max_width": null,
      "min_height": null,
      "min_width": null,
      "object_fit": null,
      "object_position": null,
      "order": null,
      "overflow": null,
      "overflow_x": null,
      "overflow_y": null,
      "padding": null,
      "right": null,
      "top": null,
      "visibility": null,
      "width": null
     }
    }
   }
  }
 },
 "nbformat": 4,
 "nbformat_minor": 4
}
